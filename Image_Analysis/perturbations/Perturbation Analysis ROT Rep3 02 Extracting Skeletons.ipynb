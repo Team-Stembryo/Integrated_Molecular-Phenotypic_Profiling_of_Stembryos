{
 "cells": [
  {
   "cell_type": "markdown",
   "metadata": {},
   "source": [
    "# Rotenone Perturbation Rep 1 Extracting Topological Skeletons\n",
    "In this notebook we are extracting topological skeletons in order to measure the distance along the medial axis. First we load the data and define a function so that we can process all of the images at the same time (making them the same size so we can stack them in numpy)"
   ]
  },
  {
   "cell_type": "code",
   "execution_count": 1,
   "id": "87c7a6e0-73d2-4f98-bd77-50c53665bdda",
   "metadata": {
    "tags": []
   },
   "outputs": [
    {
     "data": {
      "text/plain": [
       "['72h_10nM_R_P1_14_01_crop.tif',\n",
       " '72h_10nM_R_P1_15_01_crop.tif',\n",
       " '72h_10nM_R_P1_16_01_crop.tif',\n",
       " '72h_10nM_R_P1_17_01_crop.tif',\n",
       " '72h_10nM_R_P1_18_01_crop.tif']"
      ]
     },
     "execution_count": 1,
     "metadata": {},
     "output_type": "execute_result"
    }
   ],
   "source": [
    "import os \n",
    "import skimage.io as io\n",
    "import pyclesperanto_prototype as cle\n",
    "import napari\n",
    "import organoid_prediction_python as opp\n",
    "import numpy as np\n",
    "\n",
    "def make_images_equal_again(image_list):\n",
    "    max_x = np.max([img.shape[1] for img in image_list])\n",
    "    max_y = np.max([img.shape[0] for img in image_list])\n",
    "    \n",
    "    out_image_list = []\n",
    "    \n",
    "    for img in image_list:\n",
    "        shape = img.shape\n",
    "        if shape[0] < max_y:\n",
    "            y_difference = max_y-shape[0]\n",
    "            black_strip = np.full((y_difference, shape[1]),0)\n",
    "            img = np.concatenate([black_strip,img],axis=0)\n",
    "        if shape[1] < max_x:\n",
    "            x_diff = max_x - shape[1]\n",
    "            black_strip = np.full((max_y, x_diff),0)\n",
    "            img = np.concatenate([black_strip,img],axis=1)\n",
    "        out_image_list.append(img)\n",
    "        \n",
    "    return np.array(out_image_list)\n",
    "\n",
    "home_directory = r\"C:\\Users\\savill\\OneDrive\\Documents\\PhD Jesse\\Embryonic_organoid_prediction\\Processing dataset for Paper\\TLS_2D_morphostate_investigation/\"\n",
    "path = home_directory + \"image_data/Processed Data/Perturbation Analysis/Mean Projections ROT Rep3/\"\n",
    "\n",
    "file_list = [file for file in os.listdir(path) if file.endswith(\"crop.tif\")]\n",
    "file_list[:5]"
   ]
  },
  {
   "cell_type": "code",
   "execution_count": 2,
   "id": "26e610ac-be5e-42d5-b0e7-2936ed02f2ce",
   "metadata": {
    "tags": []
   },
   "outputs": [
    {
     "data": {
      "text/plain": [
       "['C:\\\\Users\\\\savill\\\\OneDrive\\\\Documents\\\\PhD Jesse\\\\Embryonic_organoid_prediction\\\\Processing dataset for Paper\\\\TLS_2D_morphostate_investigation/image_data/Processed Data/Perturbation Analysis/Mean Projections ROT Rep3\\\\72h_10nM_R_P1_14_01_crop.tif',\n",
       " 'C:\\\\Users\\\\savill\\\\OneDrive\\\\Documents\\\\PhD Jesse\\\\Embryonic_organoid_prediction\\\\Processing dataset for Paper\\\\TLS_2D_morphostate_investigation/image_data/Processed Data/Perturbation Analysis/Mean Projections ROT Rep3\\\\72h_10nM_R_P1_15_01_crop.tif',\n",
       " 'C:\\\\Users\\\\savill\\\\OneDrive\\\\Documents\\\\PhD Jesse\\\\Embryonic_organoid_prediction\\\\Processing dataset for Paper\\\\TLS_2D_morphostate_investigation/image_data/Processed Data/Perturbation Analysis/Mean Projections ROT Rep3\\\\72h_10nM_R_P1_16_01_crop.tif',\n",
       " 'C:\\\\Users\\\\savill\\\\OneDrive\\\\Documents\\\\PhD Jesse\\\\Embryonic_organoid_prediction\\\\Processing dataset for Paper\\\\TLS_2D_morphostate_investigation/image_data/Processed Data/Perturbation Analysis/Mean Projections ROT Rep3\\\\72h_10nM_R_P1_17_01_crop.tif',\n",
       " 'C:\\\\Users\\\\savill\\\\OneDrive\\\\Documents\\\\PhD Jesse\\\\Embryonic_organoid_prediction\\\\Processing dataset for Paper\\\\TLS_2D_morphostate_investigation/image_data/Processed Data/Perturbation Analysis/Mean Projections ROT Rep3\\\\72h_10nM_R_P1_18_01_crop.tif']"
      ]
     },
     "execution_count": 2,
     "metadata": {},
     "output_type": "execute_result"
    }
   ],
   "source": [
    "collection = io.imread_collection(path+\"/*crop.tif\")\n",
    "collection.files[:5]"
   ]
  },
  {
   "cell_type": "markdown",
   "metadata": {},
   "source": [
    "Binarising Images and taking a look in napari"
   ]
  },
  {
   "cell_type": "code",
   "execution_count": 3,
   "id": "d7fe695d-3609-4668-8bdd-13f606fbfa68",
   "metadata": {
    "tags": []
   },
   "outputs": [],
   "source": [
    "import napari_simpleitk_image_processing as nsitk  # version 0.4.5\n",
    "\n",
    "def processing(image):\n",
    "    image1_gb = cle.gaussian_blur(image, None, 10.0, 10.0, 0.0)\n",
    "    image2_to = cle.threshold_otsu(image1_gb)\n",
    "    image3_B = nsitk.binary_fill_holes(image2_to)\n",
    "\n",
    "    return image3_B"
   ]
  },
  {
   "cell_type": "code",
   "execution_count": 4,
   "id": "a545136c-51b6-416a-966d-dbc77dae4526",
   "metadata": {
    "tags": []
   },
   "outputs": [
    {
     "data": {
      "text/plain": [
       "297"
      ]
     },
     "execution_count": 4,
     "metadata": {},
     "output_type": "execute_result"
    }
   ],
   "source": [
    "results = []\n",
    "for image in collection:\n",
    "    results.append(processing(image))\n",
    "\n",
    "len(results)"
   ]
  },
  {
   "cell_type": "code",
   "execution_count": 5,
   "id": "2745125e-86c6-4856-9c53-1a8ed76a6e19",
   "metadata": {
    "tags": []
   },
   "outputs": [
    {
     "data": {
      "text/plain": [
       "<Labels layer 'Labels' at 0x199900dc340>"
      ]
     },
     "execution_count": 5,
     "metadata": {},
     "output_type": "execute_result"
    }
   ],
   "source": [
    "viewer = napari.Viewer()\n",
    "viewer.add_image(make_images_equal_again(collection))\n",
    "viewer.add_labels(make_images_equal_again(results).astype(int))"
   ]
  },
  {
   "cell_type": "markdown",
   "metadata": {},
   "source": [
    "Keeping only one object and extracting image skeletons:"
   ]
  },
  {
   "cell_type": "code",
   "execution_count": 6,
   "id": "b0d9fb7a-b9cf-4ed1-b57b-54c4b21a3111",
   "metadata": {
    "tags": []
   },
   "outputs": [],
   "source": [
    "viewer.close()\n",
    "only_one_object = opp.keep_labels_closest_to_stack_median(results)"
   ]
  },
  {
   "cell_type": "code",
   "execution_count": 7,
   "id": "ac605ddf-4984-4682-b165-8c3049f6ecc3",
   "metadata": {},
   "outputs": [],
   "source": [
    "\n",
    "import napari_segment_blobs_and_things_with_membranes as nsbatwm  # version 0.3.4\n",
    "skeletons = [nsbatwm.skeletonize(label) for label in only_one_object]\n"
   ]
  },
  {
   "cell_type": "code",
   "execution_count": 8,
   "id": "8a074417-382d-4667-b67b-3c16b0863ce9",
   "metadata": {
    "tags": []
   },
   "outputs": [
    {
     "data": {
      "text/plain": [
       "<Labels layer 'Labels' at 0x199cdd5f9a0>"
      ]
     },
     "execution_count": 8,
     "metadata": {},
     "output_type": "execute_result"
    }
   ],
   "source": [
    "viewer = napari.Viewer()\n",
    "viewer.add_image(make_images_equal_again(collection))\n",
    "viewer.add_labels(make_images_equal_again(skeletons).astype(int))"
   ]
  },
  {
   "cell_type": "code",
   "execution_count": 9,
   "id": "e878eef7-6ae7-467e-8453-60377fd2bc8a",
   "metadata": {
    "tags": []
   },
   "outputs": [],
   "source": [
    "home_directory = r\"C:\\Users\\savill\\OneDrive\\Documents\\PhD Jesse\\Embryonic_organoid_prediction\\Processing dataset for Paper\\TLS_2D_morphostate_investigation/\"\n",
    "out_folder = home_directory + \"image_data/Processed Data/Perturbation Analysis/Skeletons ROT Rep3/\"\n",
    "\n",
    "if not(os.path.isdir(out_folder)):\n",
    "    os.mkdir(out_folder)\n",
    "\n",
    "for image,name in zip(skeletons,collection.files):\n",
    "    file_name = os.path.split(name)[1]\n",
    "    io.imsave(out_folder+file_name[:-4] + \"_skeleton.tif\",image)"
   ]
  },
  {
   "cell_type": "code",
   "execution_count": null,
   "id": "771c74db-d323-46ed-89ae-704581b5f517",
   "metadata": {},
   "outputs": [],
   "source": []
  }
 ],
 "metadata": {
  "kernelspec": {
   "display_name": "Python 3 (ipykernel)",
   "language": "python",
   "name": "python3"
  },
  "language_info": {
   "codemirror_mode": {
    "name": "ipython",
    "version": 3
   },
   "file_extension": ".py",
   "mimetype": "text/x-python",
   "name": "python",
   "nbconvert_exporter": "python",
   "pygments_lexer": "ipython3",
   "version": "3.9.18"
  }
 },
 "nbformat": 4,
 "nbformat_minor": 5
}
