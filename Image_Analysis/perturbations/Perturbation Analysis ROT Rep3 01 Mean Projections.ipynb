{
 "cells": [
  {
   "cell_type": "markdown",
   "metadata": {},
   "source": [
    "# Rotenone Perturbation Rep3 - Mean Projections\n",
    "In this notebook we are making mean projections of volumetric imaging data in order to calculate the elongation. First we'll load all of the images:"
   ]
  },
  {
   "cell_type": "code",
   "execution_count": 1,
   "id": "39360d63-1fb6-478d-97ac-dfb3ca72ba2b",
   "metadata": {
    "tags": []
   },
   "outputs": [
    {
     "data": {
      "text/plain": [
       "['72h_20nM_R_P2_131_01_crop.tif',\n",
       " '96h_20nM_R_P1_66_01_crop.tif',\n",
       " '72h_20nM_R_P2_124_01_crop.tif',\n",
       " '96h_20nM_R_P2_140_01_crop.tif',\n",
       " '96h_10nM_R_P1_37_01_crop.tif']"
      ]
     },
     "execution_count": 1,
     "metadata": {},
     "output_type": "execute_result"
    }
   ],
   "source": [
    "import os \n",
    "import skimage.io as io\n",
    "import pyclesperanto_prototype as cle\n",
    "import napari\n",
    "import organoid_prediction_python as opp\n",
    "\n",
    "path = r\"\\\\fileserver.mpi-cbg.de\\team_stembryo_alba\\LMF\\SD5\\20230705_FK223_300cells_Rotenone_Rep3\\processed_images\"\n",
    "file_list = [file for file in os.listdir(path) if file.endswith(\"crop.tif\")]\n",
    "file_list[:5]"
   ]
  },
  {
   "cell_type": "code",
   "execution_count": 2,
   "id": "992fbd9c-fe69-4868-86a3-b3858193fdee",
   "metadata": {
    "tags": []
   },
   "outputs": [
    {
     "data": {
      "text/plain": [
       "['\\\\\\\\fileserver.mpi-cbg.de\\\\team_stembryo_alba\\\\LMF\\\\SD5\\\\20230705_FK223_300cells_Rotenone_Rep3\\\\processed_images\\\\72h_10nM_R_P1_14_01_crop.tif',\n",
       " '\\\\\\\\fileserver.mpi-cbg.de\\\\team_stembryo_alba\\\\LMF\\\\SD5\\\\20230705_FK223_300cells_Rotenone_Rep3\\\\processed_images\\\\72h_10nM_R_P1_15_01_crop.tif',\n",
       " '\\\\\\\\fileserver.mpi-cbg.de\\\\team_stembryo_alba\\\\LMF\\\\SD5\\\\20230705_FK223_300cells_Rotenone_Rep3\\\\processed_images\\\\72h_10nM_R_P1_16_01_crop.tif',\n",
       " '\\\\\\\\fileserver.mpi-cbg.de\\\\team_stembryo_alba\\\\LMF\\\\SD5\\\\20230705_FK223_300cells_Rotenone_Rep3\\\\processed_images\\\\72h_10nM_R_P1_17_01_crop.tif',\n",
       " '\\\\\\\\fileserver.mpi-cbg.de\\\\team_stembryo_alba\\\\LMF\\\\SD5\\\\20230705_FK223_300cells_Rotenone_Rep3\\\\processed_images\\\\72h_10nM_R_P1_18_01_crop.tif']"
      ]
     },
     "execution_count": 2,
     "metadata": {},
     "output_type": "execute_result"
    }
   ],
   "source": [
    "collection = io.imread_collection(path+\"/*crop.tif\")\n",
    "collection.files[:5]"
   ]
  },
  {
   "cell_type": "markdown",
   "metadata": {},
   "source": [
    "Making projections and saving the data:"
   ]
  },
  {
   "cell_type": "code",
   "execution_count": 3,
   "id": "34426571-0be8-4059-af16-f5bf2de64530",
   "metadata": {
    "tags": []
   },
   "outputs": [],
   "source": [
    "projections = []\n",
    "for image in collection:\n",
    "    dapi = image[:,3,:,:]\n",
    "    projections.append(cle.mean_z_projection(dapi))"
   ]
  },
  {
   "cell_type": "code",
   "execution_count": 5,
   "id": "3557e5a6-59fe-4780-b128-f6e8fe2918d3",
   "metadata": {
    "tags": []
   },
   "outputs": [],
   "source": [
    "home_directory = r\"C:\\Users\\savill\\OneDrive\\Documents\\PhD Jesse\\Embryonic_organoid_prediction\\Processing dataset for Paper\\TLS_2D_morphostate_investigation/\"\n",
    "out_folder = home_directory + \"image_data/Processed Data/Perturbation Analysis/Mean Projections ROT Rep3/\"\n",
    "\n",
    "if not os.path.isdir(out_folder):\n",
    "    os.mkdir(out_folder)\n",
    "\n",
    "for image,name in zip(projections,collection.files):\n",
    "    file_name = os.path.split(name)[1]\n",
    "    io.imsave(out_folder+file_name,image)"
   ]
  },
  {
   "cell_type": "code",
   "execution_count": null,
   "id": "43f14635-8734-4831-8cb0-1ec72e1c70bb",
   "metadata": {},
   "outputs": [],
   "source": []
  }
 ],
 "metadata": {
  "kernelspec": {
   "display_name": "Python 3 (ipykernel)",
   "language": "python",
   "name": "python3"
  },
  "language_info": {
   "codemirror_mode": {
    "name": "ipython",
    "version": 3
   },
   "file_extension": ".py",
   "mimetype": "text/x-python",
   "name": "python",
   "nbconvert_exporter": "python",
   "pygments_lexer": "ipython3",
   "version": "3.9.18"
  }
 },
 "nbformat": 4,
 "nbformat_minor": 5
}
