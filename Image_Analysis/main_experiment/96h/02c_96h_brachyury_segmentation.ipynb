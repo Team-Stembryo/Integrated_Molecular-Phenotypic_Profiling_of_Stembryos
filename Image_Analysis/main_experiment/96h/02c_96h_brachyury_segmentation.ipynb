{
 "cells": [
  {
   "cell_type": "markdown",
   "id": "a8e0c0fa-f366-4f23-a326-9983be747f70",
   "metadata": {},
   "source": [
    "# Brachyury Segmentation\n",
    "\n",
    "Loading of brachyury images and brightfield masks"
   ]
  },
  {
   "cell_type": "code",
   "execution_count": 1,
   "id": "edeb1a6b-32d4-45d5-be4b-7d0c041829cc",
   "metadata": {},
   "outputs": [],
   "source": [
    "from skimage import io\n",
    "from skimage.filters import threshold_otsu\n",
    "import os\n",
    "import numpy as np\n",
    "import organoid_prediction_python as opp\n",
    "\n",
    "home_directory = r\"C:\\Users\\savill\\OneDrive\\Documents\\PhD Jesse\\Embryonic_organoid_prediction\\Processing dataset for Paper\\TLS_2D_morphostate_investigation/\"\n",
    "\n",
    "brightfield_mask_location = home_directory +  r\"image_data\\Processed Data\\Masks Brightfield\\96h\"\n",
    "brachyury_image_location = home_directory + r\"image_data\\Processed Data\\Focussed Images\\96h\\Brachyury\"\n",
    "\n",
    "bra_image_collection = io.imread_collection(brachyury_image_location+\"/*.tif\")\n",
    "bra_file_names = [os.path.split(fname)[1] for fname in bra_image_collection.files]\n",
    "\n",
    "bf_image_collection = io.imread_collection(brightfield_mask_location+\"/*.tif\")\n",
    "bf_file_names = [os.path.split(fname)[1] for fname in bf_image_collection.files]"
   ]
  },
  {
   "cell_type": "markdown",
   "id": "71ca34e5-9501-47ed-ac44-06efae465129",
   "metadata": {},
   "source": [
    "Small sanity check if both stacks have the same order"
   ]
  },
  {
   "cell_type": "code",
   "execution_count": 2,
   "id": "5a226203-9c05-40a1-988e-121f76f2fe4e",
   "metadata": {
    "tags": []
   },
   "outputs": [
    {
     "data": {
      "text/plain": [
       "True"
      ]
     },
     "execution_count": 2,
     "metadata": {},
     "output_type": "execute_result"
    }
   ],
   "source": [
    "[name[:-8] for name in bra_file_names] == [name[:-12] for name in bf_file_names]"
   ]
  },
  {
   "cell_type": "markdown",
   "id": "b84ef3e6-729c-4cc7-bbb6-97d3135ddfb0",
   "metadata": {},
   "source": [
    "Segmentation of brachyury as implemented in opp"
   ]
  },
  {
   "cell_type": "code",
   "execution_count": 3,
   "id": "fb1c47e8-6dc4-4d27-8e7b-37193e39c7bc",
   "metadata": {},
   "outputs": [
    {
     "name": "stdout",
     "output_type": "stream",
     "text": [
      "global_threshold: 16.66704750061035\n",
      "CPU times: total: 8.83 s\n",
      "Wall time: 14.7 s\n"
     ]
    }
   ],
   "source": [
    "%%time\n",
    "\n",
    "thresh = threshold_otsu(np.array(bra_image_collection))\n",
    "print(f\"global_threshold: {thresh}\")\n",
    "segmented_images = opp.segment_brachyury_stack(bf_masks=np.array(bf_image_collection),bra_images=np.array(bra_image_collection),thresh = thresh)"
   ]
  },
  {
   "cell_type": "code",
   "execution_count": 4,
   "id": "d1c90fc0-8919-4667-acf9-bd72575894bd",
   "metadata": {},
   "outputs": [
    {
     "data": {
      "text/plain": [
       "(576, 598, 712)"
      ]
     },
     "execution_count": 4,
     "metadata": {},
     "output_type": "execute_result"
    }
   ],
   "source": [
    "segmented_images.shape"
   ]
  },
  {
   "cell_type": "code",
   "execution_count": 5,
   "id": "9a6782ba-929b-4f26-882d-be92ce9405c2",
   "metadata": {},
   "outputs": [],
   "source": [
    "out_path = home_directory + \"image_data/Processed Data/Masks Brachyury/96h\"\n",
    "\n",
    "if not os.path.exists(out_path):\n",
    "   os.makedirs(out_path)\n",
    "   print(\"The new directory is created!\")\n",
    "    \n",
    "for name, mask in zip(bra_file_names,segmented_images):\n",
    "    name_mask = f\"{name[:-4]}_mask.tif\"\n",
    "    io.imsave(f\"{out_path}/{name_mask}\",mask.astype(\"uint8\"))"
   ]
  },
  {
   "cell_type": "markdown",
   "id": "64a63bf7-3254-4806-80c9-4e2d7e3803a5",
   "metadata": {},
   "source": [
    "Another sanity check"
   ]
  },
  {
   "cell_type": "code",
   "execution_count": 6,
   "id": "5ff1fdd3-80fd-4f8b-8388-416aaae404da",
   "metadata": {},
   "outputs": [
    {
     "data": {
      "text/plain": [
       "<Labels layer 'segmented_images' at 0x17614a74b50>"
      ]
     },
     "execution_count": 6,
     "metadata": {},
     "output_type": "execute_result"
    }
   ],
   "source": [
    "import napari\n",
    "viewer = napari.Viewer()\n",
    "viewer.add_image(np.array(bra_image_collection))\n",
    "viewer.add_labels(segmented_images)"
   ]
  },
  {
   "cell_type": "code",
   "execution_count": null,
   "id": "c4040f9d-b9e3-4ded-b6cc-2fcb38dc9cde",
   "metadata": {},
   "outputs": [],
   "source": []
  }
 ],
 "metadata": {
  "kernelspec": {
   "display_name": "Python 3 (ipykernel)",
   "language": "python",
   "name": "python3"
  },
  "language_info": {
   "codemirror_mode": {
    "name": "ipython",
    "version": 3
   },
   "file_extension": ".py",
   "mimetype": "text/x-python",
   "name": "python",
   "nbconvert_exporter": "python",
   "pygments_lexer": "ipython3",
   "version": "3.9.16"
  }
 },
 "nbformat": 4,
 "nbformat_minor": 5
}
