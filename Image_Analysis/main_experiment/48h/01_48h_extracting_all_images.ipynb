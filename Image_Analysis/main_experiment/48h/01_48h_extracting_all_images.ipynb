{
 "cells": [
  {
   "cell_type": "markdown",
   "id": "d90975b6-825f-4fe3-9211-48417269e434",
   "metadata": {},
   "source": [
    "# Extracting All Images"
   ]
  },
  {
   "cell_type": "markdown",
   "id": "12b9e688-435e-49a7-b0c0-e010c921c879",
   "metadata": {},
   "source": [
    "First we define the home directory and make a list mapping the index to a well identity and then a dictionary mapping well index to index"
   ]
  },
  {
   "cell_type": "code",
   "execution_count": 5,
   "id": "9d0b307c-91c8-42cf-aea4-05adede9cf58",
   "metadata": {},
   "outputs": [],
   "source": [
    "import pandas as pd\n",
    "import numpy as np\n",
    "import skimage.io as io\n",
    "import os\n",
    "import re\n",
    "\n",
    "# needs to be changed to repository directory\n",
    "home_directory = r\"C:\\Users\\savill\\OneDrive\\Documents\\PhD Jesse\\Embryonic_organoid_prediction\\Processing dataset for Paper\\TLS_2D_morphostate_investigation/\"\n",
    "\n",
    "letters = [\"A\",\"B\",\"C\",\"D\",\"E\",\"F\",\"G\",\"H\"]\n",
    "\n",
    "alphanumeric_list = []\n",
    "for letter in letters:\n",
    "    alphanumeric_list += [f\"{letter}{i+1}\" for i in range(12)]\n",
    "\n",
    "well_to_index = {well:i for i,well in enumerate(alphanumeric_list)}"
   ]
  },
  {
   "cell_type": "markdown",
   "id": "43aba502-ab85-440b-b4fb-033df29d52f9",
   "metadata": {},
   "source": [
    "Now we can iterate through the folders of the experimental runs and load the stacks and save the samples to a new folder with the Experiment, Plate and Well data added. First we'll extract all images from the real experiment:"
   ]
  },
  {
   "cell_type": "code",
   "execution_count": 7,
   "id": "b81a81a4-a75d-4e95-a7ab-1d631911f0bb",
   "metadata": {},
   "outputs": [
    {
     "name": "stdout",
     "output_type": "stream",
     "text": [
      "FK223_48h_plate1_291121-01\n",
      "1\n",
      "FK223_48h_plate2_291121-01\n",
      "2\n",
      "FK223_48h_plate3_291121-01\n",
      "3\n",
      "FK223_48h_plate4_291121-01\n",
      "4\n",
      "FK223_48h_plate5_291121-01\n",
      "5\n",
      "FK223_48h_plate6_291121-01\n",
      "6\n"
     ]
    }
   ],
   "source": [
    "brachyury_path = home_directory + r\"image_data\\Processed Data\\Focussed Images\\48h\\Brachyury\"\n",
    "brightfield_path = home_directory + r\"image_data\\Processed Data\\Focussed Images\\48h\\Brightfield\"\n",
    "\n",
    "if not os.path.exists(brachyury_path):\n",
    "   os.makedirs(brachyury_path)\n",
    "   print(\"The new directory is created!\")\n",
    "if not os.path.exists(brightfield_path):\n",
    "   os.makedirs(brightfield_path)\n",
    "   print(\"The new directory is created!\")\n",
    "\n",
    "real_run_prefix = \"RR\"\n",
    "trial_run_prefix = \"TR\"\n",
    "brachyury_suffix = \"BRA\"\n",
    "brightfield_suffix = \"BTF\"\n",
    "\n",
    "index_to_well = {v:k for k,v in well_to_index.items()}\n",
    "\n",
    "run = \"Real_Run\"\n",
    "hour = \"048h\"\n",
    "\n",
    "folders = next(os.walk(f'{home_directory}image_data/Raw Data/{run}/{hour}'))[1]\n",
    "expression = r\".*plate(?P<plate>[0-9]).*\"\n",
    "\n",
    "for folder in folders:\n",
    "    if folder.startswith(\"FK223\"):\n",
    "        filenames = next(os.walk(f'{home_directory}image_data/Raw Data/{run}/{hour}/{folder}/TIFs'), (None, None, []))[2]\n",
    "        m = re.match(expression,folder)\n",
    "        plate = m.group('plate')\n",
    "        for file in filenames:\n",
    "            if file.endswith(\"BF_focussed.tif\"):\n",
    "                stack = io.imread(f'{home_directory}image_data/Raw Data/{run}/{hour}/{folder}/TIFs/{file}')\n",
    "                for i, foo in enumerate(stack):\n",
    "                    io.imsave(\n",
    "                        f\"{brightfield_path}/FK223_run_{real_run_prefix}_PLATE_{plate}_ID_{index_to_well[i]}_C_{brightfield_suffix}.tif\",\n",
    "                        stack[i]\n",
    "                    )\n",
    "            if file.endswith(\"BRA_focussed.tif\"):\n",
    "                stack = io.imread(f'{home_directory}image_data/Raw Data/{run}/{hour}/{folder}/TIFs/{file}')\n",
    "                for i, foo in enumerate(stack):\n",
    "                    io.imsave(\n",
    "                        f\"{brachyury_path}/FK223_run_{real_run_prefix}_PLATE_{plate}_ID_{index_to_well[i]}_C_{brachyury_suffix}.tif\",\n",
    "                        stack[i]\n",
    "                    )"
   ]
  },
  {
   "cell_type": "markdown",
   "metadata": {},
   "source": [
    "And now we'll extract all the images from the trial run"
   ]
  },
  {
   "cell_type": "code",
   "execution_count": 13,
   "id": "b6589e52-350c-4685-a540-4c26f2db8179",
   "metadata": {},
   "outputs": [
    {
     "name": "stdout",
     "output_type": "stream",
     "text": [
      "FK223_48h_Plate1\n",
      "FK223_48h_Plate2\n"
     ]
    }
   ],
   "source": [
    "run = \"Trial_Run\"\n",
    "\n",
    "folders = next(os.walk(f'{home_directory}image_data/Raw Data/{run}/{hour}'))[1]\n",
    "for folder in folders:\n",
    "    if folder.startswith(\"FK223\"):\n",
    "        print(folder)\n",
    "        filenames = next(os.walk(f'{home_directory}image_data/Raw Data/{run}/{hour}/{folder}'), (None, None, []))[2]\n",
    "        m = re.match(expression,folder.lower())\n",
    "        plate = m.group('plate')\n",
    "        for file in filenames:\n",
    "            if file.endswith(\"BF_focussed.tif\"):\n",
    "                stack = io.imread(f'{home_directory}image_data/Raw Data/{run}/{hour}/{folder}/{file}')\n",
    "                for i, foo in enumerate(stack):\n",
    "                    io.imsave(\n",
    "                        f\"{brightfield_path}/FK223_run_{trial_run_prefix}_PLATE_{plate}_ID_{index_to_well[i]}_C_{brightfield_suffix}.tif\",\n",
    "                        stack[i]\n",
    "                    )\n",
    "            if file.endswith(\"BRA_focussed.tif\"):\n",
    "                stack = io.imread(f'{home_directory}image_data/Raw Data/{run}/{hour}/{folder}/{file}')\n",
    "                for i, foo in enumerate(stack):\n",
    "                    io.imsave(\n",
    "                        f\"{brachyury_path}/FK223_run_{trial_run_prefix}_PLATE_{plate}_ID_{index_to_well[i]}_C_{brachyury_suffix}.tif\",\n",
    "                        stack[i]\n",
    "                    )"
   ]
  },
  {
   "cell_type": "code",
   "execution_count": null,
   "id": "20043eb4-f540-46f5-a3d7-e1e0b07319e9",
   "metadata": {},
   "outputs": [],
   "source": []
  }
 ],
 "metadata": {
  "kernelspec": {
   "display_name": "Python 3 (ipykernel)",
   "language": "python",
   "name": "python3"
  },
  "language_info": {
   "codemirror_mode": {
    "name": "ipython",
    "version": 3
   },
   "file_extension": ".py",
   "mimetype": "text/x-python",
   "name": "python",
   "nbconvert_exporter": "python",
   "pygments_lexer": "ipython3",
   "version": "3.9.16"
  }
 },
 "nbformat": 4,
 "nbformat_minor": 5
}
