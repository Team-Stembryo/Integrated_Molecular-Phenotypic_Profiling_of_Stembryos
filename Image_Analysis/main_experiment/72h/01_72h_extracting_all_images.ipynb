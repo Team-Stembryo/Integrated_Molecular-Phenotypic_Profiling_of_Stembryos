{
 "cells": [
  {
   "cell_type": "markdown",
   "id": "e663f2e9-89fe-4835-9872-dfdab6e36f50",
   "metadata": {},
   "source": [
    "# Extracting all Images"
   ]
  },
  {
   "cell_type": "markdown",
   "id": "5189a7dc-0819-4cc2-aee9-428f6da69bc7",
   "metadata": {},
   "source": [
    "First we define the home directory and make a list mapping the index to a well identity and then a dictionary mapping well index to index"
   ]
  },
  {
   "cell_type": "code",
   "execution_count": 1,
   "id": "b093f7fc-7282-4780-9e3b-8aa5d25c7f97",
   "metadata": {},
   "outputs": [],
   "source": [
    "import pandas as pd\n",
    "import numpy as np\n",
    "import skimage.io as io\n",
    "import os\n",
    "import re\n",
    "\n",
    "# needs to be changed to repository directory\n",
    "home_directory = r\"C:\\Users\\savill\\OneDrive\\Documents\\PhD Jesse\\Embryonic_organoid_prediction\\Processing dataset for Paper\\TLS_2D_morphostate_investigation/\"\n",
    "\n",
    "letters = [\"A\",\"B\",\"C\",\"D\",\"E\",\"F\",\"G\",\"H\"]\n",
    "\n",
    "alphanumeric_list = []\n",
    "for letter in letters:\n",
    "    alphanumeric_list += [f\"{letter}{i+1}\" for i in range(12)]\n",
    "\n",
    "well_to_index = {well:i for i,well in enumerate(alphanumeric_list)}"
   ]
  },
  {
   "cell_type": "markdown",
   "id": "6e2c9f82-d4b8-48c7-b2e6-e2971cec3594",
   "metadata": {},
   "source": [
    "Now we can iterate through the folders of the experimental runs and load the stacks and save the samples to a new folder with the Experiment, Plate and Well data added. First we'll extract all images from the real experiment:"
   ]
  },
  {
   "cell_type": "code",
   "execution_count": 2,
   "id": "b81a81a4-a75d-4e95-a7ab-1d631911f0bb",
   "metadata": {},
   "outputs": [
    {
     "name": "stdout",
     "output_type": "stream",
     "text": [
      "The new directory is created!\n",
      "The new directory is created!\n"
     ]
    },
    {
     "name": "stderr",
     "output_type": "stream",
     "text": [
      "C:\\Users\\savill\\AppData\\Local\\Temp\\ipykernel_14312\\1372431808.py:33: UserWarning: C:\\Users\\savill\\OneDrive\\Documents\\PhD Jesse\\Embryonic_organoid_prediction\\Processing dataset for Paper\\TLS_2D_morphostate_investigation/image_data\\Processed Data\\Focussed Images\\72h\\Brightfield/FK223_run_RR_PLATE_1_ID_B6_C_BTF.tif is a low contrast image\n",
      "  io.imsave(\n",
      "C:\\Users\\savill\\AppData\\Local\\Temp\\ipykernel_14312\\1372431808.py:40: UserWarning: C:\\Users\\savill\\OneDrive\\Documents\\PhD Jesse\\Embryonic_organoid_prediction\\Processing dataset for Paper\\TLS_2D_morphostate_investigation/image_data\\Processed Data\\Focussed Images\\72h\\Brachyury/FK223_run_RR_PLATE_1_ID_B6_C_BRA.tif is a low contrast image\n",
      "  io.imsave(\n"
     ]
    }
   ],
   "source": [
    "brachyury_path = home_directory + r\"image_data\\Processed Data\\Focussed Images\\72h\\Brachyury\"\n",
    "brightfield_path = home_directory + r\"image_data\\Processed Data\\Focussed Images\\72h\\Brightfield\"\n",
    "\n",
    "if not os.path.exists(brachyury_path):\n",
    "   os.makedirs(brachyury_path)\n",
    "   print(\"The new directory is created!\")\n",
    "if not os.path.exists(brightfield_path):\n",
    "   os.makedirs(brightfield_path)\n",
    "   print(\"The new directory is created!\")\n",
    "\n",
    "real_run_prefix = \"RR\"\n",
    "trial_run_prefix = \"TR\"\n",
    "brachyury_suffix = \"BRA\"\n",
    "brightfield_suffix = \"BTF\"\n",
    "\n",
    "index_to_well = {v:k for k,v in well_to_index.items()}\n",
    "\n",
    "run = \"Real_Run\"\n",
    "hour = \"072h\"\n",
    "\n",
    "folders = next(os.walk(f'{home_directory}image_data/Raw Data/{run}/{hour}'))[1]\n",
    "expression = r\".*plate(?P<plate>[0-9]).*\"\n",
    "\n",
    "for folder in folders:\n",
    "    if folder.startswith(\"FK223\"):\n",
    "        filenames = next(os.walk(f'{home_directory}image_data/Raw Data/{run}/{hour}/{folder}/TIFs'), (None, None, []))[2]\n",
    "        m = re.match(expression,folder)\n",
    "        plate = m.group('plate')\n",
    "        for file in filenames:\n",
    "            if file.endswith(\"BF_focussed.tif\"):\n",
    "                stack = io.imread(f'{home_directory}image_data/Raw Data/{run}/{hour}/{folder}/TIFs/{file}')\n",
    "                for i, foo in enumerate(stack):\n",
    "                    io.imsave(\n",
    "                        f\"{brightfield_path}/FK223_run_{real_run_prefix}_PLATE_{plate}_ID_{index_to_well[i]}_C_{brightfield_suffix}.tif\",\n",
    "                        stack[i]\n",
    "                    )\n",
    "            if file.endswith(\"BRA_focussed.tif\"):\n",
    "                stack = io.imread(f'{home_directory}image_data/Raw Data/{run}/{hour}/{folder}/TIFs/{file}')\n",
    "                for i, foo in enumerate(stack):\n",
    "                    io.imsave(\n",
    "                        f\"{brachyury_path}/FK223_run_{real_run_prefix}_PLATE_{plate}_ID_{index_to_well[i]}_C_{brachyury_suffix}.tif\",\n",
    "                        stack[i]\n",
    "                    )"
   ]
  },
  {
   "cell_type": "markdown",
   "metadata": {},
   "source": [
    "And now we'll extract all the images from the trial run"
   ]
  },
  {
   "cell_type": "code",
   "execution_count": 3,
   "id": "b6589e52-350c-4685-a540-4c26f2db8179",
   "metadata": {},
   "outputs": [
    {
     "name": "stdout",
     "output_type": "stream",
     "text": [
      "FK223_72h_Plate1\n",
      "FK223_72h_Plate2\n"
     ]
    },
    {
     "name": "stderr",
     "output_type": "stream",
     "text": [
      "C:\\Users\\savill\\AppData\\Local\\Temp\\ipykernel_14312\\2031246260.py:13: UserWarning: C:\\Users\\savill\\OneDrive\\Documents\\PhD Jesse\\Embryonic_organoid_prediction\\Processing dataset for Paper\\TLS_2D_morphostate_investigation/image_data\\Processed Data\\Focussed Images\\72h\\Brightfield/FK223_run_TR_PLATE_2_ID_A1_C_BTF.tif is a low contrast image\n",
      "  io.imsave(\n",
      "C:\\Users\\savill\\AppData\\Local\\Temp\\ipykernel_14312\\2031246260.py:13: UserWarning: C:\\Users\\savill\\OneDrive\\Documents\\PhD Jesse\\Embryonic_organoid_prediction\\Processing dataset for Paper\\TLS_2D_morphostate_investigation/image_data\\Processed Data\\Focussed Images\\72h\\Brightfield/FK223_run_TR_PLATE_2_ID_A2_C_BTF.tif is a low contrast image\n",
      "  io.imsave(\n",
      "C:\\Users\\savill\\AppData\\Local\\Temp\\ipykernel_14312\\2031246260.py:13: UserWarning: C:\\Users\\savill\\OneDrive\\Documents\\PhD Jesse\\Embryonic_organoid_prediction\\Processing dataset for Paper\\TLS_2D_morphostate_investigation/image_data\\Processed Data\\Focussed Images\\72h\\Brightfield/FK223_run_TR_PLATE_2_ID_B1_C_BTF.tif is a low contrast image\n",
      "  io.imsave(\n",
      "C:\\Users\\savill\\AppData\\Local\\Temp\\ipykernel_14312\\2031246260.py:13: UserWarning: C:\\Users\\savill\\OneDrive\\Documents\\PhD Jesse\\Embryonic_organoid_prediction\\Processing dataset for Paper\\TLS_2D_morphostate_investigation/image_data\\Processed Data\\Focussed Images\\72h\\Brightfield/FK223_run_TR_PLATE_2_ID_C1_C_BTF.tif is a low contrast image\n",
      "  io.imsave(\n",
      "C:\\Users\\savill\\AppData\\Local\\Temp\\ipykernel_14312\\2031246260.py:13: UserWarning: C:\\Users\\savill\\OneDrive\\Documents\\PhD Jesse\\Embryonic_organoid_prediction\\Processing dataset for Paper\\TLS_2D_morphostate_investigation/image_data\\Processed Data\\Focussed Images\\72h\\Brightfield/FK223_run_TR_PLATE_2_ID_D1_C_BTF.tif is a low contrast image\n",
      "  io.imsave(\n",
      "C:\\Users\\savill\\AppData\\Local\\Temp\\ipykernel_14312\\2031246260.py:13: UserWarning: C:\\Users\\savill\\OneDrive\\Documents\\PhD Jesse\\Embryonic_organoid_prediction\\Processing dataset for Paper\\TLS_2D_morphostate_investigation/image_data\\Processed Data\\Focussed Images\\72h\\Brightfield/FK223_run_TR_PLATE_2_ID_E1_C_BTF.tif is a low contrast image\n",
      "  io.imsave(\n",
      "C:\\Users\\savill\\AppData\\Local\\Temp\\ipykernel_14312\\2031246260.py:13: UserWarning: C:\\Users\\savill\\OneDrive\\Documents\\PhD Jesse\\Embryonic_organoid_prediction\\Processing dataset for Paper\\TLS_2D_morphostate_investigation/image_data\\Processed Data\\Focussed Images\\72h\\Brightfield/FK223_run_TR_PLATE_2_ID_F1_C_BTF.tif is a low contrast image\n",
      "  io.imsave(\n",
      "C:\\Users\\savill\\AppData\\Local\\Temp\\ipykernel_14312\\2031246260.py:13: UserWarning: C:\\Users\\savill\\OneDrive\\Documents\\PhD Jesse\\Embryonic_organoid_prediction\\Processing dataset for Paper\\TLS_2D_morphostate_investigation/image_data\\Processed Data\\Focussed Images\\72h\\Brightfield/FK223_run_TR_PLATE_2_ID_G1_C_BTF.tif is a low contrast image\n",
      "  io.imsave(\n",
      "C:\\Users\\savill\\AppData\\Local\\Temp\\ipykernel_14312\\2031246260.py:13: UserWarning: C:\\Users\\savill\\OneDrive\\Documents\\PhD Jesse\\Embryonic_organoid_prediction\\Processing dataset for Paper\\TLS_2D_morphostate_investigation/image_data\\Processed Data\\Focussed Images\\72h\\Brightfield/FK223_run_TR_PLATE_2_ID_H1_C_BTF.tif is a low contrast image\n",
      "  io.imsave(\n",
      "C:\\Users\\savill\\AppData\\Local\\Temp\\ipykernel_14312\\2031246260.py:20: UserWarning: C:\\Users\\savill\\OneDrive\\Documents\\PhD Jesse\\Embryonic_organoid_prediction\\Processing dataset for Paper\\TLS_2D_morphostate_investigation/image_data\\Processed Data\\Focussed Images\\72h\\Brachyury/FK223_run_TR_PLATE_2_ID_A1_C_BRA.tif is a low contrast image\n",
      "  io.imsave(\n",
      "C:\\Users\\savill\\AppData\\Local\\Temp\\ipykernel_14312\\2031246260.py:20: UserWarning: C:\\Users\\savill\\OneDrive\\Documents\\PhD Jesse\\Embryonic_organoid_prediction\\Processing dataset for Paper\\TLS_2D_morphostate_investigation/image_data\\Processed Data\\Focussed Images\\72h\\Brachyury/FK223_run_TR_PLATE_2_ID_A2_C_BRA.tif is a low contrast image\n",
      "  io.imsave(\n",
      "C:\\Users\\savill\\AppData\\Local\\Temp\\ipykernel_14312\\2031246260.py:20: UserWarning: C:\\Users\\savill\\OneDrive\\Documents\\PhD Jesse\\Embryonic_organoid_prediction\\Processing dataset for Paper\\TLS_2D_morphostate_investigation/image_data\\Processed Data\\Focussed Images\\72h\\Brachyury/FK223_run_TR_PLATE_2_ID_B1_C_BRA.tif is a low contrast image\n",
      "  io.imsave(\n",
      "C:\\Users\\savill\\AppData\\Local\\Temp\\ipykernel_14312\\2031246260.py:20: UserWarning: C:\\Users\\savill\\OneDrive\\Documents\\PhD Jesse\\Embryonic_organoid_prediction\\Processing dataset for Paper\\TLS_2D_morphostate_investigation/image_data\\Processed Data\\Focussed Images\\72h\\Brachyury/FK223_run_TR_PLATE_2_ID_C1_C_BRA.tif is a low contrast image\n",
      "  io.imsave(\n",
      "C:\\Users\\savill\\AppData\\Local\\Temp\\ipykernel_14312\\2031246260.py:20: UserWarning: C:\\Users\\savill\\OneDrive\\Documents\\PhD Jesse\\Embryonic_organoid_prediction\\Processing dataset for Paper\\TLS_2D_morphostate_investigation/image_data\\Processed Data\\Focussed Images\\72h\\Brachyury/FK223_run_TR_PLATE_2_ID_D1_C_BRA.tif is a low contrast image\n",
      "  io.imsave(\n",
      "C:\\Users\\savill\\AppData\\Local\\Temp\\ipykernel_14312\\2031246260.py:20: UserWarning: C:\\Users\\savill\\OneDrive\\Documents\\PhD Jesse\\Embryonic_organoid_prediction\\Processing dataset for Paper\\TLS_2D_morphostate_investigation/image_data\\Processed Data\\Focussed Images\\72h\\Brachyury/FK223_run_TR_PLATE_2_ID_E1_C_BRA.tif is a low contrast image\n",
      "  io.imsave(\n",
      "C:\\Users\\savill\\AppData\\Local\\Temp\\ipykernel_14312\\2031246260.py:20: UserWarning: C:\\Users\\savill\\OneDrive\\Documents\\PhD Jesse\\Embryonic_organoid_prediction\\Processing dataset for Paper\\TLS_2D_morphostate_investigation/image_data\\Processed Data\\Focussed Images\\72h\\Brachyury/FK223_run_TR_PLATE_2_ID_F1_C_BRA.tif is a low contrast image\n",
      "  io.imsave(\n",
      "C:\\Users\\savill\\AppData\\Local\\Temp\\ipykernel_14312\\2031246260.py:20: UserWarning: C:\\Users\\savill\\OneDrive\\Documents\\PhD Jesse\\Embryonic_organoid_prediction\\Processing dataset for Paper\\TLS_2D_morphostate_investigation/image_data\\Processed Data\\Focussed Images\\72h\\Brachyury/FK223_run_TR_PLATE_2_ID_G1_C_BRA.tif is a low contrast image\n",
      "  io.imsave(\n",
      "C:\\Users\\savill\\AppData\\Local\\Temp\\ipykernel_14312\\2031246260.py:20: UserWarning: C:\\Users\\savill\\OneDrive\\Documents\\PhD Jesse\\Embryonic_organoid_prediction\\Processing dataset for Paper\\TLS_2D_morphostate_investigation/image_data\\Processed Data\\Focussed Images\\72h\\Brachyury/FK223_run_TR_PLATE_2_ID_H1_C_BRA.tif is a low contrast image\n",
      "  io.imsave(\n"
     ]
    }
   ],
   "source": [
    "run = \"Trial_Run\"\n",
    "folders = next(os.walk(f'{home_directory}image_data/Raw Data/{run}/{hour}'))[1]\n",
    "for folder in folders:\n",
    "    if folder.startswith(\"FK223\"):\n",
    "        print(folder)\n",
    "        filenames = next(os.walk(f'{home_directory}image_data/Raw Data/{run}/{hour}/{folder}'), (None, None, []))[2]\n",
    "        m = re.match(expression,folder.lower())\n",
    "        plate = m.group('plate')\n",
    "        for file in filenames:\n",
    "            if file.endswith(\"BF_focussed.tif\"):\n",
    "                stack = io.imread(f'{home_directory}image_data/Raw Data/{run}/{hour}/{folder}/{file}')\n",
    "                for i, foo in enumerate(stack):\n",
    "                    io.imsave(\n",
    "                        f\"{brightfield_path}/FK223_run_{trial_run_prefix}_PLATE_{plate}_ID_{index_to_well[i]}_C_{brightfield_suffix}.tif\",\n",
    "                        stack[i]\n",
    "                    )\n",
    "            if file.endswith(\"BRA_focussed.tif\"):\n",
    "                stack = io.imread(f'{home_directory}image_data/Raw Data/{run}/{hour}/{folder}/{file}')\n",
    "                for i, foo in enumerate(stack):\n",
    "                    io.imsave(\n",
    "                        f\"{brachyury_path}/FK223_run_{trial_run_prefix}_PLATE_{plate}_ID_{index_to_well[i]}_C_{brachyury_suffix}.tif\",\n",
    "                        stack[i]\n",
    "                    )"
   ]
  },
  {
   "cell_type": "code",
   "execution_count": null,
   "id": "6a4173d2-ea24-4eef-a5c1-ea868bafb7b5",
   "metadata": {},
   "outputs": [],
   "source": []
  }
 ],
 "metadata": {
  "kernelspec": {
   "display_name": "Python 3 (ipykernel)",
   "language": "python",
   "name": "python3"
  },
  "language_info": {
   "codemirror_mode": {
    "name": "ipython",
    "version": 3
   },
   "file_extension": ".py",
   "mimetype": "text/x-python",
   "name": "python",
   "nbconvert_exporter": "python",
   "pygments_lexer": "ipython3",
   "version": "3.9.16"
  }
 },
 "nbformat": 4,
 "nbformat_minor": 5
}
