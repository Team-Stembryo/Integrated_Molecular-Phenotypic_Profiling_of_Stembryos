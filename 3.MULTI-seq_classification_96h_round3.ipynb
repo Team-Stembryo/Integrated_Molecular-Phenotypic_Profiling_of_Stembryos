{
 "cells": [
  {
   "cell_type": "code",
   "execution_count": 1,
   "id": "1696bbf1-98dd-4641-bb33-e9492152198a",
   "metadata": {},
   "outputs": [
    {
     "name": "stderr",
     "output_type": "stream",
     "text": [
      "Warning message:\n",
      "“replacing previous import ‘lifecycle::last_warnings’ by ‘rlang::last_warnings’ when loading ‘tibble’”\n"
     ]
    }
   ],
   "source": [
    "library(\"deMULTIplex\")\n",
    "library(\"ggplot2\")"
   ]
  },
  {
   "cell_type": "code",
   "execution_count": 2,
   "id": "c0126db1-d251-4089-b714-8615e5ccd9f7",
   "metadata": {},
   "outputs": [],
   "source": [
    "## deMULTIplexing ##\n",
    "setwd(\"/project/ABKlab/Natalia/sc-RNA-seq/single_TLS_project\")"
   ]
  },
  {
   "cell_type": "markdown",
   "id": "c8c8762b-dbd8-4c42-8101-28c8730ec759",
   "metadata": {},
   "source": [
    "# Table 96h"
   ]
  },
  {
   "cell_type": "code",
   "execution_count": 3,
   "id": "d60442d9-17a0-430f-a381-82c38573c31b",
   "metadata": {},
   "outputs": [],
   "source": [
    "bartable_96h <- readRDS(\"./files/bartable_96h.rds\")"
   ]
  },
  {
   "cell_type": "code",
   "execution_count": 4,
   "id": "1193beea-d123-4fef-a81b-9673b7ddb861",
   "metadata": {},
   "outputs": [
    {
     "data": {
      "text/html": [
       "<table class=\"dataframe\">\n",
       "<caption>A data.frame: 6 × 26</caption>\n",
       "<thead>\n",
       "\t<tr><th></th><th scope=col>Bar1</th><th scope=col>Bar2</th><th scope=col>Bar3</th><th scope=col>Bar4</th><th scope=col>Bar5</th><th scope=col>Bar6</th><th scope=col>Bar7</th><th scope=col>Bar8</th><th scope=col>Bar9</th><th scope=col>Bar10</th><th scope=col>⋯</th><th scope=col>Bar17</th><th scope=col>Bar18</th><th scope=col>Bar19</th><th scope=col>Bar20</th><th scope=col>Bar21</th><th scope=col>Bar22</th><th scope=col>Bar23</th><th scope=col>Bar24</th><th scope=col>nUMI</th><th scope=col>nUMI_total</th></tr>\n",
       "\t<tr><th></th><th scope=col>&lt;int&gt;</th><th scope=col>&lt;int&gt;</th><th scope=col>&lt;int&gt;</th><th scope=col>&lt;int&gt;</th><th scope=col>&lt;int&gt;</th><th scope=col>&lt;int&gt;</th><th scope=col>&lt;int&gt;</th><th scope=col>&lt;int&gt;</th><th scope=col>&lt;int&gt;</th><th scope=col>&lt;int&gt;</th><th scope=col>⋯</th><th scope=col>&lt;int&gt;</th><th scope=col>&lt;int&gt;</th><th scope=col>&lt;int&gt;</th><th scope=col>&lt;int&gt;</th><th scope=col>&lt;int&gt;</th><th scope=col>&lt;int&gt;</th><th scope=col>&lt;int&gt;</th><th scope=col>&lt;int&gt;</th><th scope=col>&lt;int&gt;</th><th scope=col>&lt;int&gt;</th></tr>\n",
       "</thead>\n",
       "<tbody>\n",
       "\t<tr><th scope=row>AAACCCAAGTGGAAAG</th><td> 7</td><td>4</td><td> 4</td><td>10</td><td> 12</td><td>3</td><td> 6</td><td>4</td><td>10</td><td>12</td><td>⋯</td><td>23</td><td> 7</td><td> 2</td><td> 4</td><td> 4</td><td>7</td><td> 8</td><td>21</td><td>214</td><td>251</td></tr>\n",
       "\t<tr><th scope=row>AAACCCACACTACTTT</th><td>10</td><td>4</td><td> 9</td><td> 9</td><td>  9</td><td>3</td><td> 9</td><td>0</td><td> 6</td><td>13</td><td>⋯</td><td>10</td><td> 3</td><td> 4</td><td>13</td><td> 1</td><td>7</td><td> 3</td><td> 4</td><td>173</td><td>215</td></tr>\n",
       "\t<tr><th scope=row>AAACCCAGTAAGGCCA</th><td> 2</td><td>6</td><td> 4</td><td> 7</td><td>  4</td><td>9</td><td>11</td><td>3</td><td>10</td><td>14</td><td>⋯</td><td>13</td><td>10</td><td> 5</td><td> 3</td><td> 2</td><td>7</td><td>37</td><td> 0</td><td>211</td><td>247</td></tr>\n",
       "\t<tr><th scope=row>AAACCCATCCACAGGC</th><td>31</td><td>9</td><td> 5</td><td> 5</td><td>  3</td><td>6</td><td> 8</td><td>3</td><td>11</td><td>15</td><td>⋯</td><td>17</td><td> 7</td><td> 6</td><td> 4</td><td> 7</td><td>6</td><td> 6</td><td> 5</td><td>231</td><td>286</td></tr>\n",
       "\t<tr><th scope=row>AAACCCATCGGTCACG</th><td>12</td><td>8</td><td> 8</td><td> 5</td><td>482</td><td>6</td><td> 3</td><td>3</td><td> 5</td><td>14</td><td>⋯</td><td> 8</td><td>10</td><td> 3</td><td> 3</td><td>28</td><td>6</td><td> 3</td><td> 2</td><td>679</td><td>798</td></tr>\n",
       "\t<tr><th scope=row>AAACCCATCTGCATGA</th><td> 6</td><td>7</td><td>10</td><td> 4</td><td>  3</td><td>7</td><td> 3</td><td>7</td><td>14</td><td>16</td><td>⋯</td><td>11</td><td> 4</td><td>43</td><td> 2</td><td> 4</td><td>8</td><td> 4</td><td> 6</td><td>242</td><td>295</td></tr>\n",
       "</tbody>\n",
       "</table>\n"
      ],
      "text/latex": [
       "A data.frame: 6 × 26\n",
       "\\begin{tabular}{r|lllllllllllllllllllll}\n",
       "  & Bar1 & Bar2 & Bar3 & Bar4 & Bar5 & Bar6 & Bar7 & Bar8 & Bar9 & Bar10 & ⋯ & Bar17 & Bar18 & Bar19 & Bar20 & Bar21 & Bar22 & Bar23 & Bar24 & nUMI & nUMI\\_total\\\\\n",
       "  & <int> & <int> & <int> & <int> & <int> & <int> & <int> & <int> & <int> & <int> & ⋯ & <int> & <int> & <int> & <int> & <int> & <int> & <int> & <int> & <int> & <int>\\\\\n",
       "\\hline\n",
       "\tAAACCCAAGTGGAAAG &  7 & 4 &  4 & 10 &  12 & 3 &  6 & 4 & 10 & 12 & ⋯ & 23 &  7 &  2 &  4 &  4 & 7 &  8 & 21 & 214 & 251\\\\\n",
       "\tAAACCCACACTACTTT & 10 & 4 &  9 &  9 &   9 & 3 &  9 & 0 &  6 & 13 & ⋯ & 10 &  3 &  4 & 13 &  1 & 7 &  3 &  4 & 173 & 215\\\\\n",
       "\tAAACCCAGTAAGGCCA &  2 & 6 &  4 &  7 &   4 & 9 & 11 & 3 & 10 & 14 & ⋯ & 13 & 10 &  5 &  3 &  2 & 7 & 37 &  0 & 211 & 247\\\\\n",
       "\tAAACCCATCCACAGGC & 31 & 9 &  5 &  5 &   3 & 6 &  8 & 3 & 11 & 15 & ⋯ & 17 &  7 &  6 &  4 &  7 & 6 &  6 &  5 & 231 & 286\\\\\n",
       "\tAAACCCATCGGTCACG & 12 & 8 &  8 &  5 & 482 & 6 &  3 & 3 &  5 & 14 & ⋯ &  8 & 10 &  3 &  3 & 28 & 6 &  3 &  2 & 679 & 798\\\\\n",
       "\tAAACCCATCTGCATGA &  6 & 7 & 10 &  4 &   3 & 7 &  3 & 7 & 14 & 16 & ⋯ & 11 &  4 & 43 &  2 &  4 & 8 &  4 &  6 & 242 & 295\\\\\n",
       "\\end{tabular}\n"
      ],
      "text/markdown": [
       "\n",
       "A data.frame: 6 × 26\n",
       "\n",
       "| <!--/--> | Bar1 &lt;int&gt; | Bar2 &lt;int&gt; | Bar3 &lt;int&gt; | Bar4 &lt;int&gt; | Bar5 &lt;int&gt; | Bar6 &lt;int&gt; | Bar7 &lt;int&gt; | Bar8 &lt;int&gt; | Bar9 &lt;int&gt; | Bar10 &lt;int&gt; | ⋯ ⋯ | Bar17 &lt;int&gt; | Bar18 &lt;int&gt; | Bar19 &lt;int&gt; | Bar20 &lt;int&gt; | Bar21 &lt;int&gt; | Bar22 &lt;int&gt; | Bar23 &lt;int&gt; | Bar24 &lt;int&gt; | nUMI &lt;int&gt; | nUMI_total &lt;int&gt; |\n",
       "|---|---|---|---|---|---|---|---|---|---|---|---|---|---|---|---|---|---|---|---|---|---|\n",
       "| AAACCCAAGTGGAAAG |  7 | 4 |  4 | 10 |  12 | 3 |  6 | 4 | 10 | 12 | ⋯ | 23 |  7 |  2 |  4 |  4 | 7 |  8 | 21 | 214 | 251 |\n",
       "| AAACCCACACTACTTT | 10 | 4 |  9 |  9 |   9 | 3 |  9 | 0 |  6 | 13 | ⋯ | 10 |  3 |  4 | 13 |  1 | 7 |  3 |  4 | 173 | 215 |\n",
       "| AAACCCAGTAAGGCCA |  2 | 6 |  4 |  7 |   4 | 9 | 11 | 3 | 10 | 14 | ⋯ | 13 | 10 |  5 |  3 |  2 | 7 | 37 |  0 | 211 | 247 |\n",
       "| AAACCCATCCACAGGC | 31 | 9 |  5 |  5 |   3 | 6 |  8 | 3 | 11 | 15 | ⋯ | 17 |  7 |  6 |  4 |  7 | 6 |  6 |  5 | 231 | 286 |\n",
       "| AAACCCATCGGTCACG | 12 | 8 |  8 |  5 | 482 | 6 |  3 | 3 |  5 | 14 | ⋯ |  8 | 10 |  3 |  3 | 28 | 6 |  3 |  2 | 679 | 798 |\n",
       "| AAACCCATCTGCATGA |  6 | 7 | 10 |  4 |   3 | 7 |  3 | 7 | 14 | 16 | ⋯ | 11 |  4 | 43 |  2 |  4 | 8 |  4 |  6 | 242 | 295 |\n",
       "\n"
      ],
      "text/plain": [
       "                 Bar1 Bar2 Bar3 Bar4 Bar5 Bar6 Bar7 Bar8 Bar9 Bar10 ⋯ Bar17\n",
       "AAACCCAAGTGGAAAG  7   4     4   10    12  3     6   4    10   12    ⋯ 23   \n",
       "AAACCCACACTACTTT 10   4     9    9     9  3     9   0     6   13    ⋯ 10   \n",
       "AAACCCAGTAAGGCCA  2   6     4    7     4  9    11   3    10   14    ⋯ 13   \n",
       "AAACCCATCCACAGGC 31   9     5    5     3  6     8   3    11   15    ⋯ 17   \n",
       "AAACCCATCGGTCACG 12   8     8    5   482  6     3   3     5   14    ⋯  8   \n",
       "AAACCCATCTGCATGA  6   7    10    4     3  7     3   7    14   16    ⋯ 11   \n",
       "                 Bar18 Bar19 Bar20 Bar21 Bar22 Bar23 Bar24 nUMI nUMI_total\n",
       "AAACCCAAGTGGAAAG  7     2     4     4    7      8    21    214  251       \n",
       "AAACCCACACTACTTT  3     4    13     1    7      3     4    173  215       \n",
       "AAACCCAGTAAGGCCA 10     5     3     2    7     37     0    211  247       \n",
       "AAACCCATCCACAGGC  7     6     4     7    6      6     5    231  286       \n",
       "AAACCCATCGGTCACG 10     3     3    28    6      3     2    679  798       \n",
       "AAACCCATCTGCATGA  4    43     2     4    8      4     6    242  295       "
      ]
     },
     "metadata": {},
     "output_type": "display_data"
    },
    {
     "data": {
      "text/html": [
       "<style>\n",
       ".list-inline {list-style: none; margin:0; padding: 0}\n",
       ".list-inline>li {display: inline-block}\n",
       ".list-inline>li:not(:last-child)::after {content: \"\\00b7\"; padding: 0 .5ex}\n",
       "</style>\n",
       "<ol class=list-inline><li>9405</li><li>26</li></ol>\n"
      ],
      "text/latex": [
       "\\begin{enumerate*}\n",
       "\\item 9405\n",
       "\\item 26\n",
       "\\end{enumerate*}\n"
      ],
      "text/markdown": [
       "1. 9405\n",
       "2. 26\n",
       "\n",
       "\n"
      ],
      "text/plain": [
       "[1] 9405   26"
      ]
     },
     "metadata": {},
     "output_type": "display_data"
    }
   ],
   "source": [
    "head(bartable_96h)\n",
    "dim(bartable_96h)"
   ]
  },
  {
   "cell_type": "code",
   "execution_count": 5,
   "id": "8c81f2df-d5ba-4df8-83b5-6b57ff8ab6db",
   "metadata": {},
   "outputs": [],
   "source": [
    "x <- bartable_96h\n",
    "initial_cell_number <- nrow(bartable_96h)"
   ]
  },
  {
   "cell_type": "markdown",
   "id": "37b34569-e824-4d2c-b2a2-22a1b699e179",
   "metadata": {},
   "source": [
    "## demultiplexing: classification"
   ]
  },
  {
   "cell_type": "code",
   "execution_count": 6,
   "id": "0f2b7765-b87c-4450-8474-852bda5772bd",
   "metadata": {},
   "outputs": [
    {
     "name": "stderr",
     "output_type": "stream",
     "text": [
      "Loading required package: Rtsne\n",
      "\n"
     ]
    },
    {
     "name": "stdout",
     "output_type": "stream",
     "text": [
      "Performing PCA\n",
      "Read the 9405 x 24 data matrix successfully!\n",
      "OpenMP is working. 1 threads.\n",
      "Using no_dims = 2, perplexity = 30.000000, and theta = 0.500000\n",
      "Computing input similarities...\n",
      "Building tree...\n",
      "Done in 3.96 seconds (sparsity = 0.014758)!\n",
      "Learning embedding...\n",
      "Iteration 50: error is 94.934703 (50 iterations in 1.78 seconds)\n",
      "Iteration 100: error is 90.679339 (50 iterations in 1.80 seconds)\n",
      "Iteration 150: error is 87.295037 (50 iterations in 1.57 seconds)\n",
      "Iteration 200: error is 87.041712 (50 iterations in 1.55 seconds)\n",
      "Iteration 250: error is 86.944249 (50 iterations in 1.54 seconds)\n",
      "Iteration 300: error is 3.042258 (50 iterations in 1.47 seconds)\n",
      "Iteration 350: error is 2.703091 (50 iterations in 1.40 seconds)\n",
      "Iteration 400: error is 2.533070 (50 iterations in 1.37 seconds)\n",
      "Iteration 450: error is 2.427649 (50 iterations in 1.36 seconds)\n",
      "Iteration 500: error is 2.355692 (50 iterations in 1.37 seconds)\n",
      "Iteration 550: error is 2.303701 (50 iterations in 1.37 seconds)\n",
      "Iteration 600: error is 2.263053 (50 iterations in 1.39 seconds)\n",
      "Iteration 650: error is 2.231451 (50 iterations in 1.39 seconds)\n",
      "Iteration 700: error is 2.208398 (50 iterations in 1.40 seconds)\n",
      "Iteration 750: error is 2.190384 (50 iterations in 1.40 seconds)\n",
      "Iteration 800: error is 2.177447 (50 iterations in 1.40 seconds)\n",
      "Iteration 850: error is 2.168363 (50 iterations in 1.41 seconds)\n",
      "Iteration 900: error is 2.162532 (50 iterations in 1.42 seconds)\n",
      "Iteration 950: error is 2.157199 (50 iterations in 1.43 seconds)\n",
      "Iteration 1000: error is 2.152419 (50 iterations in 1.43 seconds)\n",
      "Iteration 1050: error is 2.147987 (50 iterations in 1.43 seconds)\n",
      "Iteration 1100: error is 2.144260 (50 iterations in 1.42 seconds)\n",
      "Iteration 1150: error is 2.140342 (50 iterations in 1.42 seconds)\n",
      "Iteration 1200: error is 2.136319 (50 iterations in 1.42 seconds)\n",
      "Iteration 1250: error is 2.132342 (50 iterations in 1.42 seconds)\n",
      "Iteration 1300: error is 2.128742 (50 iterations in 1.42 seconds)\n",
      "Iteration 1350: error is 2.125057 (50 iterations in 1.43 seconds)\n",
      "Iteration 1400: error is 2.121545 (50 iterations in 1.43 seconds)\n",
      "Iteration 1450: error is 2.118370 (50 iterations in 1.43 seconds)\n",
      "Iteration 1500: error is 2.115379 (50 iterations in 1.43 seconds)\n",
      "Iteration 1550: error is 2.112680 (50 iterations in 1.43 seconds)\n",
      "Iteration 1600: error is 2.110036 (50 iterations in 1.43 seconds)\n",
      "Iteration 1650: error is 2.107257 (50 iterations in 1.43 seconds)\n",
      "Iteration 1700: error is 2.104995 (50 iterations in 1.43 seconds)\n",
      "Iteration 1750: error is 2.102517 (50 iterations in 1.43 seconds)\n",
      "Iteration 1800: error is 2.100255 (50 iterations in 1.42 seconds)\n",
      "Iteration 1850: error is 2.098727 (50 iterations in 1.43 seconds)\n",
      "Iteration 1900: error is 2.097167 (50 iterations in 1.43 seconds)\n",
      "Iteration 1950: error is 2.095570 (50 iterations in 1.43 seconds)\n",
      "Iteration 2000: error is 2.093770 (50 iterations in 1.43 seconds)\n",
      "Iteration 2050: error is 2.092278 (50 iterations in 1.43 seconds)\n",
      "Iteration 2100: error is 2.090921 (50 iterations in 1.44 seconds)\n",
      "Iteration 2150: error is 2.089453 (50 iterations in 1.43 seconds)\n",
      "Iteration 2200: error is 2.088015 (50 iterations in 1.43 seconds)\n",
      "Iteration 2250: error is 2.086784 (50 iterations in 1.43 seconds)\n",
      "Iteration 2300: error is 2.085479 (50 iterations in 1.44 seconds)\n",
      "Iteration 2350: error is 2.084154 (50 iterations in 1.44 seconds)\n",
      "Iteration 2400: error is 2.083003 (50 iterations in 1.43 seconds)\n",
      "Iteration 2450: error is 2.082173 (50 iterations in 1.43 seconds)\n",
      "Iteration 2500: error is 2.080970 (50 iterations in 1.42 seconds)\n",
      "Fitting performed in 72.09 seconds.\n"
     ]
    },
    {
     "data": {
      "text/html": [
       "<strong>png:</strong> 2"
      ],
      "text/latex": [
       "\\textbf{png:} 2"
      ],
      "text/markdown": [
       "**png:** 2"
      ],
      "text/plain": [
       "png \n",
       "  2 "
      ]
     },
     "metadata": {},
     "output_type": "display_data"
    }
   ],
   "source": [
    "## Visualize barcode space\n",
    "bar.tsne <- barTSNE(x[,1:24]) # number of barcodes and not columns !!\n",
    "## Note: Exclude columns 97:98 (assuming 96 barcodes were used) which provide total barcode UMI counts for each cell. \n",
    "\n",
    "pdf(\"./outputs/MULTIseq/96h_bc.check.pdf\")\n",
    "for (i in 3:ncol(bar.tsne)) {\n",
    "  g <- ggplot(bar.tsne, aes(x = TSNE1, y = TSNE2, color = bar.tsne[,i])) +\n",
    "    geom_point() +\n",
    "    scale_color_gradient(low = \"black\", high = \"red\") +\n",
    "    ggtitle(colnames(bar.tsne)[i]) +\n",
    "    theme(legend.position = \"none\") \n",
    "  print(g)\n",
    "}\n",
    "dev.off()\n"
   ]
  },
  {
   "cell_type": "code",
   "execution_count": 7,
   "id": "a4b0a1ba-85b0-41a9-ae71-ada27a30c6e1",
   "metadata": {},
   "outputs": [
    {
     "name": "stdout",
     "output_type": "stream",
     "text": [
      "[1] 0.01\n"
     ]
    },
    {
     "name": "stderr",
     "output_type": "stream",
     "text": [
      "Loading required package: KernSmooth\n",
      "\n",
      "KernSmooth 2.23 loaded\n",
      "Copyright M. P. Wand 1997-2009\n",
      "\n"
     ]
    },
    {
     "name": "stdout",
     "output_type": "stream",
     "text": [
      "[1] 0.03\n",
      "[1] 0.05\n",
      "[1] 0.07\n",
      "[1] 0.09\n",
      "[1] 0.11\n",
      "[1] 0.13\n",
      "[1] 0.15\n",
      "[1] 0.17\n",
      "[1] 0.19\n",
      "[1] 0.21\n",
      "[1] 0.23\n",
      "[1] 0.25\n",
      "[1] 0.27\n",
      "[1] 0.29\n",
      "[1] 0.31\n",
      "[1] 0.33\n",
      "[1] 0.35\n",
      "[1] 0.37\n",
      "[1] 0.39\n",
      "[1] 0.41\n",
      "[1] 0.43\n",
      "[1] 0.45\n",
      "[1] 0.47\n",
      "[1] 0.49\n",
      "[1] 0.51\n",
      "[1] 0.53\n",
      "[1] 0.55\n",
      "[1] 0.57\n",
      "[1] 0.59\n",
      "[1] 0.61\n",
      "[1] 0.63\n",
      "[1] 0.65\n",
      "[1] 0.67\n",
      "[1] 0.69\n",
      "[1] 0.71\n",
      "[1] 0.73\n",
      "[1] 0.75\n",
      "[1] 0.77\n",
      "[1] 0.79\n",
      "[1] 0.81\n",
      "[1] 0.83\n",
      "[1] 0.85\n",
      "[1] 0.87\n",
      "[1] 0.89\n",
      "[1] 0.91\n",
      "[1] 0.93\n",
      "[1] 0.95\n",
      "[1] 0.97\n",
      "[1] 0.99\n"
     ]
    },
    {
     "name": "stderr",
     "output_type": "stream",
     "text": [
      "Loading required package: reshape2\n",
      "\n"
     ]
    },
    {
     "data": {
      "image/png": "[encoded data removed]",
      "text/plain": [
       "plot without title"
      ]
     },
     "metadata": {
      "image/png": {
       "height": 420,
       "width": 420
      }
     },
     "output_type": "display_data"
    }
   ],
   "source": [
    "# Sample classification\n",
    "## Round 1 -----------------------------------------------------------------------------------------------------\n",
    "## Perform Quantile Sweep\n",
    "bar.table.full <- x[,1:24]\n",
    "good.bars <- paste(\"Bar\",1:24,sep=\"\")  # NOTE: In this hypothetical example, barcodes 91-96 were not detected\n",
    "bar.table <- bar.table.full[, good.bars]  # Remove missing bars and summary columns\n",
    "bar.table_sweep.list <- list()\n",
    "n <- 0\n",
    "for (q in seq(0.01, 0.99, by=0.02)) {\n",
    "  print(q)\n",
    "  n <- n + 1\n",
    "  bar.table_sweep.list[[n]] <- classifyCells(bar.table, q=q)\n",
    "  names(bar.table_sweep.list)[n] <- paste(\"q=\",q,sep=\"\")\n",
    "}\n",
    "\n",
    "## Identify ideal inter-maxima quantile to set barcode-specific thresholds\n",
    "threshold.results1 <- findThresh(call.list=bar.table_sweep.list)\n",
    "ggplot(data=threshold.results1$res, aes(x=q, y=Proportion, color=Subset)) + geom_line() + theme(legend.position = \"none\") +\n",
    "  geom_vline(xintercept=threshold.results1$extrema, lty=2) + scale_color_manual(values=c(\"red\",\"black\",\"blue\"))\n",
    "\n",
    "## Finalize round 1 classifications, remove negative cells\n",
    "round1.calls <- classifyCells(bar.table, q=findQ(threshold.results1$res, threshold.results1$extrema))\n",
    "neg.cells <- names(round1.calls)[which(round1.calls == \"Negative\")]\n",
    "bar.table <- bar.table[-which(rownames(bar.table) %in% neg.cells), ]\n"
   ]
  },
  {
   "cell_type": "code",
   "execution_count": 8,
   "id": "9d7a992a-c81c-4dd3-9077-a9091830a96d",
   "metadata": {},
   "outputs": [
    {
     "data": {
      "text/plain": [
       "round1.calls\n",
       "    Bar1    Bar10    Bar11    Bar12    Bar13    Bar14    Bar15    Bar16 \n",
       "     337      259      274      266      278      198      276      363 \n",
       "   Bar17    Bar18    Bar19     Bar2    Bar20    Bar21    Bar22    Bar23 \n",
       "     290      165      203      227      213      185      219      273 \n",
       "   Bar24     Bar3     Bar4     Bar5     Bar6     Bar7     Bar8     Bar9 \n",
       "     298      184      203      286      215      165      212      327 \n",
       " Doublet Negative \n",
       "    1459     2030 "
      ]
     },
     "metadata": {},
     "output_type": "display_data"
    },
    {
     "data": {
      "text/html": [
       "9405"
      ],
      "text/latex": [
       "9405"
      ],
      "text/markdown": [
       "9405"
      ],
      "text/plain": [
       "[1] 9405"
      ]
     },
     "metadata": {},
     "output_type": "display_data"
    }
   ],
   "source": [
    "table(round1.calls)\n",
    "length(round1.calls)"
   ]
  },
  {
   "cell_type": "code",
   "execution_count": 9,
   "id": "bb3ebcc9-631d-4103-b556-67b59556f92d",
   "metadata": {},
   "outputs": [
    {
     "name": "stdout",
     "output_type": "stream",
     "text": [
      "[1] 0.01\n",
      "[1] 0.03\n",
      "[1] 0.05\n",
      "[1] 0.07\n",
      "[1] 0.09\n",
      "[1] 0.11\n",
      "[1] 0.13\n",
      "[1] 0.15\n",
      "[1] 0.17\n",
      "[1] 0.19\n",
      "[1] 0.21\n",
      "[1] 0.23\n",
      "[1] 0.25\n",
      "[1] 0.27\n",
      "[1] 0.29\n",
      "[1] 0.31\n",
      "[1] 0.33\n",
      "[1] 0.35\n",
      "[1] 0.37\n",
      "[1] 0.39\n",
      "[1] 0.41\n",
      "[1] 0.43\n",
      "[1] 0.45\n",
      "[1] 0.47\n",
      "[1] 0.49\n",
      "[1] 0.51\n",
      "[1] 0.53\n",
      "[1] 0.55\n",
      "[1] 0.57\n",
      "[1] 0.59\n",
      "[1] 0.61\n",
      "[1] 0.63\n",
      "[1] 0.65\n",
      "[1] 0.67\n",
      "[1] 0.69\n",
      "[1] 0.71\n",
      "[1] 0.73\n",
      "[1] 0.75\n",
      "[1] 0.77\n",
      "[1] 0.79\n",
      "[1] 0.81\n",
      "[1] 0.83\n",
      "[1] 0.85\n",
      "[1] 0.87\n",
      "[1] 0.89\n",
      "[1] 0.91\n",
      "[1] 0.93\n",
      "[1] 0.95\n",
      "[1] 0.97\n",
      "[1] 0.99\n"
     ]
    }
   ],
   "source": [
    "## Round 2 -----------------------------------------------------------------------------------------------------\n",
    "bar.table_sweep.list <- list()\n",
    "n <- 0\n",
    "for (q in seq(0.01, 0.99, by=0.02)) {\n",
    "  print(q)\n",
    "  n <- n + 1\n",
    "  bar.table_sweep.list[[n]] <- classifyCells(bar.table, q=q)\n",
    "  names(bar.table_sweep.list)[n] <- paste(\"q=\",q,sep=\"\")\n",
    "}\n",
    "\n",
    "threshold.results2 <- findThresh(call.list=bar.table_sweep.list)\n",
    "round2.calls <- classifyCells(bar.table, q=findQ(threshold.results2$res, threshold.results2$extrema))\n",
    "neg.cells <- c(neg.cells, names(round2.calls)[which(round2.calls == \"Negative\")])"
   ]
  },
  {
   "cell_type": "code",
   "execution_count": 10,
   "id": "c9891b87-ef8e-4f54-a126-9c28839e0d95",
   "metadata": {},
   "outputs": [
    {
     "data": {
      "text/html": [
       "2069"
      ],
      "text/latex": [
       "2069"
      ],
      "text/markdown": [
       "2069"
      ],
      "text/plain": [
       "[1] 2069"
      ]
     },
     "metadata": {},
     "output_type": "display_data"
    },
    {
     "data": {
      "text/plain": [
       "round2.calls\n",
       "    Bar1    Bar10    Bar11    Bar12    Bar13    Bar14    Bar15    Bar16 \n",
       "     329      258      277      261      275      197      275      361 \n",
       "   Bar17    Bar18    Bar19     Bar2    Bar20    Bar21    Bar22    Bar23 \n",
       "     288      167      197      222      214      182      220      273 \n",
       "   Bar24     Bar3     Bar4     Bar5     Bar6     Bar7     Bar8     Bar9 \n",
       "     297      183      202      283      215      160      211      327 \n",
       " Doublet Negative \n",
       "    1462       39 "
      ]
     },
     "metadata": {},
     "output_type": "display_data"
    },
    {
     "data": {
      "text/html": [
       "7375"
      ],
      "text/latex": [
       "7375"
      ],
      "text/markdown": [
       "7375"
      ],
      "text/plain": [
       "[1] 7375"
      ]
     },
     "metadata": {},
     "output_type": "display_data"
    }
   ],
   "source": [
    "length(neg.cells)\n",
    "\n",
    "table(round2.calls)\n",
    "length(round2.calls)"
   ]
  },
  {
   "cell_type": "code",
   "execution_count": 11,
   "id": "e9826bce-50c0-44e5-846f-38ea0cd861dc",
   "metadata": {},
   "outputs": [
    {
     "name": "stdout",
     "output_type": "stream",
     "text": [
      "[1] 0.01\n",
      "[1] 0.03\n",
      "[1] 0.05\n",
      "[1] 0.07\n",
      "[1] 0.09\n",
      "[1] 0.11\n",
      "[1] 0.13\n",
      "[1] 0.15\n",
      "[1] 0.17\n",
      "[1] 0.19\n",
      "[1] 0.21\n",
      "[1] 0.23\n",
      "[1] 0.25\n",
      "[1] 0.27\n",
      "[1] 0.29\n",
      "[1] 0.31\n",
      "[1] 0.33\n",
      "[1] 0.35\n",
      "[1] 0.37\n",
      "[1] 0.39\n",
      "[1] 0.41\n",
      "[1] 0.43\n",
      "[1] 0.45\n",
      "[1] 0.47\n",
      "[1] 0.49\n",
      "[1] 0.51\n",
      "[1] 0.53\n",
      "[1] 0.55\n",
      "[1] 0.57\n",
      "[1] 0.59\n",
      "[1] 0.61\n",
      "[1] 0.63\n",
      "[1] 0.65\n",
      "[1] 0.67\n",
      "[1] 0.69\n",
      "[1] 0.71\n",
      "[1] 0.73\n",
      "[1] 0.75\n",
      "[1] 0.77\n",
      "[1] 0.79\n",
      "[1] 0.81\n",
      "[1] 0.83\n",
      "[1] 0.85\n",
      "[1] 0.87\n",
      "[1] 0.89\n",
      "[1] 0.91\n",
      "[1] 0.93\n",
      "[1] 0.95\n",
      "[1] 0.97\n",
      "[1] 0.99\n"
     ]
    }
   ],
   "source": [
    "## Round 3 -----------------------------------------------------------------------------------------------------\n",
    "bar.table_sweep.list <- list()\n",
    "n <- 0\n",
    "for (q in seq(0.01, 0.99, by=0.02)) {\n",
    "  print(q)\n",
    "  n <- n + 1\n",
    "  bar.table_sweep.list[[n]] <- classifyCells(bar.table, q=q)\n",
    "  names(bar.table_sweep.list)[n] <- paste(\"q=\",q,sep=\"\")\n",
    "}\n",
    "\n",
    "threshold.results3 <- findThresh(call.list=bar.table_sweep.list)\n",
    "round3.calls <- classifyCells(bar.table, q=findQ(threshold.results3$res, threshold.results3$extrema))\n",
    "neg.cells <- c(neg.cells, names(round3.calls)[which(round3.calls == \"Negative\")])"
   ]
  },
  {
   "cell_type": "code",
   "execution_count": 12,
   "id": "4758245b-0531-4862-9e91-7a7c31da64ec",
   "metadata": {},
   "outputs": [
    {
     "data": {
      "text/html": [
       "2108"
      ],
      "text/latex": [
       "2108"
      ],
      "text/markdown": [
       "2108"
      ],
      "text/plain": [
       "[1] 2108"
      ]
     },
     "metadata": {},
     "output_type": "display_data"
    },
    {
     "data": {
      "text/plain": [
       "round3.calls\n",
       "    Bar1    Bar10    Bar11    Bar12    Bar13    Bar14    Bar15    Bar16 \n",
       "     329      258      277      261      275      197      275      361 \n",
       "   Bar17    Bar18    Bar19     Bar2    Bar20    Bar21    Bar22    Bar23 \n",
       "     288      167      197      222      214      182      220      273 \n",
       "   Bar24     Bar3     Bar4     Bar5     Bar6     Bar7     Bar8     Bar9 \n",
       "     297      183      202      283      215      160      211      327 \n",
       " Doublet Negative \n",
       "    1462       39 "
      ]
     },
     "metadata": {},
     "output_type": "display_data"
    },
    {
     "data": {
      "text/html": [
       "7375"
      ],
      "text/latex": [
       "7375"
      ],
      "text/markdown": [
       "7375"
      ],
      "text/plain": [
       "[1] 7375"
      ]
     },
     "metadata": {},
     "output_type": "display_data"
    }
   ],
   "source": [
    "length(neg.cells)\n",
    "\n",
    "table(round3.calls)\n",
    "length(round3.calls)"
   ]
  },
  {
   "cell_type": "code",
   "execution_count": 13,
   "id": "4a9b6ae1-5392-4258-acb2-253bee0b2dc1",
   "metadata": {},
   "outputs": [],
   "source": [
    "## Repeat until all no negative cells remain (usually 3 rounds)...\n",
    "final.calls <- c(round3.calls, rep(\"Negative\",length(neg.cells)))\n",
    "names(final.calls) <- c(names(round3.calls),neg.cells)"
   ]
  },
  {
   "cell_type": "code",
   "execution_count": 14,
   "id": "6940e704-1c8e-4fb8-b83e-7bc72b65ab1d",
   "metadata": {},
   "outputs": [
    {
     "data": {
      "text/html": [
       "<table class=\"dataframe\">\n",
       "<caption>A data.frame: 6 × 24</caption>\n",
       "<thead>\n",
       "\t<tr><th></th><th scope=col>Bar1</th><th scope=col>Bar2</th><th scope=col>Bar3</th><th scope=col>Bar4</th><th scope=col>Bar5</th><th scope=col>Bar6</th><th scope=col>Bar7</th><th scope=col>Bar8</th><th scope=col>Bar9</th><th scope=col>Bar10</th><th scope=col>⋯</th><th scope=col>Bar15</th><th scope=col>Bar16</th><th scope=col>Bar17</th><th scope=col>Bar18</th><th scope=col>Bar19</th><th scope=col>Bar20</th><th scope=col>Bar21</th><th scope=col>Bar22</th><th scope=col>Bar23</th><th scope=col>Bar24</th></tr>\n",
       "\t<tr><th></th><th scope=col>&lt;int&gt;</th><th scope=col>&lt;int&gt;</th><th scope=col>&lt;int&gt;</th><th scope=col>&lt;int&gt;</th><th scope=col>&lt;int&gt;</th><th scope=col>&lt;int&gt;</th><th scope=col>&lt;int&gt;</th><th scope=col>&lt;int&gt;</th><th scope=col>&lt;int&gt;</th><th scope=col>&lt;int&gt;</th><th scope=col>⋯</th><th scope=col>&lt;int&gt;</th><th scope=col>&lt;int&gt;</th><th scope=col>&lt;int&gt;</th><th scope=col>&lt;int&gt;</th><th scope=col>&lt;int&gt;</th><th scope=col>&lt;int&gt;</th><th scope=col>&lt;int&gt;</th><th scope=col>&lt;int&gt;</th><th scope=col>&lt;int&gt;</th><th scope=col>&lt;int&gt;</th></tr>\n",
       "</thead>\n",
       "<tbody>\n",
       "\t<tr><th scope=row>AAACCCAGTAAGGCCA</th><td>  2</td><td>6</td><td> 4</td><td> 7</td><td>  4</td><td>9</td><td>11</td><td>3</td><td>10</td><td>14</td><td>⋯</td><td> 8</td><td>18</td><td> 13</td><td> 10</td><td> 5</td><td>3</td><td> 2</td><td> 7</td><td>37</td><td>0</td></tr>\n",
       "\t<tr><th scope=row>AAACCCATCGGTCACG</th><td> 12</td><td>8</td><td> 8</td><td> 5</td><td>482</td><td>6</td><td> 3</td><td>3</td><td> 5</td><td>14</td><td>⋯</td><td>10</td><td>27</td><td>  8</td><td> 10</td><td> 3</td><td>3</td><td>28</td><td> 6</td><td> 3</td><td>2</td></tr>\n",
       "\t<tr><th scope=row>AAACCCATCTGCATGA</th><td>  6</td><td>7</td><td>10</td><td> 4</td><td>  3</td><td>7</td><td> 3</td><td>7</td><td>14</td><td>16</td><td>⋯</td><td>11</td><td>33</td><td> 11</td><td>  4</td><td>43</td><td>2</td><td> 4</td><td> 8</td><td> 4</td><td>6</td></tr>\n",
       "\t<tr><th scope=row>AAACGAAAGCCTATCA</th><td>224</td><td>1</td><td> 3</td><td>38</td><td>  8</td><td>4</td><td> 3</td><td>6</td><td>14</td><td>16</td><td>⋯</td><td> 9</td><td>16</td><td> 17</td><td> 10</td><td> 4</td><td>3</td><td> 3</td><td> 6</td><td> 6</td><td>9</td></tr>\n",
       "\t<tr><th scope=row>AAACGAAAGGAAGAAC</th><td>  5</td><td>2</td><td> 5</td><td> 2</td><td>  6</td><td>3</td><td> 2</td><td>3</td><td> 9</td><td> 7</td><td>⋯</td><td> 8</td><td>19</td><td>  8</td><td>441</td><td> 3</td><td>5</td><td> 1</td><td>11</td><td> 2</td><td>2</td></tr>\n",
       "\t<tr><th scope=row>AAACGAACAATACGAA</th><td>  9</td><td>3</td><td> 5</td><td> 7</td><td>  3</td><td>8</td><td>11</td><td>3</td><td> 7</td><td> 7</td><td>⋯</td><td> 8</td><td>21</td><td>606</td><td>  4</td><td> 5</td><td>5</td><td> 3</td><td> 6</td><td> 6</td><td>9</td></tr>\n",
       "</tbody>\n",
       "</table>\n"
      ],
      "text/latex": [
       "A data.frame: 6 × 24\n",
       "\\begin{tabular}{r|lllllllllllllllllllll}\n",
       "  & Bar1 & Bar2 & Bar3 & Bar4 & Bar5 & Bar6 & Bar7 & Bar8 & Bar9 & Bar10 & ⋯ & Bar15 & Bar16 & Bar17 & Bar18 & Bar19 & Bar20 & Bar21 & Bar22 & Bar23 & Bar24\\\\\n",
       "  & <int> & <int> & <int> & <int> & <int> & <int> & <int> & <int> & <int> & <int> & ⋯ & <int> & <int> & <int> & <int> & <int> & <int> & <int> & <int> & <int> & <int>\\\\\n",
       "\\hline\n",
       "\tAAACCCAGTAAGGCCA &   2 & 6 &  4 &  7 &   4 & 9 & 11 & 3 & 10 & 14 & ⋯ &  8 & 18 &  13 &  10 &  5 & 3 &  2 &  7 & 37 & 0\\\\\n",
       "\tAAACCCATCGGTCACG &  12 & 8 &  8 &  5 & 482 & 6 &  3 & 3 &  5 & 14 & ⋯ & 10 & 27 &   8 &  10 &  3 & 3 & 28 &  6 &  3 & 2\\\\\n",
       "\tAAACCCATCTGCATGA &   6 & 7 & 10 &  4 &   3 & 7 &  3 & 7 & 14 & 16 & ⋯ & 11 & 33 &  11 &   4 & 43 & 2 &  4 &  8 &  4 & 6\\\\\n",
       "\tAAACGAAAGCCTATCA & 224 & 1 &  3 & 38 &   8 & 4 &  3 & 6 & 14 & 16 & ⋯ &  9 & 16 &  17 &  10 &  4 & 3 &  3 &  6 &  6 & 9\\\\\n",
       "\tAAACGAAAGGAAGAAC &   5 & 2 &  5 &  2 &   6 & 3 &  2 & 3 &  9 &  7 & ⋯ &  8 & 19 &   8 & 441 &  3 & 5 &  1 & 11 &  2 & 2\\\\\n",
       "\tAAACGAACAATACGAA &   9 & 3 &  5 &  7 &   3 & 8 & 11 & 3 &  7 &  7 & ⋯ &  8 & 21 & 606 &   4 &  5 & 5 &  3 &  6 &  6 & 9\\\\\n",
       "\\end{tabular}\n"
      ],
      "text/markdown": [
       "\n",
       "A data.frame: 6 × 24\n",
       "\n",
       "| <!--/--> | Bar1 &lt;int&gt; | Bar2 &lt;int&gt; | Bar3 &lt;int&gt; | Bar4 &lt;int&gt; | Bar5 &lt;int&gt; | Bar6 &lt;int&gt; | Bar7 &lt;int&gt; | Bar8 &lt;int&gt; | Bar9 &lt;int&gt; | Bar10 &lt;int&gt; | ⋯ ⋯ | Bar15 &lt;int&gt; | Bar16 &lt;int&gt; | Bar17 &lt;int&gt; | Bar18 &lt;int&gt; | Bar19 &lt;int&gt; | Bar20 &lt;int&gt; | Bar21 &lt;int&gt; | Bar22 &lt;int&gt; | Bar23 &lt;int&gt; | Bar24 &lt;int&gt; |\n",
       "|---|---|---|---|---|---|---|---|---|---|---|---|---|---|---|---|---|---|---|---|---|---|\n",
       "| AAACCCAGTAAGGCCA |   2 | 6 |  4 |  7 |   4 | 9 | 11 | 3 | 10 | 14 | ⋯ |  8 | 18 |  13 |  10 |  5 | 3 |  2 |  7 | 37 | 0 |\n",
       "| AAACCCATCGGTCACG |  12 | 8 |  8 |  5 | 482 | 6 |  3 | 3 |  5 | 14 | ⋯ | 10 | 27 |   8 |  10 |  3 | 3 | 28 |  6 |  3 | 2 |\n",
       "| AAACCCATCTGCATGA |   6 | 7 | 10 |  4 |   3 | 7 |  3 | 7 | 14 | 16 | ⋯ | 11 | 33 |  11 |   4 | 43 | 2 |  4 |  8 |  4 | 6 |\n",
       "| AAACGAAAGCCTATCA | 224 | 1 |  3 | 38 |   8 | 4 |  3 | 6 | 14 | 16 | ⋯ |  9 | 16 |  17 |  10 |  4 | 3 |  3 |  6 |  6 | 9 |\n",
       "| AAACGAAAGGAAGAAC |   5 | 2 |  5 |  2 |   6 | 3 |  2 | 3 |  9 |  7 | ⋯ |  8 | 19 |   8 | 441 |  3 | 5 |  1 | 11 |  2 | 2 |\n",
       "| AAACGAACAATACGAA |   9 | 3 |  5 |  7 |   3 | 8 | 11 | 3 |  7 |  7 | ⋯ |  8 | 21 | 606 |   4 |  5 | 5 |  3 |  6 |  6 | 9 |\n",
       "\n"
      ],
      "text/plain": [
       "                 Bar1 Bar2 Bar3 Bar4 Bar5 Bar6 Bar7 Bar8 Bar9 Bar10 ⋯ Bar15\n",
       "AAACCCAGTAAGGCCA   2  6     4    7     4  9    11   3    10   14    ⋯  8   \n",
       "AAACCCATCGGTCACG  12  8     8    5   482  6     3   3     5   14    ⋯ 10   \n",
       "AAACCCATCTGCATGA   6  7    10    4     3  7     3   7    14   16    ⋯ 11   \n",
       "AAACGAAAGCCTATCA 224  1     3   38     8  4     3   6    14   16    ⋯  9   \n",
       "AAACGAAAGGAAGAAC   5  2     5    2     6  3     2   3     9    7    ⋯  8   \n",
       "AAACGAACAATACGAA   9  3     5    7     3  8    11   3     7    7    ⋯  8   \n",
       "                 Bar16 Bar17 Bar18 Bar19 Bar20 Bar21 Bar22 Bar23 Bar24\n",
       "AAACCCAGTAAGGCCA 18     13    10    5    3      2     7    37    0    \n",
       "AAACCCATCGGTCACG 27      8    10    3    3     28     6     3    2    \n",
       "AAACCCATCTGCATGA 33     11     4   43    2      4     8     4    6    \n",
       "AAACGAAAGCCTATCA 16     17    10    4    3      3     6     6    9    \n",
       "AAACGAAAGGAAGAAC 19      8   441    3    5      1    11     2    2    \n",
       "AAACGAACAATACGAA 21    606     4    5    5      3     6     6    9    "
      ]
     },
     "metadata": {},
     "output_type": "display_data"
    },
    {
     "data": {
      "text/html": [
       "<style>\n",
       ".list-inline {list-style: none; margin:0; padding: 0}\n",
       ".list-inline>li {display: inline-block}\n",
       ".list-inline>li:not(:last-child)::after {content: \"\\00b7\"; padding: 0 .5ex}\n",
       "</style>\n",
       "<ol class=list-inline><li>7375</li><li>24</li></ol>\n"
      ],
      "text/latex": [
       "\\begin{enumerate*}\n",
       "\\item 7375\n",
       "\\item 24\n",
       "\\end{enumerate*}\n"
      ],
      "text/markdown": [
       "1. 7375\n",
       "2. 24\n",
       "\n",
       "\n"
      ],
      "text/plain": [
       "[1] 7375   24"
      ]
     },
     "metadata": {},
     "output_type": "display_data"
    }
   ],
   "source": [
    "head(bar.table)\n",
    "dim(bar.table)"
   ]
  },
  {
   "cell_type": "code",
   "execution_count": 15,
   "id": "f719431b-fcfd-44ee-ad57-0efb19fdf192",
   "metadata": {},
   "outputs": [
    {
     "name": "stdout",
     "output_type": "stream",
     "text": [
      "Performing PCA\n",
      "Read the 7375 x 24 data matrix successfully!\n",
      "OpenMP is working. 1 threads.\n",
      "Using no_dims = 2, perplexity = 30.000000, and theta = 0.500000\n",
      "Computing input similarities...\n",
      "Building tree...\n",
      "Done in 2.63 seconds (sparsity = 0.017792)!\n",
      "Learning embedding...\n",
      "Iteration 50: error is 92.352855 (50 iterations in 1.41 seconds)\n",
      "Iteration 100: error is 80.921995 (50 iterations in 1.35 seconds)\n",
      "Iteration 150: error is 75.008793 (50 iterations in 1.32 seconds)\n",
      "Iteration 200: error is 72.702188 (50 iterations in 1.36 seconds)\n",
      "Iteration 250: error is 71.472652 (50 iterations in 1.41 seconds)\n",
      "Iteration 300: error is 2.493691 (50 iterations in 1.27 seconds)\n",
      "Iteration 350: error is 2.175956 (50 iterations in 1.12 seconds)\n",
      "Iteration 400: error is 2.015345 (50 iterations in 1.10 seconds)\n",
      "Iteration 450: error is 1.915161 (50 iterations in 1.10 seconds)\n",
      "Iteration 500: error is 1.847683 (50 iterations in 1.11 seconds)\n",
      "Iteration 550: error is 1.799565 (50 iterations in 1.12 seconds)\n",
      "Iteration 600: error is 1.765247 (50 iterations in 1.13 seconds)\n",
      "Iteration 650: error is 1.739230 (50 iterations in 1.13 seconds)\n",
      "Iteration 700: error is 1.720481 (50 iterations in 1.13 seconds)\n",
      "Iteration 750: error is 1.708577 (50 iterations in 1.13 seconds)\n",
      "Iteration 800: error is 1.700522 (50 iterations in 1.13 seconds)\n",
      "Iteration 850: error is 1.694798 (50 iterations in 1.13 seconds)\n",
      "Iteration 900: error is 1.689807 (50 iterations in 1.14 seconds)\n",
      "Iteration 950: error is 1.684665 (50 iterations in 1.14 seconds)\n",
      "Iteration 1000: error is 1.679538 (50 iterations in 1.14 seconds)\n",
      "Iteration 1050: error is 1.674348 (50 iterations in 1.15 seconds)\n",
      "Iteration 1100: error is 1.669593 (50 iterations in 1.16 seconds)\n",
      "Iteration 1150: error is 1.665273 (50 iterations in 1.16 seconds)\n",
      "Iteration 1200: error is 1.661245 (50 iterations in 1.17 seconds)\n",
      "Iteration 1250: error is 1.657205 (50 iterations in 1.17 seconds)\n",
      "Iteration 1300: error is 1.653152 (50 iterations in 1.16 seconds)\n",
      "Iteration 1350: error is 1.649353 (50 iterations in 1.17 seconds)\n",
      "Iteration 1400: error is 1.645782 (50 iterations in 1.17 seconds)\n",
      "Iteration 1450: error is 1.642528 (50 iterations in 1.17 seconds)\n",
      "Iteration 1500: error is 1.639880 (50 iterations in 1.17 seconds)\n",
      "Iteration 1550: error is 1.637630 (50 iterations in 1.18 seconds)\n",
      "Iteration 1600: error is 1.636064 (50 iterations in 1.18 seconds)\n",
      "Iteration 1650: error is 1.634245 (50 iterations in 1.18 seconds)\n",
      "Iteration 1700: error is 1.632387 (50 iterations in 1.18 seconds)\n",
      "Iteration 1750: error is 1.630492 (50 iterations in 1.18 seconds)\n",
      "Iteration 1800: error is 1.628698 (50 iterations in 1.18 seconds)\n",
      "Iteration 1850: error is 1.626486 (50 iterations in 1.18 seconds)\n",
      "Iteration 1900: error is 1.624428 (50 iterations in 1.18 seconds)\n",
      "Iteration 1950: error is 1.622713 (50 iterations in 1.18 seconds)\n",
      "Iteration 2000: error is 1.621125 (50 iterations in 1.18 seconds)\n",
      "Iteration 2050: error is 1.619929 (50 iterations in 1.18 seconds)\n",
      "Iteration 2100: error is 1.618753 (50 iterations in 1.18 seconds)\n",
      "Iteration 2150: error is 1.617701 (50 iterations in 1.18 seconds)\n",
      "Iteration 2200: error is 1.616806 (50 iterations in 1.19 seconds)\n",
      "Iteration 2250: error is 1.615842 (50 iterations in 1.19 seconds)\n",
      "Iteration 2300: error is 1.614780 (50 iterations in 1.18 seconds)\n",
      "Iteration 2350: error is 1.613870 (50 iterations in 1.18 seconds)\n",
      "Iteration 2400: error is 1.612769 (50 iterations in 1.19 seconds)\n",
      "Iteration 2450: error is 1.611976 (50 iterations in 1.18 seconds)\n",
      "Iteration 2500: error is 1.611102 (50 iterations in 1.19 seconds)\n",
      "Fitting performed in 59.16 seconds.\n"
     ]
    },
    {
     "data": {
      "text/html": [
       "<strong>png:</strong> 2"
      ],
      "text/latex": [
       "\\textbf{png:} 2"
      ],
      "text/markdown": [
       "**png:** 2"
      ],
      "text/plain": [
       "png \n",
       "  2 "
      ]
     },
     "metadata": {},
     "output_type": "display_data"
    }
   ],
   "source": [
    "## Visualize barcode space\n",
    "bar.tsne <- barTSNE(bar.table[,1:24]) \n",
    "## Note: Exclude columns 97:98 (assuming 96 barcodes were used) which provide total barcode UMI counts for each cell. \n",
    "\n",
    "pdf(\"./outputs/MULTIseq/96h_bc.check_round3.pdf\")\n",
    "for (i in 3:ncol(bar.tsne)) {\n",
    "  g <- ggplot(bar.tsne, aes(x = TSNE1, y = TSNE2, color = bar.tsne[,i])) +\n",
    "    geom_point() +\n",
    "    scale_color_gradient(low = \"black\", high = \"red\") +\n",
    "    ggtitle(colnames(bar.tsne)[i]) +\n",
    "    theme(legend.position = \"none\") \n",
    "  print(g)\n",
    "}\n",
    "dev.off()"
   ]
  },
  {
   "cell_type": "markdown",
   "id": "01e1b81c-75b5-46c9-8c21-46174a1dc898",
   "metadata": {},
   "source": [
    "## Generation of barcode table"
   ]
  },
  {
   "cell_type": "code",
   "execution_count": 16,
   "id": "efb97076-3561-4952-94ed-6fb27714df13",
   "metadata": {},
   "outputs": [
    {
     "data": {
      "text/html": [
       "<table class=\"dataframe\">\n",
       "<caption>A data.frame: 6 × 24</caption>\n",
       "<thead>\n",
       "\t<tr><th></th><th scope=col>Bar1</th><th scope=col>Bar2</th><th scope=col>Bar3</th><th scope=col>Bar4</th><th scope=col>Bar5</th><th scope=col>Bar6</th><th scope=col>Bar7</th><th scope=col>Bar8</th><th scope=col>Bar9</th><th scope=col>Bar10</th><th scope=col>⋯</th><th scope=col>Bar15</th><th scope=col>Bar16</th><th scope=col>Bar17</th><th scope=col>Bar18</th><th scope=col>Bar19</th><th scope=col>Bar20</th><th scope=col>Bar21</th><th scope=col>Bar22</th><th scope=col>Bar23</th><th scope=col>Bar24</th></tr>\n",
       "\t<tr><th></th><th scope=col>&lt;int&gt;</th><th scope=col>&lt;int&gt;</th><th scope=col>&lt;int&gt;</th><th scope=col>&lt;int&gt;</th><th scope=col>&lt;int&gt;</th><th scope=col>&lt;int&gt;</th><th scope=col>&lt;int&gt;</th><th scope=col>&lt;int&gt;</th><th scope=col>&lt;int&gt;</th><th scope=col>&lt;int&gt;</th><th scope=col>⋯</th><th scope=col>&lt;int&gt;</th><th scope=col>&lt;int&gt;</th><th scope=col>&lt;int&gt;</th><th scope=col>&lt;int&gt;</th><th scope=col>&lt;int&gt;</th><th scope=col>&lt;int&gt;</th><th scope=col>&lt;int&gt;</th><th scope=col>&lt;int&gt;</th><th scope=col>&lt;int&gt;</th><th scope=col>&lt;int&gt;</th></tr>\n",
       "</thead>\n",
       "<tbody>\n",
       "\t<tr><th scope=row>AAACCCAGTAAGGCCA</th><td>  2</td><td>6</td><td> 4</td><td> 7</td><td>  4</td><td>9</td><td>11</td><td>3</td><td>10</td><td>14</td><td>⋯</td><td> 8</td><td>18</td><td> 13</td><td> 10</td><td> 5</td><td>3</td><td> 2</td><td> 7</td><td>37</td><td>0</td></tr>\n",
       "\t<tr><th scope=row>AAACCCATCGGTCACG</th><td> 12</td><td>8</td><td> 8</td><td> 5</td><td>482</td><td>6</td><td> 3</td><td>3</td><td> 5</td><td>14</td><td>⋯</td><td>10</td><td>27</td><td>  8</td><td> 10</td><td> 3</td><td>3</td><td>28</td><td> 6</td><td> 3</td><td>2</td></tr>\n",
       "\t<tr><th scope=row>AAACCCATCTGCATGA</th><td>  6</td><td>7</td><td>10</td><td> 4</td><td>  3</td><td>7</td><td> 3</td><td>7</td><td>14</td><td>16</td><td>⋯</td><td>11</td><td>33</td><td> 11</td><td>  4</td><td>43</td><td>2</td><td> 4</td><td> 8</td><td> 4</td><td>6</td></tr>\n",
       "\t<tr><th scope=row>AAACGAAAGCCTATCA</th><td>224</td><td>1</td><td> 3</td><td>38</td><td>  8</td><td>4</td><td> 3</td><td>6</td><td>14</td><td>16</td><td>⋯</td><td> 9</td><td>16</td><td> 17</td><td> 10</td><td> 4</td><td>3</td><td> 3</td><td> 6</td><td> 6</td><td>9</td></tr>\n",
       "\t<tr><th scope=row>AAACGAAAGGAAGAAC</th><td>  5</td><td>2</td><td> 5</td><td> 2</td><td>  6</td><td>3</td><td> 2</td><td>3</td><td> 9</td><td> 7</td><td>⋯</td><td> 8</td><td>19</td><td>  8</td><td>441</td><td> 3</td><td>5</td><td> 1</td><td>11</td><td> 2</td><td>2</td></tr>\n",
       "\t<tr><th scope=row>AAACGAACAATACGAA</th><td>  9</td><td>3</td><td> 5</td><td> 7</td><td>  3</td><td>8</td><td>11</td><td>3</td><td> 7</td><td> 7</td><td>⋯</td><td> 8</td><td>21</td><td>606</td><td>  4</td><td> 5</td><td>5</td><td> 3</td><td> 6</td><td> 6</td><td>9</td></tr>\n",
       "</tbody>\n",
       "</table>\n"
      ],
      "text/latex": [
       "A data.frame: 6 × 24\n",
       "\\begin{tabular}{r|lllllllllllllllllllll}\n",
       "  & Bar1 & Bar2 & Bar3 & Bar4 & Bar5 & Bar6 & Bar7 & Bar8 & Bar9 & Bar10 & ⋯ & Bar15 & Bar16 & Bar17 & Bar18 & Bar19 & Bar20 & Bar21 & Bar22 & Bar23 & Bar24\\\\\n",
       "  & <int> & <int> & <int> & <int> & <int> & <int> & <int> & <int> & <int> & <int> & ⋯ & <int> & <int> & <int> & <int> & <int> & <int> & <int> & <int> & <int> & <int>\\\\\n",
       "\\hline\n",
       "\tAAACCCAGTAAGGCCA &   2 & 6 &  4 &  7 &   4 & 9 & 11 & 3 & 10 & 14 & ⋯ &  8 & 18 &  13 &  10 &  5 & 3 &  2 &  7 & 37 & 0\\\\\n",
       "\tAAACCCATCGGTCACG &  12 & 8 &  8 &  5 & 482 & 6 &  3 & 3 &  5 & 14 & ⋯ & 10 & 27 &   8 &  10 &  3 & 3 & 28 &  6 &  3 & 2\\\\\n",
       "\tAAACCCATCTGCATGA &   6 & 7 & 10 &  4 &   3 & 7 &  3 & 7 & 14 & 16 & ⋯ & 11 & 33 &  11 &   4 & 43 & 2 &  4 &  8 &  4 & 6\\\\\n",
       "\tAAACGAAAGCCTATCA & 224 & 1 &  3 & 38 &   8 & 4 &  3 & 6 & 14 & 16 & ⋯ &  9 & 16 &  17 &  10 &  4 & 3 &  3 &  6 &  6 & 9\\\\\n",
       "\tAAACGAAAGGAAGAAC &   5 & 2 &  5 &  2 &   6 & 3 &  2 & 3 &  9 &  7 & ⋯ &  8 & 19 &   8 & 441 &  3 & 5 &  1 & 11 &  2 & 2\\\\\n",
       "\tAAACGAACAATACGAA &   9 & 3 &  5 &  7 &   3 & 8 & 11 & 3 &  7 &  7 & ⋯ &  8 & 21 & 606 &   4 &  5 & 5 &  3 &  6 &  6 & 9\\\\\n",
       "\\end{tabular}\n"
      ],
      "text/markdown": [
       "\n",
       "A data.frame: 6 × 24\n",
       "\n",
       "| <!--/--> | Bar1 &lt;int&gt; | Bar2 &lt;int&gt; | Bar3 &lt;int&gt; | Bar4 &lt;int&gt; | Bar5 &lt;int&gt; | Bar6 &lt;int&gt; | Bar7 &lt;int&gt; | Bar8 &lt;int&gt; | Bar9 &lt;int&gt; | Bar10 &lt;int&gt; | ⋯ ⋯ | Bar15 &lt;int&gt; | Bar16 &lt;int&gt; | Bar17 &lt;int&gt; | Bar18 &lt;int&gt; | Bar19 &lt;int&gt; | Bar20 &lt;int&gt; | Bar21 &lt;int&gt; | Bar22 &lt;int&gt; | Bar23 &lt;int&gt; | Bar24 &lt;int&gt; |\n",
       "|---|---|---|---|---|---|---|---|---|---|---|---|---|---|---|---|---|---|---|---|---|---|\n",
       "| AAACCCAGTAAGGCCA |   2 | 6 |  4 |  7 |   4 | 9 | 11 | 3 | 10 | 14 | ⋯ |  8 | 18 |  13 |  10 |  5 | 3 |  2 |  7 | 37 | 0 |\n",
       "| AAACCCATCGGTCACG |  12 | 8 |  8 |  5 | 482 | 6 |  3 | 3 |  5 | 14 | ⋯ | 10 | 27 |   8 |  10 |  3 | 3 | 28 |  6 |  3 | 2 |\n",
       "| AAACCCATCTGCATGA |   6 | 7 | 10 |  4 |   3 | 7 |  3 | 7 | 14 | 16 | ⋯ | 11 | 33 |  11 |   4 | 43 | 2 |  4 |  8 |  4 | 6 |\n",
       "| AAACGAAAGCCTATCA | 224 | 1 |  3 | 38 |   8 | 4 |  3 | 6 | 14 | 16 | ⋯ |  9 | 16 |  17 |  10 |  4 | 3 |  3 |  6 |  6 | 9 |\n",
       "| AAACGAAAGGAAGAAC |   5 | 2 |  5 |  2 |   6 | 3 |  2 | 3 |  9 |  7 | ⋯ |  8 | 19 |   8 | 441 |  3 | 5 |  1 | 11 |  2 | 2 |\n",
       "| AAACGAACAATACGAA |   9 | 3 |  5 |  7 |   3 | 8 | 11 | 3 |  7 |  7 | ⋯ |  8 | 21 | 606 |   4 |  5 | 5 |  3 |  6 |  6 | 9 |\n",
       "\n"
      ],
      "text/plain": [
       "                 Bar1 Bar2 Bar3 Bar4 Bar5 Bar6 Bar7 Bar8 Bar9 Bar10 ⋯ Bar15\n",
       "AAACCCAGTAAGGCCA   2  6     4    7     4  9    11   3    10   14    ⋯  8   \n",
       "AAACCCATCGGTCACG  12  8     8    5   482  6     3   3     5   14    ⋯ 10   \n",
       "AAACCCATCTGCATGA   6  7    10    4     3  7     3   7    14   16    ⋯ 11   \n",
       "AAACGAAAGCCTATCA 224  1     3   38     8  4     3   6    14   16    ⋯  9   \n",
       "AAACGAAAGGAAGAAC   5  2     5    2     6  3     2   3     9    7    ⋯  8   \n",
       "AAACGAACAATACGAA   9  3     5    7     3  8    11   3     7    7    ⋯  8   \n",
       "                 Bar16 Bar17 Bar18 Bar19 Bar20 Bar21 Bar22 Bar23 Bar24\n",
       "AAACCCAGTAAGGCCA 18     13    10    5    3      2     7    37    0    \n",
       "AAACCCATCGGTCACG 27      8    10    3    3     28     6     3    2    \n",
       "AAACCCATCTGCATGA 33     11     4   43    2      4     8     4    6    \n",
       "AAACGAAAGCCTATCA 16     17    10    4    3      3     6     6    9    \n",
       "AAACGAAAGGAAGAAC 19      8   441    3    5      1    11     2    2    \n",
       "AAACGAACAATACGAA 21    606     4    5    5      3     6     6    9    "
      ]
     },
     "metadata": {},
     "output_type": "display_data"
    },
    {
     "data": {
      "text/html": [
       "<style>\n",
       ".list-inline {list-style: none; margin:0; padding: 0}\n",
       ".list-inline>li {display: inline-block}\n",
       ".list-inline>li:not(:last-child)::after {content: \"\\00b7\"; padding: 0 .5ex}\n",
       "</style>\n",
       "<ol class=list-inline><li>7375</li><li>24</li></ol>\n"
      ],
      "text/latex": [
       "\\begin{enumerate*}\n",
       "\\item 7375\n",
       "\\item 24\n",
       "\\end{enumerate*}\n"
      ],
      "text/markdown": [
       "1. 7375\n",
       "2. 24\n",
       "\n",
       "\n"
      ],
      "text/plain": [
       "[1] 7375   24"
      ]
     },
     "metadata": {},
     "output_type": "display_data"
    }
   ],
   "source": [
    "head(bar.table)\n",
    "dim(bar.table)\n",
    "bar.table$cell <- rownames(bar.table)"
   ]
  },
  {
   "cell_type": "code",
   "execution_count": 17,
   "id": "3e0de906-8233-4760-9fe0-cfd95a2d7d99",
   "metadata": {},
   "outputs": [
    {
     "data": {
      "text/plain": [
       "final.calls\n",
       "    Bar1    Bar10    Bar11    Bar12    Bar13    Bar14    Bar15    Bar16 \n",
       "     329      258      277      261      275      197      275      361 \n",
       "   Bar17    Bar18    Bar19     Bar2    Bar20    Bar21    Bar22    Bar23 \n",
       "     288      167      197      222      214      182      220      273 \n",
       "   Bar24     Bar3     Bar4     Bar5     Bar6     Bar7     Bar8     Bar9 \n",
       "     297      183      202      283      215      160      211      327 \n",
       " Doublet Negative \n",
       "    1462     2147 "
      ]
     },
     "metadata": {},
     "output_type": "display_data"
    },
    {
     "data": {
      "text/html": [
       "9483"
      ],
      "text/latex": [
       "9483"
      ],
      "text/markdown": [
       "9483"
      ],
      "text/plain": [
       "[1] 9483"
      ]
     },
     "metadata": {},
     "output_type": "display_data"
    }
   ],
   "source": [
    "table(final.calls)\n",
    "length(final.calls)"
   ]
  },
  {
   "cell_type": "code",
   "execution_count": 18,
   "id": "0c1e503f-b02a-4b02-adca-5017ab16e4fe",
   "metadata": {},
   "outputs": [
    {
     "data": {
      "text/plain": [
       "\n",
       "    Bar1    Bar10    Bar11    Bar12    Bar13    Bar14    Bar15    Bar16 \n",
       "     329      258      277      261      275      197      275      361 \n",
       "   Bar17    Bar18    Bar19     Bar2    Bar20    Bar21    Bar22    Bar23 \n",
       "     288      167      197      222      214      182      220      273 \n",
       "   Bar24     Bar3     Bar4     Bar5     Bar6     Bar7     Bar8     Bar9 \n",
       "     297      183      202      283      215      160      211      327 \n",
       " Doublet Negative \n",
       "    1462     2147 "
      ]
     },
     "metadata": {},
     "output_type": "display_data"
    },
    {
     "data": {
      "text/html": [
       "<table class=\"dataframe\">\n",
       "<caption>A data.frame: 6 × 26</caption>\n",
       "<thead>\n",
       "\t<tr><th></th><th scope=col>cell</th><th scope=col>Bar1</th><th scope=col>Bar2</th><th scope=col>Bar3</th><th scope=col>Bar4</th><th scope=col>Bar5</th><th scope=col>Bar6</th><th scope=col>Bar7</th><th scope=col>Bar8</th><th scope=col>Bar9</th><th scope=col>⋯</th><th scope=col>Bar16</th><th scope=col>Bar17</th><th scope=col>Bar18</th><th scope=col>Bar19</th><th scope=col>Bar20</th><th scope=col>Bar21</th><th scope=col>Bar22</th><th scope=col>Bar23</th><th scope=col>Bar24</th><th scope=col>V1</th></tr>\n",
       "\t<tr><th></th><th scope=col>&lt;chr&gt;</th><th scope=col>&lt;int&gt;</th><th scope=col>&lt;int&gt;</th><th scope=col>&lt;int&gt;</th><th scope=col>&lt;int&gt;</th><th scope=col>&lt;int&gt;</th><th scope=col>&lt;int&gt;</th><th scope=col>&lt;int&gt;</th><th scope=col>&lt;int&gt;</th><th scope=col>&lt;int&gt;</th><th scope=col>⋯</th><th scope=col>&lt;int&gt;</th><th scope=col>&lt;int&gt;</th><th scope=col>&lt;int&gt;</th><th scope=col>&lt;int&gt;</th><th scope=col>&lt;int&gt;</th><th scope=col>&lt;int&gt;</th><th scope=col>&lt;int&gt;</th><th scope=col>&lt;int&gt;</th><th scope=col>&lt;int&gt;</th><th scope=col>&lt;chr&gt;</th></tr>\n",
       "</thead>\n",
       "<tbody>\n",
       "\t<tr><th scope=row>1</th><td>AAACCCAGTAAGGCCA</td><td>  2</td><td>6</td><td> 4</td><td> 7</td><td>  4</td><td>9</td><td>11</td><td>3</td><td>10</td><td>⋯</td><td>18</td><td> 13</td><td> 10</td><td> 5</td><td>3</td><td> 2</td><td> 7</td><td>37</td><td>0</td><td>Bar23  </td></tr>\n",
       "\t<tr><th scope=row>2</th><td>AAACCCATCGGTCACG</td><td> 12</td><td>8</td><td> 8</td><td> 5</td><td>482</td><td>6</td><td> 3</td><td>3</td><td> 5</td><td>⋯</td><td>27</td><td>  8</td><td> 10</td><td> 3</td><td>3</td><td>28</td><td> 6</td><td> 3</td><td>2</td><td>Doublet</td></tr>\n",
       "\t<tr><th scope=row>3</th><td>AAACCCATCTGCATGA</td><td>  6</td><td>7</td><td>10</td><td> 4</td><td>  3</td><td>7</td><td> 3</td><td>7</td><td>14</td><td>⋯</td><td>33</td><td> 11</td><td>  4</td><td>43</td><td>2</td><td> 4</td><td> 8</td><td> 4</td><td>6</td><td>Bar19  </td></tr>\n",
       "\t<tr><th scope=row>4</th><td>AAACGAAAGCCTATCA</td><td>224</td><td>1</td><td> 3</td><td>38</td><td>  8</td><td>4</td><td> 3</td><td>6</td><td>14</td><td>⋯</td><td>16</td><td> 17</td><td> 10</td><td> 4</td><td>3</td><td> 3</td><td> 6</td><td> 6</td><td>9</td><td>Doublet</td></tr>\n",
       "\t<tr><th scope=row>5</th><td>AAACGAAAGGAAGAAC</td><td>  5</td><td>2</td><td> 5</td><td> 2</td><td>  6</td><td>3</td><td> 2</td><td>3</td><td> 9</td><td>⋯</td><td>19</td><td>  8</td><td>441</td><td> 3</td><td>5</td><td> 1</td><td>11</td><td> 2</td><td>2</td><td>Bar18  </td></tr>\n",
       "\t<tr><th scope=row>6</th><td>AAACGAACAATACGAA</td><td>  9</td><td>3</td><td> 5</td><td> 7</td><td>  3</td><td>8</td><td>11</td><td>3</td><td> 7</td><td>⋯</td><td>21</td><td>606</td><td>  4</td><td> 5</td><td>5</td><td> 3</td><td> 6</td><td> 6</td><td>9</td><td>Bar17  </td></tr>\n",
       "</tbody>\n",
       "</table>\n"
      ],
      "text/latex": [
       "A data.frame: 6 × 26\n",
       "\\begin{tabular}{r|lllllllllllllllllllll}\n",
       "  & cell & Bar1 & Bar2 & Bar3 & Bar4 & Bar5 & Bar6 & Bar7 & Bar8 & Bar9 & ⋯ & Bar16 & Bar17 & Bar18 & Bar19 & Bar20 & Bar21 & Bar22 & Bar23 & Bar24 & V1\\\\\n",
       "  & <chr> & <int> & <int> & <int> & <int> & <int> & <int> & <int> & <int> & <int> & ⋯ & <int> & <int> & <int> & <int> & <int> & <int> & <int> & <int> & <int> & <chr>\\\\\n",
       "\\hline\n",
       "\t1 & AAACCCAGTAAGGCCA &   2 & 6 &  4 &  7 &   4 & 9 & 11 & 3 & 10 & ⋯ & 18 &  13 &  10 &  5 & 3 &  2 &  7 & 37 & 0 & Bar23  \\\\\n",
       "\t2 & AAACCCATCGGTCACG &  12 & 8 &  8 &  5 & 482 & 6 &  3 & 3 &  5 & ⋯ & 27 &   8 &  10 &  3 & 3 & 28 &  6 &  3 & 2 & Doublet\\\\\n",
       "\t3 & AAACCCATCTGCATGA &   6 & 7 & 10 &  4 &   3 & 7 &  3 & 7 & 14 & ⋯ & 33 &  11 &   4 & 43 & 2 &  4 &  8 &  4 & 6 & Bar19  \\\\\n",
       "\t4 & AAACGAAAGCCTATCA & 224 & 1 &  3 & 38 &   8 & 4 &  3 & 6 & 14 & ⋯ & 16 &  17 &  10 &  4 & 3 &  3 &  6 &  6 & 9 & Doublet\\\\\n",
       "\t5 & AAACGAAAGGAAGAAC &   5 & 2 &  5 &  2 &   6 & 3 &  2 & 3 &  9 & ⋯ & 19 &   8 & 441 &  3 & 5 &  1 & 11 &  2 & 2 & Bar18  \\\\\n",
       "\t6 & AAACGAACAATACGAA &   9 & 3 &  5 &  7 &   3 & 8 & 11 & 3 &  7 & ⋯ & 21 & 606 &   4 &  5 & 5 &  3 &  6 &  6 & 9 & Bar17  \\\\\n",
       "\\end{tabular}\n"
      ],
      "text/markdown": [
       "\n",
       "A data.frame: 6 × 26\n",
       "\n",
       "| <!--/--> | cell &lt;chr&gt; | Bar1 &lt;int&gt; | Bar2 &lt;int&gt; | Bar3 &lt;int&gt; | Bar4 &lt;int&gt; | Bar5 &lt;int&gt; | Bar6 &lt;int&gt; | Bar7 &lt;int&gt; | Bar8 &lt;int&gt; | Bar9 &lt;int&gt; | ⋯ ⋯ | Bar16 &lt;int&gt; | Bar17 &lt;int&gt; | Bar18 &lt;int&gt; | Bar19 &lt;int&gt; | Bar20 &lt;int&gt; | Bar21 &lt;int&gt; | Bar22 &lt;int&gt; | Bar23 &lt;int&gt; | Bar24 &lt;int&gt; | V1 &lt;chr&gt; |\n",
       "|---|---|---|---|---|---|---|---|---|---|---|---|---|---|---|---|---|---|---|---|---|---|\n",
       "| 1 | AAACCCAGTAAGGCCA |   2 | 6 |  4 |  7 |   4 | 9 | 11 | 3 | 10 | ⋯ | 18 |  13 |  10 |  5 | 3 |  2 |  7 | 37 | 0 | Bar23   |\n",
       "| 2 | AAACCCATCGGTCACG |  12 | 8 |  8 |  5 | 482 | 6 |  3 | 3 |  5 | ⋯ | 27 |   8 |  10 |  3 | 3 | 28 |  6 |  3 | 2 | Doublet |\n",
       "| 3 | AAACCCATCTGCATGA |   6 | 7 | 10 |  4 |   3 | 7 |  3 | 7 | 14 | ⋯ | 33 |  11 |   4 | 43 | 2 |  4 |  8 |  4 | 6 | Bar19   |\n",
       "| 4 | AAACGAAAGCCTATCA | 224 | 1 |  3 | 38 |   8 | 4 |  3 | 6 | 14 | ⋯ | 16 |  17 |  10 |  4 | 3 |  3 |  6 |  6 | 9 | Doublet |\n",
       "| 5 | AAACGAAAGGAAGAAC |   5 | 2 |  5 |  2 |   6 | 3 |  2 | 3 |  9 | ⋯ | 19 |   8 | 441 |  3 | 5 |  1 | 11 |  2 | 2 | Bar18   |\n",
       "| 6 | AAACGAACAATACGAA |   9 | 3 |  5 |  7 |   3 | 8 | 11 | 3 |  7 | ⋯ | 21 | 606 |   4 |  5 | 5 |  3 |  6 |  6 | 9 | Bar17   |\n",
       "\n"
      ],
      "text/plain": [
       "  cell             Bar1 Bar2 Bar3 Bar4 Bar5 Bar6 Bar7 Bar8 Bar9 ⋯ Bar16 Bar17\n",
       "1 AAACCCAGTAAGGCCA   2  6     4    7     4  9    11   3    10   ⋯ 18     13  \n",
       "2 AAACCCATCGGTCACG  12  8     8    5   482  6     3   3     5   ⋯ 27      8  \n",
       "3 AAACCCATCTGCATGA   6  7    10    4     3  7     3   7    14   ⋯ 33     11  \n",
       "4 AAACGAAAGCCTATCA 224  1     3   38     8  4     3   6    14   ⋯ 16     17  \n",
       "5 AAACGAAAGGAAGAAC   5  2     5    2     6  3     2   3     9   ⋯ 19      8  \n",
       "6 AAACGAACAATACGAA   9  3     5    7     3  8    11   3     7   ⋯ 21    606  \n",
       "  Bar18 Bar19 Bar20 Bar21 Bar22 Bar23 Bar24 V1     \n",
       "1  10    5    3      2     7    37    0     Bar23  \n",
       "2  10    3    3     28     6     3    2     Doublet\n",
       "3   4   43    2      4     8     4    6     Bar19  \n",
       "4  10    4    3      3     6     6    9     Doublet\n",
       "5 441    3    5      1    11     2    2     Bar18  \n",
       "6   4    5    5      3     6     6    9     Bar17  "
      ]
     },
     "metadata": {},
     "output_type": "display_data"
    },
    {
     "data": {
      "text/html": [
       "<style>\n",
       ".list-inline {list-style: none; margin:0; padding: 0}\n",
       ".list-inline>li {display: inline-block}\n",
       ".list-inline>li:not(:last-child)::after {content: \"\\00b7\"; padding: 0 .5ex}\n",
       "</style>\n",
       "<ol class=list-inline><li>7375</li><li>26</li></ol>\n"
      ],
      "text/latex": [
       "\\begin{enumerate*}\n",
       "\\item 7375\n",
       "\\item 26\n",
       "\\end{enumerate*}\n"
      ],
      "text/markdown": [
       "1. 7375\n",
       "2. 26\n",
       "\n",
       "\n"
      ],
      "text/plain": [
       "[1] 7375   26"
      ]
     },
     "metadata": {},
     "output_type": "display_data"
    },
    {
     "data": {
      "text/plain": [
       "\n",
       "    Bar1    Bar10    Bar11    Bar12    Bar13    Bar14    Bar15    Bar16 \n",
       "     329      258      277      261      275      197      275      361 \n",
       "   Bar17    Bar18    Bar19     Bar2    Bar20    Bar21    Bar22    Bar23 \n",
       "     288      167      197      222      214      182      220      273 \n",
       "   Bar24     Bar3     Bar4     Bar5     Bar6     Bar7     Bar8     Bar9 \n",
       "     297      183      202      283      215      160      211      327 \n",
       " Doublet Negative \n",
       "    1462       39 "
      ]
     },
     "metadata": {},
     "output_type": "display_data"
    }
   ],
   "source": [
    "prueba <- as.matrix(final.calls)\n",
    "prueba <- as.data.frame(prueba)\n",
    "prueba$cell <- rownames(prueba)\n",
    "table(prueba$V1)\n",
    "\n",
    "prueba.merged <- merge (bar.table, prueba, by = \"cell\")\n",
    "prueba.merged$V1 <- as.character(prueba.merged$V1)\n",
    "\n",
    "barcode_assignment_96h <- prueba.merged\n",
    "head(barcode_assignment_96h)\n",
    "dim(barcode_assignment_96h)\n",
    "table(barcode_assignment_96h$V1)"
   ]
  },
  {
   "cell_type": "markdown",
   "id": "b8693584-30c1-45f6-8a71-5d3d8dcc0d2d",
   "metadata": {},
   "source": [
    "## Generation of table of assignment for stacked barplot visualization"
   ]
  },
  {
   "cell_type": "code",
   "execution_count": 19,
   "id": "6f1dafe2-9719-4236-aea2-e773439a1482",
   "metadata": {},
   "outputs": [
    {
     "data": {
      "text/html": [
       "<table class=\"dataframe\">\n",
       "<caption>A data.frame: 26 × 2</caption>\n",
       "<thead>\n",
       "\t<tr><th scope=col>Var1</th><th scope=col>Freq</th></tr>\n",
       "\t<tr><th scope=col>&lt;fct&gt;</th><th scope=col>&lt;int&gt;</th></tr>\n",
       "</thead>\n",
       "<tbody>\n",
       "\t<tr><td>Bar1    </td><td> 329</td></tr>\n",
       "\t<tr><td>Bar10   </td><td> 258</td></tr>\n",
       "\t<tr><td>Bar11   </td><td> 277</td></tr>\n",
       "\t<tr><td>Bar12   </td><td> 261</td></tr>\n",
       "\t<tr><td>Bar13   </td><td> 275</td></tr>\n",
       "\t<tr><td>Bar14   </td><td> 197</td></tr>\n",
       "\t<tr><td>Bar15   </td><td> 275</td></tr>\n",
       "\t<tr><td>Bar16   </td><td> 361</td></tr>\n",
       "\t<tr><td>Bar17   </td><td> 288</td></tr>\n",
       "\t<tr><td>Bar18   </td><td> 167</td></tr>\n",
       "\t<tr><td>Bar19   </td><td> 197</td></tr>\n",
       "\t<tr><td>Bar2    </td><td> 222</td></tr>\n",
       "\t<tr><td>Bar20   </td><td> 214</td></tr>\n",
       "\t<tr><td>Bar21   </td><td> 182</td></tr>\n",
       "\t<tr><td>Bar22   </td><td> 220</td></tr>\n",
       "\t<tr><td>Bar23   </td><td> 273</td></tr>\n",
       "\t<tr><td>Bar24   </td><td> 297</td></tr>\n",
       "\t<tr><td>Bar3    </td><td> 183</td></tr>\n",
       "\t<tr><td>Bar4    </td><td> 202</td></tr>\n",
       "\t<tr><td>Bar5    </td><td> 283</td></tr>\n",
       "\t<tr><td>Bar6    </td><td> 215</td></tr>\n",
       "\t<tr><td>Bar7    </td><td> 160</td></tr>\n",
       "\t<tr><td>Bar8    </td><td> 211</td></tr>\n",
       "\t<tr><td>Bar9    </td><td> 327</td></tr>\n",
       "\t<tr><td>Doublet </td><td>1462</td></tr>\n",
       "\t<tr><td>Negative</td><td>  39</td></tr>\n",
       "</tbody>\n",
       "</table>\n"
      ],
      "text/latex": [
       "A data.frame: 26 × 2\n",
       "\\begin{tabular}{ll}\n",
       " Var1 & Freq\\\\\n",
       " <fct> & <int>\\\\\n",
       "\\hline\n",
       "\t Bar1     &  329\\\\\n",
       "\t Bar10    &  258\\\\\n",
       "\t Bar11    &  277\\\\\n",
       "\t Bar12    &  261\\\\\n",
       "\t Bar13    &  275\\\\\n",
       "\t Bar14    &  197\\\\\n",
       "\t Bar15    &  275\\\\\n",
       "\t Bar16    &  361\\\\\n",
       "\t Bar17    &  288\\\\\n",
       "\t Bar18    &  167\\\\\n",
       "\t Bar19    &  197\\\\\n",
       "\t Bar2     &  222\\\\\n",
       "\t Bar20    &  214\\\\\n",
       "\t Bar21    &  182\\\\\n",
       "\t Bar22    &  220\\\\\n",
       "\t Bar23    &  273\\\\\n",
       "\t Bar24    &  297\\\\\n",
       "\t Bar3     &  183\\\\\n",
       "\t Bar4     &  202\\\\\n",
       "\t Bar5     &  283\\\\\n",
       "\t Bar6     &  215\\\\\n",
       "\t Bar7     &  160\\\\\n",
       "\t Bar8     &  211\\\\\n",
       "\t Bar9     &  327\\\\\n",
       "\t Doublet  & 1462\\\\\n",
       "\t Negative &   39\\\\\n",
       "\\end{tabular}\n"
      ],
      "text/markdown": [
       "\n",
       "A data.frame: 26 × 2\n",
       "\n",
       "| Var1 &lt;fct&gt; | Freq &lt;int&gt; |\n",
       "|---|---|\n",
       "| Bar1     |  329 |\n",
       "| Bar10    |  258 |\n",
       "| Bar11    |  277 |\n",
       "| Bar12    |  261 |\n",
       "| Bar13    |  275 |\n",
       "| Bar14    |  197 |\n",
       "| Bar15    |  275 |\n",
       "| Bar16    |  361 |\n",
       "| Bar17    |  288 |\n",
       "| Bar18    |  167 |\n",
       "| Bar19    |  197 |\n",
       "| Bar2     |  222 |\n",
       "| Bar20    |  214 |\n",
       "| Bar21    |  182 |\n",
       "| Bar22    |  220 |\n",
       "| Bar23    |  273 |\n",
       "| Bar24    |  297 |\n",
       "| Bar3     |  183 |\n",
       "| Bar4     |  202 |\n",
       "| Bar5     |  283 |\n",
       "| Bar6     |  215 |\n",
       "| Bar7     |  160 |\n",
       "| Bar8     |  211 |\n",
       "| Bar9     |  327 |\n",
       "| Doublet  | 1462 |\n",
       "| Negative |   39 |\n",
       "\n"
      ],
      "text/plain": [
       "   Var1     Freq\n",
       "1  Bar1      329\n",
       "2  Bar10     258\n",
       "3  Bar11     277\n",
       "4  Bar12     261\n",
       "5  Bar13     275\n",
       "6  Bar14     197\n",
       "7  Bar15     275\n",
       "8  Bar16     361\n",
       "9  Bar17     288\n",
       "10 Bar18     167\n",
       "11 Bar19     197\n",
       "12 Bar2      222\n",
       "13 Bar20     214\n",
       "14 Bar21     182\n",
       "15 Bar22     220\n",
       "16 Bar23     273\n",
       "17 Bar24     297\n",
       "18 Bar3      183\n",
       "19 Bar4      202\n",
       "20 Bar5      283\n",
       "21 Bar6      215\n",
       "22 Bar7      160\n",
       "23 Bar8      211\n",
       "24 Bar9      327\n",
       "25 Doublet  1462\n",
       "26 Negative   39"
      ]
     },
     "metadata": {},
     "output_type": "display_data"
    }
   ],
   "source": [
    "x <- data.frame(table(barcode_assignment_96h$V1))\n",
    "x"
   ]
  },
  {
   "cell_type": "code",
   "execution_count": 20,
   "id": "9ec89abb-af19-4d96-ae06-76c550c47262",
   "metadata": {},
   "outputs": [
    {
     "data": {
      "text/html": [
       "2030"
      ],
      "text/latex": [
       "2030"
      ],
      "text/markdown": [
       "2030"
      ],
      "text/plain": [
       "[1] 2030"
      ]
     },
     "metadata": {},
     "output_type": "display_data"
    }
   ],
   "source": [
    "bar <- sum(x$Freq[-(25:26)])\n",
    "doublet <- x[x[1]=='Doublet',2]\n",
    "negative <- x[x[1]=='Negative',2]\n",
    "unassigned <- initial_cell_number - sum(bar, doublet, negative)\n",
    "unassigned"
   ]
  },
  {
   "cell_type": "code",
   "execution_count": 21,
   "id": "37a15406-193e-4e97-9471-1b5012bc52f2",
   "metadata": {},
   "outputs": [
    {
     "data": {
      "text/html": [
       "<table class=\"dataframe\">\n",
       "<caption>A data.frame: 4 × 3</caption>\n",
       "<thead>\n",
       "\t<tr><th></th><th scope=col>Number_cells</th><th scope=col>Category</th><th scope=col>Sample</th></tr>\n",
       "\t<tr><th></th><th scope=col>&lt;int&gt;</th><th scope=col>&lt;fct&gt;</th><th scope=col>&lt;chr&gt;</th></tr>\n",
       "</thead>\n",
       "<tbody>\n",
       "\t<tr><th scope=row>Barcode_assigned</th><td>5874</td><td>Barcode_assigned</td><td>gast_96h</td></tr>\n",
       "\t<tr><th scope=row>Doublet</th><td>1462</td><td>Doublet         </td><td>gast_96h</td></tr>\n",
       "\t<tr><th scope=row>Negative</th><td>  39</td><td>Negative        </td><td>gast_96h</td></tr>\n",
       "\t<tr><th scope=row>Unassigned</th><td>2030</td><td>Unassigned      </td><td>gast_96h</td></tr>\n",
       "</tbody>\n",
       "</table>\n"
      ],
      "text/latex": [
       "A data.frame: 4 × 3\n",
       "\\begin{tabular}{r|lll}\n",
       "  & Number\\_cells & Category & Sample\\\\\n",
       "  & <int> & <fct> & <chr>\\\\\n",
       "\\hline\n",
       "\tBarcode\\_assigned & 5874 & Barcode\\_assigned & gast\\_96h\\\\\n",
       "\tDoublet & 1462 & Doublet          & gast\\_96h\\\\\n",
       "\tNegative &   39 & Negative         & gast\\_96h\\\\\n",
       "\tUnassigned & 2030 & Unassigned       & gast\\_96h\\\\\n",
       "\\end{tabular}\n"
      ],
      "text/markdown": [
       "\n",
       "A data.frame: 4 × 3\n",
       "\n",
       "| <!--/--> | Number_cells &lt;int&gt; | Category &lt;fct&gt; | Sample &lt;chr&gt; |\n",
       "|---|---|---|---|\n",
       "| Barcode_assigned | 5874 | Barcode_assigned | gast_96h |\n",
       "| Doublet | 1462 | Doublet          | gast_96h |\n",
       "| Negative |   39 | Negative         | gast_96h |\n",
       "| Unassigned | 2030 | Unassigned       | gast_96h |\n",
       "\n"
      ],
      "text/plain": [
       "                 Number_cells Category         Sample  \n",
       "Barcode_assigned 5874         Barcode_assigned gast_96h\n",
       "Doublet          1462         Doublet          gast_96h\n",
       "Negative           39         Negative         gast_96h\n",
       "Unassigned       2030         Unassigned       gast_96h"
      ]
     },
     "metadata": {},
     "output_type": "display_data"
    }
   ],
   "source": [
    "x <- data.frame(Number_cells= c(bar, doublet, negative, unassigned))\n",
    "rownames(x) <- c(\"Barcode_assigned\",\"Doublet\",\"Negative\", \"Unassigned\")\n",
    "x$Category <- rownames(x)\n",
    "x$Category <- factor(x$Category, levels = c(\"Unassigned\",\"Negative\",\"Doublet\",\"Barcode_assigned\"))\n",
    "x$Sample <- \"gast_96h\"\n",
    "head(x)\n",
    "\n",
    "multiseq_assignment_96h <- x"
   ]
  },
  {
   "cell_type": "code",
   "execution_count": 22,
   "id": "fdc77a19-9e50-4077-8ec2-f4a9b98eaf58",
   "metadata": {},
   "outputs": [
    {
     "data": {
      "text/html": [
       "9405"
      ],
      "text/latex": [
       "9405"
      ],
      "text/markdown": [
       "9405"
      ],
      "text/plain": [
       "[1] 9405"
      ]
     },
     "metadata": {},
     "output_type": "display_data"
    }
   ],
   "source": [
    "sum(multiseq_assignment_96h$Number_cells)\n",
    "initial_cell_number\n",
    "sum(multiseq_assignment_96h$Number_cells) == initial_cell_number"
   ]
  },
  {
   "cell_type": "code",
   "execution_count": 23,
   "id": "5799827a-f873-4a63-9e3f-d3a85700fde1",
   "metadata": {},
   "outputs": [
    {
     "data": {
      "image/png": "[encoded data removed]",
      "text/plain": [
       "plot without title"
      ]
     },
     "metadata": {
      "image/png": {
       "height": 420,
       "width": 420
      }
     },
     "output_type": "display_data"
    }
   ],
   "source": [
    "# Stacked\n",
    "ggplot(x, aes(fill=Category, y=Number_cells, x=Sample)) + \n",
    "  geom_bar(position=\"stack\", stat=\"identity\", colour=\"black\") +\n",
    "  scale_fill_manual(values=c(\"#f4a582\", \"#d95f02\", \"#7570b3\", \"#1b9e77\")) + \n",
    "  theme_minimal()"
   ]
  },
  {
   "cell_type": "markdown",
   "id": "acde3ee5-6204-4ca0-9edd-49aaf3f1a0c2",
   "metadata": {},
   "source": [
    "## Saving the files"
   ]
  },
  {
   "cell_type": "code",
   "execution_count": 24,
   "id": "2a398e41-e882-423a-8daa-e98db9e02190",
   "metadata": {},
   "outputs": [],
   "source": [
    "# Save files\n",
    "## \n",
    "saveRDS(barcode_assignment_96h, file = \"./files/demultiplexing/barcode_assignment_96h.rds\")\n",
    "saveRDS(multiseq_assignment_96h, file = \"./files/demultiplexing/multiseq_assignment_96h.rds\")"
   ]
  }
 ],
 "metadata": {
  "kernelspec": {
   "display_name": "R",
   "language": "R",
   "name": "ir"
  },
  "language_info": {
   "codemirror_mode": "r",
   "file_extension": ".r",
   "mimetype": "text/x-r-source",
   "name": "R",
   "pygments_lexer": "r",
   "version": "4.1.0"
  },
  "toc-autonumbering": true
 },
 "nbformat": 4,
 "nbformat_minor": 5
}
