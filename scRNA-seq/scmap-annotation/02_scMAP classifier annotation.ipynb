{
 "cells": [
  {
   "cell_type": "code",
   "execution_count": null,
   "id": "dc75fe80",
   "metadata": {},
   "outputs": [],
   "source": [
    "library('Seurat')\n",
    "library('ggplot2')\n",
    "library(ggplot2)\n",
    "library(ggalluvial)\n",
    "library(ggpubr)\n",
    "library(viridis)\n",
    "library(tidyr)\n",
    "library(stringr)\n",
    "library(dplyr)"
   ]
  },
  {
   "cell_type": "markdown",
   "id": "953863b1",
   "metadata": {},
   "source": [
    "### Load un-annotated data and the classfier\n",
    "\n",
    "Load your data that needs to be annotated along with the classifier made in the previous step"
   ]
  },
  {
   "cell_type": "code",
   "execution_count": null,
   "id": "d950dd95",
   "metadata": {},
   "outputs": [],
   "source": [
    "combined <- readRDS(\"/path/to/your/data.rds\")\n",
    "scmap_classifier <- readRDS(file = \"path/to/your/scmap_classifier.rds\")\n",
    "ref_stages <- c(\"E6.5\",\"E6.75\",\"E7.0\",\"E7.25\",\"E7.5\",\"E7.75\",\"E8.0\",\"E8.25\",\"E8.5\") \n",
    "#Here you can choose the embryonic stages in the annotated dataset you need to be used"
   ]
  },
  {
   "cell_type": "markdown",
   "id": "33aadd56",
   "metadata": {},
   "source": [
    "### Convert data into readable format by scmap\n",
    "\n",
    "Convert your unannotated dataset from a seurat object to a SingleCellExperiment object"
   ]
  },
  {
   "cell_type": "code",
   "execution_count": null,
   "id": "4d33e454",
   "metadata": {},
   "outputs": [],
   "source": [
    "sce <- as.SingleCellExperiment(x = combined)\n",
    "rowData(sce)$feature_symbol <- rownames(sce)\n",
    "scmapCluster_results <- scmapCluster(projection = sce, index_list = scmap_classifier[ref_stages],threshold = 0)"
   ]
  },
  {
   "cell_type": "markdown",
   "id": "e520e1e5",
   "metadata": {},
   "source": [
    "### Create a similarity matrix\n",
    "\n",
    "scmap outputs a matrix of how similar an individual barcode is to its corresponding stage in the published annotations."
   ]
  },
  {
   "cell_type": "code",
   "execution_count": null,
   "id": "b08e11b5",
   "metadata": {},
   "outputs": [],
   "source": [
    "siml <- scmapCluster_results$scmap_cluster_siml\n",
    "siml <- as.data.frame(siml)\n",
    "siml[is.na(siml)] = 0"
   ]
  },
  {
   "cell_type": "markdown",
   "id": "02f21488",
   "metadata": {},
   "source": [
    "### Add relevant columns and results to your dataset\n",
    "\n",
    "From the similarity matrix, you can get the embryonic stage every barcode is assigned to. You can add that and the similarity scores to the metadata of your (now newly annotated) dataset."
   ]
  },
  {
   "cell_type": "code",
   "execution_count": null,
   "id": "69be2619",
   "metadata": {},
   "outputs": [],
   "source": [
    "Emb_Stage <- colnames(siml)[max.col(siml,ties.method=\"first\")]\n",
    "Emb_Stage <- as.data.frame(Emb_Stage)\n",
    "combined <- AddMetaData(object = combined, metadata = scmapCluster_results$combined_labs, col.name = \"celltype\")\n",
    "Idents(combined) <- combined$celltype\n",
    "combined@meta.data <- cbind(combined@meta.data, Emb_Stage)\n",
    "combined@meta.data <- cbind(combined@meta.data, siml)"
   ]
  },
  {
   "cell_type": "markdown",
   "id": "26dbc220",
   "metadata": {},
   "source": [
    "### Save your dataset"
   ]
  },
  {
   "cell_type": "code",
   "execution_count": null,
   "id": "6f5193a0",
   "metadata": {},
   "outputs": [],
   "source": [
    "saveRDS(combined, 'combined_annotated.rds')"
   ]
  }
 ],
 "metadata": {
  "kernelspec": {
   "display_name": "Python 3 (ipykernel)",
   "language": "python",
   "name": "python3"
  },
  "language_info": {
   "codemirror_mode": {
    "name": "ipython",
    "version": 3
   },
   "file_extension": ".py",
   "mimetype": "text/x-python",
   "name": "python",
   "nbconvert_exporter": "python",
   "pygments_lexer": "ipython3",
   "version": "3.11.5"
  }
 },
 "nbformat": 4,
 "nbformat_minor": 5
}
