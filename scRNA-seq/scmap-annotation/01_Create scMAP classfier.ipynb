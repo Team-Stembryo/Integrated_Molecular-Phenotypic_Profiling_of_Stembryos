{
 "cells": [
  {
   "cell_type": "code",
   "execution_count": null,
   "id": "ac5b83b6",
   "metadata": {},
   "outputs": [],
   "source": [
    "library(Seurat)\n",
    "library(DropletUtils)\n",
    "library(reticulate)\n",
    "library(sceasy)\n",
    "library(clustifyr)\n",
    "library(ggplot2)\n",
    "library(cowplot)\n",
    "library(dplyr)\n",
    "library(matrixStats)\n",
    "library(Seurat)\n",
    "library(BiocGenerics)\n",
    "library(ggplot2)\n",
    "library(edgeR)\n",
    "library(ggrepel)\n",
    "library(reticulate)\n",
    "library(scmap)\n",
    "library(scater)\n",
    "library(plotly)\n",
    "library(uwot)\n",
    "library(readr)\n",
    "library(clustifyr)\n",
    "library(tidyverse)\n",
    "library(\"readr\")"
   ]
  },
  {
   "cell_type": "markdown",
   "id": "3fb01097",
   "metadata": {},
   "source": [
    "### Load data into R\n",
    "\n",
    "Load the already pre-annotated dataset to create a classifier out of it"
   ]
  },
  {
   "cell_type": "code",
   "execution_count": null,
   "id": "05f27903",
   "metadata": {},
   "outputs": [],
   "source": [
    "data_10X <- Read10X(data.dir = \"/path/to/10x/data\", gene.column=1) \n",
    "atlas <- CreateSeuratObject(counts=data_10X)"
   ]
  },
  {
   "cell_type": "markdown",
   "id": "f6f607ed",
   "metadata": {},
   "source": [
    "### Create a table of variable features across the dataset\n",
    "\n",
    "Specify thresholds of variable features to create a table of most variable genes across the dataset"
   ]
  },
  {
   "cell_type": "code",
   "execution_count": null,
   "id": "f8e63b06",
   "metadata": {},
   "outputs": [],
   "source": [
    "atlas <- SetIdent(atlas, value = atlas@meta.data$celltype)\n",
    "#for first time\n",
    "atlas <- FindVariableFeatures(atlas, selection.method = \"vst\", nfeatures = 6000)\n",
    "markers <- FindAllMarkers(object = atlas, return.thresh = 1e-5,only.pos = T,features = VariableFeatures(atlas))\n",
    "#save top markers table\n",
    "write.table(x = markers, file = \"Atlas_AllMarkers_forScMapclassifier.tsv\",sep = \"\\t\")"
   ]
  },
  {
   "cell_type": "markdown",
   "id": "1f79c026",
   "metadata": {},
   "source": [
    "### Choose fold change and P-value threshold for classifier creation"
   ]
  },
  {
   "cell_type": "code",
   "execution_count": null,
   "id": "700d4401",
   "metadata": {},
   "outputs": [],
   "source": [
    "markers.sign <- markers[markers$avg_log2FC>0.5 & markers$p_val_adj<1e-5,]\n",
    "markers.sign"
   ]
  },
  {
   "cell_type": "markdown",
   "id": "df9b3599",
   "metadata": {},
   "source": [
    "### Create a classifer based on the selected variable features"
   ]
  },
  {
   "cell_type": "code",
   "execution_count": null,
   "id": "a1e2cfdf",
   "metadata": {},
   "outputs": [],
   "source": [
    "set.seed(1234567)\n",
    "scmap_classifier <- vector(\"list\", length(unique(atlas$Stage)))\n",
    "names(scmap_classifier) <- unique(atlas$Stage)\n",
    "\n",
    "for(Stage in unique(atlas$Stage)){\n",
    "  Idents(atlas) <- atlas$Stage\n",
    "  tmp <- subset(x = atlas, idents = Stage)\n",
    "  Idents(tmp) <- tmp$celltype\n",
    "  tmp <- subset(x = tmp, cells = colnames(tmp)[is.na(Idents(tmp))], invert = T)\n",
    "  tmp <- FindVariableFeatures(object = tmp, selection.method = 'vst', nfeatures = 200) #Choose nFeatures here\n",
    "  atlas.sce <- as.SingleCellExperiment(x = tmp)\n",
    "  rowData(atlas.sce)$feature_symbol <- rownames(atlas.sce)\n",
    "  atlas.sce <- atlas.sce[!duplicated(rownames(atlas.sce)), ]\n",
    "  counts(atlas.sce) <- as.matrix(counts(atlas.sce))\n",
    "  logcounts(atlas.sce) <- as.matrix(logcounts(atlas.sce))\n",
    "  #atlas.sce <- selectFeatures(atlas.sce,suppress_plot = F,n_features = 1000) # Rather use our own chosen features (cell type markers) that the default (genes with abnormal dropout rate), as results are much more biologically meaningful.\n",
    "  rowData(atlas.sce)$scmap_features <- FALSE\n",
    "  rowData(atlas.sce)[markers.sign$gene,\"scmap_features\"] <- TRUE\n",
    "  atlas.sce <- indexCluster(atlas.sce,cluster_col = \"celltype\")\n",
    "  scmap_classifier[[Stage]] <- metadata(atlas.sce)$scmap_cluster_index\n",
    "}"
   ]
  },
  {
   "cell_type": "markdown",
   "id": "943acbdc",
   "metadata": {},
   "source": [
    "### Save the classifier"
   ]
  },
  {
   "cell_type": "code",
   "execution_count": null,
   "id": "8700934d",
   "metadata": {},
   "outputs": [],
   "source": [
    "saveRDS(object = scmap_classifier, file = \"scmap_classifier_atlas.rds\")"
   ]
  }
 ],
 "metadata": {
  "kernelspec": {
   "display_name": "Python 3 (ipykernel)",
   "language": "python",
   "name": "python3"
  },
  "language_info": {
   "codemirror_mode": {
    "name": "ipython",
    "version": 3
   },
   "file_extension": ".py",
   "mimetype": "text/x-python",
   "name": "python",
   "nbconvert_exporter": "python",
   "pygments_lexer": "ipython3",
   "version": "3.11.5"
  }
 },
 "nbformat": 4,
 "nbformat_minor": 5
}
