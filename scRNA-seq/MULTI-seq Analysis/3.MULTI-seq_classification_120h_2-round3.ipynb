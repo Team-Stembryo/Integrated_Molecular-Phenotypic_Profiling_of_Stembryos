{
 "cells": [
  {
   "cell_type": "code",
   "execution_count": 1,
   "id": "1696bbf1-98dd-4641-bb33-e9492152198a",
   "metadata": {},
   "outputs": [
    {
     "name": "stderr",
     "output_type": "stream",
     "text": [
      "Warning message:\n",
      "“replacing previous import ‘lifecycle::last_warnings’ by ‘rlang::last_warnings’ when loading ‘tibble’”\n"
     ]
    }
   ],
   "source": [
    "library(\"deMULTIplex\")\n",
    "library(\"ggplot2\")"
   ]
  },
  {
   "cell_type": "code",
   "execution_count": 2,
   "id": "c0126db1-d251-4089-b714-8615e5ccd9f7",
   "metadata": {},
   "outputs": [],
   "source": [
    "## deMULTIplexing ##\n",
    "setwd(\"/project/ABKlab/Natalia/sc-RNA-seq/single_TLS_project\")"
   ]
  },
  {
   "cell_type": "markdown",
   "id": "c8c8762b-dbd8-4c42-8101-28c8730ec759",
   "metadata": {},
   "source": [
    "# Table 120h_2"
   ]
  },
  {
   "cell_type": "code",
   "execution_count": 3,
   "id": "d60442d9-17a0-430f-a381-82c38573c31b",
   "metadata": {},
   "outputs": [],
   "source": [
    "bartable_120h_2 <- readRDS(\"./files/bartable_120h_2.rds\")"
   ]
  },
  {
   "cell_type": "code",
   "execution_count": 4,
   "id": "1193beea-d123-4fef-a81b-9673b7ddb861",
   "metadata": {},
   "outputs": [
    {
     "data": {
      "text/html": [
       "<table class=\"dataframe\">\n",
       "<caption>A data.frame: 6 × 26</caption>\n",
       "<thead>\n",
       "\t<tr><th></th><th scope=col>Bar1</th><th scope=col>Bar2</th><th scope=col>Bar3</th><th scope=col>Bar4</th><th scope=col>Bar5</th><th scope=col>Bar6</th><th scope=col>Bar7</th><th scope=col>Bar8</th><th scope=col>Bar9</th><th scope=col>Bar10</th><th scope=col>⋯</th><th scope=col>Bar17</th><th scope=col>Bar18</th><th scope=col>Bar19</th><th scope=col>Bar20</th><th scope=col>Bar21</th><th scope=col>Bar22</th><th scope=col>Bar23</th><th scope=col>Bar24</th><th scope=col>nUMI</th><th scope=col>nUMI_total</th></tr>\n",
       "\t<tr><th></th><th scope=col>&lt;int&gt;</th><th scope=col>&lt;int&gt;</th><th scope=col>&lt;int&gt;</th><th scope=col>&lt;int&gt;</th><th scope=col>&lt;int&gt;</th><th scope=col>&lt;int&gt;</th><th scope=col>&lt;int&gt;</th><th scope=col>&lt;int&gt;</th><th scope=col>&lt;int&gt;</th><th scope=col>&lt;int&gt;</th><th scope=col>⋯</th><th scope=col>&lt;int&gt;</th><th scope=col>&lt;int&gt;</th><th scope=col>&lt;int&gt;</th><th scope=col>&lt;int&gt;</th><th scope=col>&lt;int&gt;</th><th scope=col>&lt;int&gt;</th><th scope=col>&lt;int&gt;</th><th scope=col>&lt;int&gt;</th><th scope=col>&lt;int&gt;</th><th scope=col>&lt;int&gt;</th></tr>\n",
       "</thead>\n",
       "<tbody>\n",
       "\t<tr><th scope=row>AAACCCAAGAAGTCCG</th><td>12</td><td>34</td><td>2</td><td>  3</td><td>4</td><td>  6</td><td>4</td><td>7</td><td>37</td><td>32</td><td>⋯</td><td>12</td><td>7</td><td>1</td><td>3</td><td>184</td><td>4</td><td> 6</td><td> 3</td><td> 403</td><td> 482</td></tr>\n",
       "\t<tr><th scope=row>AAACCCAAGACAACTA</th><td> 0</td><td> 0</td><td>0</td><td>  0</td><td>1</td><td>  0</td><td>9</td><td>1</td><td> 0</td><td> 0</td><td>⋯</td><td>23</td><td>1</td><td>0</td><td>1</td><td> 41</td><td>3</td><td> 1</td><td> 0</td><td>  88</td><td> 103</td></tr>\n",
       "\t<tr><th scope=row>AAACCCAAGAGCAGCT</th><td> 7</td><td> 7</td><td>5</td><td>  2</td><td>2</td><td>  4</td><td>2</td><td>6</td><td> 6</td><td> 6</td><td>⋯</td><td> 8</td><td>6</td><td>3</td><td>1</td><td>  4</td><td>4</td><td>11</td><td> 8</td><td> 144</td><td> 204</td></tr>\n",
       "\t<tr><th scope=row>AAACCCACACTTGAGT</th><td> 4</td><td> 0</td><td>3</td><td>  1</td><td>3</td><td>  8</td><td>1</td><td>9</td><td> 6</td><td> 5</td><td>⋯</td><td>10</td><td>5</td><td>4</td><td>0</td><td>  1</td><td>8</td><td> 5</td><td> 6</td><td>1425</td><td>1703</td></tr>\n",
       "\t<tr><th scope=row>AAACCCACAGGACTAG</th><td> 3</td><td> 1</td><td>6</td><td>132</td><td>4</td><td>  8</td><td>9</td><td>3</td><td> 5</td><td> 3</td><td>⋯</td><td> 8</td><td>5</td><td>1</td><td>3</td><td>  2</td><td>5</td><td> 7</td><td>14</td><td> 253</td><td> 308</td></tr>\n",
       "\t<tr><th scope=row>AAACCCAGTATCCCTC</th><td> 1</td><td> 3</td><td>4</td><td>  2</td><td>4</td><td>188</td><td>3</td><td>2</td><td> 4</td><td> 6</td><td>⋯</td><td> 7</td><td>6</td><td>2</td><td>4</td><td>  1</td><td>5</td><td> 4</td><td> 6</td><td> 280</td><td> 322</td></tr>\n",
       "</tbody>\n",
       "</table>\n"
      ],
      "text/latex": [
       "A data.frame: 6 × 26\n",
       "\\begin{tabular}{r|lllllllllllllllllllll}\n",
       "  & Bar1 & Bar2 & Bar3 & Bar4 & Bar5 & Bar6 & Bar7 & Bar8 & Bar9 & Bar10 & ⋯ & Bar17 & Bar18 & Bar19 & Bar20 & Bar21 & Bar22 & Bar23 & Bar24 & nUMI & nUMI\\_total\\\\\n",
       "  & <int> & <int> & <int> & <int> & <int> & <int> & <int> & <int> & <int> & <int> & ⋯ & <int> & <int> & <int> & <int> & <int> & <int> & <int> & <int> & <int> & <int>\\\\\n",
       "\\hline\n",
       "\tAAACCCAAGAAGTCCG & 12 & 34 & 2 &   3 & 4 &   6 & 4 & 7 & 37 & 32 & ⋯ & 12 & 7 & 1 & 3 & 184 & 4 &  6 &  3 &  403 &  482\\\\\n",
       "\tAAACCCAAGACAACTA &  0 &  0 & 0 &   0 & 1 &   0 & 9 & 1 &  0 &  0 & ⋯ & 23 & 1 & 0 & 1 &  41 & 3 &  1 &  0 &   88 &  103\\\\\n",
       "\tAAACCCAAGAGCAGCT &  7 &  7 & 5 &   2 & 2 &   4 & 2 & 6 &  6 &  6 & ⋯ &  8 & 6 & 3 & 1 &   4 & 4 & 11 &  8 &  144 &  204\\\\\n",
       "\tAAACCCACACTTGAGT &  4 &  0 & 3 &   1 & 3 &   8 & 1 & 9 &  6 &  5 & ⋯ & 10 & 5 & 4 & 0 &   1 & 8 &  5 &  6 & 1425 & 1703\\\\\n",
       "\tAAACCCACAGGACTAG &  3 &  1 & 6 & 132 & 4 &   8 & 9 & 3 &  5 &  3 & ⋯ &  8 & 5 & 1 & 3 &   2 & 5 &  7 & 14 &  253 &  308\\\\\n",
       "\tAAACCCAGTATCCCTC &  1 &  3 & 4 &   2 & 4 & 188 & 3 & 2 &  4 &  6 & ⋯ &  7 & 6 & 2 & 4 &   1 & 5 &  4 &  6 &  280 &  322\\\\\n",
       "\\end{tabular}\n"
      ],
      "text/markdown": [
       "\n",
       "A data.frame: 6 × 26\n",
       "\n",
       "| <!--/--> | Bar1 &lt;int&gt; | Bar2 &lt;int&gt; | Bar3 &lt;int&gt; | Bar4 &lt;int&gt; | Bar5 &lt;int&gt; | Bar6 &lt;int&gt; | Bar7 &lt;int&gt; | Bar8 &lt;int&gt; | Bar9 &lt;int&gt; | Bar10 &lt;int&gt; | ⋯ ⋯ | Bar17 &lt;int&gt; | Bar18 &lt;int&gt; | Bar19 &lt;int&gt; | Bar20 &lt;int&gt; | Bar21 &lt;int&gt; | Bar22 &lt;int&gt; | Bar23 &lt;int&gt; | Bar24 &lt;int&gt; | nUMI &lt;int&gt; | nUMI_total &lt;int&gt; |\n",
       "|---|---|---|---|---|---|---|---|---|---|---|---|---|---|---|---|---|---|---|---|---|---|\n",
       "| AAACCCAAGAAGTCCG | 12 | 34 | 2 |   3 | 4 |   6 | 4 | 7 | 37 | 32 | ⋯ | 12 | 7 | 1 | 3 | 184 | 4 |  6 |  3 |  403 |  482 |\n",
       "| AAACCCAAGACAACTA |  0 |  0 | 0 |   0 | 1 |   0 | 9 | 1 |  0 |  0 | ⋯ | 23 | 1 | 0 | 1 |  41 | 3 |  1 |  0 |   88 |  103 |\n",
       "| AAACCCAAGAGCAGCT |  7 |  7 | 5 |   2 | 2 |   4 | 2 | 6 |  6 |  6 | ⋯ |  8 | 6 | 3 | 1 |   4 | 4 | 11 |  8 |  144 |  204 |\n",
       "| AAACCCACACTTGAGT |  4 |  0 | 3 |   1 | 3 |   8 | 1 | 9 |  6 |  5 | ⋯ | 10 | 5 | 4 | 0 |   1 | 8 |  5 |  6 | 1425 | 1703 |\n",
       "| AAACCCACAGGACTAG |  3 |  1 | 6 | 132 | 4 |   8 | 9 | 3 |  5 |  3 | ⋯ |  8 | 5 | 1 | 3 |   2 | 5 |  7 | 14 |  253 |  308 |\n",
       "| AAACCCAGTATCCCTC |  1 |  3 | 4 |   2 | 4 | 188 | 3 | 2 |  4 |  6 | ⋯ |  7 | 6 | 2 | 4 |   1 | 5 |  4 |  6 |  280 |  322 |\n",
       "\n"
      ],
      "text/plain": [
       "                 Bar1 Bar2 Bar3 Bar4 Bar5 Bar6 Bar7 Bar8 Bar9 Bar10 ⋯ Bar17\n",
       "AAACCCAAGAAGTCCG 12   34   2      3  4      6  4    7    37   32    ⋯ 12   \n",
       "AAACCCAAGACAACTA  0    0   0      0  1      0  9    1     0    0    ⋯ 23   \n",
       "AAACCCAAGAGCAGCT  7    7   5      2  2      4  2    6     6    6    ⋯  8   \n",
       "AAACCCACACTTGAGT  4    0   3      1  3      8  1    9     6    5    ⋯ 10   \n",
       "AAACCCACAGGACTAG  3    1   6    132  4      8  9    3     5    3    ⋯  8   \n",
       "AAACCCAGTATCCCTC  1    3   4      2  4    188  3    2     4    6    ⋯  7   \n",
       "                 Bar18 Bar19 Bar20 Bar21 Bar22 Bar23 Bar24 nUMI nUMI_total\n",
       "AAACCCAAGAAGTCCG 7     1     3     184   4      6     3     403  482      \n",
       "AAACCCAAGACAACTA 1     0     1      41   3      1     0      88  103      \n",
       "AAACCCAAGAGCAGCT 6     3     1       4   4     11     8     144  204      \n",
       "AAACCCACACTTGAGT 5     4     0       1   8      5     6    1425 1703      \n",
       "AAACCCACAGGACTAG 5     1     3       2   5      7    14     253  308      \n",
       "AAACCCAGTATCCCTC 6     2     4       1   5      4     6     280  322      "
      ]
     },
     "metadata": {},
     "output_type": "display_data"
    },
    {
     "data": {
      "text/html": [
       "<style>\n",
       ".list-inline {list-style: none; margin:0; padding: 0}\n",
       ".list-inline>li {display: inline-block}\n",
       ".list-inline>li:not(:last-child)::after {content: \"\\00b7\"; padding: 0 .5ex}\n",
       "</style>\n",
       "<ol class=list-inline><li>12750</li><li>26</li></ol>\n"
      ],
      "text/latex": [
       "\\begin{enumerate*}\n",
       "\\item 12750\n",
       "\\item 26\n",
       "\\end{enumerate*}\n"
      ],
      "text/markdown": [
       "1. 12750\n",
       "2. 26\n",
       "\n",
       "\n"
      ],
      "text/plain": [
       "[1] 12750    26"
      ]
     },
     "metadata": {},
     "output_type": "display_data"
    }
   ],
   "source": [
    "head(bartable_120h_2)\n",
    "dim(bartable_120h_2)"
   ]
  },
  {
   "cell_type": "code",
   "execution_count": 5,
   "id": "8c81f2df-d5ba-4df8-83b5-6b57ff8ab6db",
   "metadata": {},
   "outputs": [],
   "source": [
    "x <- bartable_120h_2\n",
    "initial_cell_number <- nrow(bartable_120h_2)"
   ]
  },
  {
   "cell_type": "markdown",
   "id": "37b34569-e824-4d2c-b2a2-22a1b699e179",
   "metadata": {},
   "source": [
    "## demultiplexing: classification"
   ]
  },
  {
   "cell_type": "code",
   "execution_count": 6,
   "id": "0f2b7765-b87c-4450-8474-852bda5772bd",
   "metadata": {},
   "outputs": [
    {
     "name": "stderr",
     "output_type": "stream",
     "text": [
      "Loading required package: Rtsne\n",
      "\n"
     ]
    },
    {
     "name": "stdout",
     "output_type": "stream",
     "text": [
      "Performing PCA\n",
      "Read the 12750 x 24 data matrix successfully!\n",
      "OpenMP is working. 1 threads.\n",
      "Using no_dims = 2, perplexity = 30.000000, and theta = 0.500000\n",
      "Computing input similarities...\n",
      "Building tree...\n",
      " - point 10000 of 12750\n",
      "Done in 6.83 seconds (sparsity = 0.010968)!\n",
      "Learning embedding...\n",
      "Iteration 50: error is 98.437019 (50 iterations in 2.19 seconds)\n",
      "Iteration 100: error is 95.605460 (50 iterations in 2.24 seconds)\n",
      "Iteration 150: error is 89.988732 (50 iterations in 2.13 seconds)\n",
      "Iteration 200: error is 89.396854 (50 iterations in 2.16 seconds)\n",
      "Iteration 250: error is 89.299820 (50 iterations in 2.20 seconds)\n",
      "Iteration 300: error is 3.325583 (50 iterations in 2.12 seconds)\n",
      "Iteration 350: error is 2.978338 (50 iterations in 2.04 seconds)\n",
      "Iteration 400: error is 2.801557 (50 iterations in 2.02 seconds)\n",
      "Iteration 450: error is 2.689727 (50 iterations in 1.98 seconds)\n",
      "Iteration 500: error is 2.612123 (50 iterations in 1.99 seconds)\n",
      "Iteration 550: error is 2.554880 (50 iterations in 1.99 seconds)\n",
      "Iteration 600: error is 2.510220 (50 iterations in 2.01 seconds)\n",
      "Iteration 650: error is 2.474314 (50 iterations in 2.02 seconds)\n",
      "Iteration 700: error is 2.445472 (50 iterations in 2.02 seconds)\n",
      "Iteration 750: error is 2.421944 (50 iterations in 2.03 seconds)\n",
      "Iteration 800: error is 2.402469 (50 iterations in 2.03 seconds)\n",
      "Iteration 850: error is 2.386753 (50 iterations in 2.05 seconds)\n",
      "Iteration 900: error is 2.374322 (50 iterations in 2.05 seconds)\n",
      "Iteration 950: error is 2.364443 (50 iterations in 2.05 seconds)\n",
      "Iteration 1000: error is 2.356185 (50 iterations in 2.04 seconds)\n",
      "Iteration 1050: error is 2.350026 (50 iterations in 2.04 seconds)\n",
      "Iteration 1100: error is 2.344871 (50 iterations in 2.03 seconds)\n",
      "Iteration 1150: error is 2.340660 (50 iterations in 2.04 seconds)\n",
      "Iteration 1200: error is 2.337068 (50 iterations in 2.04 seconds)\n",
      "Iteration 1250: error is 2.334364 (50 iterations in 2.04 seconds)\n",
      "Iteration 1300: error is 2.331659 (50 iterations in 2.04 seconds)\n",
      "Iteration 1350: error is 2.328983 (50 iterations in 2.03 seconds)\n",
      "Iteration 1400: error is 2.326145 (50 iterations in 2.03 seconds)\n",
      "Iteration 1450: error is 2.323519 (50 iterations in 2.03 seconds)\n",
      "Iteration 1500: error is 2.321189 (50 iterations in 2.03 seconds)\n",
      "Iteration 1550: error is 2.318659 (50 iterations in 2.04 seconds)\n",
      "Iteration 1600: error is 2.316391 (50 iterations in 2.04 seconds)\n",
      "Iteration 1650: error is 2.314281 (50 iterations in 2.04 seconds)\n",
      "Iteration 1700: error is 2.312216 (50 iterations in 2.04 seconds)\n",
      "Iteration 1750: error is 2.309953 (50 iterations in 2.04 seconds)\n",
      "Iteration 1800: error is 2.307565 (50 iterations in 2.03 seconds)\n",
      "Iteration 1850: error is 2.305405 (50 iterations in 2.03 seconds)\n",
      "Iteration 1900: error is 2.303427 (50 iterations in 2.03 seconds)\n",
      "Iteration 1950: error is 2.301786 (50 iterations in 2.03 seconds)\n",
      "Iteration 2000: error is 2.300365 (50 iterations in 2.03 seconds)\n",
      "Iteration 2050: error is 2.298781 (50 iterations in 2.03 seconds)\n",
      "Iteration 2100: error is 2.297058 (50 iterations in 2.04 seconds)\n",
      "Iteration 2150: error is 2.295509 (50 iterations in 2.05 seconds)\n",
      "Iteration 2200: error is 2.294234 (50 iterations in 2.05 seconds)\n",
      "Iteration 2250: error is 2.292759 (50 iterations in 2.05 seconds)\n",
      "Iteration 2300: error is 2.291471 (50 iterations in 2.06 seconds)\n",
      "Iteration 2350: error is 2.290091 (50 iterations in 2.06 seconds)\n",
      "Iteration 2400: error is 2.288897 (50 iterations in 2.05 seconds)\n",
      "Iteration 2450: error is 2.287837 (50 iterations in 2.06 seconds)\n",
      "Iteration 2500: error is 2.286797 (50 iterations in 2.05 seconds)\n",
      "Fitting performed in 102.51 seconds.\n"
     ]
    },
    {
     "data": {
      "text/html": [
       "<strong>png:</strong> 2"
      ],
      "text/latex": [
       "\\textbf{png:} 2"
      ],
      "text/markdown": [
       "**png:** 2"
      ],
      "text/plain": [
       "png \n",
       "  2 "
      ]
     },
     "metadata": {},
     "output_type": "display_data"
    }
   ],
   "source": [
    "## Visualize barcode space\n",
    "bar.tsne <- barTSNE(x[,1:24]) # number of barcodes and not columns !!\n",
    "## Note: Exclude columns 97:98 (assuming 96 barcodes were used) which provide total barcode UMI counts for each cell. \n",
    "\n",
    "pdf(\"./outputs/MULTIseq/120h_2_bc.check.pdf\")\n",
    "for (i in 3:ncol(bar.tsne)) {\n",
    "  g <- ggplot(bar.tsne, aes(x = TSNE1, y = TSNE2, color = bar.tsne[,i])) +\n",
    "    geom_point() +\n",
    "    scale_color_gradient(low = \"black\", high = \"red\") +\n",
    "    ggtitle(colnames(bar.tsne)[i]) +\n",
    "    theme(legend.position = \"none\") \n",
    "  print(g)\n",
    "}\n",
    "dev.off()\n"
   ]
  },
  {
   "cell_type": "code",
   "execution_count": 7,
   "id": "a4b0a1ba-85b0-41a9-ae71-ada27a30c6e1",
   "metadata": {},
   "outputs": [
    {
     "name": "stdout",
     "output_type": "stream",
     "text": [
      "[1] 0.01\n"
     ]
    },
    {
     "name": "stderr",
     "output_type": "stream",
     "text": [
      "Loading required package: KernSmooth\n",
      "\n",
      "KernSmooth 2.23 loaded\n",
      "Copyright M. P. Wand 1997-2009\n",
      "\n"
     ]
    },
    {
     "name": "stdout",
     "output_type": "stream",
     "text": [
      "[1] 0.03\n",
      "[1] 0.05\n",
      "[1] 0.07\n",
      "[1] 0.09\n",
      "[1] 0.11\n",
      "[1] 0.13\n",
      "[1] 0.15\n",
      "[1] 0.17\n",
      "[1] 0.19\n",
      "[1] 0.21\n",
      "[1] 0.23\n",
      "[1] 0.25\n",
      "[1] 0.27\n",
      "[1] 0.29\n",
      "[1] 0.31\n",
      "[1] 0.33\n",
      "[1] 0.35\n",
      "[1] 0.37\n",
      "[1] 0.39\n",
      "[1] 0.41\n",
      "[1] 0.43\n",
      "[1] 0.45\n",
      "[1] 0.47\n",
      "[1] 0.49\n",
      "[1] 0.51\n",
      "[1] 0.53\n",
      "[1] 0.55\n",
      "[1] 0.57\n",
      "[1] 0.59\n",
      "[1] 0.61\n",
      "[1] 0.63\n",
      "[1] 0.65\n",
      "[1] 0.67\n",
      "[1] 0.69\n",
      "[1] 0.71\n",
      "[1] 0.73\n",
      "[1] 0.75\n",
      "[1] 0.77\n",
      "[1] 0.79\n",
      "[1] 0.81\n",
      "[1] 0.83\n",
      "[1] 0.85\n",
      "[1] 0.87\n",
      "[1] 0.89\n",
      "[1] 0.91\n",
      "[1] 0.93\n",
      "[1] 0.95\n",
      "[1] 0.97\n",
      "[1] 0.99\n"
     ]
    },
    {
     "name": "stderr",
     "output_type": "stream",
     "text": [
      "Loading required package: reshape2\n",
      "\n"
     ]
    },
    {
     "data": {
      "image/png": "[encoded data removed]",
      "text/plain": [
       "plot without title"
      ]
     },
     "metadata": {
      "image/png": {
       "height": 420,
       "width": 420
      }
     },
     "output_type": "display_data"
    }
   ],
   "source": [
    "# Sample classification\n",
    "## Round 1 -----------------------------------------------------------------------------------------------------\n",
    "## Perform Quantile Sweep\n",
    "bar.table.full <- x[,1:24]\n",
    "good.bars <- paste(\"Bar\",1:24,sep=\"\")  # NOTE: In this hypothetical example, barcodes 91-96 were not detected\n",
    "bar.table <- bar.table.full[, good.bars]  # Remove missing bars and summary columns\n",
    "bar.table_sweep.list <- list()\n",
    "n <- 0\n",
    "for (q in seq(0.01, 0.99, by=0.02)) {\n",
    "  print(q)\n",
    "  n <- n + 1\n",
    "  bar.table_sweep.list[[n]] <- classifyCells(bar.table, q=q)\n",
    "  names(bar.table_sweep.list)[n] <- paste(\"q=\",q,sep=\"\")\n",
    "}\n",
    "\n",
    "## Identify ideal inter-maxima quantile to set barcode-specific thresholds\n",
    "threshold.results1 <- findThresh(call.list=bar.table_sweep.list)\n",
    "ggplot(data=threshold.results1$res, aes(x=q, y=Proportion, color=Subset)) + geom_line() + theme(legend.position = \"none\") +\n",
    "  geom_vline(xintercept=threshold.results1$extrema, lty=2) + scale_color_manual(values=c(\"red\",\"black\",\"blue\"))\n",
    "\n",
    "## Finalize round 1 classifications, remove negative cells\n",
    "round1.calls <- classifyCells(bar.table, q=findQ(threshold.results1$res, threshold.results1$extrema))\n",
    "neg.cells <- names(round1.calls)[which(round1.calls == \"Negative\")]\n",
    "bar.table <- bar.table[-which(rownames(bar.table) %in% neg.cells), ]\n"
   ]
  },
  {
   "cell_type": "code",
   "execution_count": 8,
   "id": "9d7a992a-c81c-4dd3-9077-a9091830a96d",
   "metadata": {},
   "outputs": [
    {
     "data": {
      "text/plain": [
       "round1.calls\n",
       "    Bar1    Bar10    Bar11    Bar12    Bar13    Bar14    Bar15    Bar16 \n",
       "     608      235      217      395      168      277      505      556 \n",
       "   Bar17    Bar18    Bar19     Bar2    Bar20    Bar21    Bar22    Bar23 \n",
       "     336      229      240      284      201      224      497      633 \n",
       "   Bar24     Bar3     Bar4     Bar5     Bar6     Bar7     Bar8     Bar9 \n",
       "     276      233      706      255      548      264      483      342 \n",
       " Doublet Negative \n",
       "    2378     1660 "
      ]
     },
     "metadata": {},
     "output_type": "display_data"
    },
    {
     "data": {
      "text/html": [
       "12750"
      ],
      "text/latex": [
       "12750"
      ],
      "text/markdown": [
       "12750"
      ],
      "text/plain": [
       "[1] 12750"
      ]
     },
     "metadata": {},
     "output_type": "display_data"
    }
   ],
   "source": [
    "table(round1.calls)\n",
    "length(round1.calls)"
   ]
  },
  {
   "cell_type": "code",
   "execution_count": 9,
   "id": "bb3ebcc9-631d-4103-b556-67b59556f92d",
   "metadata": {},
   "outputs": [
    {
     "name": "stdout",
     "output_type": "stream",
     "text": [
      "[1] 0.01\n",
      "[1] 0.03\n",
      "[1] 0.05\n",
      "[1] 0.07\n",
      "[1] 0.09\n",
      "[1] 0.11\n",
      "[1] 0.13\n",
      "[1] 0.15\n",
      "[1] 0.17\n",
      "[1] 0.19\n",
      "[1] 0.21\n",
      "[1] 0.23\n",
      "[1] 0.25\n",
      "[1] 0.27\n",
      "[1] 0.29\n",
      "[1] 0.31\n",
      "[1] 0.33\n",
      "[1] 0.35\n",
      "[1] 0.37\n",
      "[1] 0.39\n",
      "[1] 0.41\n",
      "[1] 0.43\n",
      "[1] 0.45\n",
      "[1] 0.47\n",
      "[1] 0.49\n",
      "[1] 0.51\n",
      "[1] 0.53\n",
      "[1] 0.55\n",
      "[1] 0.57\n",
      "[1] 0.59\n",
      "[1] 0.61\n",
      "[1] 0.63\n",
      "[1] 0.65\n",
      "[1] 0.67\n",
      "[1] 0.69\n",
      "[1] 0.71\n",
      "[1] 0.73\n",
      "[1] 0.75\n",
      "[1] 0.77\n",
      "[1] 0.79\n",
      "[1] 0.81\n",
      "[1] 0.83\n",
      "[1] 0.85\n",
      "[1] 0.87\n",
      "[1] 0.89\n",
      "[1] 0.91\n",
      "[1] 0.93\n",
      "[1] 0.95\n",
      "[1] 0.97\n",
      "[1] 0.99\n"
     ]
    }
   ],
   "source": [
    "## Round 2 -----------------------------------------------------------------------------------------------------\n",
    "bar.table_sweep.list <- list()\n",
    "n <- 0\n",
    "for (q in seq(0.01, 0.99, by=0.02)) {\n",
    "  print(q)\n",
    "  n <- n + 1\n",
    "  bar.table_sweep.list[[n]] <- classifyCells(bar.table, q=q)\n",
    "  names(bar.table_sweep.list)[n] <- paste(\"q=\",q,sep=\"\")\n",
    "}\n",
    "\n",
    "threshold.results2 <- findThresh(call.list=bar.table_sweep.list)\n",
    "round2.calls <- classifyCells(bar.table, q=findQ(threshold.results2$res, threshold.results2$extrema))\n",
    "neg.cells <- c(neg.cells, names(round2.calls)[which(round2.calls == \"Negative\")])"
   ]
  },
  {
   "cell_type": "code",
   "execution_count": 10,
   "id": "c9891b87-ef8e-4f54-a126-9c28839e0d95",
   "metadata": {},
   "outputs": [
    {
     "data": {
      "text/html": [
       "1672"
      ],
      "text/latex": [
       "1672"
      ],
      "text/markdown": [
       "1672"
      ],
      "text/plain": [
       "[1] 1672"
      ]
     },
     "metadata": {},
     "output_type": "display_data"
    },
    {
     "data": {
      "text/plain": [
       "round2.calls\n",
       "    Bar1    Bar10    Bar11    Bar12    Bar13    Bar14    Bar15    Bar16 \n",
       "     609      235      217      396      165      278      505      556 \n",
       "   Bar17    Bar18    Bar19     Bar2    Bar20    Bar21    Bar22    Bar23 \n",
       "     335      228      240      284      201      224      497      631 \n",
       "   Bar24     Bar3     Bar4     Bar5     Bar6     Bar7     Bar8     Bar9 \n",
       "     276      234      702      254      549      263      479      342 \n",
       " Doublet Negative \n",
       "    2378       12 "
      ]
     },
     "metadata": {},
     "output_type": "display_data"
    },
    {
     "data": {
      "text/html": [
       "11090"
      ],
      "text/latex": [
       "11090"
      ],
      "text/markdown": [
       "11090"
      ],
      "text/plain": [
       "[1] 11090"
      ]
     },
     "metadata": {},
     "output_type": "display_data"
    }
   ],
   "source": [
    "length(neg.cells)\n",
    "\n",
    "table(round2.calls)\n",
    "length(round2.calls)"
   ]
  },
  {
   "cell_type": "code",
   "execution_count": 11,
   "id": "e9826bce-50c0-44e5-846f-38ea0cd861dc",
   "metadata": {},
   "outputs": [
    {
     "name": "stdout",
     "output_type": "stream",
     "text": [
      "[1] 0.01\n",
      "[1] 0.03\n",
      "[1] 0.05\n",
      "[1] 0.07\n",
      "[1] 0.09\n",
      "[1] 0.11\n",
      "[1] 0.13\n",
      "[1] 0.15\n",
      "[1] 0.17\n",
      "[1] 0.19\n",
      "[1] 0.21\n",
      "[1] 0.23\n",
      "[1] 0.25\n",
      "[1] 0.27\n",
      "[1] 0.29\n",
      "[1] 0.31\n",
      "[1] 0.33\n",
      "[1] 0.35\n",
      "[1] 0.37\n",
      "[1] 0.39\n",
      "[1] 0.41\n",
      "[1] 0.43\n",
      "[1] 0.45\n",
      "[1] 0.47\n",
      "[1] 0.49\n",
      "[1] 0.51\n",
      "[1] 0.53\n",
      "[1] 0.55\n",
      "[1] 0.57\n",
      "[1] 0.59\n",
      "[1] 0.61\n",
      "[1] 0.63\n",
      "[1] 0.65\n",
      "[1] 0.67\n",
      "[1] 0.69\n",
      "[1] 0.71\n",
      "[1] 0.73\n",
      "[1] 0.75\n",
      "[1] 0.77\n",
      "[1] 0.79\n",
      "[1] 0.81\n",
      "[1] 0.83\n",
      "[1] 0.85\n",
      "[1] 0.87\n",
      "[1] 0.89\n",
      "[1] 0.91\n",
      "[1] 0.93\n",
      "[1] 0.95\n",
      "[1] 0.97\n",
      "[1] 0.99\n"
     ]
    }
   ],
   "source": [
    "## Round 3 -----------------------------------------------------------------------------------------------------\n",
    "bar.table_sweep.list <- list()\n",
    "n <- 0\n",
    "for (q in seq(0.01, 0.99, by=0.02)) {\n",
    "  print(q)\n",
    "  n <- n + 1\n",
    "  bar.table_sweep.list[[n]] <- classifyCells(bar.table, q=q)\n",
    "  names(bar.table_sweep.list)[n] <- paste(\"q=\",q,sep=\"\")\n",
    "}\n",
    "\n",
    "threshold.results3 <- findThresh(call.list=bar.table_sweep.list)\n",
    "round3.calls <- classifyCells(bar.table, q=findQ(threshold.results3$res, threshold.results3$extrema))\n",
    "neg.cells <- c(neg.cells, names(round3.calls)[which(round3.calls == \"Negative\")])"
   ]
  },
  {
   "cell_type": "code",
   "execution_count": 12,
   "id": "4758245b-0531-4862-9e91-7a7c31da64ec",
   "metadata": {},
   "outputs": [
    {
     "data": {
      "text/html": [
       "1684"
      ],
      "text/latex": [
       "1684"
      ],
      "text/markdown": [
       "1684"
      ],
      "text/plain": [
       "[1] 1684"
      ]
     },
     "metadata": {},
     "output_type": "display_data"
    },
    {
     "data": {
      "text/plain": [
       "round3.calls\n",
       "    Bar1    Bar10    Bar11    Bar12    Bar13    Bar14    Bar15    Bar16 \n",
       "     609      235      217      396      165      278      505      556 \n",
       "   Bar17    Bar18    Bar19     Bar2    Bar20    Bar21    Bar22    Bar23 \n",
       "     335      228      240      284      201      224      497      631 \n",
       "   Bar24     Bar3     Bar4     Bar5     Bar6     Bar7     Bar8     Bar9 \n",
       "     276      234      702      254      549      263      479      342 \n",
       " Doublet Negative \n",
       "    2378       12 "
      ]
     },
     "metadata": {},
     "output_type": "display_data"
    },
    {
     "data": {
      "text/html": [
       "11090"
      ],
      "text/latex": [
       "11090"
      ],
      "text/markdown": [
       "11090"
      ],
      "text/plain": [
       "[1] 11090"
      ]
     },
     "metadata": {},
     "output_type": "display_data"
    }
   ],
   "source": [
    "length(neg.cells)\n",
    "\n",
    "table(round3.calls)\n",
    "length(round3.calls)"
   ]
  },
  {
   "cell_type": "code",
   "execution_count": 13,
   "id": "4a9b6ae1-5392-4258-acb2-253bee0b2dc1",
   "metadata": {},
   "outputs": [],
   "source": [
    "## Repeat until all no negative cells remain (usually 3 rounds)...\n",
    "final.calls <- c(round3.calls, rep(\"Negative\",length(neg.cells)))\n",
    "names(final.calls) <- c(names(round3.calls),neg.cells)"
   ]
  },
  {
   "cell_type": "code",
   "execution_count": 14,
   "id": "6940e704-1c8e-4fb8-b83e-7bc72b65ab1d",
   "metadata": {},
   "outputs": [
    {
     "data": {
      "text/html": [
       "<table class=\"dataframe\">\n",
       "<caption>A data.frame: 6 × 24</caption>\n",
       "<thead>\n",
       "\t<tr><th></th><th scope=col>Bar1</th><th scope=col>Bar2</th><th scope=col>Bar3</th><th scope=col>Bar4</th><th scope=col>Bar5</th><th scope=col>Bar6</th><th scope=col>Bar7</th><th scope=col>Bar8</th><th scope=col>Bar9</th><th scope=col>Bar10</th><th scope=col>⋯</th><th scope=col>Bar15</th><th scope=col>Bar16</th><th scope=col>Bar17</th><th scope=col>Bar18</th><th scope=col>Bar19</th><th scope=col>Bar20</th><th scope=col>Bar21</th><th scope=col>Bar22</th><th scope=col>Bar23</th><th scope=col>Bar24</th></tr>\n",
       "\t<tr><th></th><th scope=col>&lt;int&gt;</th><th scope=col>&lt;int&gt;</th><th scope=col>&lt;int&gt;</th><th scope=col>&lt;int&gt;</th><th scope=col>&lt;int&gt;</th><th scope=col>&lt;int&gt;</th><th scope=col>&lt;int&gt;</th><th scope=col>&lt;int&gt;</th><th scope=col>&lt;int&gt;</th><th scope=col>&lt;int&gt;</th><th scope=col>⋯</th><th scope=col>&lt;int&gt;</th><th scope=col>&lt;int&gt;</th><th scope=col>&lt;int&gt;</th><th scope=col>&lt;int&gt;</th><th scope=col>&lt;int&gt;</th><th scope=col>&lt;int&gt;</th><th scope=col>&lt;int&gt;</th><th scope=col>&lt;int&gt;</th><th scope=col>&lt;int&gt;</th><th scope=col>&lt;int&gt;</th></tr>\n",
       "</thead>\n",
       "<tbody>\n",
       "\t<tr><th scope=row>AAACCCAAGAAGTCCG</th><td>12</td><td>34</td><td>2</td><td>  3</td><td>4</td><td>  6</td><td> 4</td><td>7</td><td>37</td><td>32</td><td>⋯</td><td> 8</td><td>  12</td><td>12</td><td>7</td><td>1</td><td>  3</td><td>184</td><td> 4</td><td>  6</td><td> 3</td></tr>\n",
       "\t<tr><th scope=row>AAACCCACACTTGAGT</th><td> 4</td><td> 0</td><td>3</td><td>  1</td><td>3</td><td>  8</td><td> 1</td><td>9</td><td> 6</td><td> 5</td><td>⋯</td><td>11</td><td>1321</td><td>10</td><td>5</td><td>4</td><td>  0</td><td>  1</td><td> 8</td><td>  5</td><td> 6</td></tr>\n",
       "\t<tr><th scope=row>AAACCCACAGGACTAG</th><td> 3</td><td> 1</td><td>6</td><td>132</td><td>4</td><td>  8</td><td> 9</td><td>3</td><td> 5</td><td> 3</td><td>⋯</td><td> 5</td><td>  13</td><td> 8</td><td>5</td><td>1</td><td>  3</td><td>  2</td><td> 5</td><td>  7</td><td>14</td></tr>\n",
       "\t<tr><th scope=row>AAACCCAGTATCCCTC</th><td> 1</td><td> 3</td><td>4</td><td>  2</td><td>4</td><td>188</td><td> 3</td><td>2</td><td> 4</td><td> 6</td><td>⋯</td><td>10</td><td>   5</td><td> 7</td><td>6</td><td>2</td><td>  4</td><td>  1</td><td> 5</td><td>  4</td><td> 6</td></tr>\n",
       "\t<tr><th scope=row>AAACCCAGTGTAGGAC</th><td> 7</td><td> 1</td><td>2</td><td>  5</td><td>5</td><td>  0</td><td>45</td><td>3</td><td> 7</td><td>10</td><td>⋯</td><td>35</td><td>  15</td><td>94</td><td>7</td><td>4</td><td>  1</td><td>  6</td><td> 4</td><td>247</td><td>14</td></tr>\n",
       "\t<tr><th scope=row>AAACCCAGTGTTCAGT</th><td> 4</td><td> 0</td><td>5</td><td>  1</td><td>4</td><td>  1</td><td> 5</td><td>3</td><td> 6</td><td> 6</td><td>⋯</td><td> 7</td><td>  11</td><td> 8</td><td>2</td><td>2</td><td>217</td><td>  4</td><td>16</td><td> 16</td><td> 5</td></tr>\n",
       "</tbody>\n",
       "</table>\n"
      ],
      "text/latex": [
       "A data.frame: 6 × 24\n",
       "\\begin{tabular}{r|lllllllllllllllllllll}\n",
       "  & Bar1 & Bar2 & Bar3 & Bar4 & Bar5 & Bar6 & Bar7 & Bar8 & Bar9 & Bar10 & ⋯ & Bar15 & Bar16 & Bar17 & Bar18 & Bar19 & Bar20 & Bar21 & Bar22 & Bar23 & Bar24\\\\\n",
       "  & <int> & <int> & <int> & <int> & <int> & <int> & <int> & <int> & <int> & <int> & ⋯ & <int> & <int> & <int> & <int> & <int> & <int> & <int> & <int> & <int> & <int>\\\\\n",
       "\\hline\n",
       "\tAAACCCAAGAAGTCCG & 12 & 34 & 2 &   3 & 4 &   6 &  4 & 7 & 37 & 32 & ⋯ &  8 &   12 & 12 & 7 & 1 &   3 & 184 &  4 &   6 &  3\\\\\n",
       "\tAAACCCACACTTGAGT &  4 &  0 & 3 &   1 & 3 &   8 &  1 & 9 &  6 &  5 & ⋯ & 11 & 1321 & 10 & 5 & 4 &   0 &   1 &  8 &   5 &  6\\\\\n",
       "\tAAACCCACAGGACTAG &  3 &  1 & 6 & 132 & 4 &   8 &  9 & 3 &  5 &  3 & ⋯ &  5 &   13 &  8 & 5 & 1 &   3 &   2 &  5 &   7 & 14\\\\\n",
       "\tAAACCCAGTATCCCTC &  1 &  3 & 4 &   2 & 4 & 188 &  3 & 2 &  4 &  6 & ⋯ & 10 &    5 &  7 & 6 & 2 &   4 &   1 &  5 &   4 &  6\\\\\n",
       "\tAAACCCAGTGTAGGAC &  7 &  1 & 2 &   5 & 5 &   0 & 45 & 3 &  7 & 10 & ⋯ & 35 &   15 & 94 & 7 & 4 &   1 &   6 &  4 & 247 & 14\\\\\n",
       "\tAAACCCAGTGTTCAGT &  4 &  0 & 5 &   1 & 4 &   1 &  5 & 3 &  6 &  6 & ⋯ &  7 &   11 &  8 & 2 & 2 & 217 &   4 & 16 &  16 &  5\\\\\n",
       "\\end{tabular}\n"
      ],
      "text/markdown": [
       "\n",
       "A data.frame: 6 × 24\n",
       "\n",
       "| <!--/--> | Bar1 &lt;int&gt; | Bar2 &lt;int&gt; | Bar3 &lt;int&gt; | Bar4 &lt;int&gt; | Bar5 &lt;int&gt; | Bar6 &lt;int&gt; | Bar7 &lt;int&gt; | Bar8 &lt;int&gt; | Bar9 &lt;int&gt; | Bar10 &lt;int&gt; | ⋯ ⋯ | Bar15 &lt;int&gt; | Bar16 &lt;int&gt; | Bar17 &lt;int&gt; | Bar18 &lt;int&gt; | Bar19 &lt;int&gt; | Bar20 &lt;int&gt; | Bar21 &lt;int&gt; | Bar22 &lt;int&gt; | Bar23 &lt;int&gt; | Bar24 &lt;int&gt; |\n",
       "|---|---|---|---|---|---|---|---|---|---|---|---|---|---|---|---|---|---|---|---|---|---|\n",
       "| AAACCCAAGAAGTCCG | 12 | 34 | 2 |   3 | 4 |   6 |  4 | 7 | 37 | 32 | ⋯ |  8 |   12 | 12 | 7 | 1 |   3 | 184 |  4 |   6 |  3 |\n",
       "| AAACCCACACTTGAGT |  4 |  0 | 3 |   1 | 3 |   8 |  1 | 9 |  6 |  5 | ⋯ | 11 | 1321 | 10 | 5 | 4 |   0 |   1 |  8 |   5 |  6 |\n",
       "| AAACCCACAGGACTAG |  3 |  1 | 6 | 132 | 4 |   8 |  9 | 3 |  5 |  3 | ⋯ |  5 |   13 |  8 | 5 | 1 |   3 |   2 |  5 |   7 | 14 |\n",
       "| AAACCCAGTATCCCTC |  1 |  3 | 4 |   2 | 4 | 188 |  3 | 2 |  4 |  6 | ⋯ | 10 |    5 |  7 | 6 | 2 |   4 |   1 |  5 |   4 |  6 |\n",
       "| AAACCCAGTGTAGGAC |  7 |  1 | 2 |   5 | 5 |   0 | 45 | 3 |  7 | 10 | ⋯ | 35 |   15 | 94 | 7 | 4 |   1 |   6 |  4 | 247 | 14 |\n",
       "| AAACCCAGTGTTCAGT |  4 |  0 | 5 |   1 | 4 |   1 |  5 | 3 |  6 |  6 | ⋯ |  7 |   11 |  8 | 2 | 2 | 217 |   4 | 16 |  16 |  5 |\n",
       "\n"
      ],
      "text/plain": [
       "                 Bar1 Bar2 Bar3 Bar4 Bar5 Bar6 Bar7 Bar8 Bar9 Bar10 ⋯ Bar15\n",
       "AAACCCAAGAAGTCCG 12   34   2      3  4      6   4   7    37   32    ⋯  8   \n",
       "AAACCCACACTTGAGT  4    0   3      1  3      8   1   9     6    5    ⋯ 11   \n",
       "AAACCCACAGGACTAG  3    1   6    132  4      8   9   3     5    3    ⋯  5   \n",
       "AAACCCAGTATCCCTC  1    3   4      2  4    188   3   2     4    6    ⋯ 10   \n",
       "AAACCCAGTGTAGGAC  7    1   2      5  5      0  45   3     7   10    ⋯ 35   \n",
       "AAACCCAGTGTTCAGT  4    0   5      1  4      1   5   3     6    6    ⋯  7   \n",
       "                 Bar16 Bar17 Bar18 Bar19 Bar20 Bar21 Bar22 Bar23 Bar24\n",
       "AAACCCAAGAAGTCCG   12  12    7     1       3   184    4      6    3   \n",
       "AAACCCACACTTGAGT 1321  10    5     4       0     1    8      5    6   \n",
       "AAACCCACAGGACTAG   13   8    5     1       3     2    5      7   14   \n",
       "AAACCCAGTATCCCTC    5   7    6     2       4     1    5      4    6   \n",
       "AAACCCAGTGTAGGAC   15  94    7     4       1     6    4    247   14   \n",
       "AAACCCAGTGTTCAGT   11   8    2     2     217     4   16     16    5   "
      ]
     },
     "metadata": {},
     "output_type": "display_data"
    },
    {
     "data": {
      "text/html": [
       "<style>\n",
       ".list-inline {list-style: none; margin:0; padding: 0}\n",
       ".list-inline>li {display: inline-block}\n",
       ".list-inline>li:not(:last-child)::after {content: \"\\00b7\"; padding: 0 .5ex}\n",
       "</style>\n",
       "<ol class=list-inline><li>11090</li><li>24</li></ol>\n"
      ],
      "text/latex": [
       "\\begin{enumerate*}\n",
       "\\item 11090\n",
       "\\item 24\n",
       "\\end{enumerate*}\n"
      ],
      "text/markdown": [
       "1. 11090\n",
       "2. 24\n",
       "\n",
       "\n"
      ],
      "text/plain": [
       "[1] 11090    24"
      ]
     },
     "metadata": {},
     "output_type": "display_data"
    }
   ],
   "source": [
    "head(bar.table)\n",
    "dim(bar.table)"
   ]
  },
  {
   "cell_type": "code",
   "execution_count": 15,
   "id": "f719431b-fcfd-44ee-ad57-0efb19fdf192",
   "metadata": {},
   "outputs": [
    {
     "name": "stdout",
     "output_type": "stream",
     "text": [
      "Performing PCA\n",
      "Read the 11090 x 24 data matrix successfully!\n",
      "OpenMP is working. 1 threads.\n",
      "Using no_dims = 2, perplexity = 30.000000, and theta = 0.500000\n",
      "Computing input similarities...\n",
      "Building tree...\n",
      " - point 10000 of 11090\n",
      "Done in 5.36 seconds (sparsity = 0.012463)!\n",
      "Learning embedding...\n",
      "Iteration 50: error is 96.778077 (50 iterations in 1.95 seconds)\n",
      "Iteration 100: error is 91.259963 (50 iterations in 3.14 seconds)\n",
      "Iteration 150: error is 84.971830 (50 iterations in 1.95 seconds)\n",
      "Iteration 200: error is 83.949722 (50 iterations in 1.95 seconds)\n",
      "Iteration 250: error is 83.523024 (50 iterations in 1.95 seconds)\n",
      "Iteration 300: error is 3.082769 (50 iterations in 1.87 seconds)\n",
      "Iteration 350: error is 2.755405 (50 iterations in 1.75 seconds)\n",
      "Iteration 400: error is 2.587871 (50 iterations in 1.75 seconds)\n",
      "Iteration 450: error is 2.482398 (50 iterations in 1.73 seconds)\n",
      "Iteration 500: error is 2.408486 (50 iterations in 1.74 seconds)\n",
      "Iteration 550: error is 2.352327 (50 iterations in 1.74 seconds)\n",
      "Iteration 600: error is 2.309451 (50 iterations in 1.75 seconds)\n",
      "Iteration 650: error is 2.275581 (50 iterations in 1.77 seconds)\n",
      "Iteration 700: error is 2.247864 (50 iterations in 1.77 seconds)\n",
      "Iteration 750: error is 2.225263 (50 iterations in 1.79 seconds)\n",
      "Iteration 800: error is 2.207200 (50 iterations in 1.79 seconds)\n",
      "Iteration 850: error is 2.192165 (50 iterations in 1.79 seconds)\n",
      "Iteration 900: error is 2.181169 (50 iterations in 1.81 seconds)\n",
      "Iteration 950: error is 2.173742 (50 iterations in 1.81 seconds)\n",
      "Iteration 1000: error is 2.167765 (50 iterations in 1.80 seconds)\n",
      "Iteration 1050: error is 2.163071 (50 iterations in 1.80 seconds)\n",
      "Iteration 1100: error is 2.159124 (50 iterations in 1.81 seconds)\n",
      "Iteration 1150: error is 2.155666 (50 iterations in 1.82 seconds)\n",
      "Iteration 1200: error is 2.152273 (50 iterations in 1.83 seconds)\n",
      "Iteration 1250: error is 2.148948 (50 iterations in 1.82 seconds)\n",
      "Iteration 1300: error is 2.145566 (50 iterations in 1.84 seconds)\n",
      "Iteration 1350: error is 2.142921 (50 iterations in 1.85 seconds)\n",
      "Iteration 1400: error is 2.140235 (50 iterations in 1.84 seconds)\n",
      "Iteration 1450: error is 2.137379 (50 iterations in 1.86 seconds)\n",
      "Iteration 1500: error is 2.134511 (50 iterations in 1.86 seconds)\n",
      "Iteration 1550: error is 2.131891 (50 iterations in 1.86 seconds)\n",
      "Iteration 1600: error is 2.129083 (50 iterations in 1.85 seconds)\n",
      "Iteration 1650: error is 2.126359 (50 iterations in 1.85 seconds)\n",
      "Iteration 1700: error is 2.123806 (50 iterations in 1.87 seconds)\n",
      "Iteration 1750: error is 2.121552 (50 iterations in 1.87 seconds)\n",
      "Iteration 1800: error is 2.119135 (50 iterations in 1.86 seconds)\n",
      "Iteration 1850: error is 2.116840 (50 iterations in 1.87 seconds)\n",
      "Iteration 1900: error is 2.114722 (50 iterations in 1.87 seconds)\n",
      "Iteration 1950: error is 2.112608 (50 iterations in 1.87 seconds)\n",
      "Iteration 2000: error is 2.110644 (50 iterations in 1.86 seconds)\n",
      "Iteration 2050: error is 2.108709 (50 iterations in 1.86 seconds)\n",
      "Iteration 2100: error is 2.107072 (50 iterations in 1.86 seconds)\n",
      "Iteration 2150: error is 2.105673 (50 iterations in 1.86 seconds)\n",
      "Iteration 2200: error is 2.104326 (50 iterations in 1.85 seconds)\n",
      "Iteration 2250: error is 2.102964 (50 iterations in 1.86 seconds)\n",
      "Iteration 2300: error is 2.101719 (50 iterations in 1.85 seconds)\n",
      "Iteration 2350: error is 2.100492 (50 iterations in 1.84 seconds)\n",
      "Iteration 2400: error is 2.099420 (50 iterations in 1.85 seconds)\n",
      "Iteration 2450: error is 2.098316 (50 iterations in 1.84 seconds)\n",
      "Iteration 2500: error is 2.097295 (50 iterations in 1.85 seconds)\n",
      "Fitting performed in 93.07 seconds.\n"
     ]
    },
    {
     "data": {
      "text/html": [
       "<strong>png:</strong> 2"
      ],
      "text/latex": [
       "\\textbf{png:} 2"
      ],
      "text/markdown": [
       "**png:** 2"
      ],
      "text/plain": [
       "png \n",
       "  2 "
      ]
     },
     "metadata": {},
     "output_type": "display_data"
    }
   ],
   "source": [
    "## Visualize barcode space\n",
    "bar.tsne <- barTSNE(bar.table[,1:24]) \n",
    "## Note: Exclude columns 97:98 (assuming 96 barcodes were used) which provide total barcode UMI counts for each cell. \n",
    "\n",
    "pdf(\"./outputs/MULTIseq/120h_2_bc.check_round3.pdf\")\n",
    "for (i in 3:ncol(bar.tsne)) {\n",
    "  g <- ggplot(bar.tsne, aes(x = TSNE1, y = TSNE2, color = bar.tsne[,i])) +\n",
    "    geom_point() +\n",
    "    scale_color_gradient(low = \"black\", high = \"red\") +\n",
    "    ggtitle(colnames(bar.tsne)[i]) +\n",
    "    theme(legend.position = \"none\") \n",
    "  print(g)\n",
    "}\n",
    "dev.off()"
   ]
  },
  {
   "cell_type": "markdown",
   "id": "01e1b81c-75b5-46c9-8c21-46174a1dc898",
   "metadata": {},
   "source": [
    "## Generation of barcode table"
   ]
  },
  {
   "cell_type": "code",
   "execution_count": 16,
   "id": "efb97076-3561-4952-94ed-6fb27714df13",
   "metadata": {},
   "outputs": [
    {
     "data": {
      "text/html": [
       "<table class=\"dataframe\">\n",
       "<caption>A data.frame: 6 × 24</caption>\n",
       "<thead>\n",
       "\t<tr><th></th><th scope=col>Bar1</th><th scope=col>Bar2</th><th scope=col>Bar3</th><th scope=col>Bar4</th><th scope=col>Bar5</th><th scope=col>Bar6</th><th scope=col>Bar7</th><th scope=col>Bar8</th><th scope=col>Bar9</th><th scope=col>Bar10</th><th scope=col>⋯</th><th scope=col>Bar15</th><th scope=col>Bar16</th><th scope=col>Bar17</th><th scope=col>Bar18</th><th scope=col>Bar19</th><th scope=col>Bar20</th><th scope=col>Bar21</th><th scope=col>Bar22</th><th scope=col>Bar23</th><th scope=col>Bar24</th></tr>\n",
       "\t<tr><th></th><th scope=col>&lt;int&gt;</th><th scope=col>&lt;int&gt;</th><th scope=col>&lt;int&gt;</th><th scope=col>&lt;int&gt;</th><th scope=col>&lt;int&gt;</th><th scope=col>&lt;int&gt;</th><th scope=col>&lt;int&gt;</th><th scope=col>&lt;int&gt;</th><th scope=col>&lt;int&gt;</th><th scope=col>&lt;int&gt;</th><th scope=col>⋯</th><th scope=col>&lt;int&gt;</th><th scope=col>&lt;int&gt;</th><th scope=col>&lt;int&gt;</th><th scope=col>&lt;int&gt;</th><th scope=col>&lt;int&gt;</th><th scope=col>&lt;int&gt;</th><th scope=col>&lt;int&gt;</th><th scope=col>&lt;int&gt;</th><th scope=col>&lt;int&gt;</th><th scope=col>&lt;int&gt;</th></tr>\n",
       "</thead>\n",
       "<tbody>\n",
       "\t<tr><th scope=row>AAACCCAAGAAGTCCG</th><td>12</td><td>34</td><td>2</td><td>  3</td><td>4</td><td>  6</td><td> 4</td><td>7</td><td>37</td><td>32</td><td>⋯</td><td> 8</td><td>  12</td><td>12</td><td>7</td><td>1</td><td>  3</td><td>184</td><td> 4</td><td>  6</td><td> 3</td></tr>\n",
       "\t<tr><th scope=row>AAACCCACACTTGAGT</th><td> 4</td><td> 0</td><td>3</td><td>  1</td><td>3</td><td>  8</td><td> 1</td><td>9</td><td> 6</td><td> 5</td><td>⋯</td><td>11</td><td>1321</td><td>10</td><td>5</td><td>4</td><td>  0</td><td>  1</td><td> 8</td><td>  5</td><td> 6</td></tr>\n",
       "\t<tr><th scope=row>AAACCCACAGGACTAG</th><td> 3</td><td> 1</td><td>6</td><td>132</td><td>4</td><td>  8</td><td> 9</td><td>3</td><td> 5</td><td> 3</td><td>⋯</td><td> 5</td><td>  13</td><td> 8</td><td>5</td><td>1</td><td>  3</td><td>  2</td><td> 5</td><td>  7</td><td>14</td></tr>\n",
       "\t<tr><th scope=row>AAACCCAGTATCCCTC</th><td> 1</td><td> 3</td><td>4</td><td>  2</td><td>4</td><td>188</td><td> 3</td><td>2</td><td> 4</td><td> 6</td><td>⋯</td><td>10</td><td>   5</td><td> 7</td><td>6</td><td>2</td><td>  4</td><td>  1</td><td> 5</td><td>  4</td><td> 6</td></tr>\n",
       "\t<tr><th scope=row>AAACCCAGTGTAGGAC</th><td> 7</td><td> 1</td><td>2</td><td>  5</td><td>5</td><td>  0</td><td>45</td><td>3</td><td> 7</td><td>10</td><td>⋯</td><td>35</td><td>  15</td><td>94</td><td>7</td><td>4</td><td>  1</td><td>  6</td><td> 4</td><td>247</td><td>14</td></tr>\n",
       "\t<tr><th scope=row>AAACCCAGTGTTCAGT</th><td> 4</td><td> 0</td><td>5</td><td>  1</td><td>4</td><td>  1</td><td> 5</td><td>3</td><td> 6</td><td> 6</td><td>⋯</td><td> 7</td><td>  11</td><td> 8</td><td>2</td><td>2</td><td>217</td><td>  4</td><td>16</td><td> 16</td><td> 5</td></tr>\n",
       "</tbody>\n",
       "</table>\n"
      ],
      "text/latex": [
       "A data.frame: 6 × 24\n",
       "\\begin{tabular}{r|lllllllllllllllllllll}\n",
       "  & Bar1 & Bar2 & Bar3 & Bar4 & Bar5 & Bar6 & Bar7 & Bar8 & Bar9 & Bar10 & ⋯ & Bar15 & Bar16 & Bar17 & Bar18 & Bar19 & Bar20 & Bar21 & Bar22 & Bar23 & Bar24\\\\\n",
       "  & <int> & <int> & <int> & <int> & <int> & <int> & <int> & <int> & <int> & <int> & ⋯ & <int> & <int> & <int> & <int> & <int> & <int> & <int> & <int> & <int> & <int>\\\\\n",
       "\\hline\n",
       "\tAAACCCAAGAAGTCCG & 12 & 34 & 2 &   3 & 4 &   6 &  4 & 7 & 37 & 32 & ⋯ &  8 &   12 & 12 & 7 & 1 &   3 & 184 &  4 &   6 &  3\\\\\n",
       "\tAAACCCACACTTGAGT &  4 &  0 & 3 &   1 & 3 &   8 &  1 & 9 &  6 &  5 & ⋯ & 11 & 1321 & 10 & 5 & 4 &   0 &   1 &  8 &   5 &  6\\\\\n",
       "\tAAACCCACAGGACTAG &  3 &  1 & 6 & 132 & 4 &   8 &  9 & 3 &  5 &  3 & ⋯ &  5 &   13 &  8 & 5 & 1 &   3 &   2 &  5 &   7 & 14\\\\\n",
       "\tAAACCCAGTATCCCTC &  1 &  3 & 4 &   2 & 4 & 188 &  3 & 2 &  4 &  6 & ⋯ & 10 &    5 &  7 & 6 & 2 &   4 &   1 &  5 &   4 &  6\\\\\n",
       "\tAAACCCAGTGTAGGAC &  7 &  1 & 2 &   5 & 5 &   0 & 45 & 3 &  7 & 10 & ⋯ & 35 &   15 & 94 & 7 & 4 &   1 &   6 &  4 & 247 & 14\\\\\n",
       "\tAAACCCAGTGTTCAGT &  4 &  0 & 5 &   1 & 4 &   1 &  5 & 3 &  6 &  6 & ⋯ &  7 &   11 &  8 & 2 & 2 & 217 &   4 & 16 &  16 &  5\\\\\n",
       "\\end{tabular}\n"
      ],
      "text/markdown": [
       "\n",
       "A data.frame: 6 × 24\n",
       "\n",
       "| <!--/--> | Bar1 &lt;int&gt; | Bar2 &lt;int&gt; | Bar3 &lt;int&gt; | Bar4 &lt;int&gt; | Bar5 &lt;int&gt; | Bar6 &lt;int&gt; | Bar7 &lt;int&gt; | Bar8 &lt;int&gt; | Bar9 &lt;int&gt; | Bar10 &lt;int&gt; | ⋯ ⋯ | Bar15 &lt;int&gt; | Bar16 &lt;int&gt; | Bar17 &lt;int&gt; | Bar18 &lt;int&gt; | Bar19 &lt;int&gt; | Bar20 &lt;int&gt; | Bar21 &lt;int&gt; | Bar22 &lt;int&gt; | Bar23 &lt;int&gt; | Bar24 &lt;int&gt; |\n",
       "|---|---|---|---|---|---|---|---|---|---|---|---|---|---|---|---|---|---|---|---|---|---|\n",
       "| AAACCCAAGAAGTCCG | 12 | 34 | 2 |   3 | 4 |   6 |  4 | 7 | 37 | 32 | ⋯ |  8 |   12 | 12 | 7 | 1 |   3 | 184 |  4 |   6 |  3 |\n",
       "| AAACCCACACTTGAGT |  4 |  0 | 3 |   1 | 3 |   8 |  1 | 9 |  6 |  5 | ⋯ | 11 | 1321 | 10 | 5 | 4 |   0 |   1 |  8 |   5 |  6 |\n",
       "| AAACCCACAGGACTAG |  3 |  1 | 6 | 132 | 4 |   8 |  9 | 3 |  5 |  3 | ⋯ |  5 |   13 |  8 | 5 | 1 |   3 |   2 |  5 |   7 | 14 |\n",
       "| AAACCCAGTATCCCTC |  1 |  3 | 4 |   2 | 4 | 188 |  3 | 2 |  4 |  6 | ⋯ | 10 |    5 |  7 | 6 | 2 |   4 |   1 |  5 |   4 |  6 |\n",
       "| AAACCCAGTGTAGGAC |  7 |  1 | 2 |   5 | 5 |   0 | 45 | 3 |  7 | 10 | ⋯ | 35 |   15 | 94 | 7 | 4 |   1 |   6 |  4 | 247 | 14 |\n",
       "| AAACCCAGTGTTCAGT |  4 |  0 | 5 |   1 | 4 |   1 |  5 | 3 |  6 |  6 | ⋯ |  7 |   11 |  8 | 2 | 2 | 217 |   4 | 16 |  16 |  5 |\n",
       "\n"
      ],
      "text/plain": [
       "                 Bar1 Bar2 Bar3 Bar4 Bar5 Bar6 Bar7 Bar8 Bar9 Bar10 ⋯ Bar15\n",
       "AAACCCAAGAAGTCCG 12   34   2      3  4      6   4   7    37   32    ⋯  8   \n",
       "AAACCCACACTTGAGT  4    0   3      1  3      8   1   9     6    5    ⋯ 11   \n",
       "AAACCCACAGGACTAG  3    1   6    132  4      8   9   3     5    3    ⋯  5   \n",
       "AAACCCAGTATCCCTC  1    3   4      2  4    188   3   2     4    6    ⋯ 10   \n",
       "AAACCCAGTGTAGGAC  7    1   2      5  5      0  45   3     7   10    ⋯ 35   \n",
       "AAACCCAGTGTTCAGT  4    0   5      1  4      1   5   3     6    6    ⋯  7   \n",
       "                 Bar16 Bar17 Bar18 Bar19 Bar20 Bar21 Bar22 Bar23 Bar24\n",
       "AAACCCAAGAAGTCCG   12  12    7     1       3   184    4      6    3   \n",
       "AAACCCACACTTGAGT 1321  10    5     4       0     1    8      5    6   \n",
       "AAACCCACAGGACTAG   13   8    5     1       3     2    5      7   14   \n",
       "AAACCCAGTATCCCTC    5   7    6     2       4     1    5      4    6   \n",
       "AAACCCAGTGTAGGAC   15  94    7     4       1     6    4    247   14   \n",
       "AAACCCAGTGTTCAGT   11   8    2     2     217     4   16     16    5   "
      ]
     },
     "metadata": {},
     "output_type": "display_data"
    },
    {
     "data": {
      "text/html": [
       "<style>\n",
       ".list-inline {list-style: none; margin:0; padding: 0}\n",
       ".list-inline>li {display: inline-block}\n",
       ".list-inline>li:not(:last-child)::after {content: \"\\00b7\"; padding: 0 .5ex}\n",
       "</style>\n",
       "<ol class=list-inline><li>11090</li><li>24</li></ol>\n"
      ],
      "text/latex": [
       "\\begin{enumerate*}\n",
       "\\item 11090\n",
       "\\item 24\n",
       "\\end{enumerate*}\n"
      ],
      "text/markdown": [
       "1. 11090\n",
       "2. 24\n",
       "\n",
       "\n"
      ],
      "text/plain": [
       "[1] 11090    24"
      ]
     },
     "metadata": {},
     "output_type": "display_data"
    }
   ],
   "source": [
    "head(bar.table)\n",
    "dim(bar.table)\n",
    "bar.table$cell <- rownames(bar.table)"
   ]
  },
  {
   "cell_type": "code",
   "execution_count": 17,
   "id": "3e0de906-8233-4760-9fe0-cfd95a2d7d99",
   "metadata": {},
   "outputs": [
    {
     "data": {
      "text/plain": [
       "final.calls\n",
       "    Bar1    Bar10    Bar11    Bar12    Bar13    Bar14    Bar15    Bar16 \n",
       "     609      235      217      396      165      278      505      556 \n",
       "   Bar17    Bar18    Bar19     Bar2    Bar20    Bar21    Bar22    Bar23 \n",
       "     335      228      240      284      201      224      497      631 \n",
       "   Bar24     Bar3     Bar4     Bar5     Bar6     Bar7     Bar8     Bar9 \n",
       "     276      234      702      254      549      263      479      342 \n",
       " Doublet Negative \n",
       "    2378     1696 "
      ]
     },
     "metadata": {},
     "output_type": "display_data"
    },
    {
     "data": {
      "text/html": [
       "12774"
      ],
      "text/latex": [
       "12774"
      ],
      "text/markdown": [
       "12774"
      ],
      "text/plain": [
       "[1] 12774"
      ]
     },
     "metadata": {},
     "output_type": "display_data"
    }
   ],
   "source": [
    "table(final.calls)\n",
    "length(final.calls)"
   ]
  },
  {
   "cell_type": "code",
   "execution_count": 18,
   "id": "0c1e503f-b02a-4b02-adca-5017ab16e4fe",
   "metadata": {},
   "outputs": [
    {
     "data": {
      "text/plain": [
       "\n",
       "    Bar1    Bar10    Bar11    Bar12    Bar13    Bar14    Bar15    Bar16 \n",
       "     609      235      217      396      165      278      505      556 \n",
       "   Bar17    Bar18    Bar19     Bar2    Bar20    Bar21    Bar22    Bar23 \n",
       "     335      228      240      284      201      224      497      631 \n",
       "   Bar24     Bar3     Bar4     Bar5     Bar6     Bar7     Bar8     Bar9 \n",
       "     276      234      702      254      549      263      479      342 \n",
       " Doublet Negative \n",
       "    2378     1696 "
      ]
     },
     "metadata": {},
     "output_type": "display_data"
    },
    {
     "data": {
      "text/html": [
       "<table class=\"dataframe\">\n",
       "<caption>A data.frame: 6 × 26</caption>\n",
       "<thead>\n",
       "\t<tr><th></th><th scope=col>cell</th><th scope=col>Bar1</th><th scope=col>Bar2</th><th scope=col>Bar3</th><th scope=col>Bar4</th><th scope=col>Bar5</th><th scope=col>Bar6</th><th scope=col>Bar7</th><th scope=col>Bar8</th><th scope=col>Bar9</th><th scope=col>⋯</th><th scope=col>Bar16</th><th scope=col>Bar17</th><th scope=col>Bar18</th><th scope=col>Bar19</th><th scope=col>Bar20</th><th scope=col>Bar21</th><th scope=col>Bar22</th><th scope=col>Bar23</th><th scope=col>Bar24</th><th scope=col>V1</th></tr>\n",
       "\t<tr><th></th><th scope=col>&lt;chr&gt;</th><th scope=col>&lt;int&gt;</th><th scope=col>&lt;int&gt;</th><th scope=col>&lt;int&gt;</th><th scope=col>&lt;int&gt;</th><th scope=col>&lt;int&gt;</th><th scope=col>&lt;int&gt;</th><th scope=col>&lt;int&gt;</th><th scope=col>&lt;int&gt;</th><th scope=col>&lt;int&gt;</th><th scope=col>⋯</th><th scope=col>&lt;int&gt;</th><th scope=col>&lt;int&gt;</th><th scope=col>&lt;int&gt;</th><th scope=col>&lt;int&gt;</th><th scope=col>&lt;int&gt;</th><th scope=col>&lt;int&gt;</th><th scope=col>&lt;int&gt;</th><th scope=col>&lt;int&gt;</th><th scope=col>&lt;int&gt;</th><th scope=col>&lt;chr&gt;</th></tr>\n",
       "</thead>\n",
       "<tbody>\n",
       "\t<tr><th scope=row>1</th><td>AAACCCAAGAAGTCCG</td><td>12</td><td>34</td><td>2</td><td>  3</td><td>4</td><td>  6</td><td> 4</td><td>7</td><td>37</td><td>⋯</td><td>  12</td><td>12</td><td>7</td><td>1</td><td>  3</td><td>184</td><td> 4</td><td>  6</td><td> 3</td><td>Bar21</td></tr>\n",
       "\t<tr><th scope=row>2</th><td>AAACCCACACTTGAGT</td><td> 4</td><td> 0</td><td>3</td><td>  1</td><td>3</td><td>  8</td><td> 1</td><td>9</td><td> 6</td><td>⋯</td><td>1321</td><td>10</td><td>5</td><td>4</td><td>  0</td><td>  1</td><td> 8</td><td>  5</td><td> 6</td><td>Bar16</td></tr>\n",
       "\t<tr><th scope=row>3</th><td>AAACCCACAGGACTAG</td><td> 3</td><td> 1</td><td>6</td><td>132</td><td>4</td><td>  8</td><td> 9</td><td>3</td><td> 5</td><td>⋯</td><td>  13</td><td> 8</td><td>5</td><td>1</td><td>  3</td><td>  2</td><td> 5</td><td>  7</td><td>14</td><td>Bar4 </td></tr>\n",
       "\t<tr><th scope=row>4</th><td>AAACCCAGTATCCCTC</td><td> 1</td><td> 3</td><td>4</td><td>  2</td><td>4</td><td>188</td><td> 3</td><td>2</td><td> 4</td><td>⋯</td><td>   5</td><td> 7</td><td>6</td><td>2</td><td>  4</td><td>  1</td><td> 5</td><td>  4</td><td> 6</td><td>Bar6 </td></tr>\n",
       "\t<tr><th scope=row>5</th><td>AAACCCAGTGTAGGAC</td><td> 7</td><td> 1</td><td>2</td><td>  5</td><td>5</td><td>  0</td><td>45</td><td>3</td><td> 7</td><td>⋯</td><td>  15</td><td>94</td><td>7</td><td>4</td><td>  1</td><td>  6</td><td> 4</td><td>247</td><td>14</td><td>Bar23</td></tr>\n",
       "\t<tr><th scope=row>6</th><td>AAACCCAGTGTTCAGT</td><td> 4</td><td> 0</td><td>5</td><td>  1</td><td>4</td><td>  1</td><td> 5</td><td>3</td><td> 6</td><td>⋯</td><td>  11</td><td> 8</td><td>2</td><td>2</td><td>217</td><td>  4</td><td>16</td><td> 16</td><td> 5</td><td>Bar20</td></tr>\n",
       "</tbody>\n",
       "</table>\n"
      ],
      "text/latex": [
       "A data.frame: 6 × 26\n",
       "\\begin{tabular}{r|lllllllllllllllllllll}\n",
       "  & cell & Bar1 & Bar2 & Bar3 & Bar4 & Bar5 & Bar6 & Bar7 & Bar8 & Bar9 & ⋯ & Bar16 & Bar17 & Bar18 & Bar19 & Bar20 & Bar21 & Bar22 & Bar23 & Bar24 & V1\\\\\n",
       "  & <chr> & <int> & <int> & <int> & <int> & <int> & <int> & <int> & <int> & <int> & ⋯ & <int> & <int> & <int> & <int> & <int> & <int> & <int> & <int> & <int> & <chr>\\\\\n",
       "\\hline\n",
       "\t1 & AAACCCAAGAAGTCCG & 12 & 34 & 2 &   3 & 4 &   6 &  4 & 7 & 37 & ⋯ &   12 & 12 & 7 & 1 &   3 & 184 &  4 &   6 &  3 & Bar21\\\\\n",
       "\t2 & AAACCCACACTTGAGT &  4 &  0 & 3 &   1 & 3 &   8 &  1 & 9 &  6 & ⋯ & 1321 & 10 & 5 & 4 &   0 &   1 &  8 &   5 &  6 & Bar16\\\\\n",
       "\t3 & AAACCCACAGGACTAG &  3 &  1 & 6 & 132 & 4 &   8 &  9 & 3 &  5 & ⋯ &   13 &  8 & 5 & 1 &   3 &   2 &  5 &   7 & 14 & Bar4 \\\\\n",
       "\t4 & AAACCCAGTATCCCTC &  1 &  3 & 4 &   2 & 4 & 188 &  3 & 2 &  4 & ⋯ &    5 &  7 & 6 & 2 &   4 &   1 &  5 &   4 &  6 & Bar6 \\\\\n",
       "\t5 & AAACCCAGTGTAGGAC &  7 &  1 & 2 &   5 & 5 &   0 & 45 & 3 &  7 & ⋯ &   15 & 94 & 7 & 4 &   1 &   6 &  4 & 247 & 14 & Bar23\\\\\n",
       "\t6 & AAACCCAGTGTTCAGT &  4 &  0 & 5 &   1 & 4 &   1 &  5 & 3 &  6 & ⋯ &   11 &  8 & 2 & 2 & 217 &   4 & 16 &  16 &  5 & Bar20\\\\\n",
       "\\end{tabular}\n"
      ],
      "text/markdown": [
       "\n",
       "A data.frame: 6 × 26\n",
       "\n",
       "| <!--/--> | cell &lt;chr&gt; | Bar1 &lt;int&gt; | Bar2 &lt;int&gt; | Bar3 &lt;int&gt; | Bar4 &lt;int&gt; | Bar5 &lt;int&gt; | Bar6 &lt;int&gt; | Bar7 &lt;int&gt; | Bar8 &lt;int&gt; | Bar9 &lt;int&gt; | ⋯ ⋯ | Bar16 &lt;int&gt; | Bar17 &lt;int&gt; | Bar18 &lt;int&gt; | Bar19 &lt;int&gt; | Bar20 &lt;int&gt; | Bar21 &lt;int&gt; | Bar22 &lt;int&gt; | Bar23 &lt;int&gt; | Bar24 &lt;int&gt; | V1 &lt;chr&gt; |\n",
       "|---|---|---|---|---|---|---|---|---|---|---|---|---|---|---|---|---|---|---|---|---|---|\n",
       "| 1 | AAACCCAAGAAGTCCG | 12 | 34 | 2 |   3 | 4 |   6 |  4 | 7 | 37 | ⋯ |   12 | 12 | 7 | 1 |   3 | 184 |  4 |   6 |  3 | Bar21 |\n",
       "| 2 | AAACCCACACTTGAGT |  4 |  0 | 3 |   1 | 3 |   8 |  1 | 9 |  6 | ⋯ | 1321 | 10 | 5 | 4 |   0 |   1 |  8 |   5 |  6 | Bar16 |\n",
       "| 3 | AAACCCACAGGACTAG |  3 |  1 | 6 | 132 | 4 |   8 |  9 | 3 |  5 | ⋯ |   13 |  8 | 5 | 1 |   3 |   2 |  5 |   7 | 14 | Bar4  |\n",
       "| 4 | AAACCCAGTATCCCTC |  1 |  3 | 4 |   2 | 4 | 188 |  3 | 2 |  4 | ⋯ |    5 |  7 | 6 | 2 |   4 |   1 |  5 |   4 |  6 | Bar6  |\n",
       "| 5 | AAACCCAGTGTAGGAC |  7 |  1 | 2 |   5 | 5 |   0 | 45 | 3 |  7 | ⋯ |   15 | 94 | 7 | 4 |   1 |   6 |  4 | 247 | 14 | Bar23 |\n",
       "| 6 | AAACCCAGTGTTCAGT |  4 |  0 | 5 |   1 | 4 |   1 |  5 | 3 |  6 | ⋯ |   11 |  8 | 2 | 2 | 217 |   4 | 16 |  16 |  5 | Bar20 |\n",
       "\n"
      ],
      "text/plain": [
       "  cell             Bar1 Bar2 Bar3 Bar4 Bar5 Bar6 Bar7 Bar8 Bar9 ⋯ Bar16 Bar17\n",
       "1 AAACCCAAGAAGTCCG 12   34   2      3  4      6   4   7    37   ⋯   12  12   \n",
       "2 AAACCCACACTTGAGT  4    0   3      1  3      8   1   9     6   ⋯ 1321  10   \n",
       "3 AAACCCACAGGACTAG  3    1   6    132  4      8   9   3     5   ⋯   13   8   \n",
       "4 AAACCCAGTATCCCTC  1    3   4      2  4    188   3   2     4   ⋯    5   7   \n",
       "5 AAACCCAGTGTAGGAC  7    1   2      5  5      0  45   3     7   ⋯   15  94   \n",
       "6 AAACCCAGTGTTCAGT  4    0   5      1  4      1   5   3     6   ⋯   11   8   \n",
       "  Bar18 Bar19 Bar20 Bar21 Bar22 Bar23 Bar24 V1   \n",
       "1 7     1       3   184    4      6    3    Bar21\n",
       "2 5     4       0     1    8      5    6    Bar16\n",
       "3 5     1       3     2    5      7   14    Bar4 \n",
       "4 6     2       4     1    5      4    6    Bar6 \n",
       "5 7     4       1     6    4    247   14    Bar23\n",
       "6 2     2     217     4   16     16    5    Bar20"
      ]
     },
     "metadata": {},
     "output_type": "display_data"
    },
    {
     "data": {
      "text/html": [
       "<style>\n",
       ".list-inline {list-style: none; margin:0; padding: 0}\n",
       ".list-inline>li {display: inline-block}\n",
       ".list-inline>li:not(:last-child)::after {content: \"\\00b7\"; padding: 0 .5ex}\n",
       "</style>\n",
       "<ol class=list-inline><li>11090</li><li>26</li></ol>\n"
      ],
      "text/latex": [
       "\\begin{enumerate*}\n",
       "\\item 11090\n",
       "\\item 26\n",
       "\\end{enumerate*}\n"
      ],
      "text/markdown": [
       "1. 11090\n",
       "2. 26\n",
       "\n",
       "\n"
      ],
      "text/plain": [
       "[1] 11090    26"
      ]
     },
     "metadata": {},
     "output_type": "display_data"
    },
    {
     "data": {
      "text/plain": [
       "\n",
       "    Bar1    Bar10    Bar11    Bar12    Bar13    Bar14    Bar15    Bar16 \n",
       "     609      235      217      396      165      278      505      556 \n",
       "   Bar17    Bar18    Bar19     Bar2    Bar20    Bar21    Bar22    Bar23 \n",
       "     335      228      240      284      201      224      497      631 \n",
       "   Bar24     Bar3     Bar4     Bar5     Bar6     Bar7     Bar8     Bar9 \n",
       "     276      234      702      254      549      263      479      342 \n",
       " Doublet Negative \n",
       "    2378       12 "
      ]
     },
     "metadata": {},
     "output_type": "display_data"
    }
   ],
   "source": [
    "prueba <- as.matrix(final.calls)\n",
    "prueba <- as.data.frame(prueba)\n",
    "prueba$cell <- rownames(prueba)\n",
    "table(prueba$V1)\n",
    "\n",
    "prueba.merged <- merge (bar.table, prueba, by = \"cell\")\n",
    "prueba.merged$V1 <- as.character(prueba.merged$V1)\n",
    "\n",
    "barcode_assignment_120h_2 <- prueba.merged\n",
    "head(barcode_assignment_120h_2)\n",
    "dim(barcode_assignment_120h_2)\n",
    "table(barcode_assignment_120h_2$V1)"
   ]
  },
  {
   "cell_type": "markdown",
   "id": "b8693584-30c1-45f6-8a71-5d3d8dcc0d2d",
   "metadata": {},
   "source": [
    "## Generation of table of assignment for stacked barplot visualization"
   ]
  },
  {
   "cell_type": "code",
   "execution_count": 19,
   "id": "6f1dafe2-9719-4236-aea2-e773439a1482",
   "metadata": {},
   "outputs": [
    {
     "data": {
      "text/html": [
       "<table class=\"dataframe\">\n",
       "<caption>A data.frame: 26 × 2</caption>\n",
       "<thead>\n",
       "\t<tr><th scope=col>Var1</th><th scope=col>Freq</th></tr>\n",
       "\t<tr><th scope=col>&lt;fct&gt;</th><th scope=col>&lt;int&gt;</th></tr>\n",
       "</thead>\n",
       "<tbody>\n",
       "\t<tr><td>Bar1    </td><td> 609</td></tr>\n",
       "\t<tr><td>Bar10   </td><td> 235</td></tr>\n",
       "\t<tr><td>Bar11   </td><td> 217</td></tr>\n",
       "\t<tr><td>Bar12   </td><td> 396</td></tr>\n",
       "\t<tr><td>Bar13   </td><td> 165</td></tr>\n",
       "\t<tr><td>Bar14   </td><td> 278</td></tr>\n",
       "\t<tr><td>Bar15   </td><td> 505</td></tr>\n",
       "\t<tr><td>Bar16   </td><td> 556</td></tr>\n",
       "\t<tr><td>Bar17   </td><td> 335</td></tr>\n",
       "\t<tr><td>Bar18   </td><td> 228</td></tr>\n",
       "\t<tr><td>Bar19   </td><td> 240</td></tr>\n",
       "\t<tr><td>Bar2    </td><td> 284</td></tr>\n",
       "\t<tr><td>Bar20   </td><td> 201</td></tr>\n",
       "\t<tr><td>Bar21   </td><td> 224</td></tr>\n",
       "\t<tr><td>Bar22   </td><td> 497</td></tr>\n",
       "\t<tr><td>Bar23   </td><td> 631</td></tr>\n",
       "\t<tr><td>Bar24   </td><td> 276</td></tr>\n",
       "\t<tr><td>Bar3    </td><td> 234</td></tr>\n",
       "\t<tr><td>Bar4    </td><td> 702</td></tr>\n",
       "\t<tr><td>Bar5    </td><td> 254</td></tr>\n",
       "\t<tr><td>Bar6    </td><td> 549</td></tr>\n",
       "\t<tr><td>Bar7    </td><td> 263</td></tr>\n",
       "\t<tr><td>Bar8    </td><td> 479</td></tr>\n",
       "\t<tr><td>Bar9    </td><td> 342</td></tr>\n",
       "\t<tr><td>Doublet </td><td>2378</td></tr>\n",
       "\t<tr><td>Negative</td><td>  12</td></tr>\n",
       "</tbody>\n",
       "</table>\n"
      ],
      "text/latex": [
       "A data.frame: 26 × 2\n",
       "\\begin{tabular}{ll}\n",
       " Var1 & Freq\\\\\n",
       " <fct> & <int>\\\\\n",
       "\\hline\n",
       "\t Bar1     &  609\\\\\n",
       "\t Bar10    &  235\\\\\n",
       "\t Bar11    &  217\\\\\n",
       "\t Bar12    &  396\\\\\n",
       "\t Bar13    &  165\\\\\n",
       "\t Bar14    &  278\\\\\n",
       "\t Bar15    &  505\\\\\n",
       "\t Bar16    &  556\\\\\n",
       "\t Bar17    &  335\\\\\n",
       "\t Bar18    &  228\\\\\n",
       "\t Bar19    &  240\\\\\n",
       "\t Bar2     &  284\\\\\n",
       "\t Bar20    &  201\\\\\n",
       "\t Bar21    &  224\\\\\n",
       "\t Bar22    &  497\\\\\n",
       "\t Bar23    &  631\\\\\n",
       "\t Bar24    &  276\\\\\n",
       "\t Bar3     &  234\\\\\n",
       "\t Bar4     &  702\\\\\n",
       "\t Bar5     &  254\\\\\n",
       "\t Bar6     &  549\\\\\n",
       "\t Bar7     &  263\\\\\n",
       "\t Bar8     &  479\\\\\n",
       "\t Bar9     &  342\\\\\n",
       "\t Doublet  & 2378\\\\\n",
       "\t Negative &   12\\\\\n",
       "\\end{tabular}\n"
      ],
      "text/markdown": [
       "\n",
       "A data.frame: 26 × 2\n",
       "\n",
       "| Var1 &lt;fct&gt; | Freq &lt;int&gt; |\n",
       "|---|---|\n",
       "| Bar1     |  609 |\n",
       "| Bar10    |  235 |\n",
       "| Bar11    |  217 |\n",
       "| Bar12    |  396 |\n",
       "| Bar13    |  165 |\n",
       "| Bar14    |  278 |\n",
       "| Bar15    |  505 |\n",
       "| Bar16    |  556 |\n",
       "| Bar17    |  335 |\n",
       "| Bar18    |  228 |\n",
       "| Bar19    |  240 |\n",
       "| Bar2     |  284 |\n",
       "| Bar20    |  201 |\n",
       "| Bar21    |  224 |\n",
       "| Bar22    |  497 |\n",
       "| Bar23    |  631 |\n",
       "| Bar24    |  276 |\n",
       "| Bar3     |  234 |\n",
       "| Bar4     |  702 |\n",
       "| Bar5     |  254 |\n",
       "| Bar6     |  549 |\n",
       "| Bar7     |  263 |\n",
       "| Bar8     |  479 |\n",
       "| Bar9     |  342 |\n",
       "| Doublet  | 2378 |\n",
       "| Negative |   12 |\n",
       "\n"
      ],
      "text/plain": [
       "   Var1     Freq\n",
       "1  Bar1      609\n",
       "2  Bar10     235\n",
       "3  Bar11     217\n",
       "4  Bar12     396\n",
       "5  Bar13     165\n",
       "6  Bar14     278\n",
       "7  Bar15     505\n",
       "8  Bar16     556\n",
       "9  Bar17     335\n",
       "10 Bar18     228\n",
       "11 Bar19     240\n",
       "12 Bar2      284\n",
       "13 Bar20     201\n",
       "14 Bar21     224\n",
       "15 Bar22     497\n",
       "16 Bar23     631\n",
       "17 Bar24     276\n",
       "18 Bar3      234\n",
       "19 Bar4      702\n",
       "20 Bar5      254\n",
       "21 Bar6      549\n",
       "22 Bar7      263\n",
       "23 Bar8      479\n",
       "24 Bar9      342\n",
       "25 Doublet  2378\n",
       "26 Negative   12"
      ]
     },
     "metadata": {},
     "output_type": "display_data"
    }
   ],
   "source": [
    "x <- data.frame(table(barcode_assignment_120h_2$V1))\n",
    "x"
   ]
  },
  {
   "cell_type": "code",
   "execution_count": 20,
   "id": "9ec89abb-af19-4d96-ae06-76c550c47262",
   "metadata": {},
   "outputs": [
    {
     "data": {
      "text/html": [
       "1660"
      ],
      "text/latex": [
       "1660"
      ],
      "text/markdown": [
       "1660"
      ],
      "text/plain": [
       "[1] 1660"
      ]
     },
     "metadata": {},
     "output_type": "display_data"
    }
   ],
   "source": [
    "bar <- sum(x$Freq[-(25:26)])\n",
    "doublet <- x[x[1]=='Doublet',2]\n",
    "negative <- x[x[1]=='Negative',2]\n",
    "unassigned <- initial_cell_number - sum(bar, doublet, negative)\n",
    "unassigned"
   ]
  },
  {
   "cell_type": "code",
   "execution_count": 21,
   "id": "37a15406-193e-4e97-9471-1b5012bc52f2",
   "metadata": {},
   "outputs": [
    {
     "data": {
      "text/html": [
       "<table class=\"dataframe\">\n",
       "<caption>A data.frame: 4 × 3</caption>\n",
       "<thead>\n",
       "\t<tr><th></th><th scope=col>Number_cells</th><th scope=col>Category</th><th scope=col>Sample</th></tr>\n",
       "\t<tr><th></th><th scope=col>&lt;int&gt;</th><th scope=col>&lt;fct&gt;</th><th scope=col>&lt;chr&gt;</th></tr>\n",
       "</thead>\n",
       "<tbody>\n",
       "\t<tr><th scope=row>Barcode_assigned</th><td>8700</td><td>Barcode_assigned</td><td>gast_120h_2</td></tr>\n",
       "\t<tr><th scope=row>Doublet</th><td>2378</td><td>Doublet         </td><td>gast_120h_2</td></tr>\n",
       "\t<tr><th scope=row>Negative</th><td>  12</td><td>Negative        </td><td>gast_120h_2</td></tr>\n",
       "\t<tr><th scope=row>Unassigned</th><td>1660</td><td>Unassigned      </td><td>gast_120h_2</td></tr>\n",
       "</tbody>\n",
       "</table>\n"
      ],
      "text/latex": [
       "A data.frame: 4 × 3\n",
       "\\begin{tabular}{r|lll}\n",
       "  & Number\\_cells & Category & Sample\\\\\n",
       "  & <int> & <fct> & <chr>\\\\\n",
       "\\hline\n",
       "\tBarcode\\_assigned & 8700 & Barcode\\_assigned & gast\\_120h\\_2\\\\\n",
       "\tDoublet & 2378 & Doublet          & gast\\_120h\\_2\\\\\n",
       "\tNegative &   12 & Negative         & gast\\_120h\\_2\\\\\n",
       "\tUnassigned & 1660 & Unassigned       & gast\\_120h\\_2\\\\\n",
       "\\end{tabular}\n"
      ],
      "text/markdown": [
       "\n",
       "A data.frame: 4 × 3\n",
       "\n",
       "| <!--/--> | Number_cells &lt;int&gt; | Category &lt;fct&gt; | Sample &lt;chr&gt; |\n",
       "|---|---|---|---|\n",
       "| Barcode_assigned | 8700 | Barcode_assigned | gast_120h_2 |\n",
       "| Doublet | 2378 | Doublet          | gast_120h_2 |\n",
       "| Negative |   12 | Negative         | gast_120h_2 |\n",
       "| Unassigned | 1660 | Unassigned       | gast_120h_2 |\n",
       "\n"
      ],
      "text/plain": [
       "                 Number_cells Category         Sample     \n",
       "Barcode_assigned 8700         Barcode_assigned gast_120h_2\n",
       "Doublet          2378         Doublet          gast_120h_2\n",
       "Negative           12         Negative         gast_120h_2\n",
       "Unassigned       1660         Unassigned       gast_120h_2"
      ]
     },
     "metadata": {},
     "output_type": "display_data"
    }
   ],
   "source": [
    "x <- data.frame(Number_cells= c(bar, doublet, negative, unassigned))\n",
    "rownames(x) <- c(\"Barcode_assigned\",\"Doublet\",\"Negative\", \"Unassigned\")\n",
    "x$Category <- rownames(x)\n",
    "x$Category <- factor(x$Category, levels = c(\"Unassigned\",\"Negative\",\"Doublet\",\"Barcode_assigned\"))\n",
    "x$Sample <- \"gast_120h_2\"\n",
    "head(x)\n",
    "\n",
    "multiseq_assignment_120h_2 <- x"
   ]
  },
  {
   "cell_type": "code",
   "execution_count": 25,
   "id": "fdc77a19-9e50-4077-8ec2-f4a9b98eaf58",
   "metadata": {},
   "outputs": [
    {
     "data": {
      "text/html": [
       "12750"
      ],
      "text/latex": [
       "12750"
      ],
      "text/markdown": [
       "12750"
      ],
      "text/plain": [
       "[1] 12750"
      ]
     },
     "metadata": {},
     "output_type": "display_data"
    },
    {
     "data": {
      "text/html": [
       "12750"
      ],
      "text/latex": [
       "12750"
      ],
      "text/markdown": [
       "12750"
      ],
      "text/plain": [
       "[1] 12750"
      ]
     },
     "metadata": {},
     "output_type": "display_data"
    },
    {
     "data": {
      "text/html": [
       "TRUE"
      ],
      "text/latex": [
       "TRUE"
      ],
      "text/markdown": [
       "TRUE"
      ],
      "text/plain": [
       "[1] TRUE"
      ]
     },
     "metadata": {},
     "output_type": "display_data"
    }
   ],
   "source": [
    "sum(multiseq_assignment_120h_2$Number_cells)\n",
    "initial_cell_number\n",
    "sum(multiseq_assignment_120h_2$Number_cells) == initial_cell_number"
   ]
  },
  {
   "cell_type": "code",
   "execution_count": 26,
   "id": "5799827a-f873-4a63-9e3f-d3a85700fde1",
   "metadata": {},
   "outputs": [
    {
     "data": {
      "image/png": "[encoded data removed]",
      "text/plain": [
       "plot without title"
      ]
     },
     "metadata": {
      "image/png": {
       "height": 420,
       "width": 420
      }
     },
     "output_type": "display_data"
    }
   ],
   "source": [
    "# Stacked\n",
    "ggplot(x, aes(fill=Category, y=Number_cells, x=Sample)) + \n",
    "  geom_bar(position=\"stack\", stat=\"identity\", colour=\"black\") +\n",
    "  scale_fill_manual(values=c(\"#f4a582\", \"#d95f02\", \"#7570b3\", \"#1b9e77\")) + \n",
    "  theme_minimal()"
   ]
  },
  {
   "cell_type": "markdown",
   "id": "acde3ee5-6204-4ca0-9edd-49aaf3f1a0c2",
   "metadata": {},
   "source": [
    "## Saving the files"
   ]
  },
  {
   "cell_type": "code",
   "execution_count": 27,
   "id": "2a398e41-e882-423a-8daa-e98db9e02190",
   "metadata": {},
   "outputs": [],
   "source": [
    "# Save files\n",
    "## \n",
    "saveRDS(barcode_assignment_120h_2, file = \"./files/demultiplexing/barcode_assignment_120h_2.rds\")\n",
    "saveRDS(multiseq_assignment_120h_2, file = \"./files/demultiplexing/multiseq_assignment_120h_2.rds\")"
   ]
  }
 ],
 "metadata": {
  "kernelspec": {
   "display_name": "R",
   "language": "R",
   "name": "ir"
  },
  "language_info": {
   "codemirror_mode": "r",
   "file_extension": ".r",
   "mimetype": "text/x-r-source",
   "name": "R",
   "pygments_lexer": "r",
   "version": "4.1.0"
  },
  "toc-autonumbering": true
 },
 "nbformat": 4,
 "nbformat_minor": 5
}
