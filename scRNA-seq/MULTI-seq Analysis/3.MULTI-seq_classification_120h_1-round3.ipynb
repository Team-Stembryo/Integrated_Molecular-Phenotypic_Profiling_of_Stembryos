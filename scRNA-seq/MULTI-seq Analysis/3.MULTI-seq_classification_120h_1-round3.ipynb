{
 "cells": [
  {
   "cell_type": "markdown",
   "id": "28565e49-089c-49ef-b1f5-80957c61902e",
   "metadata": {},
   "source": [
    "library(\"deMULTIplex\")\n",
    "library(\"ggplot2\")"
   ]
  },
  {
   "cell_type": "code",
   "execution_count": 2,
   "id": "c0126db1-d251-4089-b714-8615e5ccd9f7",
   "metadata": {},
   "outputs": [],
   "source": [
    "## deMULTIplexing ##\n",
    "setwd(\"/project/ABKlab/Natalia/sc-RNA-seq/single_TLS_project\")"
   ]
  },
  {
   "cell_type": "markdown",
   "id": "c8c8762b-dbd8-4c42-8101-28c8730ec759",
   "metadata": {},
   "source": [
    "# Table 120h_1"
   ]
  },
  {
   "cell_type": "code",
   "execution_count": 3,
   "id": "d60442d9-17a0-430f-a381-82c38573c31b",
   "metadata": {},
   "outputs": [],
   "source": [
    "bartable_120h_1 <- readRDS(\"./files/bartable_120h_1.rds\")"
   ]
  },
  {
   "cell_type": "code",
   "execution_count": 4,
   "id": "1193beea-d123-4fef-a81b-9673b7ddb861",
   "metadata": {},
   "outputs": [
    {
     "data": {
      "text/html": [
       "<table class=\"dataframe\">\n",
       "<caption>A data.frame: 6 × 26</caption>\n",
       "<thead>\n",
       "\t<tr><th></th><th scope=col>Bar1</th><th scope=col>Bar2</th><th scope=col>Bar3</th><th scope=col>Bar4</th><th scope=col>Bar5</th><th scope=col>Bar6</th><th scope=col>Bar7</th><th scope=col>Bar8</th><th scope=col>Bar9</th><th scope=col>Bar10</th><th scope=col>⋯</th><th scope=col>Bar17</th><th scope=col>Bar18</th><th scope=col>Bar19</th><th scope=col>Bar20</th><th scope=col>Bar21</th><th scope=col>Bar22</th><th scope=col>Bar23</th><th scope=col>Bar24</th><th scope=col>nUMI</th><th scope=col>nUMI_total</th></tr>\n",
       "\t<tr><th></th><th scope=col>&lt;int&gt;</th><th scope=col>&lt;int&gt;</th><th scope=col>&lt;int&gt;</th><th scope=col>&lt;int&gt;</th><th scope=col>&lt;int&gt;</th><th scope=col>&lt;int&gt;</th><th scope=col>&lt;int&gt;</th><th scope=col>&lt;int&gt;</th><th scope=col>&lt;int&gt;</th><th scope=col>&lt;int&gt;</th><th scope=col>⋯</th><th scope=col>&lt;int&gt;</th><th scope=col>&lt;int&gt;</th><th scope=col>&lt;int&gt;</th><th scope=col>&lt;int&gt;</th><th scope=col>&lt;int&gt;</th><th scope=col>&lt;int&gt;</th><th scope=col>&lt;int&gt;</th><th scope=col>&lt;int&gt;</th><th scope=col>&lt;int&gt;</th><th scope=col>&lt;int&gt;</th></tr>\n",
       "</thead>\n",
       "<tbody>\n",
       "\t<tr><th scope=row>AAACCCAAGATACATG</th><td> 3</td><td>  3</td><td>5</td><td>90</td><td>1</td><td>  3</td><td>2</td><td>6</td><td> 3</td><td>4</td><td>⋯</td><td>46</td><td>7</td><td>0</td><td>3</td><td>1</td><td> 5</td><td>8</td><td> 11</td><td> 240</td><td> 295</td></tr>\n",
       "\t<tr><th scope=row>AAACCCAAGATTGTGA</th><td> 1</td><td>  1</td><td>2</td><td> 5</td><td>1</td><td>  3</td><td>2</td><td>4</td><td> 6</td><td>7</td><td>⋯</td><td> 8</td><td>4</td><td>4</td><td>2</td><td>1</td><td> 5</td><td>6</td><td>  6</td><td> 116</td><td> 142</td></tr>\n",
       "\t<tr><th scope=row>AAACCCAAGCAGCCTC</th><td>11</td><td>  2</td><td>4</td><td> 3</td><td>5</td><td>  4</td><td>4</td><td>2</td><td> 7</td><td>5</td><td>⋯</td><td>16</td><td>3</td><td>4</td><td>2</td><td>4</td><td> 2</td><td>5</td><td>  8</td><td> 142</td><td> 200</td></tr>\n",
       "\t<tr><th scope=row>AAACCCAAGCCTATTG</th><td> 2</td><td>  3</td><td>6</td><td> 4</td><td>0</td><td>  3</td><td>6</td><td>4</td><td> 8</td><td>7</td><td>⋯</td><td>14</td><td>8</td><td>6</td><td>8</td><td>7</td><td>16</td><td>3</td><td>913</td><td>1321</td><td>1575</td></tr>\n",
       "\t<tr><th scope=row>AAACCCAAGCTGAAGC</th><td>39</td><td> 28</td><td>3</td><td> 2</td><td>3</td><td>762</td><td>2</td><td>4</td><td> 6</td><td>4</td><td>⋯</td><td> 6</td><td>5</td><td>1</td><td>3</td><td>3</td><td> 3</td><td>2</td><td>  2</td><td> 920</td><td>1051</td></tr>\n",
       "\t<tr><th scope=row>AAACCCAAGGTCCTGC</th><td> 7</td><td>370</td><td>0</td><td> 1</td><td>4</td><td>  4</td><td>4</td><td>6</td><td>10</td><td>4</td><td>⋯</td><td>33</td><td>3</td><td>4</td><td>1</td><td>6</td><td> 5</td><td>2</td><td>  6</td><td> 523</td><td> 637</td></tr>\n",
       "</tbody>\n",
       "</table>\n"
      ],
      "text/latex": [
       "A data.frame: 6 × 26\n",
       "\\begin{tabular}{r|lllllllllllllllllllll}\n",
       "  & Bar1 & Bar2 & Bar3 & Bar4 & Bar5 & Bar6 & Bar7 & Bar8 & Bar9 & Bar10 & ⋯ & Bar17 & Bar18 & Bar19 & Bar20 & Bar21 & Bar22 & Bar23 & Bar24 & nUMI & nUMI\\_total\\\\\n",
       "  & <int> & <int> & <int> & <int> & <int> & <int> & <int> & <int> & <int> & <int> & ⋯ & <int> & <int> & <int> & <int> & <int> & <int> & <int> & <int> & <int> & <int>\\\\\n",
       "\\hline\n",
       "\tAAACCCAAGATACATG &  3 &   3 & 5 & 90 & 1 &   3 & 2 & 6 &  3 & 4 & ⋯ & 46 & 7 & 0 & 3 & 1 &  5 & 8 &  11 &  240 &  295\\\\\n",
       "\tAAACCCAAGATTGTGA &  1 &   1 & 2 &  5 & 1 &   3 & 2 & 4 &  6 & 7 & ⋯ &  8 & 4 & 4 & 2 & 1 &  5 & 6 &   6 &  116 &  142\\\\\n",
       "\tAAACCCAAGCAGCCTC & 11 &   2 & 4 &  3 & 5 &   4 & 4 & 2 &  7 & 5 & ⋯ & 16 & 3 & 4 & 2 & 4 &  2 & 5 &   8 &  142 &  200\\\\\n",
       "\tAAACCCAAGCCTATTG &  2 &   3 & 6 &  4 & 0 &   3 & 6 & 4 &  8 & 7 & ⋯ & 14 & 8 & 6 & 8 & 7 & 16 & 3 & 913 & 1321 & 1575\\\\\n",
       "\tAAACCCAAGCTGAAGC & 39 &  28 & 3 &  2 & 3 & 762 & 2 & 4 &  6 & 4 & ⋯ &  6 & 5 & 1 & 3 & 3 &  3 & 2 &   2 &  920 & 1051\\\\\n",
       "\tAAACCCAAGGTCCTGC &  7 & 370 & 0 &  1 & 4 &   4 & 4 & 6 & 10 & 4 & ⋯ & 33 & 3 & 4 & 1 & 6 &  5 & 2 &   6 &  523 &  637\\\\\n",
       "\\end{tabular}\n"
      ],
      "text/markdown": [
       "\n",
       "A data.frame: 6 × 26\n",
       "\n",
       "| <!--/--> | Bar1 &lt;int&gt; | Bar2 &lt;int&gt; | Bar3 &lt;int&gt; | Bar4 &lt;int&gt; | Bar5 &lt;int&gt; | Bar6 &lt;int&gt; | Bar7 &lt;int&gt; | Bar8 &lt;int&gt; | Bar9 &lt;int&gt; | Bar10 &lt;int&gt; | ⋯ ⋯ | Bar17 &lt;int&gt; | Bar18 &lt;int&gt; | Bar19 &lt;int&gt; | Bar20 &lt;int&gt; | Bar21 &lt;int&gt; | Bar22 &lt;int&gt; | Bar23 &lt;int&gt; | Bar24 &lt;int&gt; | nUMI &lt;int&gt; | nUMI_total &lt;int&gt; |\n",
       "|---|---|---|---|---|---|---|---|---|---|---|---|---|---|---|---|---|---|---|---|---|---|\n",
       "| AAACCCAAGATACATG |  3 |   3 | 5 | 90 | 1 |   3 | 2 | 6 |  3 | 4 | ⋯ | 46 | 7 | 0 | 3 | 1 |  5 | 8 |  11 |  240 |  295 |\n",
       "| AAACCCAAGATTGTGA |  1 |   1 | 2 |  5 | 1 |   3 | 2 | 4 |  6 | 7 | ⋯ |  8 | 4 | 4 | 2 | 1 |  5 | 6 |   6 |  116 |  142 |\n",
       "| AAACCCAAGCAGCCTC | 11 |   2 | 4 |  3 | 5 |   4 | 4 | 2 |  7 | 5 | ⋯ | 16 | 3 | 4 | 2 | 4 |  2 | 5 |   8 |  142 |  200 |\n",
       "| AAACCCAAGCCTATTG |  2 |   3 | 6 |  4 | 0 |   3 | 6 | 4 |  8 | 7 | ⋯ | 14 | 8 | 6 | 8 | 7 | 16 | 3 | 913 | 1321 | 1575 |\n",
       "| AAACCCAAGCTGAAGC | 39 |  28 | 3 |  2 | 3 | 762 | 2 | 4 |  6 | 4 | ⋯ |  6 | 5 | 1 | 3 | 3 |  3 | 2 |   2 |  920 | 1051 |\n",
       "| AAACCCAAGGTCCTGC |  7 | 370 | 0 |  1 | 4 |   4 | 4 | 6 | 10 | 4 | ⋯ | 33 | 3 | 4 | 1 | 6 |  5 | 2 |   6 |  523 |  637 |\n",
       "\n"
      ],
      "text/plain": [
       "                 Bar1 Bar2 Bar3 Bar4 Bar5 Bar6 Bar7 Bar8 Bar9 Bar10 ⋯ Bar17\n",
       "AAACCCAAGATACATG  3     3  5    90   1      3  2    6     3   4     ⋯ 46   \n",
       "AAACCCAAGATTGTGA  1     1  2     5   1      3  2    4     6   7     ⋯  8   \n",
       "AAACCCAAGCAGCCTC 11     2  4     3   5      4  4    2     7   5     ⋯ 16   \n",
       "AAACCCAAGCCTATTG  2     3  6     4   0      3  6    4     8   7     ⋯ 14   \n",
       "AAACCCAAGCTGAAGC 39    28  3     2   3    762  2    4     6   4     ⋯  6   \n",
       "AAACCCAAGGTCCTGC  7   370  0     1   4      4  4    6    10   4     ⋯ 33   \n",
       "                 Bar18 Bar19 Bar20 Bar21 Bar22 Bar23 Bar24 nUMI nUMI_total\n",
       "AAACCCAAGATACATG 7     0     3     1      5    8      11    240  295      \n",
       "AAACCCAAGATTGTGA 4     4     2     1      5    6       6    116  142      \n",
       "AAACCCAAGCAGCCTC 3     4     2     4      2    5       8    142  200      \n",
       "AAACCCAAGCCTATTG 8     6     8     7     16    3     913   1321 1575      \n",
       "AAACCCAAGCTGAAGC 5     1     3     3      3    2       2    920 1051      \n",
       "AAACCCAAGGTCCTGC 3     4     1     6      5    2       6    523  637      "
      ]
     },
     "metadata": {},
     "output_type": "display_data"
    },
    {
     "data": {
      "text/html": [
       "<style>\n",
       ".list-inline {list-style: none; margin:0; padding: 0}\n",
       ".list-inline>li {display: inline-block}\n",
       ".list-inline>li:not(:last-child)::after {content: \"\\00b7\"; padding: 0 .5ex}\n",
       "</style>\n",
       "<ol class=list-inline><li>13924</li><li>26</li></ol>\n"
      ],
      "text/latex": [
       "\\begin{enumerate*}\n",
       "\\item 13924\n",
       "\\item 26\n",
       "\\end{enumerate*}\n"
      ],
      "text/markdown": [
       "1. 13924\n",
       "2. 26\n",
       "\n",
       "\n"
      ],
      "text/plain": [
       "[1] 13924    26"
      ]
     },
     "metadata": {},
     "output_type": "display_data"
    }
   ],
   "source": [
    "head(bartable_120h_1)\n",
    "dim(bartable_120h_1)"
   ]
  },
  {
   "cell_type": "code",
   "execution_count": 5,
   "id": "8c81f2df-d5ba-4df8-83b5-6b57ff8ab6db",
   "metadata": {},
   "outputs": [],
   "source": [
    "x <- bartable_120h_1\n",
    "initial_cell_number <- nrow(bartable_120h_1)"
   ]
  },
  {
   "cell_type": "markdown",
   "id": "37b34569-e824-4d2c-b2a2-22a1b699e179",
   "metadata": {},
   "source": [
    "## demultiplexing: classification"
   ]
  },
  {
   "cell_type": "code",
   "execution_count": 6,
   "id": "0f2b7765-b87c-4450-8474-852bda5772bd",
   "metadata": {},
   "outputs": [
    {
     "name": "stderr",
     "output_type": "stream",
     "text": [
      "Loading required package: Rtsne\n",
      "\n"
     ]
    },
    {
     "name": "stdout",
     "output_type": "stream",
     "text": [
      "Performing PCA\n",
      "Read the 13924 x 24 data matrix successfully!\n",
      "OpenMP is working. 1 threads.\n",
      "Using no_dims = 2, perplexity = 30.000000, and theta = 0.500000\n",
      "Computing input similarities...\n",
      "Building tree...\n",
      " - point 10000 of 13924\n",
      "Done in 8.35 seconds (sparsity = 0.010246)!\n",
      "Learning embedding...\n",
      "Iteration 50: error is 99.253784 (50 iterations in 3.04 seconds)\n",
      "Iteration 100: error is 98.156471 (50 iterations in 4.68 seconds)\n",
      "Iteration 150: error is 91.447368 (50 iterations in 2.52 seconds)\n",
      "Iteration 200: error is 90.874287 (50 iterations in 2.30 seconds)\n",
      "Iteration 250: error is 90.833690 (50 iterations in 2.31 seconds)\n",
      "Iteration 300: error is 3.424807 (50 iterations in 2.25 seconds)\n",
      "Iteration 350: error is 3.083364 (50 iterations in 2.18 seconds)\n",
      "Iteration 400: error is 2.909352 (50 iterations in 2.15 seconds)\n",
      "Iteration 450: error is 2.798407 (50 iterations in 2.14 seconds)\n",
      "Iteration 500: error is 2.721856 (50 iterations in 2.12 seconds)\n",
      "Iteration 550: error is 2.664410 (50 iterations in 2.15 seconds)\n",
      "Iteration 600: error is 2.618495 (50 iterations in 2.16 seconds)\n",
      "Iteration 650: error is 2.580919 (50 iterations in 2.19 seconds)\n",
      "Iteration 700: error is 2.549976 (50 iterations in 2.18 seconds)\n",
      "Iteration 750: error is 2.524174 (50 iterations in 2.19 seconds)\n",
      "Iteration 800: error is 2.502421 (50 iterations in 2.20 seconds)\n",
      "Iteration 850: error is 2.484496 (50 iterations in 2.21 seconds)\n",
      "Iteration 900: error is 2.468802 (50 iterations in 2.21 seconds)\n",
      "Iteration 950: error is 2.456879 (50 iterations in 2.21 seconds)\n",
      "Iteration 1000: error is 2.448262 (50 iterations in 2.21 seconds)\n",
      "Iteration 1050: error is 2.442035 (50 iterations in 2.20 seconds)\n",
      "Iteration 1100: error is 2.436924 (50 iterations in 2.20 seconds)\n",
      "Iteration 1150: error is 2.432582 (50 iterations in 2.19 seconds)\n",
      "Iteration 1200: error is 2.428346 (50 iterations in 2.20 seconds)\n",
      "Iteration 1250: error is 2.424316 (50 iterations in 2.19 seconds)\n",
      "Iteration 1300: error is 2.420405 (50 iterations in 2.21 seconds)\n",
      "Iteration 1350: error is 2.416312 (50 iterations in 2.18 seconds)\n",
      "Iteration 1400: error is 2.412507 (50 iterations in 2.19 seconds)\n",
      "Iteration 1450: error is 2.409046 (50 iterations in 2.19 seconds)\n",
      "Iteration 1500: error is 2.405979 (50 iterations in 2.19 seconds)\n",
      "Iteration 1550: error is 2.403131 (50 iterations in 2.18 seconds)\n",
      "Iteration 1600: error is 2.400614 (50 iterations in 2.18 seconds)\n",
      "Iteration 1650: error is 2.398336 (50 iterations in 2.18 seconds)\n",
      "Iteration 1700: error is 2.396111 (50 iterations in 2.17 seconds)\n",
      "Iteration 1750: error is 2.393968 (50 iterations in 2.17 seconds)\n",
      "Iteration 1800: error is 2.392055 (50 iterations in 2.17 seconds)\n",
      "Iteration 1850: error is 2.390213 (50 iterations in 2.17 seconds)\n",
      "Iteration 1900: error is 2.388400 (50 iterations in 2.17 seconds)\n",
      "Iteration 1950: error is 2.386453 (50 iterations in 2.17 seconds)\n",
      "Iteration 2000: error is 2.384520 (50 iterations in 2.19 seconds)\n",
      "Iteration 2050: error is 2.382840 (50 iterations in 2.18 seconds)\n",
      "Iteration 2100: error is 2.381142 (50 iterations in 2.26 seconds)\n",
      "Iteration 2150: error is 2.379457 (50 iterations in 2.17 seconds)\n",
      "Iteration 2200: error is 2.377990 (50 iterations in 2.17 seconds)\n",
      "Iteration 2250: error is 2.376672 (50 iterations in 2.18 seconds)\n",
      "Iteration 2300: error is 2.375324 (50 iterations in 2.18 seconds)\n",
      "Iteration 2350: error is 2.374110 (50 iterations in 2.19 seconds)\n",
      "Iteration 2400: error is 2.372915 (50 iterations in 2.19 seconds)\n",
      "Iteration 2450: error is 2.371895 (50 iterations in 2.18 seconds)\n",
      "Iteration 2500: error is 2.370805 (50 iterations in 2.18 seconds)\n",
      "Fitting performed in 113.17 seconds.\n"
     ]
    },
    {
     "data": {
      "text/html": [
       "<strong>png:</strong> 2"
      ],
      "text/latex": [
       "\\textbf{png:} 2"
      ],
      "text/markdown": [
       "**png:** 2"
      ],
      "text/plain": [
       "png \n",
       "  2 "
      ]
     },
     "metadata": {},
     "output_type": "display_data"
    }
   ],
   "source": [
    "## Visualize barcode space\n",
    "bar.tsne <- barTSNE(x[,1:24]) # number of barcodes and not columns !!\n",
    "## Note: Exclude columns 97:98 (assuming 96 barcodes were used) which provide total barcode UMI counts for each cell. \n",
    "\n",
    "pdf(\"./outputs/MULTIseq/120h_1_bc.check.pdf\")\n",
    "for (i in 3:ncol(bar.tsne)) {\n",
    "  g <- ggplot(bar.tsne, aes(x = TSNE1, y = TSNE2, color = bar.tsne[,i])) +\n",
    "    geom_point() +\n",
    "    scale_color_gradient(low = \"black\", high = \"red\") +\n",
    "    ggtitle(colnames(bar.tsne)[i]) +\n",
    "    theme(legend.position = \"none\") \n",
    "  print(g)\n",
    "}\n",
    "dev.off()\n"
   ]
  },
  {
   "cell_type": "code",
   "execution_count": 21,
   "id": "a4b0a1ba-85b0-41a9-ae71-ada27a30c6e1",
   "metadata": {},
   "outputs": [
    {
     "name": "stdout",
     "output_type": "stream",
     "text": [
      "[1] 0.01\n",
      "[1] 0.03\n",
      "[1] 0.05\n",
      "[1] 0.07\n",
      "[1] 0.09\n",
      "[1] 0.11\n",
      "[1] 0.13\n",
      "[1] 0.15\n",
      "[1] 0.17\n",
      "[1] 0.19\n",
      "[1] 0.21\n",
      "[1] 0.23\n",
      "[1] 0.25\n",
      "[1] 0.27\n",
      "[1] 0.29\n",
      "[1] 0.31\n",
      "[1] 0.33\n",
      "[1] 0.35\n",
      "[1] 0.37\n",
      "[1] 0.39\n",
      "[1] 0.41\n",
      "[1] 0.43\n",
      "[1] 0.45\n",
      "[1] 0.47\n",
      "[1] 0.49\n",
      "[1] 0.51\n",
      "[1] 0.53\n",
      "[1] 0.55\n",
      "[1] 0.57\n",
      "[1] 0.59\n",
      "[1] 0.61\n",
      "[1] 0.63\n",
      "[1] 0.65\n",
      "[1] 0.67\n",
      "[1] 0.69\n",
      "[1] 0.71\n",
      "[1] 0.73\n",
      "[1] 0.75\n",
      "[1] 0.77\n",
      "[1] 0.79\n",
      "[1] 0.81\n",
      "[1] 0.83\n",
      "[1] 0.85\n",
      "[1] 0.87\n",
      "[1] 0.89\n",
      "[1] 0.91\n",
      "[1] 0.93\n",
      "[1] 0.95\n",
      "[1] 0.97\n",
      "[1] 0.99\n"
     ]
    },
    {
     "data": {
      "image/png": "[encoded data removed]",
      "text/plain": [
       "plot without title"
      ]
     },
     "metadata": {
      "image/png": {
       "height": 420,
       "width": 420
      }
     },
     "output_type": "display_data"
    }
   ],
   "source": [
    "# Sample classification\n",
    "## Round 1 -----------------------------------------------------------------------------------------------------\n",
    "## Perform Quantile Sweep\n",
    "bar.table.full <- x[,1:24]\n",
    "good.bars <- paste(\"Bar\",1:24,sep=\"\")  # NOTE: In this hypothetical example, barcodes 91-96 were not detected\n",
    "bar.table <- bar.table.full[, good.bars]  # Remove missing bars and summary columns\n",
    "bar.table_sweep.list <- list()\n",
    "n <- 0\n",
    "for (q in seq(0.01, 0.99, by=0.02)) {\n",
    "  print(q)\n",
    "  n <- n + 1\n",
    "  bar.table_sweep.list[[n]] <- classifyCells(bar.table, q=q)\n",
    "  names(bar.table_sweep.list)[n] <- paste(\"q=\",q,sep=\"\")\n",
    "}\n",
    "\n",
    "## Identify ideal inter-maxima quantile to set barcode-specific thresholds\n",
    "threshold.results1 <- findThresh(call.list=bar.table_sweep.list)\n",
    "ggplot(data=threshold.results1$res, aes(x=q, y=Proportion, color=Subset)) + geom_line() + theme(legend.position = \"none\") +\n",
    "  geom_vline(xintercept=threshold.results1$extrema, lty=2) + scale_color_manual(values=c(\"red\",\"black\",\"blue\"))\n",
    "\n",
    "## Finalize round 1 classifications, remove negative cells\n",
    "round1.calls <- classifyCells(bar.table, q=findQ(threshold.results1$res, threshold.results1$extrema))\n",
    "neg.cells <- names(round1.calls)[which(round1.calls == \"Negative\")]\n",
    "bar.table <- bar.table[-which(rownames(bar.table) %in% neg.cells), ]\n"
   ]
  },
  {
   "cell_type": "code",
   "execution_count": 22,
   "id": "9d7a992a-c81c-4dd3-9077-a9091830a96d",
   "metadata": {},
   "outputs": [
    {
     "data": {
      "text/plain": [
       "round1.calls\n",
       "    Bar1    Bar10    Bar11    Bar12    Bar13    Bar14    Bar15    Bar16 \n",
       "     596      242      181      352      191      285      533      553 \n",
       "   Bar17    Bar18    Bar19     Bar2    Bar20    Bar21    Bar22    Bar23 \n",
       "     340      240      238      296      184      202      512      602 \n",
       "   Bar24     Bar3     Bar4     Bar5     Bar6     Bar7     Bar8     Bar9 \n",
       "     240      247      680      273      558      280      513      319 \n",
       " Doublet Negative \n",
       "    2429     2838 "
      ]
     },
     "metadata": {},
     "output_type": "display_data"
    },
    {
     "data": {
      "text/html": [
       "13924"
      ],
      "text/latex": [
       "13924"
      ],
      "text/markdown": [
       "13924"
      ],
      "text/plain": [
       "[1] 13924"
      ]
     },
     "metadata": {},
     "output_type": "display_data"
    }
   ],
   "source": [
    "table(round1.calls)\n",
    "length(round1.calls)"
   ]
  },
  {
   "cell_type": "code",
   "execution_count": 9,
   "id": "fec02b59-479c-425e-9579-30e1d41d63a7",
   "metadata": {},
   "outputs": [
    {
     "data": {
      "text/html": [
       "<strong>png:</strong> 2"
      ],
      "text/latex": [
       "\\textbf{png:} 2"
      ],
      "text/markdown": [
       "**png:** 2"
      ],
      "text/plain": [
       "png \n",
       "  2 "
      ]
     },
     "metadata": {},
     "output_type": "display_data"
    }
   ],
   "source": [
    "pdf(\"./outputs/MULTIseq/120h_1_bc.check_round1.pdf\")\n",
    "for (i in 3:ncol(bar.tsne)) {\n",
    "  g <- ggplot(bar.tsne, aes(x = TSNE1, y = TSNE2, color = bar.tsne[,i])) +\n",
    "    geom_point() +\n",
    "    scale_color_gradient(low = \"black\", high = \"red\") +\n",
    "    ggtitle(colnames(bar.tsne)[i]) +\n",
    "    theme(legend.position = \"none\") \n",
    "  print(g)\n",
    "}\n",
    "dev.off()"
   ]
  },
  {
   "cell_type": "code",
   "execution_count": 23,
   "id": "bb3ebcc9-631d-4103-b556-67b59556f92d",
   "metadata": {},
   "outputs": [
    {
     "name": "stdout",
     "output_type": "stream",
     "text": [
      "[1] 0.01\n",
      "[1] 0.03\n",
      "[1] 0.05\n",
      "[1] 0.07\n",
      "[1] 0.09\n",
      "[1] 0.11\n",
      "[1] 0.13\n",
      "[1] 0.15\n",
      "[1] 0.17\n",
      "[1] 0.19\n",
      "[1] 0.21\n",
      "[1] 0.23\n",
      "[1] 0.25\n",
      "[1] 0.27\n",
      "[1] 0.29\n",
      "[1] 0.31\n",
      "[1] 0.33\n",
      "[1] 0.35\n",
      "[1] 0.37\n",
      "[1] 0.39\n",
      "[1] 0.41\n",
      "[1] 0.43\n",
      "[1] 0.45\n",
      "[1] 0.47\n",
      "[1] 0.49\n",
      "[1] 0.51\n",
      "[1] 0.53\n",
      "[1] 0.55\n",
      "[1] 0.57\n",
      "[1] 0.59\n",
      "[1] 0.61\n",
      "[1] 0.63\n",
      "[1] 0.65\n",
      "[1] 0.67\n",
      "[1] 0.69\n",
      "[1] 0.71\n",
      "[1] 0.73\n",
      "[1] 0.75\n",
      "[1] 0.77\n",
      "[1] 0.79\n",
      "[1] 0.81\n",
      "[1] 0.83\n",
      "[1] 0.85\n",
      "[1] 0.87\n",
      "[1] 0.89\n",
      "[1] 0.91\n",
      "[1] 0.93\n",
      "[1] 0.95\n",
      "[1] 0.97\n",
      "[1] 0.99\n"
     ]
    }
   ],
   "source": [
    "## Round 2 -----------------------------------------------------------------------------------------------------\n",
    "bar.table_sweep.list <- list()\n",
    "n <- 0\n",
    "for (q in seq(0.01, 0.99, by=0.02)) {\n",
    "  print(q)\n",
    "  n <- n + 1\n",
    "  bar.table_sweep.list[[n]] <- classifyCells(bar.table, q=q)\n",
    "  names(bar.table_sweep.list)[n] <- paste(\"q=\",q,sep=\"\")\n",
    "}\n",
    "\n",
    "threshold.results2 <- findThresh(call.list=bar.table_sweep.list)\n",
    "round2.calls <- classifyCells(bar.table, q=findQ(threshold.results2$res, threshold.results2$extrema))\n",
    "neg.cells <- c(neg.cells, names(round2.calls)[which(round2.calls == \"Negative\")])"
   ]
  },
  {
   "cell_type": "code",
   "execution_count": 24,
   "id": "c9891b87-ef8e-4f54-a126-9c28839e0d95",
   "metadata": {},
   "outputs": [
    {
     "data": {
      "text/html": [
       "3000"
      ],
      "text/latex": [
       "3000"
      ],
      "text/markdown": [
       "3000"
      ],
      "text/plain": [
       "[1] 3000"
      ]
     },
     "metadata": {},
     "output_type": "display_data"
    },
    {
     "data": {
      "text/plain": [
       "round2.calls\n",
       "    Bar1    Bar10    Bar11    Bar12    Bar13    Bar14    Bar15    Bar16 \n",
       "     596      247      182      349      194      288      540      557 \n",
       "   Bar17    Bar18    Bar19     Bar2    Bar20    Bar21    Bar22    Bar23 \n",
       "     340      243      237      296      182      196      504      599 \n",
       "   Bar24     Bar3     Bar4     Bar5     Bar6     Bar7     Bar8     Bar9 \n",
       "     233      242      673      273      561      284      516      320 \n",
       " Doublet Negative \n",
       "    2272      162 "
      ]
     },
     "metadata": {},
     "output_type": "display_data"
    },
    {
     "data": {
      "text/html": [
       "11086"
      ],
      "text/latex": [
       "11086"
      ],
      "text/markdown": [
       "11086"
      ],
      "text/plain": [
       "[1] 11086"
      ]
     },
     "metadata": {},
     "output_type": "display_data"
    }
   ],
   "source": [
    "length(neg.cells)\n",
    "\n",
    "table(round2.calls)\n",
    "length(round2.calls)"
   ]
  },
  {
   "cell_type": "code",
   "execution_count": 25,
   "id": "e9826bce-50c0-44e5-846f-38ea0cd861dc",
   "metadata": {},
   "outputs": [
    {
     "name": "stdout",
     "output_type": "stream",
     "text": [
      "[1] 0.01\n",
      "[1] 0.03\n",
      "[1] 0.05\n",
      "[1] 0.07\n",
      "[1] 0.09\n",
      "[1] 0.11\n",
      "[1] 0.13\n",
      "[1] 0.15\n",
      "[1] 0.17\n",
      "[1] 0.19\n",
      "[1] 0.21\n",
      "[1] 0.23\n",
      "[1] 0.25\n",
      "[1] 0.27\n",
      "[1] 0.29\n",
      "[1] 0.31\n",
      "[1] 0.33\n",
      "[1] 0.35\n",
      "[1] 0.37\n",
      "[1] 0.39\n",
      "[1] 0.41\n",
      "[1] 0.43\n",
      "[1] 0.45\n",
      "[1] 0.47\n",
      "[1] 0.49\n",
      "[1] 0.51\n",
      "[1] 0.53\n",
      "[1] 0.55\n",
      "[1] 0.57\n",
      "[1] 0.59\n",
      "[1] 0.61\n",
      "[1] 0.63\n",
      "[1] 0.65\n",
      "[1] 0.67\n",
      "[1] 0.69\n",
      "[1] 0.71\n",
      "[1] 0.73\n",
      "[1] 0.75\n",
      "[1] 0.77\n",
      "[1] 0.79\n",
      "[1] 0.81\n",
      "[1] 0.83\n",
      "[1] 0.85\n",
      "[1] 0.87\n",
      "[1] 0.89\n",
      "[1] 0.91\n",
      "[1] 0.93\n",
      "[1] 0.95\n",
      "[1] 0.97\n",
      "[1] 0.99\n"
     ]
    }
   ],
   "source": [
    "## Round 3 -----------------------------------------------------------------------------------------------------\n",
    "bar.table_sweep.list <- list()\n",
    "n <- 0\n",
    "for (q in seq(0.01, 0.99, by=0.02)) {\n",
    "  print(q)\n",
    "  n <- n + 1\n",
    "  bar.table_sweep.list[[n]] <- classifyCells(bar.table, q=q)\n",
    "  names(bar.table_sweep.list)[n] <- paste(\"q=\",q,sep=\"\")\n",
    "}\n",
    "\n",
    "threshold.results3 <- findThresh(call.list=bar.table_sweep.list)\n",
    "round3.calls <- classifyCells(bar.table, q=findQ(threshold.results3$res, threshold.results3$extrema))\n",
    "neg.cells <- c(neg.cells, names(round3.calls)[which(round3.calls == \"Negative\")])"
   ]
  },
  {
   "cell_type": "code",
   "execution_count": 26,
   "id": "4758245b-0531-4862-9e91-7a7c31da64ec",
   "metadata": {},
   "outputs": [
    {
     "data": {
      "text/html": [
       "3162"
      ],
      "text/latex": [
       "3162"
      ],
      "text/markdown": [
       "3162"
      ],
      "text/plain": [
       "[1] 3162"
      ]
     },
     "metadata": {},
     "output_type": "display_data"
    },
    {
     "data": {
      "text/plain": [
       "round3.calls\n",
       "    Bar1    Bar10    Bar11    Bar12    Bar13    Bar14    Bar15    Bar16 \n",
       "     596      247      182      349      194      288      540      557 \n",
       "   Bar17    Bar18    Bar19     Bar2    Bar20    Bar21    Bar22    Bar23 \n",
       "     340      243      237      296      182      196      504      599 \n",
       "   Bar24     Bar3     Bar4     Bar5     Bar6     Bar7     Bar8     Bar9 \n",
       "     233      242      673      273      561      284      516      320 \n",
       " Doublet Negative \n",
       "    2272      162 "
      ]
     },
     "metadata": {},
     "output_type": "display_data"
    },
    {
     "data": {
      "text/html": [
       "11086"
      ],
      "text/latex": [
       "11086"
      ],
      "text/markdown": [
       "11086"
      ],
      "text/plain": [
       "[1] 11086"
      ]
     },
     "metadata": {},
     "output_type": "display_data"
    }
   ],
   "source": [
    "length(neg.cells)\n",
    "\n",
    "table(round3.calls)\n",
    "length(round3.calls)"
   ]
  },
  {
   "cell_type": "code",
   "execution_count": 27,
   "id": "4a9b6ae1-5392-4258-acb2-253bee0b2dc1",
   "metadata": {},
   "outputs": [],
   "source": [
    "## Repeat until all no negative cells remain (usually 3 rounds)...\n",
    "final.calls <- c(round3.calls, rep(\"Negative\",length(neg.cells)))\n",
    "names(final.calls) <- c(names(round3.calls),neg.cells)"
   ]
  },
  {
   "cell_type": "code",
   "execution_count": 29,
   "id": "6940e704-1c8e-4fb8-b83e-7bc72b65ab1d",
   "metadata": {},
   "outputs": [
    {
     "data": {
      "text/html": [
       "<table class=\"dataframe\">\n",
       "<caption>A data.frame: 6 × 24</caption>\n",
       "<thead>\n",
       "\t<tr><th></th><th scope=col>Bar1</th><th scope=col>Bar2</th><th scope=col>Bar3</th><th scope=col>Bar4</th><th scope=col>Bar5</th><th scope=col>Bar6</th><th scope=col>Bar7</th><th scope=col>Bar8</th><th scope=col>Bar9</th><th scope=col>Bar10</th><th scope=col>⋯</th><th scope=col>Bar15</th><th scope=col>Bar16</th><th scope=col>Bar17</th><th scope=col>Bar18</th><th scope=col>Bar19</th><th scope=col>Bar20</th><th scope=col>Bar21</th><th scope=col>Bar22</th><th scope=col>Bar23</th><th scope=col>Bar24</th></tr>\n",
       "\t<tr><th></th><th scope=col>&lt;int&gt;</th><th scope=col>&lt;int&gt;</th><th scope=col>&lt;int&gt;</th><th scope=col>&lt;int&gt;</th><th scope=col>&lt;int&gt;</th><th scope=col>&lt;int&gt;</th><th scope=col>&lt;int&gt;</th><th scope=col>&lt;int&gt;</th><th scope=col>&lt;int&gt;</th><th scope=col>&lt;int&gt;</th><th scope=col>⋯</th><th scope=col>&lt;int&gt;</th><th scope=col>&lt;int&gt;</th><th scope=col>&lt;int&gt;</th><th scope=col>&lt;int&gt;</th><th scope=col>&lt;int&gt;</th><th scope=col>&lt;int&gt;</th><th scope=col>&lt;int&gt;</th><th scope=col>&lt;int&gt;</th><th scope=col>&lt;int&gt;</th><th scope=col>&lt;int&gt;</th></tr>\n",
       "</thead>\n",
       "<tbody>\n",
       "\t<tr><th scope=row>AAACCCAAGATACATG</th><td> 3</td><td>  3</td><td> 5</td><td>90</td><td>1</td><td>  3</td><td>2</td><td>6</td><td>  3</td><td>4</td><td>⋯</td><td> 6</td><td>17</td><td>46</td><td>7</td><td>0</td><td>3</td><td>1</td><td> 5</td><td> 8</td><td> 11</td></tr>\n",
       "\t<tr><th scope=row>AAACCCAAGCCTATTG</th><td> 2</td><td>  3</td><td> 6</td><td> 4</td><td>0</td><td>  3</td><td>6</td><td>4</td><td>  8</td><td>7</td><td>⋯</td><td>14</td><td>15</td><td>14</td><td>8</td><td>6</td><td>8</td><td>7</td><td>16</td><td> 3</td><td>913</td></tr>\n",
       "\t<tr><th scope=row>AAACCCAAGCTGAAGC</th><td>39</td><td> 28</td><td> 3</td><td> 2</td><td>3</td><td>762</td><td>2</td><td>4</td><td>  6</td><td>4</td><td>⋯</td><td> 7</td><td>16</td><td> 6</td><td>5</td><td>1</td><td>3</td><td>3</td><td> 3</td><td> 2</td><td>  2</td></tr>\n",
       "\t<tr><th scope=row>AAACCCAAGGTCCTGC</th><td> 7</td><td>370</td><td> 0</td><td> 1</td><td>4</td><td>  4</td><td>4</td><td>6</td><td> 10</td><td>4</td><td>⋯</td><td>11</td><td>22</td><td>33</td><td>3</td><td>4</td><td>1</td><td>6</td><td> 5</td><td> 2</td><td>  6</td></tr>\n",
       "\t<tr><th scope=row>AAACCCACAACGATTC</th><td>11</td><td>  3</td><td> 5</td><td> 3</td><td>3</td><td>  2</td><td>1</td><td>5</td><td>669</td><td>8</td><td>⋯</td><td> 6</td><td>18</td><td> 8</td><td>5</td><td>3</td><td>7</td><td>0</td><td> 4</td><td> 6</td><td>  1</td></tr>\n",
       "\t<tr><th scope=row>AAACCCACAGCACACC</th><td> 8</td><td>  1</td><td>10</td><td> 5</td><td>1</td><td>273</td><td>7</td><td>5</td><td>  7</td><td>7</td><td>⋯</td><td> 3</td><td>20</td><td>17</td><td>3</td><td>7</td><td>3</td><td>2</td><td> 7</td><td>15</td><td>  3</td></tr>\n",
       "</tbody>\n",
       "</table>\n"
      ],
      "text/latex": [
       "A data.frame: 6 × 24\n",
       "\\begin{tabular}{r|lllllllllllllllllllll}\n",
       "  & Bar1 & Bar2 & Bar3 & Bar4 & Bar5 & Bar6 & Bar7 & Bar8 & Bar9 & Bar10 & ⋯ & Bar15 & Bar16 & Bar17 & Bar18 & Bar19 & Bar20 & Bar21 & Bar22 & Bar23 & Bar24\\\\\n",
       "  & <int> & <int> & <int> & <int> & <int> & <int> & <int> & <int> & <int> & <int> & ⋯ & <int> & <int> & <int> & <int> & <int> & <int> & <int> & <int> & <int> & <int>\\\\\n",
       "\\hline\n",
       "\tAAACCCAAGATACATG &  3 &   3 &  5 & 90 & 1 &   3 & 2 & 6 &   3 & 4 & ⋯ &  6 & 17 & 46 & 7 & 0 & 3 & 1 &  5 &  8 &  11\\\\\n",
       "\tAAACCCAAGCCTATTG &  2 &   3 &  6 &  4 & 0 &   3 & 6 & 4 &   8 & 7 & ⋯ & 14 & 15 & 14 & 8 & 6 & 8 & 7 & 16 &  3 & 913\\\\\n",
       "\tAAACCCAAGCTGAAGC & 39 &  28 &  3 &  2 & 3 & 762 & 2 & 4 &   6 & 4 & ⋯ &  7 & 16 &  6 & 5 & 1 & 3 & 3 &  3 &  2 &   2\\\\\n",
       "\tAAACCCAAGGTCCTGC &  7 & 370 &  0 &  1 & 4 &   4 & 4 & 6 &  10 & 4 & ⋯ & 11 & 22 & 33 & 3 & 4 & 1 & 6 &  5 &  2 &   6\\\\\n",
       "\tAAACCCACAACGATTC & 11 &   3 &  5 &  3 & 3 &   2 & 1 & 5 & 669 & 8 & ⋯ &  6 & 18 &  8 & 5 & 3 & 7 & 0 &  4 &  6 &   1\\\\\n",
       "\tAAACCCACAGCACACC &  8 &   1 & 10 &  5 & 1 & 273 & 7 & 5 &   7 & 7 & ⋯ &  3 & 20 & 17 & 3 & 7 & 3 & 2 &  7 & 15 &   3\\\\\n",
       "\\end{tabular}\n"
      ],
      "text/markdown": [
       "\n",
       "A data.frame: 6 × 24\n",
       "\n",
       "| <!--/--> | Bar1 &lt;int&gt; | Bar2 &lt;int&gt; | Bar3 &lt;int&gt; | Bar4 &lt;int&gt; | Bar5 &lt;int&gt; | Bar6 &lt;int&gt; | Bar7 &lt;int&gt; | Bar8 &lt;int&gt; | Bar9 &lt;int&gt; | Bar10 &lt;int&gt; | ⋯ ⋯ | Bar15 &lt;int&gt; | Bar16 &lt;int&gt; | Bar17 &lt;int&gt; | Bar18 &lt;int&gt; | Bar19 &lt;int&gt; | Bar20 &lt;int&gt; | Bar21 &lt;int&gt; | Bar22 &lt;int&gt; | Bar23 &lt;int&gt; | Bar24 &lt;int&gt; |\n",
       "|---|---|---|---|---|---|---|---|---|---|---|---|---|---|---|---|---|---|---|---|---|---|\n",
       "| AAACCCAAGATACATG |  3 |   3 |  5 | 90 | 1 |   3 | 2 | 6 |   3 | 4 | ⋯ |  6 | 17 | 46 | 7 | 0 | 3 | 1 |  5 |  8 |  11 |\n",
       "| AAACCCAAGCCTATTG |  2 |   3 |  6 |  4 | 0 |   3 | 6 | 4 |   8 | 7 | ⋯ | 14 | 15 | 14 | 8 | 6 | 8 | 7 | 16 |  3 | 913 |\n",
       "| AAACCCAAGCTGAAGC | 39 |  28 |  3 |  2 | 3 | 762 | 2 | 4 |   6 | 4 | ⋯ |  7 | 16 |  6 | 5 | 1 | 3 | 3 |  3 |  2 |   2 |\n",
       "| AAACCCAAGGTCCTGC |  7 | 370 |  0 |  1 | 4 |   4 | 4 | 6 |  10 | 4 | ⋯ | 11 | 22 | 33 | 3 | 4 | 1 | 6 |  5 |  2 |   6 |\n",
       "| AAACCCACAACGATTC | 11 |   3 |  5 |  3 | 3 |   2 | 1 | 5 | 669 | 8 | ⋯ |  6 | 18 |  8 | 5 | 3 | 7 | 0 |  4 |  6 |   1 |\n",
       "| AAACCCACAGCACACC |  8 |   1 | 10 |  5 | 1 | 273 | 7 | 5 |   7 | 7 | ⋯ |  3 | 20 | 17 | 3 | 7 | 3 | 2 |  7 | 15 |   3 |\n",
       "\n"
      ],
      "text/plain": [
       "                 Bar1 Bar2 Bar3 Bar4 Bar5 Bar6 Bar7 Bar8 Bar9 Bar10 ⋯ Bar15\n",
       "AAACCCAAGATACATG  3     3   5   90   1      3  2    6      3  4     ⋯  6   \n",
       "AAACCCAAGCCTATTG  2     3   6    4   0      3  6    4      8  7     ⋯ 14   \n",
       "AAACCCAAGCTGAAGC 39    28   3    2   3    762  2    4      6  4     ⋯  7   \n",
       "AAACCCAAGGTCCTGC  7   370   0    1   4      4  4    6     10  4     ⋯ 11   \n",
       "AAACCCACAACGATTC 11     3   5    3   3      2  1    5    669  8     ⋯  6   \n",
       "AAACCCACAGCACACC  8     1  10    5   1    273  7    5      7  7     ⋯  3   \n",
       "                 Bar16 Bar17 Bar18 Bar19 Bar20 Bar21 Bar22 Bar23 Bar24\n",
       "AAACCCAAGATACATG 17    46    7     0     3     1      5     8     11  \n",
       "AAACCCAAGCCTATTG 15    14    8     6     8     7     16     3    913  \n",
       "AAACCCAAGCTGAAGC 16     6    5     1     3     3      3     2      2  \n",
       "AAACCCAAGGTCCTGC 22    33    3     4     1     6      5     2      6  \n",
       "AAACCCACAACGATTC 18     8    5     3     7     0      4     6      1  \n",
       "AAACCCACAGCACACC 20    17    3     7     3     2      7    15      3  "
      ]
     },
     "metadata": {},
     "output_type": "display_data"
    },
    {
     "data": {
      "text/html": [
       "<style>\n",
       ".list-inline {list-style: none; margin:0; padding: 0}\n",
       ".list-inline>li {display: inline-block}\n",
       ".list-inline>li:not(:last-child)::after {content: \"\\00b7\"; padding: 0 .5ex}\n",
       "</style>\n",
       "<ol class=list-inline><li>11086</li><li>24</li></ol>\n"
      ],
      "text/latex": [
       "\\begin{enumerate*}\n",
       "\\item 11086\n",
       "\\item 24\n",
       "\\end{enumerate*}\n"
      ],
      "text/markdown": [
       "1. 11086\n",
       "2. 24\n",
       "\n",
       "\n"
      ],
      "text/plain": [
       "[1] 11086    24"
      ]
     },
     "metadata": {},
     "output_type": "display_data"
    }
   ],
   "source": [
    "head(bar.table)\n",
    "dim(bar.table)"
   ]
  },
  {
   "cell_type": "code",
   "execution_count": 30,
   "id": "f719431b-fcfd-44ee-ad57-0efb19fdf192",
   "metadata": {},
   "outputs": [
    {
     "name": "stdout",
     "output_type": "stream",
     "text": [
      "Performing PCA\n",
      "Read the 11086 x 24 data matrix successfully!\n",
      "OpenMP is working. 1 threads.\n",
      "Using no_dims = 2, perplexity = 30.000000, and theta = 0.500000\n",
      "Computing input similarities...\n",
      "Building tree...\n",
      " - point 10000 of 11086\n",
      "Done in 5.33 seconds (sparsity = 0.012586)!\n",
      "Learning embedding...\n",
      "Iteration 50: error is 96.595762 (50 iterations in 2.05 seconds)\n",
      "Iteration 100: error is 90.399001 (50 iterations in 2.10 seconds)\n",
      "Iteration 150: error is 83.851992 (50 iterations in 2.02 seconds)\n",
      "Iteration 200: error is 82.586487 (50 iterations in 2.08 seconds)\n",
      "Iteration 250: error is 82.235281 (50 iterations in 2.08 seconds)\n",
      "Iteration 300: error is 3.050382 (50 iterations in 2.00 seconds)\n",
      "Iteration 350: error is 2.709655 (50 iterations in 1.89 seconds)\n",
      "Iteration 400: error is 2.538606 (50 iterations in 1.87 seconds)\n",
      "Iteration 450: error is 2.432349 (50 iterations in 1.88 seconds)\n",
      "Iteration 500: error is 2.358642 (50 iterations in 1.88 seconds)\n",
      "Iteration 550: error is 2.304217 (50 iterations in 1.90 seconds)\n",
      "Iteration 600: error is 2.262016 (50 iterations in 1.92 seconds)\n",
      "Iteration 650: error is 2.228764 (50 iterations in 1.93 seconds)\n",
      "Iteration 700: error is 2.201573 (50 iterations in 1.95 seconds)\n",
      "Iteration 750: error is 2.179632 (50 iterations in 1.95 seconds)\n",
      "Iteration 800: error is 2.161632 (50 iterations in 1.96 seconds)\n",
      "Iteration 850: error is 2.146731 (50 iterations in 1.96 seconds)\n",
      "Iteration 900: error is 2.135903 (50 iterations in 1.96 seconds)\n",
      "Iteration 950: error is 2.128407 (50 iterations in 1.97 seconds)\n",
      "Iteration 1000: error is 2.122190 (50 iterations in 1.97 seconds)\n",
      "Iteration 1050: error is 2.117121 (50 iterations in 1.98 seconds)\n",
      "Iteration 1100: error is 2.112780 (50 iterations in 1.99 seconds)\n",
      "Iteration 1150: error is 2.108478 (50 iterations in 1.99 seconds)\n",
      "Iteration 1200: error is 2.104294 (50 iterations in 1.99 seconds)\n",
      "Iteration 1250: error is 2.100138 (50 iterations in 1.98 seconds)\n",
      "Iteration 1300: error is 2.096326 (50 iterations in 1.99 seconds)\n",
      "Iteration 1350: error is 2.092788 (50 iterations in 1.98 seconds)\n",
      "Iteration 1400: error is 2.089660 (50 iterations in 1.98 seconds)\n",
      "Iteration 1450: error is 2.086621 (50 iterations in 1.98 seconds)\n",
      "Iteration 1500: error is 2.083770 (50 iterations in 1.99 seconds)\n",
      "Iteration 1550: error is 2.080971 (50 iterations in 2.00 seconds)\n",
      "Iteration 1600: error is 2.078636 (50 iterations in 1.99 seconds)\n",
      "Iteration 1650: error is 2.076647 (50 iterations in 1.99 seconds)\n",
      "Iteration 1700: error is 2.074663 (50 iterations in 2.00 seconds)\n",
      "Iteration 1750: error is 2.072715 (50 iterations in 2.00 seconds)\n",
      "Iteration 1800: error is 2.070879 (50 iterations in 2.00 seconds)\n",
      "Iteration 1850: error is 2.069449 (50 iterations in 2.01 seconds)\n",
      "Iteration 1900: error is 2.067999 (50 iterations in 2.01 seconds)\n",
      "Iteration 1950: error is 2.066248 (50 iterations in 2.01 seconds)\n",
      "Iteration 2000: error is 2.064527 (50 iterations in 2.01 seconds)\n",
      "Iteration 2050: error is 2.062553 (50 iterations in 2.01 seconds)\n",
      "Iteration 2100: error is 2.060603 (50 iterations in 2.01 seconds)\n",
      "Iteration 2150: error is 2.058976 (50 iterations in 2.00 seconds)\n",
      "Iteration 2200: error is 2.057382 (50 iterations in 2.01 seconds)\n",
      "Iteration 2250: error is 2.055929 (50 iterations in 2.01 seconds)\n",
      "Iteration 2300: error is 2.054602 (50 iterations in 2.01 seconds)\n",
      "Iteration 2350: error is 2.053059 (50 iterations in 2.01 seconds)\n",
      "Iteration 2400: error is 2.051545 (50 iterations in 2.01 seconds)\n",
      "Iteration 2450: error is 2.050104 (50 iterations in 2.01 seconds)\n",
      "Iteration 2500: error is 2.048659 (50 iterations in 2.00 seconds)\n",
      "Fitting performed in 99.22 seconds.\n"
     ]
    },
    {
     "data": {
      "text/html": [
       "<strong>png:</strong> 2"
      ],
      "text/latex": [
       "\\textbf{png:} 2"
      ],
      "text/markdown": [
       "**png:** 2"
      ],
      "text/plain": [
       "png \n",
       "  2 "
      ]
     },
     "metadata": {},
     "output_type": "display_data"
    }
   ],
   "source": [
    "## Visualize barcode space\n",
    "bar.tsne <- barTSNE(bar.table[,1:24]) \n",
    "## Note: Exclude columns 97:98 (assuming 96 barcodes were used) which provide total barcode UMI counts for each cell. \n",
    "\n",
    "pdf(\"./outputs/MULTIseq/120h_1_bc.check_round3.pdf\")\n",
    "for (i in 3:ncol(bar.tsne)) {\n",
    "  g <- ggplot(bar.tsne, aes(x = TSNE1, y = TSNE2, color = bar.tsne[,i])) +\n",
    "    geom_point() +\n",
    "    scale_color_gradient(low = \"black\", high = \"red\") +\n",
    "    ggtitle(colnames(bar.tsne)[i]) +\n",
    "    theme(legend.position = \"none\") \n",
    "  print(g)\n",
    "}\n",
    "dev.off()"
   ]
  },
  {
   "cell_type": "markdown",
   "id": "01e1b81c-75b5-46c9-8c21-46174a1dc898",
   "metadata": {},
   "source": [
    "## Generation of barcode table"
   ]
  },
  {
   "cell_type": "code",
   "execution_count": 32,
   "id": "efb97076-3561-4952-94ed-6fb27714df13",
   "metadata": {},
   "outputs": [
    {
     "data": {
      "text/html": [
       "<table class=\"dataframe\">\n",
       "<caption>A data.frame: 6 × 25</caption>\n",
       "<thead>\n",
       "\t<tr><th></th><th scope=col>Bar1</th><th scope=col>Bar2</th><th scope=col>Bar3</th><th scope=col>Bar4</th><th scope=col>Bar5</th><th scope=col>Bar6</th><th scope=col>Bar7</th><th scope=col>Bar8</th><th scope=col>Bar9</th><th scope=col>Bar10</th><th scope=col>⋯</th><th scope=col>Bar16</th><th scope=col>Bar17</th><th scope=col>Bar18</th><th scope=col>Bar19</th><th scope=col>Bar20</th><th scope=col>Bar21</th><th scope=col>Bar22</th><th scope=col>Bar23</th><th scope=col>Bar24</th><th scope=col>cell</th></tr>\n",
       "\t<tr><th></th><th scope=col>&lt;int&gt;</th><th scope=col>&lt;int&gt;</th><th scope=col>&lt;int&gt;</th><th scope=col>&lt;int&gt;</th><th scope=col>&lt;int&gt;</th><th scope=col>&lt;int&gt;</th><th scope=col>&lt;int&gt;</th><th scope=col>&lt;int&gt;</th><th scope=col>&lt;int&gt;</th><th scope=col>&lt;int&gt;</th><th scope=col>⋯</th><th scope=col>&lt;int&gt;</th><th scope=col>&lt;int&gt;</th><th scope=col>&lt;int&gt;</th><th scope=col>&lt;int&gt;</th><th scope=col>&lt;int&gt;</th><th scope=col>&lt;int&gt;</th><th scope=col>&lt;int&gt;</th><th scope=col>&lt;int&gt;</th><th scope=col>&lt;int&gt;</th><th scope=col>&lt;chr&gt;</th></tr>\n",
       "</thead>\n",
       "<tbody>\n",
       "\t<tr><th scope=row>AAACCCAAGATACATG</th><td> 3</td><td>  3</td><td> 5</td><td>90</td><td>1</td><td>  3</td><td>2</td><td>6</td><td>  3</td><td>4</td><td>⋯</td><td>17</td><td>46</td><td>7</td><td>0</td><td>3</td><td>1</td><td> 5</td><td> 8</td><td> 11</td><td>AAACCCAAGATACATG</td></tr>\n",
       "\t<tr><th scope=row>AAACCCAAGCCTATTG</th><td> 2</td><td>  3</td><td> 6</td><td> 4</td><td>0</td><td>  3</td><td>6</td><td>4</td><td>  8</td><td>7</td><td>⋯</td><td>15</td><td>14</td><td>8</td><td>6</td><td>8</td><td>7</td><td>16</td><td> 3</td><td>913</td><td>AAACCCAAGCCTATTG</td></tr>\n",
       "\t<tr><th scope=row>AAACCCAAGCTGAAGC</th><td>39</td><td> 28</td><td> 3</td><td> 2</td><td>3</td><td>762</td><td>2</td><td>4</td><td>  6</td><td>4</td><td>⋯</td><td>16</td><td> 6</td><td>5</td><td>1</td><td>3</td><td>3</td><td> 3</td><td> 2</td><td>  2</td><td>AAACCCAAGCTGAAGC</td></tr>\n",
       "\t<tr><th scope=row>AAACCCAAGGTCCTGC</th><td> 7</td><td>370</td><td> 0</td><td> 1</td><td>4</td><td>  4</td><td>4</td><td>6</td><td> 10</td><td>4</td><td>⋯</td><td>22</td><td>33</td><td>3</td><td>4</td><td>1</td><td>6</td><td> 5</td><td> 2</td><td>  6</td><td>AAACCCAAGGTCCTGC</td></tr>\n",
       "\t<tr><th scope=row>AAACCCACAACGATTC</th><td>11</td><td>  3</td><td> 5</td><td> 3</td><td>3</td><td>  2</td><td>1</td><td>5</td><td>669</td><td>8</td><td>⋯</td><td>18</td><td> 8</td><td>5</td><td>3</td><td>7</td><td>0</td><td> 4</td><td> 6</td><td>  1</td><td>AAACCCACAACGATTC</td></tr>\n",
       "\t<tr><th scope=row>AAACCCACAGCACACC</th><td> 8</td><td>  1</td><td>10</td><td> 5</td><td>1</td><td>273</td><td>7</td><td>5</td><td>  7</td><td>7</td><td>⋯</td><td>20</td><td>17</td><td>3</td><td>7</td><td>3</td><td>2</td><td> 7</td><td>15</td><td>  3</td><td>AAACCCACAGCACACC</td></tr>\n",
       "</tbody>\n",
       "</table>\n"
      ],
      "text/latex": [
       "A data.frame: 6 × 25\n",
       "\\begin{tabular}{r|lllllllllllllllllllll}\n",
       "  & Bar1 & Bar2 & Bar3 & Bar4 & Bar5 & Bar6 & Bar7 & Bar8 & Bar9 & Bar10 & ⋯ & Bar16 & Bar17 & Bar18 & Bar19 & Bar20 & Bar21 & Bar22 & Bar23 & Bar24 & cell\\\\\n",
       "  & <int> & <int> & <int> & <int> & <int> & <int> & <int> & <int> & <int> & <int> & ⋯ & <int> & <int> & <int> & <int> & <int> & <int> & <int> & <int> & <int> & <chr>\\\\\n",
       "\\hline\n",
       "\tAAACCCAAGATACATG &  3 &   3 &  5 & 90 & 1 &   3 & 2 & 6 &   3 & 4 & ⋯ & 17 & 46 & 7 & 0 & 3 & 1 &  5 &  8 &  11 & AAACCCAAGATACATG\\\\\n",
       "\tAAACCCAAGCCTATTG &  2 &   3 &  6 &  4 & 0 &   3 & 6 & 4 &   8 & 7 & ⋯ & 15 & 14 & 8 & 6 & 8 & 7 & 16 &  3 & 913 & AAACCCAAGCCTATTG\\\\\n",
       "\tAAACCCAAGCTGAAGC & 39 &  28 &  3 &  2 & 3 & 762 & 2 & 4 &   6 & 4 & ⋯ & 16 &  6 & 5 & 1 & 3 & 3 &  3 &  2 &   2 & AAACCCAAGCTGAAGC\\\\\n",
       "\tAAACCCAAGGTCCTGC &  7 & 370 &  0 &  1 & 4 &   4 & 4 & 6 &  10 & 4 & ⋯ & 22 & 33 & 3 & 4 & 1 & 6 &  5 &  2 &   6 & AAACCCAAGGTCCTGC\\\\\n",
       "\tAAACCCACAACGATTC & 11 &   3 &  5 &  3 & 3 &   2 & 1 & 5 & 669 & 8 & ⋯ & 18 &  8 & 5 & 3 & 7 & 0 &  4 &  6 &   1 & AAACCCACAACGATTC\\\\\n",
       "\tAAACCCACAGCACACC &  8 &   1 & 10 &  5 & 1 & 273 & 7 & 5 &   7 & 7 & ⋯ & 20 & 17 & 3 & 7 & 3 & 2 &  7 & 15 &   3 & AAACCCACAGCACACC\\\\\n",
       "\\end{tabular}\n"
      ],
      "text/markdown": [
       "\n",
       "A data.frame: 6 × 25\n",
       "\n",
       "| <!--/--> | Bar1 &lt;int&gt; | Bar2 &lt;int&gt; | Bar3 &lt;int&gt; | Bar4 &lt;int&gt; | Bar5 &lt;int&gt; | Bar6 &lt;int&gt; | Bar7 &lt;int&gt; | Bar8 &lt;int&gt; | Bar9 &lt;int&gt; | Bar10 &lt;int&gt; | ⋯ ⋯ | Bar16 &lt;int&gt; | Bar17 &lt;int&gt; | Bar18 &lt;int&gt; | Bar19 &lt;int&gt; | Bar20 &lt;int&gt; | Bar21 &lt;int&gt; | Bar22 &lt;int&gt; | Bar23 &lt;int&gt; | Bar24 &lt;int&gt; | cell &lt;chr&gt; |\n",
       "|---|---|---|---|---|---|---|---|---|---|---|---|---|---|---|---|---|---|---|---|---|---|\n",
       "| AAACCCAAGATACATG |  3 |   3 |  5 | 90 | 1 |   3 | 2 | 6 |   3 | 4 | ⋯ | 17 | 46 | 7 | 0 | 3 | 1 |  5 |  8 |  11 | AAACCCAAGATACATG |\n",
       "| AAACCCAAGCCTATTG |  2 |   3 |  6 |  4 | 0 |   3 | 6 | 4 |   8 | 7 | ⋯ | 15 | 14 | 8 | 6 | 8 | 7 | 16 |  3 | 913 | AAACCCAAGCCTATTG |\n",
       "| AAACCCAAGCTGAAGC | 39 |  28 |  3 |  2 | 3 | 762 | 2 | 4 |   6 | 4 | ⋯ | 16 |  6 | 5 | 1 | 3 | 3 |  3 |  2 |   2 | AAACCCAAGCTGAAGC |\n",
       "| AAACCCAAGGTCCTGC |  7 | 370 |  0 |  1 | 4 |   4 | 4 | 6 |  10 | 4 | ⋯ | 22 | 33 | 3 | 4 | 1 | 6 |  5 |  2 |   6 | AAACCCAAGGTCCTGC |\n",
       "| AAACCCACAACGATTC | 11 |   3 |  5 |  3 | 3 |   2 | 1 | 5 | 669 | 8 | ⋯ | 18 |  8 | 5 | 3 | 7 | 0 |  4 |  6 |   1 | AAACCCACAACGATTC |\n",
       "| AAACCCACAGCACACC |  8 |   1 | 10 |  5 | 1 | 273 | 7 | 5 |   7 | 7 | ⋯ | 20 | 17 | 3 | 7 | 3 | 2 |  7 | 15 |   3 | AAACCCACAGCACACC |\n",
       "\n"
      ],
      "text/plain": [
       "                 Bar1 Bar2 Bar3 Bar4 Bar5 Bar6 Bar7 Bar8 Bar9 Bar10 ⋯ Bar16\n",
       "AAACCCAAGATACATG  3     3   5   90   1      3  2    6      3  4     ⋯ 17   \n",
       "AAACCCAAGCCTATTG  2     3   6    4   0      3  6    4      8  7     ⋯ 15   \n",
       "AAACCCAAGCTGAAGC 39    28   3    2   3    762  2    4      6  4     ⋯ 16   \n",
       "AAACCCAAGGTCCTGC  7   370   0    1   4      4  4    6     10  4     ⋯ 22   \n",
       "AAACCCACAACGATTC 11     3   5    3   3      2  1    5    669  8     ⋯ 18   \n",
       "AAACCCACAGCACACC  8     1  10    5   1    273  7    5      7  7     ⋯ 20   \n",
       "                 Bar17 Bar18 Bar19 Bar20 Bar21 Bar22 Bar23 Bar24\n",
       "AAACCCAAGATACATG 46    7     0     3     1      5     8     11  \n",
       "AAACCCAAGCCTATTG 14    8     6     8     7     16     3    913  \n",
       "AAACCCAAGCTGAAGC  6    5     1     3     3      3     2      2  \n",
       "AAACCCAAGGTCCTGC 33    3     4     1     6      5     2      6  \n",
       "AAACCCACAACGATTC  8    5     3     7     0      4     6      1  \n",
       "AAACCCACAGCACACC 17    3     7     3     2      7    15      3  \n",
       "                 cell            \n",
       "AAACCCAAGATACATG AAACCCAAGATACATG\n",
       "AAACCCAAGCCTATTG AAACCCAAGCCTATTG\n",
       "AAACCCAAGCTGAAGC AAACCCAAGCTGAAGC\n",
       "AAACCCAAGGTCCTGC AAACCCAAGGTCCTGC\n",
       "AAACCCACAACGATTC AAACCCACAACGATTC\n",
       "AAACCCACAGCACACC AAACCCACAGCACACC"
      ]
     },
     "metadata": {},
     "output_type": "display_data"
    },
    {
     "data": {
      "text/html": [
       "<style>\n",
       ".list-inline {list-style: none; margin:0; padding: 0}\n",
       ".list-inline>li {display: inline-block}\n",
       ".list-inline>li:not(:last-child)::after {content: \"\\00b7\"; padding: 0 .5ex}\n",
       "</style>\n",
       "<ol class=list-inline><li>11086</li><li>25</li></ol>\n"
      ],
      "text/latex": [
       "\\begin{enumerate*}\n",
       "\\item 11086\n",
       "\\item 25\n",
       "\\end{enumerate*}\n"
      ],
      "text/markdown": [
       "1. 11086\n",
       "2. 25\n",
       "\n",
       "\n"
      ],
      "text/plain": [
       "[1] 11086    25"
      ]
     },
     "metadata": {},
     "output_type": "display_data"
    }
   ],
   "source": [
    "head(bar.table)\n",
    "dim(bar.table)\n",
    "bar.table$cell <- rownames(bar.table)"
   ]
  },
  {
   "cell_type": "code",
   "execution_count": 35,
   "id": "3e0de906-8233-4760-9fe0-cfd95a2d7d99",
   "metadata": {},
   "outputs": [
    {
     "data": {
      "text/plain": [
       "final.calls\n",
       "    Bar1    Bar10    Bar11    Bar12    Bar13    Bar14    Bar15    Bar16 \n",
       "     596      247      182      349      194      288      540      557 \n",
       "   Bar17    Bar18    Bar19     Bar2    Bar20    Bar21    Bar22    Bar23 \n",
       "     340      243      237      296      182      196      504      599 \n",
       "   Bar24     Bar3     Bar4     Bar5     Bar6     Bar7     Bar8     Bar9 \n",
       "     233      242      673      273      561      284      516      320 \n",
       " Doublet Negative \n",
       "    2272     3324 "
      ]
     },
     "metadata": {},
     "output_type": "display_data"
    },
    {
     "data": {
      "text/html": [
       "14248"
      ],
      "text/latex": [
       "14248"
      ],
      "text/markdown": [
       "14248"
      ],
      "text/plain": [
       "[1] 14248"
      ]
     },
     "metadata": {},
     "output_type": "display_data"
    }
   ],
   "source": [
    "table(final.calls)\n",
    "length(final.calls)"
   ]
  },
  {
   "cell_type": "code",
   "execution_count": 38,
   "id": "0c1e503f-b02a-4b02-adca-5017ab16e4fe",
   "metadata": {},
   "outputs": [
    {
     "data": {
      "text/plain": [
       "\n",
       "    Bar1    Bar10    Bar11    Bar12    Bar13    Bar14    Bar15    Bar16 \n",
       "     596      247      182      349      194      288      540      557 \n",
       "   Bar17    Bar18    Bar19     Bar2    Bar20    Bar21    Bar22    Bar23 \n",
       "     340      243      237      296      182      196      504      599 \n",
       "   Bar24     Bar3     Bar4     Bar5     Bar6     Bar7     Bar8     Bar9 \n",
       "     233      242      673      273      561      284      516      320 \n",
       " Doublet Negative \n",
       "    2272     3324 "
      ]
     },
     "metadata": {},
     "output_type": "display_data"
    },
    {
     "data": {
      "text/html": [
       "<table class=\"dataframe\">\n",
       "<caption>A data.frame: 6 × 26</caption>\n",
       "<thead>\n",
       "\t<tr><th></th><th scope=col>cell</th><th scope=col>Bar1</th><th scope=col>Bar2</th><th scope=col>Bar3</th><th scope=col>Bar4</th><th scope=col>Bar5</th><th scope=col>Bar6</th><th scope=col>Bar7</th><th scope=col>Bar8</th><th scope=col>Bar9</th><th scope=col>⋯</th><th scope=col>Bar16</th><th scope=col>Bar17</th><th scope=col>Bar18</th><th scope=col>Bar19</th><th scope=col>Bar20</th><th scope=col>Bar21</th><th scope=col>Bar22</th><th scope=col>Bar23</th><th scope=col>Bar24</th><th scope=col>V1</th></tr>\n",
       "\t<tr><th></th><th scope=col>&lt;chr&gt;</th><th scope=col>&lt;int&gt;</th><th scope=col>&lt;int&gt;</th><th scope=col>&lt;int&gt;</th><th scope=col>&lt;int&gt;</th><th scope=col>&lt;int&gt;</th><th scope=col>&lt;int&gt;</th><th scope=col>&lt;int&gt;</th><th scope=col>&lt;int&gt;</th><th scope=col>&lt;int&gt;</th><th scope=col>⋯</th><th scope=col>&lt;int&gt;</th><th scope=col>&lt;int&gt;</th><th scope=col>&lt;int&gt;</th><th scope=col>&lt;int&gt;</th><th scope=col>&lt;int&gt;</th><th scope=col>&lt;int&gt;</th><th scope=col>&lt;int&gt;</th><th scope=col>&lt;int&gt;</th><th scope=col>&lt;int&gt;</th><th scope=col>&lt;chr&gt;</th></tr>\n",
       "</thead>\n",
       "<tbody>\n",
       "\t<tr><th scope=row>1</th><td>AAACCCAAGATACATG</td><td> 3</td><td>  3</td><td> 5</td><td>90</td><td>1</td><td>  3</td><td>2</td><td>6</td><td>  3</td><td>⋯</td><td>17</td><td>46</td><td>7</td><td>0</td><td>3</td><td>1</td><td> 5</td><td> 8</td><td> 11</td><td>Bar4   </td></tr>\n",
       "\t<tr><th scope=row>2</th><td>AAACCCAAGCCTATTG</td><td> 2</td><td>  3</td><td> 6</td><td> 4</td><td>0</td><td>  3</td><td>6</td><td>4</td><td>  8</td><td>⋯</td><td>15</td><td>14</td><td>8</td><td>6</td><td>8</td><td>7</td><td>16</td><td> 3</td><td>913</td><td>Doublet</td></tr>\n",
       "\t<tr><th scope=row>3</th><td>AAACCCAAGCTGAAGC</td><td>39</td><td> 28</td><td> 3</td><td> 2</td><td>3</td><td>762</td><td>2</td><td>4</td><td>  6</td><td>⋯</td><td>16</td><td> 6</td><td>5</td><td>1</td><td>3</td><td>3</td><td> 3</td><td> 2</td><td>  2</td><td>Bar6   </td></tr>\n",
       "\t<tr><th scope=row>4</th><td>AAACCCAAGGTCCTGC</td><td> 7</td><td>370</td><td> 0</td><td> 1</td><td>4</td><td>  4</td><td>4</td><td>6</td><td> 10</td><td>⋯</td><td>22</td><td>33</td><td>3</td><td>4</td><td>1</td><td>6</td><td> 5</td><td> 2</td><td>  6</td><td>Bar2   </td></tr>\n",
       "\t<tr><th scope=row>5</th><td>AAACCCACAACGATTC</td><td>11</td><td>  3</td><td> 5</td><td> 3</td><td>3</td><td>  2</td><td>1</td><td>5</td><td>669</td><td>⋯</td><td>18</td><td> 8</td><td>5</td><td>3</td><td>7</td><td>0</td><td> 4</td><td> 6</td><td>  1</td><td>Bar9   </td></tr>\n",
       "\t<tr><th scope=row>6</th><td>AAACCCACAGCACACC</td><td> 8</td><td>  1</td><td>10</td><td> 5</td><td>1</td><td>273</td><td>7</td><td>5</td><td>  7</td><td>⋯</td><td>20</td><td>17</td><td>3</td><td>7</td><td>3</td><td>2</td><td> 7</td><td>15</td><td>  3</td><td>Bar6   </td></tr>\n",
       "</tbody>\n",
       "</table>\n"
      ],
      "text/latex": [
       "A data.frame: 6 × 26\n",
       "\\begin{tabular}{r|lllllllllllllllllllll}\n",
       "  & cell & Bar1 & Bar2 & Bar3 & Bar4 & Bar5 & Bar6 & Bar7 & Bar8 & Bar9 & ⋯ & Bar16 & Bar17 & Bar18 & Bar19 & Bar20 & Bar21 & Bar22 & Bar23 & Bar24 & V1\\\\\n",
       "  & <chr> & <int> & <int> & <int> & <int> & <int> & <int> & <int> & <int> & <int> & ⋯ & <int> & <int> & <int> & <int> & <int> & <int> & <int> & <int> & <int> & <chr>\\\\\n",
       "\\hline\n",
       "\t1 & AAACCCAAGATACATG &  3 &   3 &  5 & 90 & 1 &   3 & 2 & 6 &   3 & ⋯ & 17 & 46 & 7 & 0 & 3 & 1 &  5 &  8 &  11 & Bar4   \\\\\n",
       "\t2 & AAACCCAAGCCTATTG &  2 &   3 &  6 &  4 & 0 &   3 & 6 & 4 &   8 & ⋯ & 15 & 14 & 8 & 6 & 8 & 7 & 16 &  3 & 913 & Doublet\\\\\n",
       "\t3 & AAACCCAAGCTGAAGC & 39 &  28 &  3 &  2 & 3 & 762 & 2 & 4 &   6 & ⋯ & 16 &  6 & 5 & 1 & 3 & 3 &  3 &  2 &   2 & Bar6   \\\\\n",
       "\t4 & AAACCCAAGGTCCTGC &  7 & 370 &  0 &  1 & 4 &   4 & 4 & 6 &  10 & ⋯ & 22 & 33 & 3 & 4 & 1 & 6 &  5 &  2 &   6 & Bar2   \\\\\n",
       "\t5 & AAACCCACAACGATTC & 11 &   3 &  5 &  3 & 3 &   2 & 1 & 5 & 669 & ⋯ & 18 &  8 & 5 & 3 & 7 & 0 &  4 &  6 &   1 & Bar9   \\\\\n",
       "\t6 & AAACCCACAGCACACC &  8 &   1 & 10 &  5 & 1 & 273 & 7 & 5 &   7 & ⋯ & 20 & 17 & 3 & 7 & 3 & 2 &  7 & 15 &   3 & Bar6   \\\\\n",
       "\\end{tabular}\n"
      ],
      "text/markdown": [
       "\n",
       "A data.frame: 6 × 26\n",
       "\n",
       "| <!--/--> | cell &lt;chr&gt; | Bar1 &lt;int&gt; | Bar2 &lt;int&gt; | Bar3 &lt;int&gt; | Bar4 &lt;int&gt; | Bar5 &lt;int&gt; | Bar6 &lt;int&gt; | Bar7 &lt;int&gt; | Bar8 &lt;int&gt; | Bar9 &lt;int&gt; | ⋯ ⋯ | Bar16 &lt;int&gt; | Bar17 &lt;int&gt; | Bar18 &lt;int&gt; | Bar19 &lt;int&gt; | Bar20 &lt;int&gt; | Bar21 &lt;int&gt; | Bar22 &lt;int&gt; | Bar23 &lt;int&gt; | Bar24 &lt;int&gt; | V1 &lt;chr&gt; |\n",
       "|---|---|---|---|---|---|---|---|---|---|---|---|---|---|---|---|---|---|---|---|---|---|\n",
       "| 1 | AAACCCAAGATACATG |  3 |   3 |  5 | 90 | 1 |   3 | 2 | 6 |   3 | ⋯ | 17 | 46 | 7 | 0 | 3 | 1 |  5 |  8 |  11 | Bar4    |\n",
       "| 2 | AAACCCAAGCCTATTG |  2 |   3 |  6 |  4 | 0 |   3 | 6 | 4 |   8 | ⋯ | 15 | 14 | 8 | 6 | 8 | 7 | 16 |  3 | 913 | Doublet |\n",
       "| 3 | AAACCCAAGCTGAAGC | 39 |  28 |  3 |  2 | 3 | 762 | 2 | 4 |   6 | ⋯ | 16 |  6 | 5 | 1 | 3 | 3 |  3 |  2 |   2 | Bar6    |\n",
       "| 4 | AAACCCAAGGTCCTGC |  7 | 370 |  0 |  1 | 4 |   4 | 4 | 6 |  10 | ⋯ | 22 | 33 | 3 | 4 | 1 | 6 |  5 |  2 |   6 | Bar2    |\n",
       "| 5 | AAACCCACAACGATTC | 11 |   3 |  5 |  3 | 3 |   2 | 1 | 5 | 669 | ⋯ | 18 |  8 | 5 | 3 | 7 | 0 |  4 |  6 |   1 | Bar9    |\n",
       "| 6 | AAACCCACAGCACACC |  8 |   1 | 10 |  5 | 1 | 273 | 7 | 5 |   7 | ⋯ | 20 | 17 | 3 | 7 | 3 | 2 |  7 | 15 |   3 | Bar6    |\n",
       "\n"
      ],
      "text/plain": [
       "  cell             Bar1 Bar2 Bar3 Bar4 Bar5 Bar6 Bar7 Bar8 Bar9 ⋯ Bar16 Bar17\n",
       "1 AAACCCAAGATACATG  3     3   5   90   1      3  2    6      3  ⋯ 17    46   \n",
       "2 AAACCCAAGCCTATTG  2     3   6    4   0      3  6    4      8  ⋯ 15    14   \n",
       "3 AAACCCAAGCTGAAGC 39    28   3    2   3    762  2    4      6  ⋯ 16     6   \n",
       "4 AAACCCAAGGTCCTGC  7   370   0    1   4      4  4    6     10  ⋯ 22    33   \n",
       "5 AAACCCACAACGATTC 11     3   5    3   3      2  1    5    669  ⋯ 18     8   \n",
       "6 AAACCCACAGCACACC  8     1  10    5   1    273  7    5      7  ⋯ 20    17   \n",
       "  Bar18 Bar19 Bar20 Bar21 Bar22 Bar23 Bar24 V1     \n",
       "1 7     0     3     1      5     8     11   Bar4   \n",
       "2 8     6     8     7     16     3    913   Doublet\n",
       "3 5     1     3     3      3     2      2   Bar6   \n",
       "4 3     4     1     6      5     2      6   Bar2   \n",
       "5 5     3     7     0      4     6      1   Bar9   \n",
       "6 3     7     3     2      7    15      3   Bar6   "
      ]
     },
     "metadata": {},
     "output_type": "display_data"
    },
    {
     "data": {
      "text/html": [
       "<style>\n",
       ".list-inline {list-style: none; margin:0; padding: 0}\n",
       ".list-inline>li {display: inline-block}\n",
       ".list-inline>li:not(:last-child)::after {content: \"\\00b7\"; padding: 0 .5ex}\n",
       "</style>\n",
       "<ol class=list-inline><li>11086</li><li>26</li></ol>\n"
      ],
      "text/latex": [
       "\\begin{enumerate*}\n",
       "\\item 11086\n",
       "\\item 26\n",
       "\\end{enumerate*}\n"
      ],
      "text/markdown": [
       "1. 11086\n",
       "2. 26\n",
       "\n",
       "\n"
      ],
      "text/plain": [
       "[1] 11086    26"
      ]
     },
     "metadata": {},
     "output_type": "display_data"
    },
    {
     "data": {
      "text/plain": [
       "\n",
       "    Bar1    Bar10    Bar11    Bar12    Bar13    Bar14    Bar15    Bar16 \n",
       "     596      247      182      349      194      288      540      557 \n",
       "   Bar17    Bar18    Bar19     Bar2    Bar20    Bar21    Bar22    Bar23 \n",
       "     340      243      237      296      182      196      504      599 \n",
       "   Bar24     Bar3     Bar4     Bar5     Bar6     Bar7     Bar8     Bar9 \n",
       "     233      242      673      273      561      284      516      320 \n",
       " Doublet Negative \n",
       "    2272      162 "
      ]
     },
     "metadata": {},
     "output_type": "display_data"
    }
   ],
   "source": [
    "prueba <- as.matrix(final.calls)\n",
    "prueba <- as.data.frame(prueba)\n",
    "prueba$cell <- rownames(prueba)\n",
    "table(prueba$V1)\n",
    "\n",
    "prueba.merged <- merge (bar.table, prueba, by = \"cell\")\n",
    "prueba.merged$V1 <- as.character(prueba.merged$V1)\n",
    "\n",
    "barcode_assignment_120h_1 <- prueba.merged\n",
    "head(barcode_assignment_120h_1)\n",
    "dim(barcode_assignment_120h_1)\n",
    "table(barcode_assignment_120h_1$V1)"
   ]
  },
  {
   "cell_type": "markdown",
   "id": "b8693584-30c1-45f6-8a71-5d3d8dcc0d2d",
   "metadata": {},
   "source": [
    "## Generation of table of assignment for stacked barplot visualization"
   ]
  },
  {
   "cell_type": "code",
   "execution_count": 56,
   "id": "6f1dafe2-9719-4236-aea2-e773439a1482",
   "metadata": {},
   "outputs": [
    {
     "data": {
      "text/html": [
       "<table class=\"dataframe\">\n",
       "<caption>A data.frame: 26 × 2</caption>\n",
       "<thead>\n",
       "\t<tr><th scope=col>Var1</th><th scope=col>Freq</th></tr>\n",
       "\t<tr><th scope=col>&lt;fct&gt;</th><th scope=col>&lt;int&gt;</th></tr>\n",
       "</thead>\n",
       "<tbody>\n",
       "\t<tr><td>Bar1    </td><td> 596</td></tr>\n",
       "\t<tr><td>Bar10   </td><td> 247</td></tr>\n",
       "\t<tr><td>Bar11   </td><td> 182</td></tr>\n",
       "\t<tr><td>Bar12   </td><td> 349</td></tr>\n",
       "\t<tr><td>Bar13   </td><td> 194</td></tr>\n",
       "\t<tr><td>Bar14   </td><td> 288</td></tr>\n",
       "\t<tr><td>Bar15   </td><td> 540</td></tr>\n",
       "\t<tr><td>Bar16   </td><td> 557</td></tr>\n",
       "\t<tr><td>Bar17   </td><td> 340</td></tr>\n",
       "\t<tr><td>Bar18   </td><td> 243</td></tr>\n",
       "\t<tr><td>Bar19   </td><td> 237</td></tr>\n",
       "\t<tr><td>Bar2    </td><td> 296</td></tr>\n",
       "\t<tr><td>Bar20   </td><td> 182</td></tr>\n",
       "\t<tr><td>Bar21   </td><td> 196</td></tr>\n",
       "\t<tr><td>Bar22   </td><td> 504</td></tr>\n",
       "\t<tr><td>Bar23   </td><td> 599</td></tr>\n",
       "\t<tr><td>Bar24   </td><td> 233</td></tr>\n",
       "\t<tr><td>Bar3    </td><td> 242</td></tr>\n",
       "\t<tr><td>Bar4    </td><td> 673</td></tr>\n",
       "\t<tr><td>Bar5    </td><td> 273</td></tr>\n",
       "\t<tr><td>Bar6    </td><td> 561</td></tr>\n",
       "\t<tr><td>Bar7    </td><td> 284</td></tr>\n",
       "\t<tr><td>Bar8    </td><td> 516</td></tr>\n",
       "\t<tr><td>Bar9    </td><td> 320</td></tr>\n",
       "\t<tr><td>Doublet </td><td>2272</td></tr>\n",
       "\t<tr><td>Negative</td><td> 162</td></tr>\n",
       "</tbody>\n",
       "</table>\n"
      ],
      "text/latex": [
       "A data.frame: 26 × 2\n",
       "\\begin{tabular}{ll}\n",
       " Var1 & Freq\\\\\n",
       " <fct> & <int>\\\\\n",
       "\\hline\n",
       "\t Bar1     &  596\\\\\n",
       "\t Bar10    &  247\\\\\n",
       "\t Bar11    &  182\\\\\n",
       "\t Bar12    &  349\\\\\n",
       "\t Bar13    &  194\\\\\n",
       "\t Bar14    &  288\\\\\n",
       "\t Bar15    &  540\\\\\n",
       "\t Bar16    &  557\\\\\n",
       "\t Bar17    &  340\\\\\n",
       "\t Bar18    &  243\\\\\n",
       "\t Bar19    &  237\\\\\n",
       "\t Bar2     &  296\\\\\n",
       "\t Bar20    &  182\\\\\n",
       "\t Bar21    &  196\\\\\n",
       "\t Bar22    &  504\\\\\n",
       "\t Bar23    &  599\\\\\n",
       "\t Bar24    &  233\\\\\n",
       "\t Bar3     &  242\\\\\n",
       "\t Bar4     &  673\\\\\n",
       "\t Bar5     &  273\\\\\n",
       "\t Bar6     &  561\\\\\n",
       "\t Bar7     &  284\\\\\n",
       "\t Bar8     &  516\\\\\n",
       "\t Bar9     &  320\\\\\n",
       "\t Doublet  & 2272\\\\\n",
       "\t Negative &  162\\\\\n",
       "\\end{tabular}\n"
      ],
      "text/markdown": [
       "\n",
       "A data.frame: 26 × 2\n",
       "\n",
       "| Var1 &lt;fct&gt; | Freq &lt;int&gt; |\n",
       "|---|---|\n",
       "| Bar1     |  596 |\n",
       "| Bar10    |  247 |\n",
       "| Bar11    |  182 |\n",
       "| Bar12    |  349 |\n",
       "| Bar13    |  194 |\n",
       "| Bar14    |  288 |\n",
       "| Bar15    |  540 |\n",
       "| Bar16    |  557 |\n",
       "| Bar17    |  340 |\n",
       "| Bar18    |  243 |\n",
       "| Bar19    |  237 |\n",
       "| Bar2     |  296 |\n",
       "| Bar20    |  182 |\n",
       "| Bar21    |  196 |\n",
       "| Bar22    |  504 |\n",
       "| Bar23    |  599 |\n",
       "| Bar24    |  233 |\n",
       "| Bar3     |  242 |\n",
       "| Bar4     |  673 |\n",
       "| Bar5     |  273 |\n",
       "| Bar6     |  561 |\n",
       "| Bar7     |  284 |\n",
       "| Bar8     |  516 |\n",
       "| Bar9     |  320 |\n",
       "| Doublet  | 2272 |\n",
       "| Negative |  162 |\n",
       "\n"
      ],
      "text/plain": [
       "   Var1     Freq\n",
       "1  Bar1      596\n",
       "2  Bar10     247\n",
       "3  Bar11     182\n",
       "4  Bar12     349\n",
       "5  Bar13     194\n",
       "6  Bar14     288\n",
       "7  Bar15     540\n",
       "8  Bar16     557\n",
       "9  Bar17     340\n",
       "10 Bar18     243\n",
       "11 Bar19     237\n",
       "12 Bar2      296\n",
       "13 Bar20     182\n",
       "14 Bar21     196\n",
       "15 Bar22     504\n",
       "16 Bar23     599\n",
       "17 Bar24     233\n",
       "18 Bar3      242\n",
       "19 Bar4      673\n",
       "20 Bar5      273\n",
       "21 Bar6      561\n",
       "22 Bar7      284\n",
       "23 Bar8      516\n",
       "24 Bar9      320\n",
       "25 Doublet  2272\n",
       "26 Negative  162"
      ]
     },
     "metadata": {},
     "output_type": "display_data"
    }
   ],
   "source": [
    "x <- data.frame(table(barcode_assignment_120h_1$V1))\n",
    "x"
   ]
  },
  {
   "cell_type": "code",
   "execution_count": 57,
   "id": "9ec89abb-af19-4d96-ae06-76c550c47262",
   "metadata": {},
   "outputs": [
    {
     "data": {
      "text/html": [
       "2838"
      ],
      "text/latex": [
       "2838"
      ],
      "text/markdown": [
       "2838"
      ],
      "text/plain": [
       "[1] 2838"
      ]
     },
     "metadata": {},
     "output_type": "display_data"
    }
   ],
   "source": [
    "bar <- sum(x$Freq[-(25:26)])\n",
    "doublet <- x[x[1]=='Doublet',2]\n",
    "negative <- x[x[1]=='Negative',2]\n",
    "unassigned <- initial_cell_number - sum(bar, doublet, negative)\n",
    "unassigned"
   ]
  },
  {
   "cell_type": "code",
   "execution_count": 63,
   "id": "37a15406-193e-4e97-9471-1b5012bc52f2",
   "metadata": {},
   "outputs": [
    {
     "data": {
      "text/html": [
       "<table class=\"dataframe\">\n",
       "<caption>A data.frame: 4 × 3</caption>\n",
       "<thead>\n",
       "\t<tr><th></th><th scope=col>Number_cells</th><th scope=col>Category</th><th scope=col>Sample</th></tr>\n",
       "\t<tr><th></th><th scope=col>&lt;dbl&gt;</th><th scope=col>&lt;fct&gt;</th><th scope=col>&lt;chr&gt;</th></tr>\n",
       "</thead>\n",
       "<tbody>\n",
       "\t<tr><th scope=row>Barcode_assigned</th><td>8652</td><td>Barcode_assigned</td><td>gast_120h_1</td></tr>\n",
       "\t<tr><th scope=row>Doublet</th><td>2272</td><td>Doublet         </td><td>gast_120h_1</td></tr>\n",
       "\t<tr><th scope=row>Negative</th><td> 162</td><td>Negative        </td><td>gast_120h_1</td></tr>\n",
       "\t<tr><th scope=row>Unassigned</th><td>2838</td><td>Unassigned      </td><td>gast_120h_1</td></tr>\n",
       "</tbody>\n",
       "</table>\n"
      ],
      "text/latex": [
       "A data.frame: 4 × 3\n",
       "\\begin{tabular}{r|lll}\n",
       "  & Number\\_cells & Category & Sample\\\\\n",
       "  & <dbl> & <fct> & <chr>\\\\\n",
       "\\hline\n",
       "\tBarcode\\_assigned & 8652 & Barcode\\_assigned & gast\\_120h\\_1\\\\\n",
       "\tDoublet & 2272 & Doublet          & gast\\_120h\\_1\\\\\n",
       "\tNegative &  162 & Negative         & gast\\_120h\\_1\\\\\n",
       "\tUnassigned & 2838 & Unassigned       & gast\\_120h\\_1\\\\\n",
       "\\end{tabular}\n"
      ],
      "text/markdown": [
       "\n",
       "A data.frame: 4 × 3\n",
       "\n",
       "| <!--/--> | Number_cells &lt;dbl&gt; | Category &lt;fct&gt; | Sample &lt;chr&gt; |\n",
       "|---|---|---|---|\n",
       "| Barcode_assigned | 8652 | Barcode_assigned | gast_120h_1 |\n",
       "| Doublet | 2272 | Doublet          | gast_120h_1 |\n",
       "| Negative |  162 | Negative         | gast_120h_1 |\n",
       "| Unassigned | 2838 | Unassigned       | gast_120h_1 |\n",
       "\n"
      ],
      "text/plain": [
       "                 Number_cells Category         Sample     \n",
       "Barcode_assigned 8652         Barcode_assigned gast_120h_1\n",
       "Doublet          2272         Doublet          gast_120h_1\n",
       "Negative          162         Negative         gast_120h_1\n",
       "Unassigned       2838         Unassigned       gast_120h_1"
      ]
     },
     "metadata": {},
     "output_type": "display_data"
    }
   ],
   "source": [
    "x <- data.frame(Number_cells= c(bar, doublet, negative, unassigned))\n",
    "rownames(x) <- c(\"Barcode_assigned\",\"Doublet\",\"Negative\", \"Unassigned\")\n",
    "x$Category <- rownames(x)\n",
    "x$Category <- factor(x$Category, levels = c(\"Unassigned\",\"Negative\",\"Doublet\",\"Barcode_assigned\"))\n",
    "x$Sample <- \"gast_120h_1\"\n",
    "head(x)\n",
    "\n",
    "multiseq_assignment_120h_1 <- x"
   ]
  },
  {
   "cell_type": "code",
   "execution_count": 64,
   "id": "fdc77a19-9e50-4077-8ec2-f4a9b98eaf58",
   "metadata": {},
   "outputs": [
    {
     "data": {
      "text/html": [
       "13924"
      ],
      "text/latex": [
       "13924"
      ],
      "text/markdown": [
       "13924"
      ],
      "text/plain": [
       "[1] 13924"
      ]
     },
     "metadata": {},
     "output_type": "display_data"
    }
   ],
   "source": [
    "sum(multiseq_assignment_120h_1$Number_cells)"
   ]
  },
  {
   "cell_type": "code",
   "execution_count": 66,
   "id": "5799827a-f873-4a63-9e3f-d3a85700fde1",
   "metadata": {},
   "outputs": [
    {
     "data": {
      "image/png": "[encoded data removed]",
      "text/plain": [
       "plot without title"
      ]
     },
     "metadata": {
      "image/png": {
       "height": 420,
       "width": 420
      }
     },
     "output_type": "display_data"
    }
   ],
   "source": [
    "# Stacked\n",
    "ggplot(x, aes(fill=Category, y=Number_cells, x=Sample)) + \n",
    "  geom_bar(position=\"stack\", stat=\"identity\", colour=\"black\") +\n",
    "  scale_fill_manual(values=c(\"#f4a582\", \"#d95f02\", \"#7570b3\", \"#1b9e77\")) + \n",
    "  theme_minimal()"
   ]
  },
  {
   "cell_type": "markdown",
   "id": "acde3ee5-6204-4ca0-9edd-49aaf3f1a0c2",
   "metadata": {},
   "source": [
    "## Saving the files"
   ]
  },
  {
   "cell_type": "code",
   "execution_count": 67,
   "id": "2a398e41-e882-423a-8daa-e98db9e02190",
   "metadata": {},
   "outputs": [],
   "source": [
    "# Save files\n",
    "## \n",
    "saveRDS(barcode_assignment_120h_1, file = \"./files/demultiplexing/barcode_assignment_120h_1.rds\")\n",
    "saveRDS(multiseq_assignment_120h_1, file = \"./files/demultiplexing/multiseq_assignment_120h_1.rds\")"
   ]
  }
 ],
 "metadata": {
  "kernelspec": {
   "display_name": "R",
   "language": "R",
   "name": "ir"
  },
  "language_info": {
   "codemirror_mode": "r",
   "file_extension": ".r",
   "mimetype": "text/x-r-source",
   "name": "R",
   "pygments_lexer": "r",
   "version": "4.1.0"
  },
  "toc-autonumbering": true
 },
 "nbformat": 4,
 "nbformat_minor": 5
}
