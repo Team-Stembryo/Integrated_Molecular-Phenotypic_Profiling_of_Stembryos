{
 "cells": [
  {
   "cell_type": "markdown",
   "id": "ef076719-ff75-429c-bea7-e721ff24a971",
   "metadata": {},
   "source": [
    "# Getting the MULTIseq barcodes used for this analysis"
   ]
  },
  {
   "cell_type": "markdown",
   "id": "e3d3f3f4-abf1-493e-bebc-fb85fe2dac3d",
   "metadata": {},
   "source": [
    "Update on 24-11-2022"
   ]
  },
  {
   "cell_type": "code",
   "execution_count": 1,
   "id": "f0183ab0-64b9-4d96-a910-4e3f9ad0e98d",
   "metadata": {},
   "outputs": [],
   "source": [
    "setwd(\"/project/ABKlab/Natalia/sc-RNA-seq/single_TLS_project\")"
   ]
  },
  {
   "cell_type": "code",
   "execution_count": 2,
   "id": "76626dac-bc69-4e96-822e-f9b938075f3e",
   "metadata": {},
   "outputs": [],
   "source": [
    "library(\"readxl\")"
   ]
  },
  {
   "cell_type": "code",
   "execution_count": 3,
   "id": "846a569e-23e6-4744-8c24-ce9ed029d2b1",
   "metadata": {},
   "outputs": [
    {
     "name": "stderr",
     "output_type": "stream",
     "text": [
      "Warning message:\n",
      "“replacing previous import ‘lifecycle::last_warnings’ by ‘rlang::last_warnings’ when loading ‘tibble’”\n"
     ]
    }
   ],
   "source": [
    "# xlsx files\n",
    "my_data_48h <- read_excel(\"./raw_data/221103_morphotype/Multi_BC_Variation_With_Morpho.xlsx\", sheet = \"48h\")\n",
    "my_data_72h <- read_excel(\"./raw_data/221103_morphotype/Multi_BC_Variation_With_Morpho.xlsx\", sheet = \"72h\")\n",
    "my_data_96h <- read_excel(\"./raw_data/221103_morphotype/Multi_BC_Variation_With_Morpho.xlsx\", sheet = \"96h\")\n",
    "my_data_120h <- read_excel(\"./raw_data/221103_morphotype/Multi_BC_Variation_With_Morpho.xlsx\", sheet = \"120h\")"
   ]
  },
  {
   "cell_type": "code",
   "execution_count": 4,
   "id": "0114721b-1a12-4008-acce-084ab308d45e",
   "metadata": {},
   "outputs": [
    {
     "data": {
      "text/html": [
       "<style>\n",
       ".list-inline {list-style: none; margin:0; padding: 0}\n",
       ".list-inline>li {display: inline-block}\n",
       ".list-inline>li:not(:last-child)::after {content: \"\\00b7\"; padding: 0 .5ex}\n",
       "</style>\n",
       "<ol class=list-inline><li>72</li><li>7</li></ol>\n"
      ],
      "text/latex": [
       "\\begin{enumerate*}\n",
       "\\item 72\n",
       "\\item 7\n",
       "\\end{enumerate*}\n"
      ],
      "text/markdown": [
       "1. 72\n",
       "2. 7\n",
       "\n",
       "\n"
      ],
      "text/plain": [
       "[1] 72  7"
      ]
     },
     "metadata": {},
     "output_type": "display_data"
    },
    {
     "data": {
      "text/html": [
       "<table class=\"dataframe\">\n",
       "<caption>A tibble: 6 × 7</caption>\n",
       "<thead>\n",
       "\t<tr><th scope=col>Sample</th><th scope=col>Multi_BC</th><th scope=col>Multi_BC_#</th><th scope=col>Plate</th><th scope=col>Morphotype</th><th scope=col>Area</th><th scope=col>AR</th></tr>\n",
       "\t<tr><th scope=col>&lt;chr&gt;</th><th scope=col>&lt;chr&gt;</th><th scope=col>&lt;chr&gt;</th><th scope=col>&lt;dbl&gt;</th><th scope=col>&lt;chr&gt;</th><th scope=col>&lt;dbl&gt;</th><th scope=col>&lt;dbl&gt;</th></tr>\n",
       "</thead>\n",
       "<tbody>\n",
       "\t<tr><td>B11</td><td>CCTTGGCACCCGAGAATTCCACCACAATGAAAAAAAAAAAAAAAAAAAAAAAAAAAAAA</td><td>A2</td><td>2</td><td>round</td><td>58019.50</td><td>1.082</td></tr>\n",
       "\t<tr><td>A3 </td><td>CCTTGGCACCCGAGAATTCCATGAGACCTAAAAAAAAAAAAAAAAAAAAAAAAAAAAAA</td><td>A3</td><td>2</td><td>round</td><td>59963.06</td><td>1.138</td></tr>\n",
       "\t<tr><td>A4 </td><td>CCTTGGCACCCGAGAATTCCAGCACACGCAAAAAAAAAAAAAAAAAAAAAAAAAAAAAA</td><td>A4</td><td>2</td><td>round</td><td>60492.44</td><td>1.107</td></tr>\n",
       "\t<tr><td>A5 </td><td>CCTTGGCACCCGAGAATTCCAAGAGAGAGAAAAAAAAAAAAAAAAAAAAAAAAAAAAAA</td><td>A5</td><td>2</td><td>round</td><td>55055.00</td><td>1.198</td></tr>\n",
       "\t<tr><td>A6 </td><td>CCTTGGCACCCGAGAATTCCATCACAGCAAAAAAAAAAAAAAAAAAAAAAAAAAAAAAA</td><td>A6</td><td>2</td><td>round</td><td>58458.12</td><td>1.150</td></tr>\n",
       "\t<tr><td>A7 </td><td>CCTTGGCACCCGAGAATTCCAGAAAAGGGAAAAAAAAAAAAAAAAAAAAAAAAAAAAAA</td><td>A7</td><td>2</td><td>round</td><td>56499.44</td><td>1.132</td></tr>\n",
       "</tbody>\n",
       "</table>\n"
      ],
      "text/latex": [
       "A tibble: 6 × 7\n",
       "\\begin{tabular}{lllllll}\n",
       " Sample & Multi\\_BC & Multi\\_BC\\_\\# & Plate & Morphotype & Area & AR\\\\\n",
       " <chr> & <chr> & <chr> & <dbl> & <chr> & <dbl> & <dbl>\\\\\n",
       "\\hline\n",
       "\t B11 & CCTTGGCACCCGAGAATTCCACCACAATGAAAAAAAAAAAAAAAAAAAAAAAAAAAAAA & A2 & 2 & round & 58019.50 & 1.082\\\\\n",
       "\t A3  & CCTTGGCACCCGAGAATTCCATGAGACCTAAAAAAAAAAAAAAAAAAAAAAAAAAAAAA & A3 & 2 & round & 59963.06 & 1.138\\\\\n",
       "\t A4  & CCTTGGCACCCGAGAATTCCAGCACACGCAAAAAAAAAAAAAAAAAAAAAAAAAAAAAA & A4 & 2 & round & 60492.44 & 1.107\\\\\n",
       "\t A5  & CCTTGGCACCCGAGAATTCCAAGAGAGAGAAAAAAAAAAAAAAAAAAAAAAAAAAAAAA & A5 & 2 & round & 55055.00 & 1.198\\\\\n",
       "\t A6  & CCTTGGCACCCGAGAATTCCATCACAGCAAAAAAAAAAAAAAAAAAAAAAAAAAAAAAA & A6 & 2 & round & 58458.12 & 1.150\\\\\n",
       "\t A7  & CCTTGGCACCCGAGAATTCCAGAAAAGGGAAAAAAAAAAAAAAAAAAAAAAAAAAAAAA & A7 & 2 & round & 56499.44 & 1.132\\\\\n",
       "\\end{tabular}\n"
      ],
      "text/markdown": [
       "\n",
       "A tibble: 6 × 7\n",
       "\n",
       "| Sample &lt;chr&gt; | Multi_BC &lt;chr&gt; | Multi_BC_# &lt;chr&gt; | Plate &lt;dbl&gt; | Morphotype &lt;chr&gt; | Area &lt;dbl&gt; | AR &lt;dbl&gt; |\n",
       "|---|---|---|---|---|---|---|\n",
       "| B11 | CCTTGGCACCCGAGAATTCCACCACAATGAAAAAAAAAAAAAAAAAAAAAAAAAAAAAA | A2 | 2 | round | 58019.50 | 1.082 |\n",
       "| A3  | CCTTGGCACCCGAGAATTCCATGAGACCTAAAAAAAAAAAAAAAAAAAAAAAAAAAAAA | A3 | 2 | round | 59963.06 | 1.138 |\n",
       "| A4  | CCTTGGCACCCGAGAATTCCAGCACACGCAAAAAAAAAAAAAAAAAAAAAAAAAAAAAA | A4 | 2 | round | 60492.44 | 1.107 |\n",
       "| A5  | CCTTGGCACCCGAGAATTCCAAGAGAGAGAAAAAAAAAAAAAAAAAAAAAAAAAAAAAA | A5 | 2 | round | 55055.00 | 1.198 |\n",
       "| A6  | CCTTGGCACCCGAGAATTCCATCACAGCAAAAAAAAAAAAAAAAAAAAAAAAAAAAAAA | A6 | 2 | round | 58458.12 | 1.150 |\n",
       "| A7  | CCTTGGCACCCGAGAATTCCAGAAAAGGGAAAAAAAAAAAAAAAAAAAAAAAAAAAAAA | A7 | 2 | round | 56499.44 | 1.132 |\n",
       "\n"
      ],
      "text/plain": [
       "  Sample Multi_BC                                                    Multi_BC_#\n",
       "1 B11    CCTTGGCACCCGAGAATTCCACCACAATGAAAAAAAAAAAAAAAAAAAAAAAAAAAAAA A2        \n",
       "2 A3     CCTTGGCACCCGAGAATTCCATGAGACCTAAAAAAAAAAAAAAAAAAAAAAAAAAAAAA A3        \n",
       "3 A4     CCTTGGCACCCGAGAATTCCAGCACACGCAAAAAAAAAAAAAAAAAAAAAAAAAAAAAA A4        \n",
       "4 A5     CCTTGGCACCCGAGAATTCCAAGAGAGAGAAAAAAAAAAAAAAAAAAAAAAAAAAAAAA A5        \n",
       "5 A6     CCTTGGCACCCGAGAATTCCATCACAGCAAAAAAAAAAAAAAAAAAAAAAAAAAAAAAA A6        \n",
       "6 A7     CCTTGGCACCCGAGAATTCCAGAAAAGGGAAAAAAAAAAAAAAAAAAAAAAAAAAAAAA A7        \n",
       "  Plate Morphotype Area     AR   \n",
       "1 2     round      58019.50 1.082\n",
       "2 2     round      59963.06 1.138\n",
       "3 2     round      60492.44 1.107\n",
       "4 2     round      55055.00 1.198\n",
       "5 2     round      58458.12 1.150\n",
       "6 2     round      56499.44 1.132"
      ]
     },
     "metadata": {},
     "output_type": "display_data"
    }
   ],
   "source": [
    "dim(my_data_48h)\n",
    "head(my_data_48h)"
   ]
  },
  {
   "cell_type": "code",
   "execution_count": null,
   "id": "208720f1-967c-4ebd-af4b-44a6cb9c7db2",
   "metadata": {},
   "outputs": [],
   "source": [
    "# Adding barcode column (substracted from Multi_BC original column)"
   ]
  },
  {
   "cell_type": "code",
   "execution_count": 5,
   "id": "f1597366-b7f1-45fb-8cba-014b7de7b65a",
   "metadata": {},
   "outputs": [],
   "source": [
    "# substr(x, start, stop)\n",
    "my_data_48h$barcodes <- substr(my_data_48h$Multi_BC, 22,29)\n",
    "my_data_72h$barcodes <- substr(my_data_72h$Multi_BC, 22,29)\n",
    "my_data_96h$barcodes <- substr(my_data_96h$Multi_BC, 22,29)\n",
    "my_data_120h$barcodes <- substr(my_data_120h$Multi_BC, 22,29)"
   ]
  },
  {
   "cell_type": "code",
   "execution_count": 6,
   "id": "3477d1a7-5a32-42ed-a94f-fd75b37fa2e2",
   "metadata": {},
   "outputs": [
    {
     "data": {
      "text/html": [
       "<table class=\"dataframe\">\n",
       "<caption>A tibble: 6 × 8</caption>\n",
       "<thead>\n",
       "\t<tr><th scope=col>Sample</th><th scope=col>Multi_BC</th><th scope=col>Multi_BC_#</th><th scope=col>Plate</th><th scope=col>Morphotype</th><th scope=col>Area</th><th scope=col>AR</th><th scope=col>barcodes</th></tr>\n",
       "\t<tr><th scope=col>&lt;chr&gt;</th><th scope=col>&lt;chr&gt;</th><th scope=col>&lt;chr&gt;</th><th scope=col>&lt;dbl&gt;</th><th scope=col>&lt;chr&gt;</th><th scope=col>&lt;dbl&gt;</th><th scope=col>&lt;dbl&gt;</th><th scope=col>&lt;chr&gt;</th></tr>\n",
       "</thead>\n",
       "<tbody>\n",
       "\t<tr><td>B11</td><td>CCTTGGCACCCGAGAATTCCACCACAATGAAAAAAAAAAAAAAAAAAAAAAAAAAAAAA</td><td>A2</td><td>2</td><td>round</td><td>58019.50</td><td>1.082</td><td>CCACAATG</td></tr>\n",
       "\t<tr><td>A3 </td><td>CCTTGGCACCCGAGAATTCCATGAGACCTAAAAAAAAAAAAAAAAAAAAAAAAAAAAAA</td><td>A3</td><td>2</td><td>round</td><td>59963.06</td><td>1.138</td><td>TGAGACCT</td></tr>\n",
       "\t<tr><td>A4 </td><td>CCTTGGCACCCGAGAATTCCAGCACACGCAAAAAAAAAAAAAAAAAAAAAAAAAAAAAA</td><td>A4</td><td>2</td><td>round</td><td>60492.44</td><td>1.107</td><td>GCACACGC</td></tr>\n",
       "\t<tr><td>A5 </td><td>CCTTGGCACCCGAGAATTCCAAGAGAGAGAAAAAAAAAAAAAAAAAAAAAAAAAAAAAA</td><td>A5</td><td>2</td><td>round</td><td>55055.00</td><td>1.198</td><td>AGAGAGAG</td></tr>\n",
       "\t<tr><td>A6 </td><td>CCTTGGCACCCGAGAATTCCATCACAGCAAAAAAAAAAAAAAAAAAAAAAAAAAAAAAA</td><td>A6</td><td>2</td><td>round</td><td>58458.12</td><td>1.150</td><td>TCACAGCA</td></tr>\n",
       "\t<tr><td>A7 </td><td>CCTTGGCACCCGAGAATTCCAGAAAAGGGAAAAAAAAAAAAAAAAAAAAAAAAAAAAAA</td><td>A7</td><td>2</td><td>round</td><td>56499.44</td><td>1.132</td><td>GAAAAGGG</td></tr>\n",
       "</tbody>\n",
       "</table>\n"
      ],
      "text/latex": [
       "A tibble: 6 × 8\n",
       "\\begin{tabular}{llllllll}\n",
       " Sample & Multi\\_BC & Multi\\_BC\\_\\# & Plate & Morphotype & Area & AR & barcodes\\\\\n",
       " <chr> & <chr> & <chr> & <dbl> & <chr> & <dbl> & <dbl> & <chr>\\\\\n",
       "\\hline\n",
       "\t B11 & CCTTGGCACCCGAGAATTCCACCACAATGAAAAAAAAAAAAAAAAAAAAAAAAAAAAAA & A2 & 2 & round & 58019.50 & 1.082 & CCACAATG\\\\\n",
       "\t A3  & CCTTGGCACCCGAGAATTCCATGAGACCTAAAAAAAAAAAAAAAAAAAAAAAAAAAAAA & A3 & 2 & round & 59963.06 & 1.138 & TGAGACCT\\\\\n",
       "\t A4  & CCTTGGCACCCGAGAATTCCAGCACACGCAAAAAAAAAAAAAAAAAAAAAAAAAAAAAA & A4 & 2 & round & 60492.44 & 1.107 & GCACACGC\\\\\n",
       "\t A5  & CCTTGGCACCCGAGAATTCCAAGAGAGAGAAAAAAAAAAAAAAAAAAAAAAAAAAAAAA & A5 & 2 & round & 55055.00 & 1.198 & AGAGAGAG\\\\\n",
       "\t A6  & CCTTGGCACCCGAGAATTCCATCACAGCAAAAAAAAAAAAAAAAAAAAAAAAAAAAAAA & A6 & 2 & round & 58458.12 & 1.150 & TCACAGCA\\\\\n",
       "\t A7  & CCTTGGCACCCGAGAATTCCAGAAAAGGGAAAAAAAAAAAAAAAAAAAAAAAAAAAAAA & A7 & 2 & round & 56499.44 & 1.132 & GAAAAGGG\\\\\n",
       "\\end{tabular}\n"
      ],
      "text/markdown": [
       "\n",
       "A tibble: 6 × 8\n",
       "\n",
       "| Sample &lt;chr&gt; | Multi_BC &lt;chr&gt; | Multi_BC_# &lt;chr&gt; | Plate &lt;dbl&gt; | Morphotype &lt;chr&gt; | Area &lt;dbl&gt; | AR &lt;dbl&gt; | barcodes &lt;chr&gt; |\n",
       "|---|---|---|---|---|---|---|---|\n",
       "| B11 | CCTTGGCACCCGAGAATTCCACCACAATGAAAAAAAAAAAAAAAAAAAAAAAAAAAAAA | A2 | 2 | round | 58019.50 | 1.082 | CCACAATG |\n",
       "| A3  | CCTTGGCACCCGAGAATTCCATGAGACCTAAAAAAAAAAAAAAAAAAAAAAAAAAAAAA | A3 | 2 | round | 59963.06 | 1.138 | TGAGACCT |\n",
       "| A4  | CCTTGGCACCCGAGAATTCCAGCACACGCAAAAAAAAAAAAAAAAAAAAAAAAAAAAAA | A4 | 2 | round | 60492.44 | 1.107 | GCACACGC |\n",
       "| A5  | CCTTGGCACCCGAGAATTCCAAGAGAGAGAAAAAAAAAAAAAAAAAAAAAAAAAAAAAA | A5 | 2 | round | 55055.00 | 1.198 | AGAGAGAG |\n",
       "| A6  | CCTTGGCACCCGAGAATTCCATCACAGCAAAAAAAAAAAAAAAAAAAAAAAAAAAAAAA | A6 | 2 | round | 58458.12 | 1.150 | TCACAGCA |\n",
       "| A7  | CCTTGGCACCCGAGAATTCCAGAAAAGGGAAAAAAAAAAAAAAAAAAAAAAAAAAAAAA | A7 | 2 | round | 56499.44 | 1.132 | GAAAAGGG |\n",
       "\n"
      ],
      "text/plain": [
       "  Sample Multi_BC                                                    Multi_BC_#\n",
       "1 B11    CCTTGGCACCCGAGAATTCCACCACAATGAAAAAAAAAAAAAAAAAAAAAAAAAAAAAA A2        \n",
       "2 A3     CCTTGGCACCCGAGAATTCCATGAGACCTAAAAAAAAAAAAAAAAAAAAAAAAAAAAAA A3        \n",
       "3 A4     CCTTGGCACCCGAGAATTCCAGCACACGCAAAAAAAAAAAAAAAAAAAAAAAAAAAAAA A4        \n",
       "4 A5     CCTTGGCACCCGAGAATTCCAAGAGAGAGAAAAAAAAAAAAAAAAAAAAAAAAAAAAAA A5        \n",
       "5 A6     CCTTGGCACCCGAGAATTCCATCACAGCAAAAAAAAAAAAAAAAAAAAAAAAAAAAAAA A6        \n",
       "6 A7     CCTTGGCACCCGAGAATTCCAGAAAAGGGAAAAAAAAAAAAAAAAAAAAAAAAAAAAAA A7        \n",
       "  Plate Morphotype Area     AR    barcodes\n",
       "1 2     round      58019.50 1.082 CCACAATG\n",
       "2 2     round      59963.06 1.138 TGAGACCT\n",
       "3 2     round      60492.44 1.107 GCACACGC\n",
       "4 2     round      55055.00 1.198 AGAGAGAG\n",
       "5 2     round      58458.12 1.150 TCACAGCA\n",
       "6 2     round      56499.44 1.132 GAAAAGGG"
      ]
     },
     "metadata": {},
     "output_type": "display_data"
    }
   ],
   "source": [
    "head(my_data_48h)"
   ]
  },
  {
   "cell_type": "code",
   "execution_count": 7,
   "id": "7281d70c-9b9a-4624-8d3d-7a84ba317302",
   "metadata": {},
   "outputs": [],
   "source": [
    "barcodes_48h <- my_data_48h$barcodes\n",
    "barcodes_72h <- my_data_72h$barcodes\n",
    "barcodes_96h <- my_data_96h$barcodes\n",
    "barcodes_120h <- my_data_120h$barcodes"
   ]
  },
  {
   "cell_type": "code",
   "execution_count": 8,
   "id": "d9185e5a-f7ec-463d-9fea-cf621e37c6f8",
   "metadata": {},
   "outputs": [
    {
     "data": {
      "text/html": [
       "72"
      ],
      "text/latex": [
       "72"
      ],
      "text/markdown": [
       "72"
      ],
      "text/plain": [
       "[1] 72"
      ]
     },
     "metadata": {},
     "output_type": "display_data"
    },
    {
     "data": {
      "text/html": [
       "48"
      ],
      "text/latex": [
       "48"
      ],
      "text/markdown": [
       "48"
      ],
      "text/plain": [
       "[1] 48"
      ]
     },
     "metadata": {},
     "output_type": "display_data"
    },
    {
     "data": {
      "text/html": [
       "24"
      ],
      "text/latex": [
       "24"
      ],
      "text/markdown": [
       "24"
      ],
      "text/plain": [
       "[1] 24"
      ]
     },
     "metadata": {},
     "output_type": "display_data"
    },
    {
     "data": {
      "text/html": [
       "24"
      ],
      "text/latex": [
       "24"
      ],
      "text/markdown": [
       "24"
      ],
      "text/plain": [
       "[1] 24"
      ]
     },
     "metadata": {},
     "output_type": "display_data"
    }
   ],
   "source": [
    "length(barcodes_48h)\n",
    "length(barcodes_72h)\n",
    "length(barcodes_96h)\n",
    "length(barcodes_120h)"
   ]
  },
  {
   "cell_type": "code",
   "execution_count": 9,
   "id": "d1de536a-0339-4a7f-add1-fa054d6462bc",
   "metadata": {},
   "outputs": [],
   "source": [
    "# Save an object to a file\n",
    "# saveRDS(object, file = \"my_data.rds\")\n",
    "\n",
    "saveRDS(barcodes_48h, file = \"./files/barcodes_48h.rds\")\n",
    "saveRDS(barcodes_72h, file = \"./files/barcodes_72h.rds\")\n",
    "saveRDS(barcodes_96h, file = \"./files/barcodes_96h.rds\")\n",
    "saveRDS(barcodes_120h, file = \"./files/barcodes_120h.rds\")"
   ]
  }
 ],
 "metadata": {
  "kernelspec": {
   "display_name": "R",
   "language": "R",
   "name": "ir"
  },
  "language_info": {
   "codemirror_mode": "r",
   "file_extension": ".r",
   "mimetype": "text/x-r-source",
   "name": "R",
   "pygments_lexer": "r",
   "version": "4.1.0"
  }
 },
 "nbformat": 4,
 "nbformat_minor": 5
}
