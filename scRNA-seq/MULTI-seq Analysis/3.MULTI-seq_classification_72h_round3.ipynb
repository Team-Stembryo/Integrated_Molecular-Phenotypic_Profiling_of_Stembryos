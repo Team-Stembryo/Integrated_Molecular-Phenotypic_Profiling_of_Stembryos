{
 "cells": [
  {
   "cell_type": "code",
   "execution_count": 1,
   "id": "1696bbf1-98dd-4641-bb33-e9492152198a",
   "metadata": {},
   "outputs": [
    {
     "name": "stderr",
     "output_type": "stream",
     "text": [
      "Warning message:\n",
      "“replacing previous import ‘lifecycle::last_warnings’ by ‘rlang::last_warnings’ when loading ‘tibble’”\n"
     ]
    }
   ],
   "source": [
    "library(\"deMULTIplex\")\n",
    "library(\"ggplot2\")"
   ]
  },
  {
   "cell_type": "code",
   "execution_count": 2,
   "id": "c0126db1-d251-4089-b714-8615e5ccd9f7",
   "metadata": {},
   "outputs": [],
   "source": [
    "## deMULTIplexing ##\n",
    "setwd(\"/project/ABKlab/Natalia/sc-RNA-seq/single_TLS_project\")"
   ]
  },
  {
   "cell_type": "markdown",
   "id": "c8c8762b-dbd8-4c42-8101-28c8730ec759",
   "metadata": {},
   "source": [
    "# Table 72h"
   ]
  },
  {
   "cell_type": "code",
   "execution_count": 3,
   "id": "d60442d9-17a0-430f-a381-82c38573c31b",
   "metadata": {},
   "outputs": [],
   "source": [
    "bartable_72h <- readRDS(\"./files/bartable_72h.rds\")"
   ]
  },
  {
   "cell_type": "code",
   "execution_count": 4,
   "id": "1193beea-d123-4fef-a81b-9673b7ddb861",
   "metadata": {},
   "outputs": [
    {
     "data": {
      "text/html": [
       "<table class=\"dataframe\">\n",
       "<caption>A data.frame: 6 × 50</caption>\n",
       "<thead>\n",
       "\t<tr><th></th><th scope=col>Bar1</th><th scope=col>Bar2</th><th scope=col>Bar3</th><th scope=col>Bar4</th><th scope=col>Bar5</th><th scope=col>Bar6</th><th scope=col>Bar7</th><th scope=col>Bar8</th><th scope=col>Bar9</th><th scope=col>Bar10</th><th scope=col>⋯</th><th scope=col>Bar41</th><th scope=col>Bar42</th><th scope=col>Bar43</th><th scope=col>Bar44</th><th scope=col>Bar45</th><th scope=col>Bar46</th><th scope=col>Bar47</th><th scope=col>Bar48</th><th scope=col>nUMI</th><th scope=col>nUMI_total</th></tr>\n",
       "\t<tr><th></th><th scope=col>&lt;int&gt;</th><th scope=col>&lt;int&gt;</th><th scope=col>&lt;int&gt;</th><th scope=col>&lt;int&gt;</th><th scope=col>&lt;int&gt;</th><th scope=col>&lt;int&gt;</th><th scope=col>&lt;int&gt;</th><th scope=col>&lt;int&gt;</th><th scope=col>&lt;int&gt;</th><th scope=col>&lt;int&gt;</th><th scope=col>⋯</th><th scope=col>&lt;int&gt;</th><th scope=col>&lt;int&gt;</th><th scope=col>&lt;int&gt;</th><th scope=col>&lt;int&gt;</th><th scope=col>&lt;int&gt;</th><th scope=col>&lt;int&gt;</th><th scope=col>&lt;int&gt;</th><th scope=col>&lt;int&gt;</th><th scope=col>&lt;int&gt;</th><th scope=col>&lt;int&gt;</th></tr>\n",
       "</thead>\n",
       "<tbody>\n",
       "\t<tr><th scope=row>AAACCCACACGTCATA</th><td>4</td><td>3</td><td>  13</td><td>2</td><td>9</td><td> 6</td><td>3</td><td>2</td><td>26</td><td>13</td><td>⋯</td><td>4</td><td>5</td><td>1</td><td>11</td><td>2</td><td> 8</td><td>24</td><td>2</td><td> 239</td><td> 269</td></tr>\n",
       "\t<tr><th scope=row>AAACCCACATCCTTGC</th><td>5</td><td>3</td><td>   8</td><td>3</td><td>8</td><td> 6</td><td>3</td><td>2</td><td> 2</td><td> 6</td><td>⋯</td><td>2</td><td>5</td><td>3</td><td> 5</td><td>3</td><td>12</td><td>12</td><td>3</td><td> 169</td><td> 184</td></tr>\n",
       "\t<tr><th scope=row>AAACCCACATTAAGCC</th><td>5</td><td>0</td><td>   9</td><td>1</td><td>4</td><td> 6</td><td>2</td><td>3</td><td> 3</td><td> 8</td><td>⋯</td><td>0</td><td>3</td><td>3</td><td> 5</td><td>3</td><td>11</td><td>14</td><td>2</td><td> 172</td><td> 186</td></tr>\n",
       "\t<tr><th scope=row>AAACCCACATTGTCGA</th><td>5</td><td>3</td><td>1615</td><td>4</td><td>6</td><td> 5</td><td>4</td><td>2</td><td> 4</td><td> 6</td><td>⋯</td><td>1</td><td>1</td><td>1</td><td> 6</td><td>3</td><td> 6</td><td> 9</td><td>4</td><td>1766</td><td>1994</td></tr>\n",
       "\t<tr><th scope=row>AAACCCAGTAGTCTTG</th><td>2</td><td>1</td><td>   9</td><td>0</td><td>5</td><td>11</td><td>1</td><td>4</td><td> 4</td><td> 7</td><td>⋯</td><td>1</td><td>4</td><td>1</td><td> 6</td><td>5</td><td> 9</td><td>14</td><td>4</td><td> 234</td><td> 273</td></tr>\n",
       "\t<tr><th scope=row>AAACCCAGTCCTCATC</th><td>3</td><td>1</td><td>   2</td><td>1</td><td>5</td><td> 4</td><td>1</td><td>2</td><td> 2</td><td> 2</td><td>⋯</td><td>6</td><td>2</td><td>3</td><td> 7</td><td>0</td><td> 4</td><td> 3</td><td>4</td><td> 275</td><td> 303</td></tr>\n",
       "</tbody>\n",
       "</table>\n"
      ],
      "text/latex": [
       "A data.frame: 6 × 50\n",
       "\\begin{tabular}{r|lllllllllllllllllllll}\n",
       "  & Bar1 & Bar2 & Bar3 & Bar4 & Bar5 & Bar6 & Bar7 & Bar8 & Bar9 & Bar10 & ⋯ & Bar41 & Bar42 & Bar43 & Bar44 & Bar45 & Bar46 & Bar47 & Bar48 & nUMI & nUMI\\_total\\\\\n",
       "  & <int> & <int> & <int> & <int> & <int> & <int> & <int> & <int> & <int> & <int> & ⋯ & <int> & <int> & <int> & <int> & <int> & <int> & <int> & <int> & <int> & <int>\\\\\n",
       "\\hline\n",
       "\tAAACCCACACGTCATA & 4 & 3 &   13 & 2 & 9 &  6 & 3 & 2 & 26 & 13 & ⋯ & 4 & 5 & 1 & 11 & 2 &  8 & 24 & 2 &  239 &  269\\\\\n",
       "\tAAACCCACATCCTTGC & 5 & 3 &    8 & 3 & 8 &  6 & 3 & 2 &  2 &  6 & ⋯ & 2 & 5 & 3 &  5 & 3 & 12 & 12 & 3 &  169 &  184\\\\\n",
       "\tAAACCCACATTAAGCC & 5 & 0 &    9 & 1 & 4 &  6 & 2 & 3 &  3 &  8 & ⋯ & 0 & 3 & 3 &  5 & 3 & 11 & 14 & 2 &  172 &  186\\\\\n",
       "\tAAACCCACATTGTCGA & 5 & 3 & 1615 & 4 & 6 &  5 & 4 & 2 &  4 &  6 & ⋯ & 1 & 1 & 1 &  6 & 3 &  6 &  9 & 4 & 1766 & 1994\\\\\n",
       "\tAAACCCAGTAGTCTTG & 2 & 1 &    9 & 0 & 5 & 11 & 1 & 4 &  4 &  7 & ⋯ & 1 & 4 & 1 &  6 & 5 &  9 & 14 & 4 &  234 &  273\\\\\n",
       "\tAAACCCAGTCCTCATC & 3 & 1 &    2 & 1 & 5 &  4 & 1 & 2 &  2 &  2 & ⋯ & 6 & 2 & 3 &  7 & 0 &  4 &  3 & 4 &  275 &  303\\\\\n",
       "\\end{tabular}\n"
      ],
      "text/markdown": [
       "\n",
       "A data.frame: 6 × 50\n",
       "\n",
       "| <!--/--> | Bar1 &lt;int&gt; | Bar2 &lt;int&gt; | Bar3 &lt;int&gt; | Bar4 &lt;int&gt; | Bar5 &lt;int&gt; | Bar6 &lt;int&gt; | Bar7 &lt;int&gt; | Bar8 &lt;int&gt; | Bar9 &lt;int&gt; | Bar10 &lt;int&gt; | ⋯ ⋯ | Bar41 &lt;int&gt; | Bar42 &lt;int&gt; | Bar43 &lt;int&gt; | Bar44 &lt;int&gt; | Bar45 &lt;int&gt; | Bar46 &lt;int&gt; | Bar47 &lt;int&gt; | Bar48 &lt;int&gt; | nUMI &lt;int&gt; | nUMI_total &lt;int&gt; |\n",
       "|---|---|---|---|---|---|---|---|---|---|---|---|---|---|---|---|---|---|---|---|---|---|\n",
       "| AAACCCACACGTCATA | 4 | 3 |   13 | 2 | 9 |  6 | 3 | 2 | 26 | 13 | ⋯ | 4 | 5 | 1 | 11 | 2 |  8 | 24 | 2 |  239 |  269 |\n",
       "| AAACCCACATCCTTGC | 5 | 3 |    8 | 3 | 8 |  6 | 3 | 2 |  2 |  6 | ⋯ | 2 | 5 | 3 |  5 | 3 | 12 | 12 | 3 |  169 |  184 |\n",
       "| AAACCCACATTAAGCC | 5 | 0 |    9 | 1 | 4 |  6 | 2 | 3 |  3 |  8 | ⋯ | 0 | 3 | 3 |  5 | 3 | 11 | 14 | 2 |  172 |  186 |\n",
       "| AAACCCACATTGTCGA | 5 | 3 | 1615 | 4 | 6 |  5 | 4 | 2 |  4 |  6 | ⋯ | 1 | 1 | 1 |  6 | 3 |  6 |  9 | 4 | 1766 | 1994 |\n",
       "| AAACCCAGTAGTCTTG | 2 | 1 |    9 | 0 | 5 | 11 | 1 | 4 |  4 |  7 | ⋯ | 1 | 4 | 1 |  6 | 5 |  9 | 14 | 4 |  234 |  273 |\n",
       "| AAACCCAGTCCTCATC | 3 | 1 |    2 | 1 | 5 |  4 | 1 | 2 |  2 |  2 | ⋯ | 6 | 2 | 3 |  7 | 0 |  4 |  3 | 4 |  275 |  303 |\n",
       "\n"
      ],
      "text/plain": [
       "                 Bar1 Bar2 Bar3 Bar4 Bar5 Bar6 Bar7 Bar8 Bar9 Bar10 ⋯ Bar41\n",
       "AAACCCACACGTCATA 4    3      13 2    9     6   3    2    26   13    ⋯ 4    \n",
       "AAACCCACATCCTTGC 5    3       8 3    8     6   3    2     2    6    ⋯ 2    \n",
       "AAACCCACATTAAGCC 5    0       9 1    4     6   2    3     3    8    ⋯ 0    \n",
       "AAACCCACATTGTCGA 5    3    1615 4    6     5   4    2     4    6    ⋯ 1    \n",
       "AAACCCAGTAGTCTTG 2    1       9 0    5    11   1    4     4    7    ⋯ 1    \n",
       "AAACCCAGTCCTCATC 3    1       2 1    5     4   1    2     2    2    ⋯ 6    \n",
       "                 Bar42 Bar43 Bar44 Bar45 Bar46 Bar47 Bar48 nUMI nUMI_total\n",
       "AAACCCACACGTCATA 5     1     11    2      8    24    2      239  269      \n",
       "AAACCCACATCCTTGC 5     3      5    3     12    12    3      169  184      \n",
       "AAACCCACATTAAGCC 3     3      5    3     11    14    2      172  186      \n",
       "AAACCCACATTGTCGA 1     1      6    3      6     9    4     1766 1994      \n",
       "AAACCCAGTAGTCTTG 4     1      6    5      9    14    4      234  273      \n",
       "AAACCCAGTCCTCATC 2     3      7    0      4     3    4      275  303      "
      ]
     },
     "metadata": {},
     "output_type": "display_data"
    },
    {
     "data": {
      "text/html": [
       "<style>\n",
       ".list-inline {list-style: none; margin:0; padding: 0}\n",
       ".list-inline>li {display: inline-block}\n",
       ".list-inline>li:not(:last-child)::after {content: \"\\00b7\"; padding: 0 .5ex}\n",
       "</style>\n",
       "<ol class=list-inline><li>13763</li><li>50</li></ol>\n"
      ],
      "text/latex": [
       "\\begin{enumerate*}\n",
       "\\item 13763\n",
       "\\item 50\n",
       "\\end{enumerate*}\n"
      ],
      "text/markdown": [
       "1. 13763\n",
       "2. 50\n",
       "\n",
       "\n"
      ],
      "text/plain": [
       "[1] 13763    50"
      ]
     },
     "metadata": {},
     "output_type": "display_data"
    }
   ],
   "source": [
    "head(bartable_72h)\n",
    "dim(bartable_72h)"
   ]
  },
  {
   "cell_type": "code",
   "execution_count": 5,
   "id": "8c81f2df-d5ba-4df8-83b5-6b57ff8ab6db",
   "metadata": {},
   "outputs": [],
   "source": [
    "x <- bartable_72h\n",
    "initial_cell_number <- nrow(bartable_72h)"
   ]
  },
  {
   "cell_type": "markdown",
   "id": "37b34569-e824-4d2c-b2a2-22a1b699e179",
   "metadata": {},
   "source": [
    "## demultiplexing: classification"
   ]
  },
  {
   "cell_type": "code",
   "execution_count": 6,
   "id": "0f2b7765-b87c-4450-8474-852bda5772bd",
   "metadata": {},
   "outputs": [
    {
     "name": "stderr",
     "output_type": "stream",
     "text": [
      "Loading required package: Rtsne\n",
      "\n"
     ]
    },
    {
     "name": "stdout",
     "output_type": "stream",
     "text": [
      "Performing PCA\n",
      "Read the 13763 x 48 data matrix successfully!\n",
      "OpenMP is working. 1 threads.\n",
      "Using no_dims = 2, perplexity = 30.000000, and theta = 0.500000\n",
      "Computing input similarities...\n",
      "Building tree...\n",
      " - point 10000 of 13763\n",
      "Done in 16.40 seconds (sparsity = 0.010308)!\n",
      "Learning embedding...\n",
      "Iteration 50: error is 99.309701 (50 iterations in 2.43 seconds)\n",
      "Iteration 100: error is 99.309701 (50 iterations in 3.11 seconds)\n",
      "Iteration 150: error is 99.309658 (50 iterations in 3.94 seconds)\n",
      "Iteration 200: error is 99.272407 (50 iterations in 4.10 seconds)\n",
      "Iteration 250: error is 98.729104 (50 iterations in 4.09 seconds)\n",
      "Iteration 300: error is 3.820772 (50 iterations in 2.45 seconds)\n",
      "Iteration 350: error is 3.421982 (50 iterations in 2.28 seconds)\n",
      "Iteration 400: error is 3.220918 (50 iterations in 2.23 seconds)\n",
      "Iteration 450: error is 3.096607 (50 iterations in 2.19 seconds)\n",
      "Iteration 500: error is 3.011058 (50 iterations in 2.16 seconds)\n",
      "Iteration 550: error is 2.947665 (50 iterations in 2.14 seconds)\n",
      "Iteration 600: error is 2.900879 (50 iterations in 2.13 seconds)\n",
      "Iteration 650: error is 2.864150 (50 iterations in 2.11 seconds)\n",
      "Iteration 700: error is 2.834294 (50 iterations in 2.12 seconds)\n",
      "Iteration 750: error is 2.809969 (50 iterations in 2.11 seconds)\n",
      "Iteration 800: error is 2.789640 (50 iterations in 2.11 seconds)\n",
      "Iteration 850: error is 2.773109 (50 iterations in 2.12 seconds)\n",
      "Iteration 900: error is 2.760571 (50 iterations in 2.13 seconds)\n",
      "Iteration 950: error is 2.750525 (50 iterations in 2.14 seconds)\n",
      "Iteration 1000: error is 2.742030 (50 iterations in 2.13 seconds)\n",
      "Iteration 1050: error is 2.735971 (50 iterations in 2.15 seconds)\n",
      "Iteration 1100: error is 2.731187 (50 iterations in 2.18 seconds)\n",
      "Iteration 1150: error is 2.726421 (50 iterations in 2.18 seconds)\n",
      "Iteration 1200: error is 2.723041 (50 iterations in 2.17 seconds)\n",
      "Iteration 1250: error is 2.719412 (50 iterations in 2.19 seconds)\n",
      "Iteration 1300: error is 2.716030 (50 iterations in 2.20 seconds)\n",
      "Iteration 1350: error is 2.712586 (50 iterations in 2.20 seconds)\n",
      "Iteration 1400: error is 2.709262 (50 iterations in 2.21 seconds)\n",
      "Iteration 1450: error is 2.706014 (50 iterations in 2.21 seconds)\n",
      "Iteration 1500: error is 2.702621 (50 iterations in 2.20 seconds)\n",
      "Iteration 1550: error is 2.699304 (50 iterations in 2.19 seconds)\n",
      "Iteration 1600: error is 2.696104 (50 iterations in 2.20 seconds)\n",
      "Iteration 1650: error is 2.692907 (50 iterations in 2.20 seconds)\n",
      "Iteration 1700: error is 2.689947 (50 iterations in 2.20 seconds)\n",
      "Iteration 1750: error is 2.687090 (50 iterations in 2.20 seconds)\n",
      "Iteration 1800: error is 2.684364 (50 iterations in 2.20 seconds)\n",
      "Iteration 1850: error is 2.681839 (50 iterations in 2.20 seconds)\n",
      "Iteration 1900: error is 2.679783 (50 iterations in 2.19 seconds)\n",
      "Iteration 1950: error is 2.677833 (50 iterations in 2.19 seconds)\n",
      "Iteration 2000: error is 2.676220 (50 iterations in 2.20 seconds)\n",
      "Iteration 2050: error is 2.674610 (50 iterations in 2.21 seconds)\n",
      "Iteration 2100: error is 2.672964 (50 iterations in 2.21 seconds)\n",
      "Iteration 2150: error is 2.671185 (50 iterations in 2.21 seconds)\n",
      "Iteration 2200: error is 2.669395 (50 iterations in 2.21 seconds)\n",
      "Iteration 2250: error is 2.667855 (50 iterations in 2.20 seconds)\n",
      "Iteration 2300: error is 2.666461 (50 iterations in 2.20 seconds)\n",
      "Iteration 2350: error is 2.665016 (50 iterations in 2.20 seconds)\n",
      "Iteration 2400: error is 2.663600 (50 iterations in 2.20 seconds)\n",
      "Iteration 2450: error is 2.662098 (50 iterations in 2.19 seconds)\n",
      "Iteration 2500: error is 2.660409 (50 iterations in 2.20 seconds)\n",
      "Fitting performed in 116.10 seconds.\n"
     ]
    },
    {
     "data": {
      "text/html": [
       "<strong>png:</strong> 2"
      ],
      "text/latex": [
       "\\textbf{png:} 2"
      ],
      "text/markdown": [
       "**png:** 2"
      ],
      "text/plain": [
       "png \n",
       "  2 "
      ]
     },
     "metadata": {},
     "output_type": "display_data"
    }
   ],
   "source": [
    "## Visualize barcode space\n",
    "bar.tsne <- barTSNE(x[,1:48]) # number of barcodes and not columns !!\n",
    "## Note: Exclude columns 97:98 (assuming 96 barcodes were used) which provide total barcode UMI counts for each cell. \n",
    "\n",
    "pdf(\"./outputs/MULTIseq/72h_bc.check.pdf\")\n",
    "for (i in 3:ncol(bar.tsne)) {\n",
    "  g <- ggplot(bar.tsne, aes(x = TSNE1, y = TSNE2, color = bar.tsne[,i])) +\n",
    "    geom_point() +\n",
    "    scale_color_gradient(low = \"black\", high = \"red\") +\n",
    "    ggtitle(colnames(bar.tsne)[i]) +\n",
    "    theme(legend.position = \"none\") \n",
    "  print(g)\n",
    "}\n",
    "dev.off()\n"
   ]
  },
  {
   "cell_type": "code",
   "execution_count": 16,
   "id": "a4b0a1ba-85b0-41a9-ae71-ada27a30c6e1",
   "metadata": {},
   "outputs": [
    {
     "name": "stdout",
     "output_type": "stream",
     "text": [
      "[1] 0.01\n",
      "[1] \"No threshold found for Bar35...\"\n",
      "[1] 0.03\n",
      "[1] \"No threshold found for Bar35...\"\n",
      "[1] 0.05\n",
      "[1] \"No threshold found for Bar35...\"\n",
      "[1] 0.07\n",
      "[1] \"No threshold found for Bar35...\"\n",
      "[1] 0.09\n",
      "[1] \"No threshold found for Bar35...\"\n",
      "[1] 0.11\n",
      "[1] \"No threshold found for Bar35...\"\n",
      "[1] 0.13\n",
      "[1] \"No threshold found for Bar35...\"\n",
      "[1] 0.15\n",
      "[1] \"No threshold found for Bar35...\"\n",
      "[1] 0.17\n",
      "[1] \"No threshold found for Bar35...\"\n",
      "[1] 0.19\n",
      "[1] \"No threshold found for Bar35...\"\n",
      "[1] 0.21\n",
      "[1] \"No threshold found for Bar35...\"\n",
      "[1] 0.23\n",
      "[1] \"No threshold found for Bar35...\"\n",
      "[1] 0.25\n",
      "[1] \"No threshold found for Bar35...\"\n",
      "[1] 0.27\n",
      "[1] \"No threshold found for Bar35...\"\n",
      "[1] 0.29\n",
      "[1] \"No threshold found for Bar35...\"\n",
      "[1] 0.31\n",
      "[1] \"No threshold found for Bar35...\"\n",
      "[1] 0.33\n",
      "[1] \"No threshold found for Bar35...\"\n",
      "[1] 0.35\n",
      "[1] \"No threshold found for Bar35...\"\n",
      "[1] 0.37\n",
      "[1] \"No threshold found for Bar35...\"\n",
      "[1] 0.39\n",
      "[1] \"No threshold found for Bar35...\"\n",
      "[1] 0.41\n",
      "[1] \"No threshold found for Bar35...\"\n",
      "[1] 0.43\n",
      "[1] \"No threshold found for Bar35...\"\n",
      "[1] 0.45\n",
      "[1] \"No threshold found for Bar35...\"\n",
      "[1] 0.47\n",
      "[1] \"No threshold found for Bar35...\"\n",
      "[1] 0.49\n",
      "[1] \"No threshold found for Bar35...\"\n",
      "[1] 0.51\n",
      "[1] \"No threshold found for Bar35...\"\n",
      "[1] 0.53\n",
      "[1] \"No threshold found for Bar35...\"\n",
      "[1] 0.55\n",
      "[1] \"No threshold found for Bar35...\"\n",
      "[1] 0.57\n",
      "[1] \"No threshold found for Bar35...\"\n",
      "[1] 0.59\n",
      "[1] \"No threshold found for Bar35...\"\n",
      "[1] 0.61\n",
      "[1] \"No threshold found for Bar35...\"\n",
      "[1] 0.63\n",
      "[1] \"No threshold found for Bar35...\"\n",
      "[1] 0.65\n",
      "[1] \"No threshold found for Bar35...\"\n",
      "[1] 0.67\n",
      "[1] \"No threshold found for Bar35...\"\n",
      "[1] 0.69\n",
      "[1] \"No threshold found for Bar35...\"\n",
      "[1] 0.71\n",
      "[1] \"No threshold found for Bar35...\"\n",
      "[1] 0.73\n",
      "[1] \"No threshold found for Bar35...\"\n",
      "[1] 0.75\n",
      "[1] \"No threshold found for Bar35...\"\n",
      "[1] 0.77\n",
      "[1] \"No threshold found for Bar35...\"\n",
      "[1] 0.79\n",
      "[1] \"No threshold found for Bar35...\"\n",
      "[1] 0.81\n",
      "[1] \"No threshold found for Bar35...\"\n",
      "[1] 0.83\n",
      "[1] \"No threshold found for Bar35...\"\n",
      "[1] 0.85\n",
      "[1] \"No threshold found for Bar35...\"\n",
      "[1] 0.87\n",
      "[1] \"No threshold found for Bar35...\"\n",
      "[1] 0.89\n",
      "[1] \"No threshold found for Bar35...\"\n",
      "[1] 0.91\n",
      "[1] \"No threshold found for Bar35...\"\n",
      "[1] 0.93\n",
      "[1] \"No threshold found for Bar35...\"\n",
      "[1] 0.95\n",
      "[1] \"No threshold found for Bar35...\"\n",
      "[1] 0.97\n",
      "[1] \"No threshold found for Bar35...\"\n",
      "[1] 0.99\n",
      "[1] \"No threshold found for Bar35...\"\n",
      "[1] \"No threshold found for Bar35...\"\n"
     ]
    },
    {
     "data": {
      "image/png": "[encoded data removed]",
      "text/plain": [
       "plot without title"
      ]
     },
     "metadata": {
      "image/png": {
       "height": 420,
       "width": 420
      }
     },
     "output_type": "display_data"
    }
   ],
   "source": [
    "# Sample classification\n",
    "## Round 1 -----------------------------------------------------------------------------------------------------\n",
    "## Perform Quantile Sweep\n",
    "bar.table.full <- x[,1:48]\n",
    "good.bars <- paste(\"Bar\",1:48,sep=\"\")  # NOTE: In this hypothetical example, barcodes 91-96 were not detected\n",
    "bar.table <- bar.table.full[, good.bars]  # Remove missing bars and summary columns\n",
    "bar.table_sweep.list <- list()\n",
    "n <- 0\n",
    "for (q in seq(0.01, 0.99, by=0.02)) {\n",
    "  print(q)\n",
    "  n <- n + 1\n",
    "  bar.table_sweep.list[[n]] <- classifyCells(bar.table, q=q)\n",
    "  names(bar.table_sweep.list)[n] <- paste(\"q=\",q,sep=\"\")\n",
    "}\n",
    "\n",
    "## Identify ideal inter-maxima quantile to set barcode-specific thresholds\n",
    "threshold.results1 <- findThresh(call.list=bar.table_sweep.list)\n",
    "ggplot(data=threshold.results1$res, aes(x=q, y=Proportion, color=Subset)) + geom_line() + theme(legend.position = \"none\") +\n",
    "  geom_vline(xintercept=threshold.results1$extrema, lty=2) + scale_color_manual(values=c(\"red\",\"black\",\"blue\"))\n",
    "\n",
    "## Finalize round 1 classifications, remove negative cells\n",
    "round1.calls <- classifyCells(bar.table, q=findQ(threshold.results1$res, threshold.results1$extrema))\n",
    "neg.cells <- names(round1.calls)[which(round1.calls == \"Negative\")]\n",
    "bar.table <- bar.table[-which(rownames(bar.table) %in% neg.cells), ]\n"
   ]
  },
  {
   "cell_type": "code",
   "execution_count": 17,
   "id": "9d7a992a-c81c-4dd3-9077-a9091830a96d",
   "metadata": {},
   "outputs": [
    {
     "data": {
      "text/plain": [
       "round1.calls\n",
       "    Bar1    Bar10    Bar11    Bar12    Bar13    Bar14    Bar15    Bar16 \n",
       "      94      181      129      179       99      141      189      198 \n",
       "   Bar17    Bar18    Bar19     Bar2    Bar20    Bar21    Bar22    Bar23 \n",
       "     180      126       60      129      122      137      188      139 \n",
       "   Bar24    Bar25    Bar26    Bar27    Bar28    Bar29     Bar3    Bar30 \n",
       "     109      136      196      206      242      165      176      120 \n",
       "   Bar31    Bar32    Bar33    Bar34    Bar36    Bar37    Bar38    Bar39 \n",
       "      90      172      148      246      130      115      211      112 \n",
       "    Bar4    Bar40    Bar41    Bar42    Bar43    Bar44    Bar45    Bar46 \n",
       "     161      195      301      133      146      210      179      132 \n",
       "   Bar47    Bar48     Bar5     Bar6     Bar7     Bar8     Bar9  Doublet \n",
       "     355      186      159      206      105      186      164     2771 \n",
       "Negative \n",
       "    3309 "
      ]
     },
     "metadata": {},
     "output_type": "display_data"
    },
    {
     "data": {
      "text/html": [
       "13763"
      ],
      "text/latex": [
       "13763"
      ],
      "text/markdown": [
       "13763"
      ],
      "text/plain": [
       "[1] 13763"
      ]
     },
     "metadata": {},
     "output_type": "display_data"
    }
   ],
   "source": [
    "table(round1.calls)\n",
    "length(round1.calls)"
   ]
  },
  {
   "cell_type": "code",
   "execution_count": 18,
   "id": "bb3ebcc9-631d-4103-b556-67b59556f92d",
   "metadata": {},
   "outputs": [
    {
     "name": "stdout",
     "output_type": "stream",
     "text": [
      "[1] 0.01\n",
      "[1] \"No threshold found for Bar35...\"\n",
      "[1] 0.03\n",
      "[1] \"No threshold found for Bar35...\"\n",
      "[1] 0.05\n",
      "[1] \"No threshold found for Bar35...\"\n",
      "[1] 0.07\n",
      "[1] \"No threshold found for Bar35...\"\n",
      "[1] 0.09\n",
      "[1] \"No threshold found for Bar35...\"\n",
      "[1] 0.11\n",
      "[1] \"No threshold found for Bar35...\"\n",
      "[1] 0.13\n",
      "[1] \"No threshold found for Bar35...\"\n",
      "[1] 0.15\n",
      "[1] \"No threshold found for Bar35...\"\n",
      "[1] 0.17\n",
      "[1] \"No threshold found for Bar35...\"\n",
      "[1] 0.19\n",
      "[1] \"No threshold found for Bar35...\"\n",
      "[1] 0.21\n",
      "[1] \"No threshold found for Bar35...\"\n",
      "[1] 0.23\n",
      "[1] \"No threshold found for Bar35...\"\n",
      "[1] 0.25\n",
      "[1] \"No threshold found for Bar35...\"\n",
      "[1] 0.27\n",
      "[1] \"No threshold found for Bar35...\"\n",
      "[1] 0.29\n",
      "[1] \"No threshold found for Bar35...\"\n",
      "[1] 0.31\n",
      "[1] \"No threshold found for Bar35...\"\n",
      "[1] 0.33\n",
      "[1] \"No threshold found for Bar35...\"\n",
      "[1] 0.35\n",
      "[1] \"No threshold found for Bar35...\"\n",
      "[1] 0.37\n",
      "[1] \"No threshold found for Bar35...\"\n",
      "[1] 0.39\n",
      "[1] \"No threshold found for Bar35...\"\n",
      "[1] 0.41\n",
      "[1] \"No threshold found for Bar35...\"\n",
      "[1] 0.43\n",
      "[1] \"No threshold found for Bar35...\"\n",
      "[1] 0.45\n",
      "[1] \"No threshold found for Bar35...\"\n",
      "[1] 0.47\n",
      "[1] \"No threshold found for Bar35...\"\n",
      "[1] 0.49\n",
      "[1] \"No threshold found for Bar35...\"\n",
      "[1] 0.51\n",
      "[1] \"No threshold found for Bar35...\"\n",
      "[1] 0.53\n",
      "[1] \"No threshold found for Bar35...\"\n",
      "[1] 0.55\n",
      "[1] \"No threshold found for Bar35...\"\n",
      "[1] 0.57\n",
      "[1] \"No threshold found for Bar35...\"\n",
      "[1] 0.59\n",
      "[1] \"No threshold found for Bar35...\"\n",
      "[1] 0.61\n",
      "[1] \"No threshold found for Bar35...\"\n",
      "[1] 0.63\n",
      "[1] \"No threshold found for Bar35...\"\n",
      "[1] 0.65\n",
      "[1] \"No threshold found for Bar35...\"\n",
      "[1] 0.67\n",
      "[1] \"No threshold found for Bar35...\"\n",
      "[1] 0.69\n",
      "[1] \"No threshold found for Bar35...\"\n",
      "[1] 0.71\n",
      "[1] \"No threshold found for Bar35...\"\n",
      "[1] 0.73\n",
      "[1] \"No threshold found for Bar35...\"\n",
      "[1] 0.75\n",
      "[1] \"No threshold found for Bar35...\"\n",
      "[1] 0.77\n",
      "[1] \"No threshold found for Bar35...\"\n",
      "[1] 0.79\n",
      "[1] \"No threshold found for Bar35...\"\n",
      "[1] 0.81\n",
      "[1] \"No threshold found for Bar35...\"\n",
      "[1] 0.83\n",
      "[1] \"No threshold found for Bar35...\"\n",
      "[1] 0.85\n",
      "[1] \"No threshold found for Bar35...\"\n",
      "[1] 0.87\n",
      "[1] \"No threshold found for Bar35...\"\n",
      "[1] 0.89\n",
      "[1] \"No threshold found for Bar35...\"\n",
      "[1] 0.91\n",
      "[1] \"No threshold found for Bar35...\"\n",
      "[1] 0.93\n",
      "[1] \"No threshold found for Bar35...\"\n",
      "[1] 0.95\n",
      "[1] \"No threshold found for Bar35...\"\n",
      "[1] 0.97\n",
      "[1] \"No threshold found for Bar35...\"\n",
      "[1] 0.99\n",
      "[1] \"No threshold found for Bar35...\"\n",
      "[1] \"No threshold found for Bar35...\"\n"
     ]
    }
   ],
   "source": [
    "## Round 2 -----------------------------------------------------------------------------------------------------\n",
    "bar.table_sweep.list <- list()\n",
    "n <- 0\n",
    "for (q in seq(0.01, 0.99, by=0.02)) {\n",
    "  print(q)\n",
    "  n <- n + 1\n",
    "  bar.table_sweep.list[[n]] <- classifyCells(bar.table, q=q)\n",
    "  names(bar.table_sweep.list)[n] <- paste(\"q=\",q,sep=\"\")\n",
    "}\n",
    "\n",
    "threshold.results2 <- findThresh(call.list=bar.table_sweep.list)\n",
    "round2.calls <- classifyCells(bar.table, q=findQ(threshold.results2$res, threshold.results2$extrema))\n",
    "neg.cells <- c(neg.cells, names(round2.calls)[which(round2.calls == \"Negative\")])"
   ]
  },
  {
   "cell_type": "code",
   "execution_count": 19,
   "id": "c9891b87-ef8e-4f54-a126-9c28839e0d95",
   "metadata": {},
   "outputs": [
    {
     "data": {
      "text/html": [
       "3943"
      ],
      "text/latex": [
       "3943"
      ],
      "text/markdown": [
       "3943"
      ],
      "text/plain": [
       "[1] 3943"
      ]
     },
     "metadata": {},
     "output_type": "display_data"
    },
    {
     "data": {
      "text/plain": [
       "round2.calls\n",
       "    Bar1    Bar10    Bar11    Bar12    Bar13    Bar14    Bar15    Bar16 \n",
       "     102      183      135      179      104       90      189      223 \n",
       "   Bar17    Bar18    Bar19     Bar2    Bar20    Bar21    Bar22    Bar23 \n",
       "     183      128       50      135       81      134      179      157 \n",
       "   Bar24    Bar25    Bar26    Bar27    Bar28    Bar29     Bar3    Bar30 \n",
       "     123      140      185      203      243      161      179      109 \n",
       "   Bar31    Bar32    Bar33    Bar34    Bar36    Bar37    Bar38    Bar39 \n",
       "      76      188      161      249      114       85      218       45 \n",
       "    Bar4    Bar40    Bar41    Bar42    Bar43    Bar44    Bar45    Bar46 \n",
       "     158      198      297      145      141      205      179      140 \n",
       "   Bar47    Bar48     Bar5     Bar6     Bar7     Bar8     Bar9  Doublet \n",
       "     349      192      168      210      105       82      160     2360 \n",
       "Negative \n",
       "     634 "
      ]
     },
     "metadata": {},
     "output_type": "display_data"
    },
    {
     "data": {
      "text/html": [
       "10454"
      ],
      "text/latex": [
       "10454"
      ],
      "text/markdown": [
       "10454"
      ],
      "text/plain": [
       "[1] 10454"
      ]
     },
     "metadata": {},
     "output_type": "display_data"
    }
   ],
   "source": [
    "length(neg.cells)\n",
    "\n",
    "table(round2.calls)\n",
    "length(round2.calls)"
   ]
  },
  {
   "cell_type": "code",
   "execution_count": 20,
   "id": "e9826bce-50c0-44e5-846f-38ea0cd861dc",
   "metadata": {},
   "outputs": [
    {
     "name": "stdout",
     "output_type": "stream",
     "text": [
      "[1] 0.01\n",
      "[1] \"No threshold found for Bar35...\"\n",
      "[1] 0.03\n",
      "[1] \"No threshold found for Bar35...\"\n",
      "[1] 0.05\n",
      "[1] \"No threshold found for Bar35...\"\n",
      "[1] 0.07\n",
      "[1] \"No threshold found for Bar35...\"\n",
      "[1] 0.09\n",
      "[1] \"No threshold found for Bar35...\"\n",
      "[1] 0.11\n",
      "[1] \"No threshold found for Bar35...\"\n",
      "[1] 0.13\n",
      "[1] \"No threshold found for Bar35...\"\n",
      "[1] 0.15\n",
      "[1] \"No threshold found for Bar35...\"\n",
      "[1] 0.17\n",
      "[1] \"No threshold found for Bar35...\"\n",
      "[1] 0.19\n",
      "[1] \"No threshold found for Bar35...\"\n",
      "[1] 0.21\n",
      "[1] \"No threshold found for Bar35...\"\n",
      "[1] 0.23\n",
      "[1] \"No threshold found for Bar35...\"\n",
      "[1] 0.25\n",
      "[1] \"No threshold found for Bar35...\"\n",
      "[1] 0.27\n",
      "[1] \"No threshold found for Bar35...\"\n",
      "[1] 0.29\n",
      "[1] \"No threshold found for Bar35...\"\n",
      "[1] 0.31\n",
      "[1] \"No threshold found for Bar35...\"\n",
      "[1] 0.33\n",
      "[1] \"No threshold found for Bar35...\"\n",
      "[1] 0.35\n",
      "[1] \"No threshold found for Bar35...\"\n",
      "[1] 0.37\n",
      "[1] \"No threshold found for Bar35...\"\n",
      "[1] 0.39\n",
      "[1] \"No threshold found for Bar35...\"\n",
      "[1] 0.41\n",
      "[1] \"No threshold found for Bar35...\"\n",
      "[1] 0.43\n",
      "[1] \"No threshold found for Bar35...\"\n",
      "[1] 0.45\n",
      "[1] \"No threshold found for Bar35...\"\n",
      "[1] 0.47\n",
      "[1] \"No threshold found for Bar35...\"\n",
      "[1] 0.49\n",
      "[1] \"No threshold found for Bar35...\"\n",
      "[1] 0.51\n",
      "[1] \"No threshold found for Bar35...\"\n",
      "[1] 0.53\n",
      "[1] \"No threshold found for Bar35...\"\n",
      "[1] 0.55\n",
      "[1] \"No threshold found for Bar35...\"\n",
      "[1] 0.57\n",
      "[1] \"No threshold found for Bar35...\"\n",
      "[1] 0.59\n",
      "[1] \"No threshold found for Bar35...\"\n",
      "[1] 0.61\n",
      "[1] \"No threshold found for Bar35...\"\n",
      "[1] 0.63\n",
      "[1] \"No threshold found for Bar35...\"\n",
      "[1] 0.65\n",
      "[1] \"No threshold found for Bar35...\"\n",
      "[1] 0.67\n",
      "[1] \"No threshold found for Bar35...\"\n",
      "[1] 0.69\n",
      "[1] \"No threshold found for Bar35...\"\n",
      "[1] 0.71\n",
      "[1] \"No threshold found for Bar35...\"\n",
      "[1] 0.73\n",
      "[1] \"No threshold found for Bar35...\"\n",
      "[1] 0.75\n",
      "[1] \"No threshold found for Bar35...\"\n",
      "[1] 0.77\n",
      "[1] \"No threshold found for Bar35...\"\n",
      "[1] 0.79\n",
      "[1] \"No threshold found for Bar35...\"\n",
      "[1] 0.81\n",
      "[1] \"No threshold found for Bar35...\"\n",
      "[1] 0.83\n",
      "[1] \"No threshold found for Bar35...\"\n",
      "[1] 0.85\n",
      "[1] \"No threshold found for Bar35...\"\n",
      "[1] 0.87\n",
      "[1] \"No threshold found for Bar35...\"\n",
      "[1] 0.89\n",
      "[1] \"No threshold found for Bar35...\"\n",
      "[1] 0.91\n",
      "[1] \"No threshold found for Bar35...\"\n",
      "[1] 0.93\n",
      "[1] \"No threshold found for Bar35...\"\n",
      "[1] 0.95\n",
      "[1] \"No threshold found for Bar35...\"\n",
      "[1] 0.97\n",
      "[1] \"No threshold found for Bar35...\"\n",
      "[1] 0.99\n",
      "[1] \"No threshold found for Bar35...\"\n",
      "[1] \"No threshold found for Bar35...\"\n"
     ]
    }
   ],
   "source": [
    "## Round 3 -----------------------------------------------------------------------------------------------------\n",
    "bar.table_sweep.list <- list()\n",
    "n <- 0\n",
    "for (q in seq(0.01, 0.99, by=0.02)) {\n",
    "  print(q)\n",
    "  n <- n + 1\n",
    "  bar.table_sweep.list[[n]] <- classifyCells(bar.table, q=q)\n",
    "  names(bar.table_sweep.list)[n] <- paste(\"q=\",q,sep=\"\")\n",
    "}\n",
    "\n",
    "threshold.results3 <- findThresh(call.list=bar.table_sweep.list)\n",
    "round3.calls <- classifyCells(bar.table, q=findQ(threshold.results3$res, threshold.results3$extrema))\n",
    "neg.cells <- c(neg.cells, names(round3.calls)[which(round3.calls == \"Negative\")])"
   ]
  },
  {
   "cell_type": "code",
   "execution_count": 21,
   "id": "4758245b-0531-4862-9e91-7a7c31da64ec",
   "metadata": {},
   "outputs": [
    {
     "data": {
      "text/html": [
       "4577"
      ],
      "text/latex": [
       "4577"
      ],
      "text/markdown": [
       "4577"
      ],
      "text/plain": [
       "[1] 4577"
      ]
     },
     "metadata": {},
     "output_type": "display_data"
    },
    {
     "data": {
      "text/plain": [
       "round3.calls\n",
       "    Bar1    Bar10    Bar11    Bar12    Bar13    Bar14    Bar15    Bar16 \n",
       "     102      183      135      179      104       90      189      223 \n",
       "   Bar17    Bar18    Bar19     Bar2    Bar20    Bar21    Bar22    Bar23 \n",
       "     183      128       50      135       81      134      179      157 \n",
       "   Bar24    Bar25    Bar26    Bar27    Bar28    Bar29     Bar3    Bar30 \n",
       "     123      140      185      203      243      161      179      109 \n",
       "   Bar31    Bar32    Bar33    Bar34    Bar36    Bar37    Bar38    Bar39 \n",
       "      76      188      161      249      114       85      218       45 \n",
       "    Bar4    Bar40    Bar41    Bar42    Bar43    Bar44    Bar45    Bar46 \n",
       "     158      198      297      145      141      205      179      140 \n",
       "   Bar47    Bar48     Bar5     Bar6     Bar7     Bar8     Bar9  Doublet \n",
       "     349      192      168      210      105       82      160     2360 \n",
       "Negative \n",
       "     634 "
      ]
     },
     "metadata": {},
     "output_type": "display_data"
    },
    {
     "data": {
      "text/html": [
       "10454"
      ],
      "text/latex": [
       "10454"
      ],
      "text/markdown": [
       "10454"
      ],
      "text/plain": [
       "[1] 10454"
      ]
     },
     "metadata": {},
     "output_type": "display_data"
    }
   ],
   "source": [
    "length(neg.cells)\n",
    "\n",
    "table(round3.calls)\n",
    "length(round3.calls)"
   ]
  },
  {
   "cell_type": "code",
   "execution_count": 22,
   "id": "4a9b6ae1-5392-4258-acb2-253bee0b2dc1",
   "metadata": {},
   "outputs": [],
   "source": [
    "## Repeat until all no negative cells remain (usually 3 rounds)...\n",
    "final.calls <- c(round3.calls, rep(\"Negative\",length(neg.cells)))\n",
    "names(final.calls) <- c(names(round3.calls),neg.cells)"
   ]
  },
  {
   "cell_type": "code",
   "execution_count": 23,
   "id": "6940e704-1c8e-4fb8-b83e-7bc72b65ab1d",
   "metadata": {},
   "outputs": [
    {
     "data": {
      "text/html": [
       "<table class=\"dataframe\">\n",
       "<caption>A data.frame: 6 × 48</caption>\n",
       "<thead>\n",
       "\t<tr><th></th><th scope=col>Bar1</th><th scope=col>Bar2</th><th scope=col>Bar3</th><th scope=col>Bar4</th><th scope=col>Bar5</th><th scope=col>Bar6</th><th scope=col>Bar7</th><th scope=col>Bar8</th><th scope=col>Bar9</th><th scope=col>Bar10</th><th scope=col>⋯</th><th scope=col>Bar39</th><th scope=col>Bar40</th><th scope=col>Bar41</th><th scope=col>Bar42</th><th scope=col>Bar43</th><th scope=col>Bar44</th><th scope=col>Bar45</th><th scope=col>Bar46</th><th scope=col>Bar47</th><th scope=col>Bar48</th></tr>\n",
       "\t<tr><th></th><th scope=col>&lt;int&gt;</th><th scope=col>&lt;int&gt;</th><th scope=col>&lt;int&gt;</th><th scope=col>&lt;int&gt;</th><th scope=col>&lt;int&gt;</th><th scope=col>&lt;int&gt;</th><th scope=col>&lt;int&gt;</th><th scope=col>&lt;int&gt;</th><th scope=col>&lt;int&gt;</th><th scope=col>&lt;int&gt;</th><th scope=col>⋯</th><th scope=col>&lt;int&gt;</th><th scope=col>&lt;int&gt;</th><th scope=col>&lt;int&gt;</th><th scope=col>&lt;int&gt;</th><th scope=col>&lt;int&gt;</th><th scope=col>&lt;int&gt;</th><th scope=col>&lt;int&gt;</th><th scope=col>&lt;int&gt;</th><th scope=col>&lt;int&gt;</th><th scope=col>&lt;int&gt;</th></tr>\n",
       "</thead>\n",
       "<tbody>\n",
       "\t<tr><th scope=row>AAACCCACATTGTCGA</th><td>5</td><td>3</td><td>1615</td><td>4</td><td>6</td><td> 5</td><td>4</td><td>2</td><td>4</td><td>6</td><td>⋯</td><td>2</td><td>4</td><td>1</td><td>1</td><td>1</td><td>  6</td><td>3</td><td> 6</td><td> 9</td><td>4</td></tr>\n",
       "\t<tr><th scope=row>AAACCCAGTAGTCTTG</th><td>2</td><td>1</td><td>   9</td><td>0</td><td>5</td><td>11</td><td>1</td><td>4</td><td>4</td><td>7</td><td>⋯</td><td>2</td><td>3</td><td>1</td><td>4</td><td>1</td><td>  6</td><td>5</td><td> 9</td><td>14</td><td>4</td></tr>\n",
       "\t<tr><th scope=row>AAACCCAGTCCTCATC</th><td>3</td><td>1</td><td>   2</td><td>1</td><td>5</td><td> 4</td><td>1</td><td>2</td><td>2</td><td>2</td><td>⋯</td><td>2</td><td>0</td><td>6</td><td>2</td><td>3</td><td>  7</td><td>0</td><td> 4</td><td> 3</td><td>4</td></tr>\n",
       "\t<tr><th scope=row>AAACCCAGTGATGTAA</th><td>3</td><td>2</td><td>   6</td><td>2</td><td>5</td><td> 4</td><td>2</td><td>1</td><td>3</td><td>1</td><td>⋯</td><td>0</td><td>1</td><td>0</td><td>1</td><td>5</td><td>  3</td><td>1</td><td> 6</td><td> 9</td><td>4</td></tr>\n",
       "\t<tr><th scope=row>AAACCCATCCAGCAAT</th><td>7</td><td>2</td><td>  10</td><td>5</td><td>9</td><td> 5</td><td>3</td><td>7</td><td>4</td><td>2</td><td>⋯</td><td>1</td><td>1</td><td>1</td><td>5</td><td>1</td><td>  4</td><td>2</td><td>70</td><td> 7</td><td>4</td></tr>\n",
       "\t<tr><th scope=row>AAACGAAAGCGGTAGT</th><td>3</td><td>2</td><td>   5</td><td>1</td><td>6</td><td> 5</td><td>1</td><td>2</td><td>4</td><td>1</td><td>⋯</td><td>1</td><td>1</td><td>2</td><td>1</td><td>2</td><td>102</td><td>2</td><td> 5</td><td> 6</td><td>2</td></tr>\n",
       "</tbody>\n",
       "</table>\n"
      ],
      "text/latex": [
       "A data.frame: 6 × 48\n",
       "\\begin{tabular}{r|lllllllllllllllllllll}\n",
       "  & Bar1 & Bar2 & Bar3 & Bar4 & Bar5 & Bar6 & Bar7 & Bar8 & Bar9 & Bar10 & ⋯ & Bar39 & Bar40 & Bar41 & Bar42 & Bar43 & Bar44 & Bar45 & Bar46 & Bar47 & Bar48\\\\\n",
       "  & <int> & <int> & <int> & <int> & <int> & <int> & <int> & <int> & <int> & <int> & ⋯ & <int> & <int> & <int> & <int> & <int> & <int> & <int> & <int> & <int> & <int>\\\\\n",
       "\\hline\n",
       "\tAAACCCACATTGTCGA & 5 & 3 & 1615 & 4 & 6 &  5 & 4 & 2 & 4 & 6 & ⋯ & 2 & 4 & 1 & 1 & 1 &   6 & 3 &  6 &  9 & 4\\\\\n",
       "\tAAACCCAGTAGTCTTG & 2 & 1 &    9 & 0 & 5 & 11 & 1 & 4 & 4 & 7 & ⋯ & 2 & 3 & 1 & 4 & 1 &   6 & 5 &  9 & 14 & 4\\\\\n",
       "\tAAACCCAGTCCTCATC & 3 & 1 &    2 & 1 & 5 &  4 & 1 & 2 & 2 & 2 & ⋯ & 2 & 0 & 6 & 2 & 3 &   7 & 0 &  4 &  3 & 4\\\\\n",
       "\tAAACCCAGTGATGTAA & 3 & 2 &    6 & 2 & 5 &  4 & 2 & 1 & 3 & 1 & ⋯ & 0 & 1 & 0 & 1 & 5 &   3 & 1 &  6 &  9 & 4\\\\\n",
       "\tAAACCCATCCAGCAAT & 7 & 2 &   10 & 5 & 9 &  5 & 3 & 7 & 4 & 2 & ⋯ & 1 & 1 & 1 & 5 & 1 &   4 & 2 & 70 &  7 & 4\\\\\n",
       "\tAAACGAAAGCGGTAGT & 3 & 2 &    5 & 1 & 6 &  5 & 1 & 2 & 4 & 1 & ⋯ & 1 & 1 & 2 & 1 & 2 & 102 & 2 &  5 &  6 & 2\\\\\n",
       "\\end{tabular}\n"
      ],
      "text/markdown": [
       "\n",
       "A data.frame: 6 × 48\n",
       "\n",
       "| <!--/--> | Bar1 &lt;int&gt; | Bar2 &lt;int&gt; | Bar3 &lt;int&gt; | Bar4 &lt;int&gt; | Bar5 &lt;int&gt; | Bar6 &lt;int&gt; | Bar7 &lt;int&gt; | Bar8 &lt;int&gt; | Bar9 &lt;int&gt; | Bar10 &lt;int&gt; | ⋯ ⋯ | Bar39 &lt;int&gt; | Bar40 &lt;int&gt; | Bar41 &lt;int&gt; | Bar42 &lt;int&gt; | Bar43 &lt;int&gt; | Bar44 &lt;int&gt; | Bar45 &lt;int&gt; | Bar46 &lt;int&gt; | Bar47 &lt;int&gt; | Bar48 &lt;int&gt; |\n",
       "|---|---|---|---|---|---|---|---|---|---|---|---|---|---|---|---|---|---|---|---|---|---|\n",
       "| AAACCCACATTGTCGA | 5 | 3 | 1615 | 4 | 6 |  5 | 4 | 2 | 4 | 6 | ⋯ | 2 | 4 | 1 | 1 | 1 |   6 | 3 |  6 |  9 | 4 |\n",
       "| AAACCCAGTAGTCTTG | 2 | 1 |    9 | 0 | 5 | 11 | 1 | 4 | 4 | 7 | ⋯ | 2 | 3 | 1 | 4 | 1 |   6 | 5 |  9 | 14 | 4 |\n",
       "| AAACCCAGTCCTCATC | 3 | 1 |    2 | 1 | 5 |  4 | 1 | 2 | 2 | 2 | ⋯ | 2 | 0 | 6 | 2 | 3 |   7 | 0 |  4 |  3 | 4 |\n",
       "| AAACCCAGTGATGTAA | 3 | 2 |    6 | 2 | 5 |  4 | 2 | 1 | 3 | 1 | ⋯ | 0 | 1 | 0 | 1 | 5 |   3 | 1 |  6 |  9 | 4 |\n",
       "| AAACCCATCCAGCAAT | 7 | 2 |   10 | 5 | 9 |  5 | 3 | 7 | 4 | 2 | ⋯ | 1 | 1 | 1 | 5 | 1 |   4 | 2 | 70 |  7 | 4 |\n",
       "| AAACGAAAGCGGTAGT | 3 | 2 |    5 | 1 | 6 |  5 | 1 | 2 | 4 | 1 | ⋯ | 1 | 1 | 2 | 1 | 2 | 102 | 2 |  5 |  6 | 2 |\n",
       "\n"
      ],
      "text/plain": [
       "                 Bar1 Bar2 Bar3 Bar4 Bar5 Bar6 Bar7 Bar8 Bar9 Bar10 ⋯ Bar39\n",
       "AAACCCACATTGTCGA 5    3    1615 4    6     5   4    2    4    6     ⋯ 2    \n",
       "AAACCCAGTAGTCTTG 2    1       9 0    5    11   1    4    4    7     ⋯ 2    \n",
       "AAACCCAGTCCTCATC 3    1       2 1    5     4   1    2    2    2     ⋯ 2    \n",
       "AAACCCAGTGATGTAA 3    2       6 2    5     4   2    1    3    1     ⋯ 0    \n",
       "AAACCCATCCAGCAAT 7    2      10 5    9     5   3    7    4    2     ⋯ 1    \n",
       "AAACGAAAGCGGTAGT 3    2       5 1    6     5   1    2    4    1     ⋯ 1    \n",
       "                 Bar40 Bar41 Bar42 Bar43 Bar44 Bar45 Bar46 Bar47 Bar48\n",
       "AAACCCACATTGTCGA 4     1     1     1       6   3      6     9    4    \n",
       "AAACCCAGTAGTCTTG 3     1     4     1       6   5      9    14    4    \n",
       "AAACCCAGTCCTCATC 0     6     2     3       7   0      4     3    4    \n",
       "AAACCCAGTGATGTAA 1     0     1     5       3   1      6     9    4    \n",
       "AAACCCATCCAGCAAT 1     1     5     1       4   2     70     7    4    \n",
       "AAACGAAAGCGGTAGT 1     2     1     2     102   2      5     6    2    "
      ]
     },
     "metadata": {},
     "output_type": "display_data"
    },
    {
     "data": {
      "text/html": [
       "<style>\n",
       ".list-inline {list-style: none; margin:0; padding: 0}\n",
       ".list-inline>li {display: inline-block}\n",
       ".list-inline>li:not(:last-child)::after {content: \"\\00b7\"; padding: 0 .5ex}\n",
       "</style>\n",
       "<ol class=list-inline><li>10454</li><li>48</li></ol>\n"
      ],
      "text/latex": [
       "\\begin{enumerate*}\n",
       "\\item 10454\n",
       "\\item 48\n",
       "\\end{enumerate*}\n"
      ],
      "text/markdown": [
       "1. 10454\n",
       "2. 48\n",
       "\n",
       "\n"
      ],
      "text/plain": [
       "[1] 10454    48"
      ]
     },
     "metadata": {},
     "output_type": "display_data"
    }
   ],
   "source": [
    "head(bar.table)\n",
    "dim(bar.table)"
   ]
  },
  {
   "cell_type": "code",
   "execution_count": 24,
   "id": "f719431b-fcfd-44ee-ad57-0efb19fdf192",
   "metadata": {},
   "outputs": [
    {
     "name": "stdout",
     "output_type": "stream",
     "text": [
      "Performing PCA\n",
      "Read the 10454 x 48 data matrix successfully!\n",
      "OpenMP is working. 1 threads.\n",
      "Using no_dims = 2, perplexity = 30.000000, and theta = 0.500000\n",
      "Computing input similarities...\n",
      "Building tree...\n",
      " - point 10000 of 10454\n",
      "Done in 8.73 seconds (sparsity = 0.012305)!\n",
      "Learning embedding...\n",
      "Iteration 50: error is 96.652962 (50 iterations in 1.77 seconds)\n",
      "Iteration 100: error is 96.640876 (50 iterations in 1.95 seconds)\n",
      "Iteration 150: error is 92.682231 (50 iterations in 1.79 seconds)\n",
      "Iteration 200: error is 91.866172 (50 iterations in 1.64 seconds)\n",
      "Iteration 250: error is 91.667378 (50 iterations in 1.59 seconds)\n",
      "Iteration 300: error is 3.035661 (50 iterations in 1.75 seconds)\n",
      "Iteration 350: error is 2.609916 (50 iterations in 1.72 seconds)\n",
      "Iteration 400: error is 2.400988 (50 iterations in 1.64 seconds)\n",
      "Iteration 450: error is 2.272154 (50 iterations in 1.61 seconds)\n",
      "Iteration 500: error is 2.186060 (50 iterations in 1.62 seconds)\n",
      "Iteration 550: error is 2.123698 (50 iterations in 1.61 seconds)\n",
      "Iteration 600: error is 2.076112 (50 iterations in 1.62 seconds)\n",
      "Iteration 650: error is 2.039013 (50 iterations in 1.61 seconds)\n",
      "Iteration 700: error is 2.010778 (50 iterations in 1.62 seconds)\n",
      "Iteration 750: error is 1.989185 (50 iterations in 1.62 seconds)\n",
      "Iteration 800: error is 1.970473 (50 iterations in 1.62 seconds)\n",
      "Iteration 850: error is 1.956660 (50 iterations in 1.61 seconds)\n",
      "Iteration 900: error is 1.946832 (50 iterations in 1.60 seconds)\n",
      "Iteration 950: error is 1.939535 (50 iterations in 1.60 seconds)\n",
      "Iteration 1000: error is 1.934409 (50 iterations in 1.62 seconds)\n",
      "Iteration 1050: error is 1.930838 (50 iterations in 1.62 seconds)\n",
      "Iteration 1100: error is 1.927348 (50 iterations in 1.63 seconds)\n",
      "Iteration 1150: error is 1.923980 (50 iterations in 1.63 seconds)\n",
      "Iteration 1200: error is 1.921233 (50 iterations in 1.62 seconds)\n",
      "Iteration 1250: error is 1.919590 (50 iterations in 1.62 seconds)\n",
      "Iteration 1300: error is 1.917573 (50 iterations in 1.63 seconds)\n",
      "Iteration 1350: error is 1.915181 (50 iterations in 1.62 seconds)\n",
      "Iteration 1400: error is 1.912857 (50 iterations in 1.62 seconds)\n",
      "Iteration 1450: error is 1.910840 (50 iterations in 1.62 seconds)\n",
      "Iteration 1500: error is 1.908308 (50 iterations in 1.63 seconds)\n",
      "Iteration 1550: error is 1.906242 (50 iterations in 1.63 seconds)\n",
      "Iteration 1600: error is 1.904420 (50 iterations in 1.64 seconds)\n",
      "Iteration 1650: error is 1.902614 (50 iterations in 1.64 seconds)\n",
      "Iteration 1700: error is 1.900797 (50 iterations in 1.64 seconds)\n",
      "Iteration 1750: error is 1.898796 (50 iterations in 1.65 seconds)\n",
      "Iteration 1800: error is 1.897018 (50 iterations in 1.64 seconds)\n",
      "Iteration 1850: error is 1.895358 (50 iterations in 1.64 seconds)\n",
      "Iteration 1900: error is 1.894040 (50 iterations in 1.65 seconds)\n",
      "Iteration 1950: error is 1.892697 (50 iterations in 1.64 seconds)\n",
      "Iteration 2000: error is 1.891229 (50 iterations in 1.64 seconds)\n",
      "Iteration 2050: error is 1.889840 (50 iterations in 1.65 seconds)\n",
      "Iteration 2100: error is 1.888546 (50 iterations in 1.65 seconds)\n",
      "Iteration 2150: error is 1.887161 (50 iterations in 1.65 seconds)\n",
      "Iteration 2200: error is 1.885951 (50 iterations in 1.66 seconds)\n",
      "Iteration 2250: error is 1.884861 (50 iterations in 1.65 seconds)\n",
      "Iteration 2300: error is 1.883975 (50 iterations in 1.65 seconds)\n",
      "Iteration 2350: error is 1.882790 (50 iterations in 1.66 seconds)\n",
      "Iteration 2400: error is 1.881496 (50 iterations in 1.66 seconds)\n",
      "Iteration 2450: error is 1.880245 (50 iterations in 1.66 seconds)\n",
      "Iteration 2500: error is 1.879447 (50 iterations in 1.66 seconds)\n",
      "Fitting performed in 82.42 seconds.\n"
     ]
    },
    {
     "data": {
      "text/html": [
       "<strong>png:</strong> 2"
      ],
      "text/latex": [
       "\\textbf{png:} 2"
      ],
      "text/markdown": [
       "**png:** 2"
      ],
      "text/plain": [
       "png \n",
       "  2 "
      ]
     },
     "metadata": {},
     "output_type": "display_data"
    }
   ],
   "source": [
    "## Visualize barcode space\n",
    "bar.tsne <- barTSNE(bar.table[,1:48]) \n",
    "## Note: Exclude columns 97:98 (assuming 96 barcodes were used) which provide total barcode UMI counts for each cell. \n",
    "\n",
    "pdf(\"./outputs/MULTIseq/72h_bc.check_round3.pdf\")\n",
    "for (i in 3:ncol(bar.tsne)) {\n",
    "  g <- ggplot(bar.tsne, aes(x = TSNE1, y = TSNE2, color = bar.tsne[,i])) +\n",
    "    geom_point() +\n",
    "    scale_color_gradient(low = \"black\", high = \"red\") +\n",
    "    ggtitle(colnames(bar.tsne)[i]) +\n",
    "    theme(legend.position = \"none\") \n",
    "  print(g)\n",
    "}\n",
    "dev.off()"
   ]
  },
  {
   "cell_type": "markdown",
   "id": "01e1b81c-75b5-46c9-8c21-46174a1dc898",
   "metadata": {},
   "source": [
    "## Generation of barcode table"
   ]
  },
  {
   "cell_type": "code",
   "execution_count": 34,
   "id": "efb97076-3561-4952-94ed-6fb27714df13",
   "metadata": {},
   "outputs": [
    {
     "data": {
      "text/html": [
       "<table class=\"dataframe\">\n",
       "<caption>A data.frame: 6 × 49</caption>\n",
       "<thead>\n",
       "\t<tr><th></th><th scope=col>Bar1</th><th scope=col>Bar2</th><th scope=col>Bar3</th><th scope=col>Bar4</th><th scope=col>Bar5</th><th scope=col>Bar6</th><th scope=col>Bar7</th><th scope=col>Bar8</th><th scope=col>Bar9</th><th scope=col>Bar10</th><th scope=col>⋯</th><th scope=col>Bar40</th><th scope=col>Bar41</th><th scope=col>Bar42</th><th scope=col>Bar43</th><th scope=col>Bar44</th><th scope=col>Bar45</th><th scope=col>Bar46</th><th scope=col>Bar47</th><th scope=col>Bar48</th><th scope=col>cell</th></tr>\n",
       "\t<tr><th></th><th scope=col>&lt;int&gt;</th><th scope=col>&lt;int&gt;</th><th scope=col>&lt;int&gt;</th><th scope=col>&lt;int&gt;</th><th scope=col>&lt;int&gt;</th><th scope=col>&lt;int&gt;</th><th scope=col>&lt;int&gt;</th><th scope=col>&lt;int&gt;</th><th scope=col>&lt;int&gt;</th><th scope=col>&lt;int&gt;</th><th scope=col>⋯</th><th scope=col>&lt;int&gt;</th><th scope=col>&lt;int&gt;</th><th scope=col>&lt;int&gt;</th><th scope=col>&lt;int&gt;</th><th scope=col>&lt;int&gt;</th><th scope=col>&lt;int&gt;</th><th scope=col>&lt;int&gt;</th><th scope=col>&lt;int&gt;</th><th scope=col>&lt;int&gt;</th><th scope=col>&lt;chr&gt;</th></tr>\n",
       "</thead>\n",
       "<tbody>\n",
       "\t<tr><th scope=row>AAACCCACATTGTCGA</th><td>5</td><td>3</td><td>1615</td><td>4</td><td>6</td><td> 5</td><td>4</td><td>2</td><td>4</td><td>6</td><td>⋯</td><td>4</td><td>1</td><td>1</td><td>1</td><td>  6</td><td>3</td><td> 6</td><td> 9</td><td>4</td><td>AAACCCACATTGTCGA</td></tr>\n",
       "\t<tr><th scope=row>AAACCCAGTAGTCTTG</th><td>2</td><td>1</td><td>   9</td><td>0</td><td>5</td><td>11</td><td>1</td><td>4</td><td>4</td><td>7</td><td>⋯</td><td>3</td><td>1</td><td>4</td><td>1</td><td>  6</td><td>5</td><td> 9</td><td>14</td><td>4</td><td>AAACCCAGTAGTCTTG</td></tr>\n",
       "\t<tr><th scope=row>AAACCCAGTCCTCATC</th><td>3</td><td>1</td><td>   2</td><td>1</td><td>5</td><td> 4</td><td>1</td><td>2</td><td>2</td><td>2</td><td>⋯</td><td>0</td><td>6</td><td>2</td><td>3</td><td>  7</td><td>0</td><td> 4</td><td> 3</td><td>4</td><td>AAACCCAGTCCTCATC</td></tr>\n",
       "\t<tr><th scope=row>AAACCCAGTGATGTAA</th><td>3</td><td>2</td><td>   6</td><td>2</td><td>5</td><td> 4</td><td>2</td><td>1</td><td>3</td><td>1</td><td>⋯</td><td>1</td><td>0</td><td>1</td><td>5</td><td>  3</td><td>1</td><td> 6</td><td> 9</td><td>4</td><td>AAACCCAGTGATGTAA</td></tr>\n",
       "\t<tr><th scope=row>AAACCCATCCAGCAAT</th><td>7</td><td>2</td><td>  10</td><td>5</td><td>9</td><td> 5</td><td>3</td><td>7</td><td>4</td><td>2</td><td>⋯</td><td>1</td><td>1</td><td>5</td><td>1</td><td>  4</td><td>2</td><td>70</td><td> 7</td><td>4</td><td>AAACCCATCCAGCAAT</td></tr>\n",
       "\t<tr><th scope=row>AAACGAAAGCGGTAGT</th><td>3</td><td>2</td><td>   5</td><td>1</td><td>6</td><td> 5</td><td>1</td><td>2</td><td>4</td><td>1</td><td>⋯</td><td>1</td><td>2</td><td>1</td><td>2</td><td>102</td><td>2</td><td> 5</td><td> 6</td><td>2</td><td>AAACGAAAGCGGTAGT</td></tr>\n",
       "</tbody>\n",
       "</table>\n"
      ],
      "text/latex": [
       "A data.frame: 6 × 49\n",
       "\\begin{tabular}{r|lllllllllllllllllllll}\n",
       "  & Bar1 & Bar2 & Bar3 & Bar4 & Bar5 & Bar6 & Bar7 & Bar8 & Bar9 & Bar10 & ⋯ & Bar40 & Bar41 & Bar42 & Bar43 & Bar44 & Bar45 & Bar46 & Bar47 & Bar48 & cell\\\\\n",
       "  & <int> & <int> & <int> & <int> & <int> & <int> & <int> & <int> & <int> & <int> & ⋯ & <int> & <int> & <int> & <int> & <int> & <int> & <int> & <int> & <int> & <chr>\\\\\n",
       "\\hline\n",
       "\tAAACCCACATTGTCGA & 5 & 3 & 1615 & 4 & 6 &  5 & 4 & 2 & 4 & 6 & ⋯ & 4 & 1 & 1 & 1 &   6 & 3 &  6 &  9 & 4 & AAACCCACATTGTCGA\\\\\n",
       "\tAAACCCAGTAGTCTTG & 2 & 1 &    9 & 0 & 5 & 11 & 1 & 4 & 4 & 7 & ⋯ & 3 & 1 & 4 & 1 &   6 & 5 &  9 & 14 & 4 & AAACCCAGTAGTCTTG\\\\\n",
       "\tAAACCCAGTCCTCATC & 3 & 1 &    2 & 1 & 5 &  4 & 1 & 2 & 2 & 2 & ⋯ & 0 & 6 & 2 & 3 &   7 & 0 &  4 &  3 & 4 & AAACCCAGTCCTCATC\\\\\n",
       "\tAAACCCAGTGATGTAA & 3 & 2 &    6 & 2 & 5 &  4 & 2 & 1 & 3 & 1 & ⋯ & 1 & 0 & 1 & 5 &   3 & 1 &  6 &  9 & 4 & AAACCCAGTGATGTAA\\\\\n",
       "\tAAACCCATCCAGCAAT & 7 & 2 &   10 & 5 & 9 &  5 & 3 & 7 & 4 & 2 & ⋯ & 1 & 1 & 5 & 1 &   4 & 2 & 70 &  7 & 4 & AAACCCATCCAGCAAT\\\\\n",
       "\tAAACGAAAGCGGTAGT & 3 & 2 &    5 & 1 & 6 &  5 & 1 & 2 & 4 & 1 & ⋯ & 1 & 2 & 1 & 2 & 102 & 2 &  5 &  6 & 2 & AAACGAAAGCGGTAGT\\\\\n",
       "\\end{tabular}\n"
      ],
      "text/markdown": [
       "\n",
       "A data.frame: 6 × 49\n",
       "\n",
       "| <!--/--> | Bar1 &lt;int&gt; | Bar2 &lt;int&gt; | Bar3 &lt;int&gt; | Bar4 &lt;int&gt; | Bar5 &lt;int&gt; | Bar6 &lt;int&gt; | Bar7 &lt;int&gt; | Bar8 &lt;int&gt; | Bar9 &lt;int&gt; | Bar10 &lt;int&gt; | ⋯ ⋯ | Bar40 &lt;int&gt; | Bar41 &lt;int&gt; | Bar42 &lt;int&gt; | Bar43 &lt;int&gt; | Bar44 &lt;int&gt; | Bar45 &lt;int&gt; | Bar46 &lt;int&gt; | Bar47 &lt;int&gt; | Bar48 &lt;int&gt; | cell &lt;chr&gt; |\n",
       "|---|---|---|---|---|---|---|---|---|---|---|---|---|---|---|---|---|---|---|---|---|---|\n",
       "| AAACCCACATTGTCGA | 5 | 3 | 1615 | 4 | 6 |  5 | 4 | 2 | 4 | 6 | ⋯ | 4 | 1 | 1 | 1 |   6 | 3 |  6 |  9 | 4 | AAACCCACATTGTCGA |\n",
       "| AAACCCAGTAGTCTTG | 2 | 1 |    9 | 0 | 5 | 11 | 1 | 4 | 4 | 7 | ⋯ | 3 | 1 | 4 | 1 |   6 | 5 |  9 | 14 | 4 | AAACCCAGTAGTCTTG |\n",
       "| AAACCCAGTCCTCATC | 3 | 1 |    2 | 1 | 5 |  4 | 1 | 2 | 2 | 2 | ⋯ | 0 | 6 | 2 | 3 |   7 | 0 |  4 |  3 | 4 | AAACCCAGTCCTCATC |\n",
       "| AAACCCAGTGATGTAA | 3 | 2 |    6 | 2 | 5 |  4 | 2 | 1 | 3 | 1 | ⋯ | 1 | 0 | 1 | 5 |   3 | 1 |  6 |  9 | 4 | AAACCCAGTGATGTAA |\n",
       "| AAACCCATCCAGCAAT | 7 | 2 |   10 | 5 | 9 |  5 | 3 | 7 | 4 | 2 | ⋯ | 1 | 1 | 5 | 1 |   4 | 2 | 70 |  7 | 4 | AAACCCATCCAGCAAT |\n",
       "| AAACGAAAGCGGTAGT | 3 | 2 |    5 | 1 | 6 |  5 | 1 | 2 | 4 | 1 | ⋯ | 1 | 2 | 1 | 2 | 102 | 2 |  5 |  6 | 2 | AAACGAAAGCGGTAGT |\n",
       "\n"
      ],
      "text/plain": [
       "                 Bar1 Bar2 Bar3 Bar4 Bar5 Bar6 Bar7 Bar8 Bar9 Bar10 ⋯ Bar40\n",
       "AAACCCACATTGTCGA 5    3    1615 4    6     5   4    2    4    6     ⋯ 4    \n",
       "AAACCCAGTAGTCTTG 2    1       9 0    5    11   1    4    4    7     ⋯ 3    \n",
       "AAACCCAGTCCTCATC 3    1       2 1    5     4   1    2    2    2     ⋯ 0    \n",
       "AAACCCAGTGATGTAA 3    2       6 2    5     4   2    1    3    1     ⋯ 1    \n",
       "AAACCCATCCAGCAAT 7    2      10 5    9     5   3    7    4    2     ⋯ 1    \n",
       "AAACGAAAGCGGTAGT 3    2       5 1    6     5   1    2    4    1     ⋯ 1    \n",
       "                 Bar41 Bar42 Bar43 Bar44 Bar45 Bar46 Bar47 Bar48\n",
       "AAACCCACATTGTCGA 1     1     1       6   3      6     9    4    \n",
       "AAACCCAGTAGTCTTG 1     4     1       6   5      9    14    4    \n",
       "AAACCCAGTCCTCATC 6     2     3       7   0      4     3    4    \n",
       "AAACCCAGTGATGTAA 0     1     5       3   1      6     9    4    \n",
       "AAACCCATCCAGCAAT 1     5     1       4   2     70     7    4    \n",
       "AAACGAAAGCGGTAGT 2     1     2     102   2      5     6    2    \n",
       "                 cell            \n",
       "AAACCCACATTGTCGA AAACCCACATTGTCGA\n",
       "AAACCCAGTAGTCTTG AAACCCAGTAGTCTTG\n",
       "AAACCCAGTCCTCATC AAACCCAGTCCTCATC\n",
       "AAACCCAGTGATGTAA AAACCCAGTGATGTAA\n",
       "AAACCCATCCAGCAAT AAACCCATCCAGCAAT\n",
       "AAACGAAAGCGGTAGT AAACGAAAGCGGTAGT"
      ]
     },
     "metadata": {},
     "output_type": "display_data"
    },
    {
     "data": {
      "text/html": [
       "<style>\n",
       ".list-inline {list-style: none; margin:0; padding: 0}\n",
       ".list-inline>li {display: inline-block}\n",
       ".list-inline>li:not(:last-child)::after {content: \"\\00b7\"; padding: 0 .5ex}\n",
       "</style>\n",
       "<ol class=list-inline><li>10454</li><li>49</li></ol>\n"
      ],
      "text/latex": [
       "\\begin{enumerate*}\n",
       "\\item 10454\n",
       "\\item 49\n",
       "\\end{enumerate*}\n"
      ],
      "text/markdown": [
       "1. 10454\n",
       "2. 49\n",
       "\n",
       "\n"
      ],
      "text/plain": [
       "[1] 10454    49"
      ]
     },
     "metadata": {},
     "output_type": "display_data"
    }
   ],
   "source": [
    "head(bar.table)\n",
    "dim(bar.table)\n",
    "bar.table$cell <- rownames(bar.table)"
   ]
  },
  {
   "cell_type": "code",
   "execution_count": 35,
   "id": "3e0de906-8233-4760-9fe0-cfd95a2d7d99",
   "metadata": {},
   "outputs": [
    {
     "data": {
      "text/plain": [
       "final.calls\n",
       "    Bar1    Bar10    Bar11    Bar12    Bar13    Bar14    Bar15    Bar16 \n",
       "     102      183      135      179      104       90      189      223 \n",
       "   Bar17    Bar18    Bar19     Bar2    Bar20    Bar21    Bar22    Bar23 \n",
       "     183      128       50      135       81      134      179      157 \n",
       "   Bar24    Bar25    Bar26    Bar27    Bar28    Bar29     Bar3    Bar30 \n",
       "     123      140      185      203      243      161      179      109 \n",
       "   Bar31    Bar32    Bar33    Bar34    Bar36    Bar37    Bar38    Bar39 \n",
       "      76      188      161      249      114       85      218       45 \n",
       "    Bar4    Bar40    Bar41    Bar42    Bar43    Bar44    Bar45    Bar46 \n",
       "     158      198      297      145      141      205      179      140 \n",
       "   Bar47    Bar48     Bar5     Bar6     Bar7     Bar8     Bar9  Doublet \n",
       "     349      192      168      210      105       82      160     2360 \n",
       "Negative \n",
       "    5211 "
      ]
     },
     "metadata": {},
     "output_type": "display_data"
    },
    {
     "data": {
      "text/html": [
       "15031"
      ],
      "text/latex": [
       "15031"
      ],
      "text/markdown": [
       "15031"
      ],
      "text/plain": [
       "[1] 15031"
      ]
     },
     "metadata": {},
     "output_type": "display_data"
    }
   ],
   "source": [
    "table(final.calls)\n",
    "length(final.calls)"
   ]
  },
  {
   "cell_type": "code",
   "execution_count": 36,
   "id": "0c1e503f-b02a-4b02-adca-5017ab16e4fe",
   "metadata": {},
   "outputs": [
    {
     "data": {
      "text/plain": [
       "\n",
       "    Bar1    Bar10    Bar11    Bar12    Bar13    Bar14    Bar15    Bar16 \n",
       "     102      183      135      179      104       90      189      223 \n",
       "   Bar17    Bar18    Bar19     Bar2    Bar20    Bar21    Bar22    Bar23 \n",
       "     183      128       50      135       81      134      179      157 \n",
       "   Bar24    Bar25    Bar26    Bar27    Bar28    Bar29     Bar3    Bar30 \n",
       "     123      140      185      203      243      161      179      109 \n",
       "   Bar31    Bar32    Bar33    Bar34    Bar36    Bar37    Bar38    Bar39 \n",
       "      76      188      161      249      114       85      218       45 \n",
       "    Bar4    Bar40    Bar41    Bar42    Bar43    Bar44    Bar45    Bar46 \n",
       "     158      198      297      145      141      205      179      140 \n",
       "   Bar47    Bar48     Bar5     Bar6     Bar7     Bar8     Bar9  Doublet \n",
       "     349      192      168      210      105       82      160     2360 \n",
       "Negative \n",
       "    5211 "
      ]
     },
     "metadata": {},
     "output_type": "display_data"
    },
    {
     "data": {
      "text/html": [
       "<table class=\"dataframe\">\n",
       "<caption>A data.frame: 6 × 50</caption>\n",
       "<thead>\n",
       "\t<tr><th></th><th scope=col>cell</th><th scope=col>Bar1</th><th scope=col>Bar2</th><th scope=col>Bar3</th><th scope=col>Bar4</th><th scope=col>Bar5</th><th scope=col>Bar6</th><th scope=col>Bar7</th><th scope=col>Bar8</th><th scope=col>Bar9</th><th scope=col>⋯</th><th scope=col>Bar40</th><th scope=col>Bar41</th><th scope=col>Bar42</th><th scope=col>Bar43</th><th scope=col>Bar44</th><th scope=col>Bar45</th><th scope=col>Bar46</th><th scope=col>Bar47</th><th scope=col>Bar48</th><th scope=col>V1</th></tr>\n",
       "\t<tr><th></th><th scope=col>&lt;chr&gt;</th><th scope=col>&lt;int&gt;</th><th scope=col>&lt;int&gt;</th><th scope=col>&lt;int&gt;</th><th scope=col>&lt;int&gt;</th><th scope=col>&lt;int&gt;</th><th scope=col>&lt;int&gt;</th><th scope=col>&lt;int&gt;</th><th scope=col>&lt;int&gt;</th><th scope=col>&lt;int&gt;</th><th scope=col>⋯</th><th scope=col>&lt;int&gt;</th><th scope=col>&lt;int&gt;</th><th scope=col>&lt;int&gt;</th><th scope=col>&lt;int&gt;</th><th scope=col>&lt;int&gt;</th><th scope=col>&lt;int&gt;</th><th scope=col>&lt;int&gt;</th><th scope=col>&lt;int&gt;</th><th scope=col>&lt;int&gt;</th><th scope=col>&lt;chr&gt;</th></tr>\n",
       "</thead>\n",
       "<tbody>\n",
       "\t<tr><th scope=row>1</th><td>AAACCCACATTGTCGA</td><td>5</td><td>3</td><td>1615</td><td>4</td><td>6</td><td> 5</td><td>4</td><td>2</td><td>4</td><td>⋯</td><td>4</td><td>1</td><td>1</td><td>1</td><td>  6</td><td>3</td><td> 6</td><td> 9</td><td>4</td><td>Bar3 </td></tr>\n",
       "\t<tr><th scope=row>2</th><td>AAACCCAGTAGTCTTG</td><td>2</td><td>1</td><td>   9</td><td>0</td><td>5</td><td>11</td><td>1</td><td>4</td><td>4</td><td>⋯</td><td>3</td><td>1</td><td>4</td><td>1</td><td>  6</td><td>5</td><td> 9</td><td>14</td><td>4</td><td>Bar32</td></tr>\n",
       "\t<tr><th scope=row>3</th><td>AAACCCAGTCCTCATC</td><td>3</td><td>1</td><td>   2</td><td>1</td><td>5</td><td> 4</td><td>1</td><td>2</td><td>2</td><td>⋯</td><td>0</td><td>6</td><td>2</td><td>3</td><td>  7</td><td>0</td><td> 4</td><td> 3</td><td>4</td><td>Bar29</td></tr>\n",
       "\t<tr><th scope=row>4</th><td>AAACCCAGTGATGTAA</td><td>3</td><td>2</td><td>   6</td><td>2</td><td>5</td><td> 4</td><td>2</td><td>1</td><td>3</td><td>⋯</td><td>1</td><td>0</td><td>1</td><td>5</td><td>  3</td><td>1</td><td> 6</td><td> 9</td><td>4</td><td>Bar25</td></tr>\n",
       "\t<tr><th scope=row>5</th><td>AAACCCATCCAGCAAT</td><td>7</td><td>2</td><td>  10</td><td>5</td><td>9</td><td> 5</td><td>3</td><td>7</td><td>4</td><td>⋯</td><td>1</td><td>1</td><td>5</td><td>1</td><td>  4</td><td>2</td><td>70</td><td> 7</td><td>4</td><td>Bar37</td></tr>\n",
       "\t<tr><th scope=row>6</th><td>AAACGAAAGCGGTAGT</td><td>3</td><td>2</td><td>   5</td><td>1</td><td>6</td><td> 5</td><td>1</td><td>2</td><td>4</td><td>⋯</td><td>1</td><td>2</td><td>1</td><td>2</td><td>102</td><td>2</td><td> 5</td><td> 6</td><td>2</td><td>Bar44</td></tr>\n",
       "</tbody>\n",
       "</table>\n"
      ],
      "text/latex": [
       "A data.frame: 6 × 50\n",
       "\\begin{tabular}{r|lllllllllllllllllllll}\n",
       "  & cell & Bar1 & Bar2 & Bar3 & Bar4 & Bar5 & Bar6 & Bar7 & Bar8 & Bar9 & ⋯ & Bar40 & Bar41 & Bar42 & Bar43 & Bar44 & Bar45 & Bar46 & Bar47 & Bar48 & V1\\\\\n",
       "  & <chr> & <int> & <int> & <int> & <int> & <int> & <int> & <int> & <int> & <int> & ⋯ & <int> & <int> & <int> & <int> & <int> & <int> & <int> & <int> & <int> & <chr>\\\\\n",
       "\\hline\n",
       "\t1 & AAACCCACATTGTCGA & 5 & 3 & 1615 & 4 & 6 &  5 & 4 & 2 & 4 & ⋯ & 4 & 1 & 1 & 1 &   6 & 3 &  6 &  9 & 4 & Bar3 \\\\\n",
       "\t2 & AAACCCAGTAGTCTTG & 2 & 1 &    9 & 0 & 5 & 11 & 1 & 4 & 4 & ⋯ & 3 & 1 & 4 & 1 &   6 & 5 &  9 & 14 & 4 & Bar32\\\\\n",
       "\t3 & AAACCCAGTCCTCATC & 3 & 1 &    2 & 1 & 5 &  4 & 1 & 2 & 2 & ⋯ & 0 & 6 & 2 & 3 &   7 & 0 &  4 &  3 & 4 & Bar29\\\\\n",
       "\t4 & AAACCCAGTGATGTAA & 3 & 2 &    6 & 2 & 5 &  4 & 2 & 1 & 3 & ⋯ & 1 & 0 & 1 & 5 &   3 & 1 &  6 &  9 & 4 & Bar25\\\\\n",
       "\t5 & AAACCCATCCAGCAAT & 7 & 2 &   10 & 5 & 9 &  5 & 3 & 7 & 4 & ⋯ & 1 & 1 & 5 & 1 &   4 & 2 & 70 &  7 & 4 & Bar37\\\\\n",
       "\t6 & AAACGAAAGCGGTAGT & 3 & 2 &    5 & 1 & 6 &  5 & 1 & 2 & 4 & ⋯ & 1 & 2 & 1 & 2 & 102 & 2 &  5 &  6 & 2 & Bar44\\\\\n",
       "\\end{tabular}\n"
      ],
      "text/markdown": [
       "\n",
       "A data.frame: 6 × 50\n",
       "\n",
       "| <!--/--> | cell &lt;chr&gt; | Bar1 &lt;int&gt; | Bar2 &lt;int&gt; | Bar3 &lt;int&gt; | Bar4 &lt;int&gt; | Bar5 &lt;int&gt; | Bar6 &lt;int&gt; | Bar7 &lt;int&gt; | Bar8 &lt;int&gt; | Bar9 &lt;int&gt; | ⋯ ⋯ | Bar40 &lt;int&gt; | Bar41 &lt;int&gt; | Bar42 &lt;int&gt; | Bar43 &lt;int&gt; | Bar44 &lt;int&gt; | Bar45 &lt;int&gt; | Bar46 &lt;int&gt; | Bar47 &lt;int&gt; | Bar48 &lt;int&gt; | V1 &lt;chr&gt; |\n",
       "|---|---|---|---|---|---|---|---|---|---|---|---|---|---|---|---|---|---|---|---|---|---|\n",
       "| 1 | AAACCCACATTGTCGA | 5 | 3 | 1615 | 4 | 6 |  5 | 4 | 2 | 4 | ⋯ | 4 | 1 | 1 | 1 |   6 | 3 |  6 |  9 | 4 | Bar3  |\n",
       "| 2 | AAACCCAGTAGTCTTG | 2 | 1 |    9 | 0 | 5 | 11 | 1 | 4 | 4 | ⋯ | 3 | 1 | 4 | 1 |   6 | 5 |  9 | 14 | 4 | Bar32 |\n",
       "| 3 | AAACCCAGTCCTCATC | 3 | 1 |    2 | 1 | 5 |  4 | 1 | 2 | 2 | ⋯ | 0 | 6 | 2 | 3 |   7 | 0 |  4 |  3 | 4 | Bar29 |\n",
       "| 4 | AAACCCAGTGATGTAA | 3 | 2 |    6 | 2 | 5 |  4 | 2 | 1 | 3 | ⋯ | 1 | 0 | 1 | 5 |   3 | 1 |  6 |  9 | 4 | Bar25 |\n",
       "| 5 | AAACCCATCCAGCAAT | 7 | 2 |   10 | 5 | 9 |  5 | 3 | 7 | 4 | ⋯ | 1 | 1 | 5 | 1 |   4 | 2 | 70 |  7 | 4 | Bar37 |\n",
       "| 6 | AAACGAAAGCGGTAGT | 3 | 2 |    5 | 1 | 6 |  5 | 1 | 2 | 4 | ⋯ | 1 | 2 | 1 | 2 | 102 | 2 |  5 |  6 | 2 | Bar44 |\n",
       "\n"
      ],
      "text/plain": [
       "  cell             Bar1 Bar2 Bar3 Bar4 Bar5 Bar6 Bar7 Bar8 Bar9 ⋯ Bar40 Bar41\n",
       "1 AAACCCACATTGTCGA 5    3    1615 4    6     5   4    2    4    ⋯ 4     1    \n",
       "2 AAACCCAGTAGTCTTG 2    1       9 0    5    11   1    4    4    ⋯ 3     1    \n",
       "3 AAACCCAGTCCTCATC 3    1       2 1    5     4   1    2    2    ⋯ 0     6    \n",
       "4 AAACCCAGTGATGTAA 3    2       6 2    5     4   2    1    3    ⋯ 1     0    \n",
       "5 AAACCCATCCAGCAAT 7    2      10 5    9     5   3    7    4    ⋯ 1     1    \n",
       "6 AAACGAAAGCGGTAGT 3    2       5 1    6     5   1    2    4    ⋯ 1     2    \n",
       "  Bar42 Bar43 Bar44 Bar45 Bar46 Bar47 Bar48 V1   \n",
       "1 1     1       6   3      6     9    4     Bar3 \n",
       "2 4     1       6   5      9    14    4     Bar32\n",
       "3 2     3       7   0      4     3    4     Bar29\n",
       "4 1     5       3   1      6     9    4     Bar25\n",
       "5 5     1       4   2     70     7    4     Bar37\n",
       "6 1     2     102   2      5     6    2     Bar44"
      ]
     },
     "metadata": {},
     "output_type": "display_data"
    },
    {
     "data": {
      "text/html": [
       "<style>\n",
       ".list-inline {list-style: none; margin:0; padding: 0}\n",
       ".list-inline>li {display: inline-block}\n",
       ".list-inline>li:not(:last-child)::after {content: \"\\00b7\"; padding: 0 .5ex}\n",
       "</style>\n",
       "<ol class=list-inline><li>10454</li><li>50</li></ol>\n"
      ],
      "text/latex": [
       "\\begin{enumerate*}\n",
       "\\item 10454\n",
       "\\item 50\n",
       "\\end{enumerate*}\n"
      ],
      "text/markdown": [
       "1. 10454\n",
       "2. 50\n",
       "\n",
       "\n"
      ],
      "text/plain": [
       "[1] 10454    50"
      ]
     },
     "metadata": {},
     "output_type": "display_data"
    },
    {
     "data": {
      "text/plain": [
       "\n",
       "    Bar1    Bar10    Bar11    Bar12    Bar13    Bar14    Bar15    Bar16 \n",
       "     102      183      135      179      104       90      189      223 \n",
       "   Bar17    Bar18    Bar19     Bar2    Bar20    Bar21    Bar22    Bar23 \n",
       "     183      128       50      135       81      134      179      157 \n",
       "   Bar24    Bar25    Bar26    Bar27    Bar28    Bar29     Bar3    Bar30 \n",
       "     123      140      185      203      243      161      179      109 \n",
       "   Bar31    Bar32    Bar33    Bar34    Bar36    Bar37    Bar38    Bar39 \n",
       "      76      188      161      249      114       85      218       45 \n",
       "    Bar4    Bar40    Bar41    Bar42    Bar43    Bar44    Bar45    Bar46 \n",
       "     158      198      297      145      141      205      179      140 \n",
       "   Bar47    Bar48     Bar5     Bar6     Bar7     Bar8     Bar9  Doublet \n",
       "     349      192      168      210      105       82      160     2360 \n",
       "Negative \n",
       "     634 "
      ]
     },
     "metadata": {},
     "output_type": "display_data"
    }
   ],
   "source": [
    "prueba <- as.matrix(final.calls)\n",
    "prueba <- as.data.frame(prueba)\n",
    "prueba$cell <- rownames(prueba)\n",
    "table(prueba$V1)\n",
    "\n",
    "prueba.merged <- merge (bar.table, prueba, by = \"cell\")\n",
    "prueba.merged$V1 <- as.character(prueba.merged$V1)\n",
    "\n",
    "barcode_assignment_72h <- prueba.merged\n",
    "head(barcode_assignment_72h)\n",
    "dim(barcode_assignment_72h)\n",
    "table(barcode_assignment_72h$V1)"
   ]
  },
  {
   "cell_type": "markdown",
   "id": "b8693584-30c1-45f6-8a71-5d3d8dcc0d2d",
   "metadata": {},
   "source": [
    "## Generation of table of assignment for stacked barplot visualization"
   ]
  },
  {
   "cell_type": "code",
   "execution_count": 37,
   "id": "6f1dafe2-9719-4236-aea2-e773439a1482",
   "metadata": {},
   "outputs": [
    {
     "data": {
      "text/html": [
       "<table class=\"dataframe\">\n",
       "<caption>A data.frame: 49 × 2</caption>\n",
       "<thead>\n",
       "\t<tr><th scope=col>Var1</th><th scope=col>Freq</th></tr>\n",
       "\t<tr><th scope=col>&lt;fct&gt;</th><th scope=col>&lt;int&gt;</th></tr>\n",
       "</thead>\n",
       "<tbody>\n",
       "\t<tr><td>Bar1    </td><td> 102</td></tr>\n",
       "\t<tr><td>Bar10   </td><td> 183</td></tr>\n",
       "\t<tr><td>Bar11   </td><td> 135</td></tr>\n",
       "\t<tr><td>Bar12   </td><td> 179</td></tr>\n",
       "\t<tr><td>Bar13   </td><td> 104</td></tr>\n",
       "\t<tr><td>Bar14   </td><td>  90</td></tr>\n",
       "\t<tr><td>Bar15   </td><td> 189</td></tr>\n",
       "\t<tr><td>Bar16   </td><td> 223</td></tr>\n",
       "\t<tr><td>Bar17   </td><td> 183</td></tr>\n",
       "\t<tr><td>Bar18   </td><td> 128</td></tr>\n",
       "\t<tr><td>Bar19   </td><td>  50</td></tr>\n",
       "\t<tr><td>Bar2    </td><td> 135</td></tr>\n",
       "\t<tr><td>Bar20   </td><td>  81</td></tr>\n",
       "\t<tr><td>Bar21   </td><td> 134</td></tr>\n",
       "\t<tr><td>Bar22   </td><td> 179</td></tr>\n",
       "\t<tr><td>Bar23   </td><td> 157</td></tr>\n",
       "\t<tr><td>Bar24   </td><td> 123</td></tr>\n",
       "\t<tr><td>Bar25   </td><td> 140</td></tr>\n",
       "\t<tr><td>Bar26   </td><td> 185</td></tr>\n",
       "\t<tr><td>Bar27   </td><td> 203</td></tr>\n",
       "\t<tr><td>Bar28   </td><td> 243</td></tr>\n",
       "\t<tr><td>Bar29   </td><td> 161</td></tr>\n",
       "\t<tr><td>Bar3    </td><td> 179</td></tr>\n",
       "\t<tr><td>Bar30   </td><td> 109</td></tr>\n",
       "\t<tr><td>Bar31   </td><td>  76</td></tr>\n",
       "\t<tr><td>Bar32   </td><td> 188</td></tr>\n",
       "\t<tr><td>Bar33   </td><td> 161</td></tr>\n",
       "\t<tr><td>Bar34   </td><td> 249</td></tr>\n",
       "\t<tr><td>Bar36   </td><td> 114</td></tr>\n",
       "\t<tr><td>Bar37   </td><td>  85</td></tr>\n",
       "\t<tr><td>Bar38   </td><td> 218</td></tr>\n",
       "\t<tr><td>Bar39   </td><td>  45</td></tr>\n",
       "\t<tr><td>Bar4    </td><td> 158</td></tr>\n",
       "\t<tr><td>Bar40   </td><td> 198</td></tr>\n",
       "\t<tr><td>Bar41   </td><td> 297</td></tr>\n",
       "\t<tr><td>Bar42   </td><td> 145</td></tr>\n",
       "\t<tr><td>Bar43   </td><td> 141</td></tr>\n",
       "\t<tr><td>Bar44   </td><td> 205</td></tr>\n",
       "\t<tr><td>Bar45   </td><td> 179</td></tr>\n",
       "\t<tr><td>Bar46   </td><td> 140</td></tr>\n",
       "\t<tr><td>Bar47   </td><td> 349</td></tr>\n",
       "\t<tr><td>Bar48   </td><td> 192</td></tr>\n",
       "\t<tr><td>Bar5    </td><td> 168</td></tr>\n",
       "\t<tr><td>Bar6    </td><td> 210</td></tr>\n",
       "\t<tr><td>Bar7    </td><td> 105</td></tr>\n",
       "\t<tr><td>Bar8    </td><td>  82</td></tr>\n",
       "\t<tr><td>Bar9    </td><td> 160</td></tr>\n",
       "\t<tr><td>Doublet </td><td>2360</td></tr>\n",
       "\t<tr><td>Negative</td><td> 634</td></tr>\n",
       "</tbody>\n",
       "</table>\n"
      ],
      "text/latex": [
       "A data.frame: 49 × 2\n",
       "\\begin{tabular}{ll}\n",
       " Var1 & Freq\\\\\n",
       " <fct> & <int>\\\\\n",
       "\\hline\n",
       "\t Bar1     &  102\\\\\n",
       "\t Bar10    &  183\\\\\n",
       "\t Bar11    &  135\\\\\n",
       "\t Bar12    &  179\\\\\n",
       "\t Bar13    &  104\\\\\n",
       "\t Bar14    &   90\\\\\n",
       "\t Bar15    &  189\\\\\n",
       "\t Bar16    &  223\\\\\n",
       "\t Bar17    &  183\\\\\n",
       "\t Bar18    &  128\\\\\n",
       "\t Bar19    &   50\\\\\n",
       "\t Bar2     &  135\\\\\n",
       "\t Bar20    &   81\\\\\n",
       "\t Bar21    &  134\\\\\n",
       "\t Bar22    &  179\\\\\n",
       "\t Bar23    &  157\\\\\n",
       "\t Bar24    &  123\\\\\n",
       "\t Bar25    &  140\\\\\n",
       "\t Bar26    &  185\\\\\n",
       "\t Bar27    &  203\\\\\n",
       "\t Bar28    &  243\\\\\n",
       "\t Bar29    &  161\\\\\n",
       "\t Bar3     &  179\\\\\n",
       "\t Bar30    &  109\\\\\n",
       "\t Bar31    &   76\\\\\n",
       "\t Bar32    &  188\\\\\n",
       "\t Bar33    &  161\\\\\n",
       "\t Bar34    &  249\\\\\n",
       "\t Bar36    &  114\\\\\n",
       "\t Bar37    &   85\\\\\n",
       "\t Bar38    &  218\\\\\n",
       "\t Bar39    &   45\\\\\n",
       "\t Bar4     &  158\\\\\n",
       "\t Bar40    &  198\\\\\n",
       "\t Bar41    &  297\\\\\n",
       "\t Bar42    &  145\\\\\n",
       "\t Bar43    &  141\\\\\n",
       "\t Bar44    &  205\\\\\n",
       "\t Bar45    &  179\\\\\n",
       "\t Bar46    &  140\\\\\n",
       "\t Bar47    &  349\\\\\n",
       "\t Bar48    &  192\\\\\n",
       "\t Bar5     &  168\\\\\n",
       "\t Bar6     &  210\\\\\n",
       "\t Bar7     &  105\\\\\n",
       "\t Bar8     &   82\\\\\n",
       "\t Bar9     &  160\\\\\n",
       "\t Doublet  & 2360\\\\\n",
       "\t Negative &  634\\\\\n",
       "\\end{tabular}\n"
      ],
      "text/markdown": [
       "\n",
       "A data.frame: 49 × 2\n",
       "\n",
       "| Var1 &lt;fct&gt; | Freq &lt;int&gt; |\n",
       "|---|---|\n",
       "| Bar1     |  102 |\n",
       "| Bar10    |  183 |\n",
       "| Bar11    |  135 |\n",
       "| Bar12    |  179 |\n",
       "| Bar13    |  104 |\n",
       "| Bar14    |   90 |\n",
       "| Bar15    |  189 |\n",
       "| Bar16    |  223 |\n",
       "| Bar17    |  183 |\n",
       "| Bar18    |  128 |\n",
       "| Bar19    |   50 |\n",
       "| Bar2     |  135 |\n",
       "| Bar20    |   81 |\n",
       "| Bar21    |  134 |\n",
       "| Bar22    |  179 |\n",
       "| Bar23    |  157 |\n",
       "| Bar24    |  123 |\n",
       "| Bar25    |  140 |\n",
       "| Bar26    |  185 |\n",
       "| Bar27    |  203 |\n",
       "| Bar28    |  243 |\n",
       "| Bar29    |  161 |\n",
       "| Bar3     |  179 |\n",
       "| Bar30    |  109 |\n",
       "| Bar31    |   76 |\n",
       "| Bar32    |  188 |\n",
       "| Bar33    |  161 |\n",
       "| Bar34    |  249 |\n",
       "| Bar36    |  114 |\n",
       "| Bar37    |   85 |\n",
       "| Bar38    |  218 |\n",
       "| Bar39    |   45 |\n",
       "| Bar4     |  158 |\n",
       "| Bar40    |  198 |\n",
       "| Bar41    |  297 |\n",
       "| Bar42    |  145 |\n",
       "| Bar43    |  141 |\n",
       "| Bar44    |  205 |\n",
       "| Bar45    |  179 |\n",
       "| Bar46    |  140 |\n",
       "| Bar47    |  349 |\n",
       "| Bar48    |  192 |\n",
       "| Bar5     |  168 |\n",
       "| Bar6     |  210 |\n",
       "| Bar7     |  105 |\n",
       "| Bar8     |   82 |\n",
       "| Bar9     |  160 |\n",
       "| Doublet  | 2360 |\n",
       "| Negative |  634 |\n",
       "\n"
      ],
      "text/plain": [
       "   Var1     Freq\n",
       "1  Bar1      102\n",
       "2  Bar10     183\n",
       "3  Bar11     135\n",
       "4  Bar12     179\n",
       "5  Bar13     104\n",
       "6  Bar14      90\n",
       "7  Bar15     189\n",
       "8  Bar16     223\n",
       "9  Bar17     183\n",
       "10 Bar18     128\n",
       "11 Bar19      50\n",
       "12 Bar2      135\n",
       "13 Bar20      81\n",
       "14 Bar21     134\n",
       "15 Bar22     179\n",
       "16 Bar23     157\n",
       "17 Bar24     123\n",
       "18 Bar25     140\n",
       "19 Bar26     185\n",
       "20 Bar27     203\n",
       "21 Bar28     243\n",
       "22 Bar29     161\n",
       "23 Bar3      179\n",
       "24 Bar30     109\n",
       "25 Bar31      76\n",
       "26 Bar32     188\n",
       "27 Bar33     161\n",
       "28 Bar34     249\n",
       "29 Bar36     114\n",
       "30 Bar37      85\n",
       "31 Bar38     218\n",
       "32 Bar39      45\n",
       "33 Bar4      158\n",
       "34 Bar40     198\n",
       "35 Bar41     297\n",
       "36 Bar42     145\n",
       "37 Bar43     141\n",
       "38 Bar44     205\n",
       "39 Bar45     179\n",
       "40 Bar46     140\n",
       "41 Bar47     349\n",
       "42 Bar48     192\n",
       "43 Bar5      168\n",
       "44 Bar6      210\n",
       "45 Bar7      105\n",
       "46 Bar8       82\n",
       "47 Bar9      160\n",
       "48 Doublet  2360\n",
       "49 Negative  634"
      ]
     },
     "metadata": {},
     "output_type": "display_data"
    }
   ],
   "source": [
    "x <- data.frame(table(barcode_assignment_72h$V1))\n",
    "x"
   ]
  },
  {
   "cell_type": "code",
   "execution_count": 38,
   "id": "9ec89abb-af19-4d96-ae06-76c550c47262",
   "metadata": {},
   "outputs": [
    {
     "data": {
      "text/html": [
       "949"
      ],
      "text/latex": [
       "949"
      ],
      "text/markdown": [
       "949"
      ],
      "text/plain": [
       "[1] 949"
      ]
     },
     "metadata": {},
     "output_type": "display_data"
    }
   ],
   "source": [
    "bar <- sum(x$Freq[-(49:50)])\n",
    "doublet <- x[x[1]=='Doublet',2]\n",
    "negative <- x[x[1]=='Negative',2]\n",
    "unassigned <- initial_cell_number - sum(bar, doublet, negative)\n",
    "unassigned"
   ]
  },
  {
   "cell_type": "code",
   "execution_count": 39,
   "id": "37a15406-193e-4e97-9471-1b5012bc52f2",
   "metadata": {},
   "outputs": [
    {
     "data": {
      "text/html": [
       "<table class=\"dataframe\">\n",
       "<caption>A data.frame: 4 × 3</caption>\n",
       "<thead>\n",
       "\t<tr><th></th><th scope=col>Number_cells</th><th scope=col>Category</th><th scope=col>Sample</th></tr>\n",
       "\t<tr><th></th><th scope=col>&lt;int&gt;</th><th scope=col>&lt;fct&gt;</th><th scope=col>&lt;chr&gt;</th></tr>\n",
       "</thead>\n",
       "<tbody>\n",
       "\t<tr><th scope=row>Barcode_assigned</th><td>9820</td><td>Barcode_assigned</td><td>gast_72h</td></tr>\n",
       "\t<tr><th scope=row>Doublet</th><td>2360</td><td>Doublet         </td><td>gast_72h</td></tr>\n",
       "\t<tr><th scope=row>Negative</th><td> 634</td><td>Negative        </td><td>gast_72h</td></tr>\n",
       "\t<tr><th scope=row>Unassigned</th><td> 949</td><td>Unassigned      </td><td>gast_72h</td></tr>\n",
       "</tbody>\n",
       "</table>\n"
      ],
      "text/latex": [
       "A data.frame: 4 × 3\n",
       "\\begin{tabular}{r|lll}\n",
       "  & Number\\_cells & Category & Sample\\\\\n",
       "  & <int> & <fct> & <chr>\\\\\n",
       "\\hline\n",
       "\tBarcode\\_assigned & 9820 & Barcode\\_assigned & gast\\_72h\\\\\n",
       "\tDoublet & 2360 & Doublet          & gast\\_72h\\\\\n",
       "\tNegative &  634 & Negative         & gast\\_72h\\\\\n",
       "\tUnassigned &  949 & Unassigned       & gast\\_72h\\\\\n",
       "\\end{tabular}\n"
      ],
      "text/markdown": [
       "\n",
       "A data.frame: 4 × 3\n",
       "\n",
       "| <!--/--> | Number_cells &lt;int&gt; | Category &lt;fct&gt; | Sample &lt;chr&gt; |\n",
       "|---|---|---|---|\n",
       "| Barcode_assigned | 9820 | Barcode_assigned | gast_72h |\n",
       "| Doublet | 2360 | Doublet          | gast_72h |\n",
       "| Negative |  634 | Negative         | gast_72h |\n",
       "| Unassigned |  949 | Unassigned       | gast_72h |\n",
       "\n"
      ],
      "text/plain": [
       "                 Number_cells Category         Sample  \n",
       "Barcode_assigned 9820         Barcode_assigned gast_72h\n",
       "Doublet          2360         Doublet          gast_72h\n",
       "Negative          634         Negative         gast_72h\n",
       "Unassigned        949         Unassigned       gast_72h"
      ]
     },
     "metadata": {},
     "output_type": "display_data"
    }
   ],
   "source": [
    "x <- data.frame(Number_cells= c(bar, doublet, negative, unassigned))\n",
    "rownames(x) <- c(\"Barcode_assigned\",\"Doublet\",\"Negative\", \"Unassigned\")\n",
    "x$Category <- rownames(x)\n",
    "x$Category <- factor(x$Category, levels = c(\"Unassigned\",\"Negative\",\"Doublet\",\"Barcode_assigned\"))\n",
    "x$Sample <- \"gast_72h\"\n",
    "head(x)\n",
    "\n",
    "multiseq_assignment_72h <- x"
   ]
  },
  {
   "cell_type": "code",
   "execution_count": 41,
   "id": "fdc77a19-9e50-4077-8ec2-f4a9b98eaf58",
   "metadata": {},
   "outputs": [
    {
     "data": {
      "text/html": [
       "13763"
      ],
      "text/latex": [
       "13763"
      ],
      "text/markdown": [
       "13763"
      ],
      "text/plain": [
       "[1] 13763"
      ]
     },
     "metadata": {},
     "output_type": "display_data"
    },
    {
     "data": {
      "text/html": [
       "13763"
      ],
      "text/latex": [
       "13763"
      ],
      "text/markdown": [
       "13763"
      ],
      "text/plain": [
       "[1] 13763"
      ]
     },
     "metadata": {},
     "output_type": "display_data"
    },
    {
     "data": {
      "text/html": [
       "TRUE"
      ],
      "text/latex": [
       "TRUE"
      ],
      "text/markdown": [
       "TRUE"
      ],
      "text/plain": [
       "[1] TRUE"
      ]
     },
     "metadata": {},
     "output_type": "display_data"
    }
   ],
   "source": [
    "sum(multiseq_assignment_72h$Number_cells)\n",
    "initial_cell_number\n",
    "sum(multiseq_assignment_72h$Number_cells) == initial_cell_number"
   ]
  },
  {
   "cell_type": "code",
   "execution_count": 42,
   "id": "5799827a-f873-4a63-9e3f-d3a85700fde1",
   "metadata": {},
   "outputs": [
    {
     "data": {
      "image/png": "[encoded data removed]",
      "text/plain": [
       "plot without title"
      ]
     },
     "metadata": {
      "image/png": {
       "height": 420,
       "width": 420
      }
     },
     "output_type": "display_data"
    }
   ],
   "source": [
    "# Stacked\n",
    "ggplot(x, aes(fill=Category, y=Number_cells, x=Sample)) + \n",
    "  geom_bar(position=\"stack\", stat=\"identity\", colour=\"black\") +\n",
    "  scale_fill_manual(values=c(\"#f4a582\", \"#d95f02\", \"#7570b3\", \"#1b9e77\")) + \n",
    "  theme_minimal()"
   ]
  },
  {
   "cell_type": "markdown",
   "id": "acde3ee5-6204-4ca0-9edd-49aaf3f1a0c2",
   "metadata": {},
   "source": [
    "## Saving the files"
   ]
  },
  {
   "cell_type": "code",
   "execution_count": 45,
   "id": "2a398e41-e882-423a-8daa-e98db9e02190",
   "metadata": {},
   "outputs": [],
   "source": [
    "# Save files\n",
    "## \n",
    "saveRDS(barcode_assignment_72h, file = \"./files/demultiplexing/barcode_assignment_72h.rds\")\n",
    "saveRDS(multiseq_assignment_72h, file = \"./files/demultiplexing/multiseq_assignment_72h.rds\")"
   ]
  }
 ],
 "metadata": {
  "kernelspec": {
   "display_name": "R",
   "language": "R",
   "name": "ir"
  },
  "language_info": {
   "codemirror_mode": "r",
   "file_extension": ".r",
   "mimetype": "text/x-r-source",
   "name": "R",
   "pygments_lexer": "r",
   "version": "4.1.0"
  },
  "toc-autonumbering": true
 },
 "nbformat": 4,
 "nbformat_minor": 5
}
