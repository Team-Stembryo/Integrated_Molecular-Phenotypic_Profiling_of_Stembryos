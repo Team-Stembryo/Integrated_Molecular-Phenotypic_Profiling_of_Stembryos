{
 "cells": [
  {
   "cell_type": "markdown",
   "id": "0dd45e6f-2818-4647-8d89-d6aa299250d2",
   "metadata": {},
   "source": [
    "# Reading MULTI-seq raw data "
   ]
  },
  {
   "cell_type": "code",
   "execution_count": 1,
   "id": "d6e6532e-28a1-4bd3-808f-5b8383fb5e48",
   "metadata": {},
   "outputs": [
    {
     "name": "stdout",
     "output_type": "stream",
     "text": [
      " chr [1:6794880] \"AAACCCAAGAAACACT\" \"AAACCCAAGAAACCAT\" \"AAACCCAAGAAACCCA\" ...\n"
     ]
    }
   ],
   "source": [
    "# MULTIseq follow up for ReadTable filtered\n",
    "\n",
    "setwd(\"/project/ABKlab/Natalia/sc-RNA-seq/single_TLS_project\")\n",
    "# devtools::install_github('chris-mcginnis-ucsf/MULTI-seq')\n",
    "library(\"deMULTIplex\")\n",
    "\n",
    "cell.id.vec <- read.table(\"../whitelist/3M-february-2018.txt\")\n",
    "cell.id.vec <- as.vector(cell.id.vec$V1)\n",
    "str(cell.id.vec)\n"
   ]
  },
  {
   "cell_type": "code",
   "execution_count": 7,
   "id": "07ebd5e7-8fd3-4f29-8172-bc071c1f480b",
   "metadata": {},
   "outputs": [],
   "source": [
    "# Equivalence fastq files with timepoints\n",
    "# 1: 48h\n",
    "# 2: 72h\n",
    "# 3: 96h\n",
    "# 4: 120h_1\n",
    "# 5: 120h_2"
   ]
  },
  {
   "cell_type": "code",
   "execution_count": 7,
   "id": "b463debb-407c-4a44-9c01-5053ed6c6f95",
   "metadata": {},
   "outputs": [
    {
     "name": "stderr",
     "output_type": "stream",
     "text": [
      "Loading required package: ShortRead\n",
      "\n",
      "Loading required package: BiocGenerics\n",
      "\n",
      "Loading required package: parallel\n",
      "\n",
      "\n",
      "Attaching package: ‘BiocGenerics’\n",
      "\n",
      "\n",
      "The following objects are masked from ‘package:parallel’:\n",
      "\n",
      "    clusterApply, clusterApplyLB, clusterCall, clusterEvalQ,\n",
      "    clusterExport, clusterMap, parApply, parCapply, parLapply,\n",
      "    parLapplyLB, parRapply, parSapply, parSapplyLB\n",
      "\n",
      "\n",
      "The following objects are masked from ‘package:stats’:\n",
      "\n",
      "    IQR, mad, sd, var, xtabs\n",
      "\n",
      "\n",
      "The following objects are masked from ‘package:base’:\n",
      "\n",
      "    Filter, Find, Map, Position, Reduce, anyDuplicated, append,\n",
      "    as.data.frame, basename, cbind, colnames, dirname, do.call,\n",
      "    duplicated, eval, evalq, get, grep, grepl, intersect, is.unsorted,\n",
      "    lapply, mapply, match, mget, order, paste, pmax, pmax.int, pmin,\n",
      "    pmin.int, rank, rbind, rownames, sapply, setdiff, sort, table,\n",
      "    tapply, union, unique, unsplit, which.max, which.min\n",
      "\n",
      "\n",
      "Loading required package: BiocParallel\n",
      "\n",
      "Loading required package: Biostrings\n",
      "\n",
      "Loading required package: S4Vectors\n",
      "\n",
      "Loading required package: stats4\n",
      "\n",
      "\n",
      "Attaching package: ‘S4Vectors’\n",
      "\n",
      "\n",
      "The following objects are masked from ‘package:base’:\n",
      "\n",
      "    I, expand.grid, unname\n",
      "\n",
      "\n",
      "Loading required package: IRanges\n",
      "\n",
      "Loading required package: XVector\n",
      "\n",
      "Loading required package: GenomeInfoDb\n",
      "\n",
      "\n",
      "Attaching package: ‘Biostrings’\n",
      "\n",
      "\n",
      "The following object is masked from ‘package:base’:\n",
      "\n",
      "    strsplit\n",
      "\n",
      "\n",
      "Loading required package: Rsamtools\n",
      "\n",
      "Loading required package: GenomicRanges\n",
      "\n",
      "Loading required package: GenomicAlignments\n",
      "\n",
      "Loading required package: SummarizedExperiment\n",
      "\n",
      "Loading required package: MatrixGenerics\n",
      "\n",
      "Loading required package: matrixStats\n",
      "\n",
      "\n",
      "Attaching package: ‘MatrixGenerics’\n",
      "\n",
      "\n",
      "The following objects are masked from ‘package:matrixStats’:\n",
      "\n",
      "    colAlls, colAnyNAs, colAnys, colAvgsPerRowSet, colCollapse,\n",
      "    colCounts, colCummaxs, colCummins, colCumprods, colCumsums,\n",
      "    colDiffs, colIQRDiffs, colIQRs, colLogSumExps, colMadDiffs,\n",
      "    colMads, colMaxs, colMeans2, colMedians, colMins, colOrderStats,\n",
      "    colProds, colQuantiles, colRanges, colRanks, colSdDiffs, colSds,\n",
      "    colSums2, colTabulates, colVarDiffs, colVars, colWeightedMads,\n",
      "    colWeightedMeans, colWeightedMedians, colWeightedSds,\n",
      "    colWeightedVars, rowAlls, rowAnyNAs, rowAnys, rowAvgsPerColSet,\n",
      "    rowCollapse, rowCounts, rowCummaxs, rowCummins, rowCumprods,\n",
      "    rowCumsums, rowDiffs, rowIQRDiffs, rowIQRs, rowLogSumExps,\n",
      "    rowMadDiffs, rowMads, rowMaxs, rowMeans2, rowMedians, rowMins,\n",
      "    rowOrderStats, rowProds, rowQuantiles, rowRanges, rowRanks,\n",
      "    rowSdDiffs, rowSds, rowSums2, rowTabulates, rowVarDiffs, rowVars,\n",
      "    rowWeightedMads, rowWeightedMeans, rowWeightedMedians,\n",
      "    rowWeightedSds, rowWeightedVars\n",
      "\n",
      "\n",
      "Loading required package: Biobase\n",
      "\n",
      "Welcome to Bioconductor\n",
      "\n",
      "    Vignettes contain introductory material; view with\n",
      "    'browseVignettes()'. To cite Bioconductor, see\n",
      "    'citation(\"Biobase\")', and for packages 'citation(\"pkgname\")'.\n",
      "\n",
      "\n",
      "\n",
      "Attaching package: ‘Biobase’\n",
      "\n",
      "\n",
      "The following object is masked from ‘package:MatrixGenerics’:\n",
      "\n",
      "    rowMedians\n",
      "\n",
      "\n",
      "The following objects are masked from ‘package:matrixStats’:\n",
      "\n",
      "    anyMissing, rowMedians\n",
      "\n",
      "\n"
     ]
    },
    {
     "name": "stdout",
     "output_type": "stream",
     "text": [
      "[1] \"Reading in R1...\"\n",
      "[1] \"Reading in R2...\"\n",
      "[1] \"Assembling read table...\"\n",
      "[1] \"Reading in R1...\"\n",
      "[1] \"Reading in R2...\"\n",
      "[1] \"Assembling read table...\"\n",
      "[1] \"Reading in R1...\"\n",
      "[1] \"Reading in R2...\"\n",
      "[1] \"Assembling read table...\"\n",
      "[1] \"Reading in R1...\"\n",
      "[1] \"Reading in R2...\"\n",
      "[1] \"Assembling read table...\"\n",
      "[1] \"Reading in R1...\"\n",
      "[1] \"Reading in R2...\"\n",
      "[1] \"Assembling read table...\"\n"
     ]
    }
   ],
   "source": [
    "## Pre-process MULTI-seq sample barcode FASTQs\n",
    "\n",
    "x <- MULTIseq.preProcess(R1 = './fastq_files/mpimg_L24507-1_JV-DNA-1_S1_R1_001.fastq.gz',\n",
    "                                  R2 = './fastq_files/mpimg_L24507-1_JV-DNA-1_S1_R2_001.fastq.gz',\n",
    "                                  cellIDs = cell.id.vec, cell=c(1,16), umi=c(17,28), tag=c(1,8))\n",
    "\n",
    "readTable_1 <- x\n",
    "\n",
    "x <- MULTIseq.preProcess(R1 = './fastq_files/mpimg_L24508-1_JV-DNA-2_S2_R1_001.fastq.gz',\n",
    "                                  R2 = './fastq_files/mpimg_L24508-1_JV-DNA-2_S2_R2_001.fastq.gz',\n",
    "                                  cellIDs = cell.id.vec, cell=c(1,16), umi=c(17,28), tag=c(1,8))\n",
    "\n",
    "readTable_2 <- x\n",
    "\n",
    "x <- MULTIseq.preProcess(R1 = './fastq_files/mpimg_L24509-1_JV-DNA-3_S3_R1_001.fastq.gz',\n",
    "                                  R2 = './fastq_files/mpimg_L24509-1_JV-DNA-3_S3_R2_001.fastq.gz',\n",
    "                                  cellIDs = cell.id.vec, cell=c(1,16), umi=c(17,28), tag=c(1,8))\n",
    "\n",
    "readTable_3 <- x\n",
    "\n",
    "x <- MULTIseq.preProcess(R1 = './fastq_files/mpimg_L24510-1_JV-DNA-4_S4_R1_001.fastq.gz',\n",
    "                                  R2 = './fastq_files/mpimg_L24510-1_JV-DNA-4_S4_R2_001.fastq.gz',\n",
    "                                  cellIDs = cell.id.vec, cell=c(1,16), umi=c(17,28), tag=c(1,8))\n",
    "\n",
    "readTable_4 <- x\n",
    "\n",
    "x <- MULTIseq.preProcess(R1 = './fastq_files/mpimg_L24511-1_JV-DNA-5_S5_R1_001.fastq.gz',\n",
    "                                  R2 = './fastq_files/mpimg_L24511-1_JV-DNA-5_S5_R2_001.fastq.gz',\n",
    "                                  cellIDs = cell.id.vec, cell=c(1,16), umi=c(17,28), tag=c(1,8))\n",
    "\n",
    "readTable_5 <- x\n"
   ]
  },
  {
   "cell_type": "markdown",
   "id": "5713b106-79aa-4207-96b8-f3129b441177",
   "metadata": {},
   "source": [
    "# Save the readTables"
   ]
  },
  {
   "cell_type": "code",
   "execution_count": 43,
   "id": "0e3340e2-e63e-4290-bced-d24b79496368",
   "metadata": {},
   "outputs": [],
   "source": [
    "# Save the tables\n",
    "saveRDS(readTable_1, file = \"./files/readTable_1.rds\")\n",
    "saveRDS(readTable_2, file = \"./files/readTable_2.rds\")\n",
    "saveRDS(readTable_3, file = \"./files/readTable_3.rds\")\n",
    "saveRDS(readTable_4, file = \"./files/readTable_4.rds\")\n",
    "saveRDS(readTable_5, file = \"./files/readTable_5.rds\")"
   ]
  },
  {
   "cell_type": "markdown",
   "id": "f6094e7b-1f73-4859-ace6-20818827341d",
   "metadata": {},
   "source": [
    "# Load the readTables"
   ]
  },
  {
   "cell_type": "code",
   "execution_count": 2,
   "id": "2ced3b6b-c164-453b-9367-62d0ec47f74c",
   "metadata": {},
   "outputs": [],
   "source": [
    "readTable_1 <- readRDS(\"./files/readTable_1.rds\")\n",
    "readTable_2 <- readRDS(\"./files/readTable_2.rds\")\n",
    "readTable_3 <- readRDS(\"./files/readTable_3.rds\")\n",
    "readTable_4 <- readRDS(\"./files/readTable_4.rds\")\n",
    "readTable_5 <- readRDS(\"./files/readTable_5.rds\")"
   ]
  },
  {
   "cell_type": "code",
   "execution_count": 3,
   "id": "d27244a1-c6c5-4bcb-8a5e-54c7a085d1bc",
   "metadata": {},
   "outputs": [],
   "source": [
    "## Load the barcode files"
   ]
  },
  {
   "cell_type": "code",
   "execution_count": 4,
   "id": "5b26cff2-5d11-48f5-b006-0fbe557a9e92",
   "metadata": {},
   "outputs": [],
   "source": [
    "barcodes_48h <- readRDS(\"./files/barcodes_48h.rds\")\n",
    "barcodes_72h <- readRDS(\"./files/barcodes_72h.rds\")\n",
    "barcodes_96h <- readRDS(\"./files/barcodes_96h.rds\")\n",
    "barcodes_120h <- readRDS(\"./files/barcodes_120h.rds\")"
   ]
  },
  {
   "cell_type": "markdown",
   "id": "4413cd90-ee49-4769-b072-2c655ef3b9cb",
   "metadata": {},
   "source": [
    "# Filter the readTables by used sample barcodes"
   ]
  },
  {
   "cell_type": "code",
   "execution_count": 5,
   "id": "41c5dbd4-f2e1-4b58-af39-b6032b22260e",
   "metadata": {},
   "outputs": [],
   "source": [
    "# Filtering according to barcodes used in each sample\n",
    "readTable_1_filtered <- readTable_1[readTable_1$Sample %in% barcodes_48h, ]\n",
    "readTable_2_filtered <- readTable_2[readTable_2$Sample %in% barcodes_72h, ]\n",
    "readTable_3_filtered <- readTable_3[readTable_3$Sample %in% barcodes_96h, ]\n",
    "readTable_4_filtered <- readTable_4[readTable_4$Sample %in% barcodes_120h, ]\n",
    "readTable_5_filtered <- readTable_5[readTable_5$Sample %in% barcodes_120h, ]"
   ]
  },
  {
   "cell_type": "code",
   "execution_count": 6,
   "id": "d2aa2033-56e0-4732-af9c-5b0b3c6768a1",
   "metadata": {},
   "outputs": [],
   "source": [
    "# Save the tables\n",
    "saveRDS(readTable_1_filtered, file = \"./files/readTable_1_filtered.rds\")\n",
    "saveRDS(readTable_2_filtered, file = \"./files/readTable_2_filtered.rds\")\n",
    "saveRDS(readTable_3_filtered, file = \"./files/readTable_3_filtered.rds\")\n",
    "saveRDS(readTable_4_filtered, file = \"./files/readTable_4_filtered.rds\")\n",
    "saveRDS(readTable_5_filtered, file = \"./files/readTable_5_filtered.rds\")"
   ]
  },
  {
   "cell_type": "code",
   "execution_count": 7,
   "id": "6fa5a6e6-1c95-4b2a-a1e0-7016e42f2d98",
   "metadata": {},
   "outputs": [
    {
     "data": {
      "text/html": [
       "72"
      ],
      "text/latex": [
       "72"
      ],
      "text/markdown": [
       "72"
      ],
      "text/plain": [
       "[1] 72"
      ]
     },
     "metadata": {},
     "output_type": "display_data"
    },
    {
     "data": {
      "text/html": [
       "48"
      ],
      "text/latex": [
       "48"
      ],
      "text/markdown": [
       "48"
      ],
      "text/plain": [
       "[1] 48"
      ]
     },
     "metadata": {},
     "output_type": "display_data"
    },
    {
     "data": {
      "text/html": [
       "24"
      ],
      "text/latex": [
       "24"
      ],
      "text/markdown": [
       "24"
      ],
      "text/plain": [
       "[1] 24"
      ]
     },
     "metadata": {},
     "output_type": "display_data"
    },
    {
     "data": {
      "text/html": [
       "24"
      ],
      "text/latex": [
       "24"
      ],
      "text/markdown": [
       "24"
      ],
      "text/plain": [
       "[1] 24"
      ]
     },
     "metadata": {},
     "output_type": "display_data"
    },
    {
     "data": {
      "text/html": [
       "24"
      ],
      "text/latex": [
       "24"
      ],
      "text/markdown": [
       "24"
      ],
      "text/plain": [
       "[1] 24"
      ]
     },
     "metadata": {},
     "output_type": "display_data"
    }
   ],
   "source": [
    "length(table(readTable_1_filtered$Sample))\n",
    "length(table(readTable_2_filtered$Sample))\n",
    "length(table(readTable_3_filtered$Sample))\n",
    "length(table(readTable_4_filtered$Sample))\n",
    "length(table(readTable_5_filtered$Sample))"
   ]
  },
  {
   "cell_type": "code",
   "execution_count": 2,
   "id": "d9864b22-affc-4bf8-b96d-dd3c3bb484a7",
   "metadata": {},
   "outputs": [
    {
     "data": {
      "text/html": [
       "<table class=\"dataframe\">\n",
       "<caption>A data.frame: 6 × 3</caption>\n",
       "<thead>\n",
       "\t<tr><th></th><th scope=col>Cell</th><th scope=col>UMI</th><th scope=col>Sample</th></tr>\n",
       "\t<tr><th></th><th scope=col>&lt;chr&gt;</th><th scope=col>&lt;chr&gt;</th><th scope=col>&lt;chr&gt;</th></tr>\n",
       "</thead>\n",
       "<tbody>\n",
       "\t<tr><th scope=row>1</th><td>TGATTTCCACCGTCTT</td><td>CTTACTATCAGT</td><td>GCACACGC</td></tr>\n",
       "\t<tr><th scope=row>3</th><td>AGTCAACAGCTGAGCA</td><td>AGCCCCCGAATA</td><td>TGCTACAG</td></tr>\n",
       "\t<tr><th scope=row>14</th><td>ATACCGACAGAACATA</td><td>GAGTCATCAAAA</td><td>CGAGATTC</td></tr>\n",
       "\t<tr><th scope=row>18</th><td>GGAGGATGTCAGACTT</td><td>GCACCGAATCGA</td><td>TGACCGAT</td></tr>\n",
       "\t<tr><th scope=row>20</th><td>AGCGCTGGTAGCTAAA</td><td>GCAACCTGATGA</td><td>TAAGGCTC</td></tr>\n",
       "\t<tr><th scope=row>30</th><td>GACTATGTCGCTCCTA</td><td>TATGTTGATGCG</td><td>TGACCGAT</td></tr>\n",
       "</tbody>\n",
       "</table>\n"
      ],
      "text/latex": [
       "A data.frame: 6 × 3\n",
       "\\begin{tabular}{r|lll}\n",
       "  & Cell & UMI & Sample\\\\\n",
       "  & <chr> & <chr> & <chr>\\\\\n",
       "\\hline\n",
       "\t1 & TGATTTCCACCGTCTT & CTTACTATCAGT & GCACACGC\\\\\n",
       "\t3 & AGTCAACAGCTGAGCA & AGCCCCCGAATA & TGCTACAG\\\\\n",
       "\t14 & ATACCGACAGAACATA & GAGTCATCAAAA & CGAGATTC\\\\\n",
       "\t18 & GGAGGATGTCAGACTT & GCACCGAATCGA & TGACCGAT\\\\\n",
       "\t20 & AGCGCTGGTAGCTAAA & GCAACCTGATGA & TAAGGCTC\\\\\n",
       "\t30 & GACTATGTCGCTCCTA & TATGTTGATGCG & TGACCGAT\\\\\n",
       "\\end{tabular}\n"
      ],
      "text/markdown": [
       "\n",
       "A data.frame: 6 × 3\n",
       "\n",
       "| <!--/--> | Cell &lt;chr&gt; | UMI &lt;chr&gt; | Sample &lt;chr&gt; |\n",
       "|---|---|---|---|\n",
       "| 1 | TGATTTCCACCGTCTT | CTTACTATCAGT | GCACACGC |\n",
       "| 3 | AGTCAACAGCTGAGCA | AGCCCCCGAATA | TGCTACAG |\n",
       "| 14 | ATACCGACAGAACATA | GAGTCATCAAAA | CGAGATTC |\n",
       "| 18 | GGAGGATGTCAGACTT | GCACCGAATCGA | TGACCGAT |\n",
       "| 20 | AGCGCTGGTAGCTAAA | GCAACCTGATGA | TAAGGCTC |\n",
       "| 30 | GACTATGTCGCTCCTA | TATGTTGATGCG | TGACCGAT |\n",
       "\n"
      ],
      "text/plain": [
       "   Cell             UMI          Sample  \n",
       "1  TGATTTCCACCGTCTT CTTACTATCAGT GCACACGC\n",
       "3  AGTCAACAGCTGAGCA AGCCCCCGAATA TGCTACAG\n",
       "14 ATACCGACAGAACATA GAGTCATCAAAA CGAGATTC\n",
       "18 GGAGGATGTCAGACTT GCACCGAATCGA TGACCGAT\n",
       "20 AGCGCTGGTAGCTAAA GCAACCTGATGA TAAGGCTC\n",
       "30 GACTATGTCGCTCCTA TATGTTGATGCG TGACCGAT"
      ]
     },
     "metadata": {},
     "output_type": "display_data"
    }
   ],
   "source": [
    "readTable_1 <- readRDS(\"./files/readTable_1_filtered.rds\")\n",
    "head(readTable_1)\n"
   ]
  },
  {
   "cell_type": "code",
   "execution_count": 3,
   "id": "e87e8137-08c2-4e42-9873-821b08f488ec",
   "metadata": {},
   "outputs": [
    {
     "name": "stdout",
     "output_type": "stream",
     "text": [
      "'data.frame':\t12729460 obs. of  3 variables:\n",
      " $ Cell  : chr  \"TGATTTCCACCGTCTT\" \"AGTCAACAGCTGAGCA\" \"ATACCGACAGAACATA\" \"GGAGGATGTCAGACTT\" ...\n",
      " $ UMI   : chr  \"CTTACTATCAGT\" \"AGCCCCCGAATA\" \"GAGTCATCAAAA\" \"GCACCGAATCGA\" ...\n",
      " $ Sample: chr  \"GCACACGC\" \"TGCTACAG\" \"CGAGATTC\" \"TGACCGAT\" ...\n"
     ]
    }
   ],
   "source": [
    "str(readTable_1)"
   ]
  }
 ],
 "metadata": {
  "kernelspec": {
   "display_name": "R",
   "language": "R",
   "name": "ir"
  },
  "language_info": {
   "codemirror_mode": "r",
   "file_extension": ".r",
   "mimetype": "text/x-r-source",
   "name": "R",
   "pygments_lexer": "r",
   "version": "4.1.1"
  }
 },
 "nbformat": 4,
 "nbformat_minor": 5
}
