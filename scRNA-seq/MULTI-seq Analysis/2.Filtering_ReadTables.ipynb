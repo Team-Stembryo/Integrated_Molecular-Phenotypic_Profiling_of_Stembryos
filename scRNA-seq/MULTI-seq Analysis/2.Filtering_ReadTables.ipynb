{
 "cells": [
  {
   "cell_type": "markdown",
   "id": "a7197388-7ece-4e28-8354-018ccde510f7",
   "metadata": {},
   "source": [
    "# Filtering ReadTables based on cell barcode"
   ]
  },
  {
   "cell_type": "code",
   "execution_count": 46,
   "id": "f25aa790-27b7-41f8-89f0-717a3f87f7cd",
   "metadata": {},
   "outputs": [],
   "source": [
    "## ANALYSIS WITH ONLY 50M READS OF THE SAMPLE BARCODE FASTQ FILE ##\n",
    "\n",
    "setwd(\"/project/ABKlab/Natalia/sc-RNA-seq/single_TLS_project\")\n",
    "\n",
    "# Reading gene-cell matrix output from Cell Ranger\n",
    "\n",
    "# install.packages(\"Matrix\")\n",
    "library(Matrix)\n",
    "library(\"deMULTIplex\")\n"
   ]
  },
  {
   "cell_type": "markdown",
   "id": "bd7bb59c-b391-4b0f-b7df-eba989bcbfe2",
   "metadata": {},
   "source": [
    "## 48h (readTable1)"
   ]
  },
  {
   "cell_type": "code",
   "execution_count": 47,
   "id": "8619935f-eb66-43a6-8ffb-5ea1e53747e1",
   "metadata": {},
   "outputs": [],
   "source": [
    "matrix_dir = \"./raw_data/cellranger_results/cr-count_mm10_JV-RNA-1/outs/filtered_feature_bc_matrix/\"\n",
    "barcode.path <- paste0(matrix_dir, \"barcodes.tsv.gz\")\n",
    "features.path <- paste0(matrix_dir, \"features.tsv.gz\")\n",
    "matrix.path <- paste0(matrix_dir, \"matrix.mtx.gz\")\n",
    "mat <- readMM(file = matrix.path)\n",
    "feature.names = read.delim(features.path,\n",
    "                           header = FALSE,\n",
    "                           stringsAsFactors = FALSE)\n",
    "barcode.names = read.delim(barcode.path,\n",
    "                           header = FALSE,\n",
    "                           stringsAsFactors = FALSE)\n",
    "colnames(mat) = barcode.names$V1\n",
    "rownames(mat) = feature.names$V1\n",
    "\n"
   ]
  },
  {
   "cell_type": "code",
   "execution_count": 48,
   "id": "b6040ec2-15d6-4986-a157-1a93ca3381f7",
   "metadata": {},
   "outputs": [
    {
     "data": {
      "text/html": [
       "<style>\n",
       ".list-inline {list-style: none; margin:0; padding: 0}\n",
       ".list-inline>li {display: inline-block}\n",
       ".list-inline>li:not(:last-child)::after {content: \"\\00b7\"; padding: 0 .5ex}\n",
       "</style>\n",
       "<ol class=list-inline><li>'AAACCCAAGTTCTACG-1'</li><li>'AAACCCACACAAGGTG-1'</li><li>'AAACCCACAGCGGTCT-1'</li><li>'AAACCCACAGCTGGTC-1'</li><li>'AAACCCAGTACCGGCT-1'</li><li>'AAACCCAGTCGTTGCG-1'</li></ol>\n"
      ],
      "text/latex": [
       "\\begin{enumerate*}\n",
       "\\item 'AAACCCAAGTTCTACG-1'\n",
       "\\item 'AAACCCACACAAGGTG-1'\n",
       "\\item 'AAACCCACAGCGGTCT-1'\n",
       "\\item 'AAACCCACAGCTGGTC-1'\n",
       "\\item 'AAACCCAGTACCGGCT-1'\n",
       "\\item 'AAACCCAGTCGTTGCG-1'\n",
       "\\end{enumerate*}\n"
      ],
      "text/markdown": [
       "1. 'AAACCCAAGTTCTACG-1'\n",
       "2. 'AAACCCACACAAGGTG-1'\n",
       "3. 'AAACCCACAGCGGTCT-1'\n",
       "4. 'AAACCCACAGCTGGTC-1'\n",
       "5. 'AAACCCAGTACCGGCT-1'\n",
       "6. 'AAACCCAGTCGTTGCG-1'\n",
       "\n",
       "\n"
      ],
      "text/plain": [
       "[1] \"AAACCCAAGTTCTACG-1\" \"AAACCCACACAAGGTG-1\" \"AAACCCACAGCGGTCT-1\"\n",
       "[4] \"AAACCCACAGCTGGTC-1\" \"AAACCCAGTACCGGCT-1\" \"AAACCCAGTCGTTGCG-1\""
      ]
     },
     "metadata": {},
     "output_type": "display_data"
    }
   ],
   "source": [
    "cellbarcode1 <- colnames(mat)\n",
    "head(cellbarcode1)"
   ]
  },
  {
   "cell_type": "code",
   "execution_count": 49,
   "id": "3b0c54b4-1d60-43ad-b5da-c1a2c77fa38f",
   "metadata": {},
   "outputs": [
    {
     "data": {
      "text/html": [
       "<style>\n",
       ".list-inline {list-style: none; margin:0; padding: 0}\n",
       ".list-inline>li {display: inline-block}\n",
       ".list-inline>li:not(:last-child)::after {content: \"\\00b7\"; padding: 0 .5ex}\n",
       "</style>\n",
       "<ol class=list-inline><li>'AAACCCAAGTTCTACG'</li><li>'AAACCCACACAAGGTG'</li><li>'AAACCCACAGCGGTCT'</li><li>'AAACCCACAGCTGGTC'</li><li>'AAACCCAGTACCGGCT'</li><li>'AAACCCAGTCGTTGCG'</li></ol>\n"
      ],
      "text/latex": [
       "\\begin{enumerate*}\n",
       "\\item 'AAACCCAAGTTCTACG'\n",
       "\\item 'AAACCCACACAAGGTG'\n",
       "\\item 'AAACCCACAGCGGTCT'\n",
       "\\item 'AAACCCACAGCTGGTC'\n",
       "\\item 'AAACCCAGTACCGGCT'\n",
       "\\item 'AAACCCAGTCGTTGCG'\n",
       "\\end{enumerate*}\n"
      ],
      "text/markdown": [
       "1. 'AAACCCAAGTTCTACG'\n",
       "2. 'AAACCCACACAAGGTG'\n",
       "3. 'AAACCCACAGCGGTCT'\n",
       "4. 'AAACCCACAGCTGGTC'\n",
       "5. 'AAACCCAGTACCGGCT'\n",
       "6. 'AAACCCAGTCGTTGCG'\n",
       "\n",
       "\n"
      ],
      "text/plain": [
       "[1] \"AAACCCAAGTTCTACG\" \"AAACCCACACAAGGTG\" \"AAACCCACAGCGGTCT\" \"AAACCCACAGCTGGTC\"\n",
       "[5] \"AAACCCAGTACCGGCT\" \"AAACCCAGTCGTTGCG\""
      ]
     },
     "metadata": {},
     "output_type": "display_data"
    }
   ],
   "source": [
    "cellbarcode1 <- colnames(mat)\n",
    "cellbarcode1 <- substr(cellbarcode1,1,nchar(cellbarcode1)-2)\n",
    "head(cellbarcode1)\n",
    "\n"
   ]
  },
  {
   "cell_type": "code",
   "execution_count": 50,
   "id": "0e73407c-7d46-4a23-a194-e2f30f76ebc2",
   "metadata": {},
   "outputs": [
    {
     "data": {
      "text/html": [
       "<table class=\"dataframe\">\n",
       "<caption>A data.frame: 6 × 3</caption>\n",
       "<thead>\n",
       "\t<tr><th></th><th scope=col>Cell</th><th scope=col>UMI</th><th scope=col>Sample</th></tr>\n",
       "\t<tr><th></th><th scope=col>&lt;chr&gt;</th><th scope=col>&lt;chr&gt;</th><th scope=col>&lt;chr&gt;</th></tr>\n",
       "</thead>\n",
       "<tbody>\n",
       "\t<tr><th scope=row>1</th><td>TGATTTCCACCGTCTT</td><td>CTTACTATCAGT</td><td>GCACACGC</td></tr>\n",
       "\t<tr><th scope=row>3</th><td>AGTCAACAGCTGAGCA</td><td>AGCCCCCGAATA</td><td>TGCTACAG</td></tr>\n",
       "\t<tr><th scope=row>14</th><td>ATACCGACAGAACATA</td><td>GAGTCATCAAAA</td><td>CGAGATTC</td></tr>\n",
       "\t<tr><th scope=row>18</th><td>GGAGGATGTCAGACTT</td><td>GCACCGAATCGA</td><td>TGACCGAT</td></tr>\n",
       "\t<tr><th scope=row>20</th><td>AGCGCTGGTAGCTAAA</td><td>GCAACCTGATGA</td><td>TAAGGCTC</td></tr>\n",
       "\t<tr><th scope=row>30</th><td>GACTATGTCGCTCCTA</td><td>TATGTTGATGCG</td><td>TGACCGAT</td></tr>\n",
       "</tbody>\n",
       "</table>\n"
      ],
      "text/latex": [
       "A data.frame: 6 × 3\n",
       "\\begin{tabular}{r|lll}\n",
       "  & Cell & UMI & Sample\\\\\n",
       "  & <chr> & <chr> & <chr>\\\\\n",
       "\\hline\n",
       "\t1 & TGATTTCCACCGTCTT & CTTACTATCAGT & GCACACGC\\\\\n",
       "\t3 & AGTCAACAGCTGAGCA & AGCCCCCGAATA & TGCTACAG\\\\\n",
       "\t14 & ATACCGACAGAACATA & GAGTCATCAAAA & CGAGATTC\\\\\n",
       "\t18 & GGAGGATGTCAGACTT & GCACCGAATCGA & TGACCGAT\\\\\n",
       "\t20 & AGCGCTGGTAGCTAAA & GCAACCTGATGA & TAAGGCTC\\\\\n",
       "\t30 & GACTATGTCGCTCCTA & TATGTTGATGCG & TGACCGAT\\\\\n",
       "\\end{tabular}\n"
      ],
      "text/markdown": [
       "\n",
       "A data.frame: 6 × 3\n",
       "\n",
       "| <!--/--> | Cell &lt;chr&gt; | UMI &lt;chr&gt; | Sample &lt;chr&gt; |\n",
       "|---|---|---|---|\n",
       "| 1 | TGATTTCCACCGTCTT | CTTACTATCAGT | GCACACGC |\n",
       "| 3 | AGTCAACAGCTGAGCA | AGCCCCCGAATA | TGCTACAG |\n",
       "| 14 | ATACCGACAGAACATA | GAGTCATCAAAA | CGAGATTC |\n",
       "| 18 | GGAGGATGTCAGACTT | GCACCGAATCGA | TGACCGAT |\n",
       "| 20 | AGCGCTGGTAGCTAAA | GCAACCTGATGA | TAAGGCTC |\n",
       "| 30 | GACTATGTCGCTCCTA | TATGTTGATGCG | TGACCGAT |\n",
       "\n"
      ],
      "text/plain": [
       "   Cell             UMI          Sample  \n",
       "1  TGATTTCCACCGTCTT CTTACTATCAGT GCACACGC\n",
       "3  AGTCAACAGCTGAGCA AGCCCCCGAATA TGCTACAG\n",
       "14 ATACCGACAGAACATA GAGTCATCAAAA CGAGATTC\n",
       "18 GGAGGATGTCAGACTT GCACCGAATCGA TGACCGAT\n",
       "20 AGCGCTGGTAGCTAAA GCAACCTGATGA TAAGGCTC\n",
       "30 GACTATGTCGCTCCTA TATGTTGATGCG TGACCGAT"
      ]
     },
     "metadata": {},
     "output_type": "display_data"
    },
    {
     "data": {
      "text/html": [
       "'data.frame'"
      ],
      "text/latex": [
       "'data.frame'"
      ],
      "text/markdown": [
       "'data.frame'"
      ],
      "text/plain": [
       "[1] \"data.frame\""
      ]
     },
     "metadata": {},
     "output_type": "display_data"
    },
    {
     "name": "stdout",
     "output_type": "stream",
     "text": [
      "'data.frame':\t12729460 obs. of  3 variables:\n",
      " $ Cell  : chr  \"TGATTTCCACCGTCTT\" \"AGTCAACAGCTGAGCA\" \"ATACCGACAGAACATA\" \"GGAGGATGTCAGACTT\" ...\n",
      " $ UMI   : chr  \"CTTACTATCAGT\" \"AGCCCCCGAATA\" \"GAGTCATCAAAA\" \"GCACCGAATCGA\" ...\n",
      " $ Sample: chr  \"GCACACGC\" \"TGCTACAG\" \"CGAGATTC\" \"TGACCGAT\" ...\n"
     ]
    }
   ],
   "source": [
    "# Read table from MULTIplex first step\n",
    "library(\"deMULTIplex\")\n",
    "readTable_1_filtered <- readRDS(file = \"files/readTable_1_filtered.rds\", refhook = NULL)\n",
    "\n",
    "\n",
    "head(readTable_1_filtered)\n",
    "class(readTable_1_filtered)\n",
    "str(readTable_1_filtered)\n",
    "# filter readTable with Cell Ranger cell barcodes that are kept.\n",
    "readTable_1_filtered <- readTable_1_filtered[readTable_1_filtered$Cell %in% cellbarcode1 ,]\n"
   ]
  },
  {
   "cell_type": "code",
   "execution_count": 51,
   "id": "5da6d61a-46a4-4e29-b0cc-e73c97a3ff0b",
   "metadata": {},
   "outputs": [],
   "source": [
    "# save readTable_filtered\n",
    "saveRDS(readTable_1_filtered, file = \"files/readTable_1_filtered.rds\")\n",
    "saveRDS(cellbarcode, file = \"files/cellbarcode_1.rds\")\n"
   ]
  },
  {
   "cell_type": "markdown",
   "id": "1721b40d-6c58-4cff-808b-17a90d4048af",
   "metadata": {},
   "source": [
    "## 72h (readTable2)"
   ]
  },
  {
   "cell_type": "code",
   "execution_count": 52,
   "id": "e40433a4-af29-49b2-9eb8-7a303ba6c182",
   "metadata": {},
   "outputs": [
    {
     "data": {
      "text/html": [
       "<style>\n",
       ".list-inline {list-style: none; margin:0; padding: 0}\n",
       ".list-inline>li {display: inline-block}\n",
       ".list-inline>li:not(:last-child)::after {content: \"\\00b7\"; padding: 0 .5ex}\n",
       "</style>\n",
       "<ol class=list-inline><li>'AAACCCACACGTCATA'</li><li>'AAACCCACATCCTTGC'</li><li>'AAACCCACATTAAGCC'</li><li>'AAACCCACATTGTCGA'</li><li>'AAACCCAGTAGTCTTG'</li><li>'AAACCCAGTCCTCATC'</li></ol>\n"
      ],
      "text/latex": [
       "\\begin{enumerate*}\n",
       "\\item 'AAACCCACACGTCATA'\n",
       "\\item 'AAACCCACATCCTTGC'\n",
       "\\item 'AAACCCACATTAAGCC'\n",
       "\\item 'AAACCCACATTGTCGA'\n",
       "\\item 'AAACCCAGTAGTCTTG'\n",
       "\\item 'AAACCCAGTCCTCATC'\n",
       "\\end{enumerate*}\n"
      ],
      "text/markdown": [
       "1. 'AAACCCACACGTCATA'\n",
       "2. 'AAACCCACATCCTTGC'\n",
       "3. 'AAACCCACATTAAGCC'\n",
       "4. 'AAACCCACATTGTCGA'\n",
       "5. 'AAACCCAGTAGTCTTG'\n",
       "6. 'AAACCCAGTCCTCATC'\n",
       "\n",
       "\n"
      ],
      "text/plain": [
       "[1] \"AAACCCACACGTCATA\" \"AAACCCACATCCTTGC\" \"AAACCCACATTAAGCC\" \"AAACCCACATTGTCGA\"\n",
       "[5] \"AAACCCAGTAGTCTTG\" \"AAACCCAGTCCTCATC\""
      ]
     },
     "metadata": {},
     "output_type": "display_data"
    }
   ],
   "source": [
    "matrix_dir = \"./raw_data/cellranger_results/cr-count_mm10_JV-RNA-2/outs/filtered_feature_bc_matrix/\"\n",
    "barcode.path <- paste0(matrix_dir, \"barcodes.tsv.gz\")\n",
    "features.path <- paste0(matrix_dir, \"features.tsv.gz\")\n",
    "matrix.path <- paste0(matrix_dir, \"matrix.mtx.gz\")\n",
    "mat <- readMM(file = matrix.path)\n",
    "feature.names = read.delim(features.path,\n",
    "                           header = FALSE,\n",
    "                           stringsAsFactors = FALSE)\n",
    "barcode.names = read.delim(barcode.path,\n",
    "                           header = FALSE,\n",
    "                           stringsAsFactors = FALSE)\n",
    "colnames(mat) = barcode.names$V1\n",
    "rownames(mat) = feature.names$V1\n",
    "\n",
    "\n",
    "cellbarcode2 <- colnames(mat)\n",
    "cellbarcode2 <- substr(cellbarcode2,1,nchar(cellbarcode2)-2)\n",
    "head(cellbarcode2)"
   ]
  },
  {
   "cell_type": "code",
   "execution_count": 53,
   "id": "3cde642e-0732-4bdb-9f4e-449d5b129ae2",
   "metadata": {},
   "outputs": [
    {
     "data": {
      "text/html": [
       "<table class=\"dataframe\">\n",
       "<caption>A data.frame: 6 × 3</caption>\n",
       "<thead>\n",
       "\t<tr><th></th><th scope=col>Cell</th><th scope=col>UMI</th><th scope=col>Sample</th></tr>\n",
       "\t<tr><th></th><th scope=col>&lt;chr&gt;</th><th scope=col>&lt;chr&gt;</th><th scope=col>&lt;chr&gt;</th></tr>\n",
       "</thead>\n",
       "<tbody>\n",
       "\t<tr><th scope=row>14</th><td>TTCACGCTCTAATTCC</td><td>GGACATAATACG</td><td>TCCTTCCT</td></tr>\n",
       "\t<tr><th scope=row>19</th><td>GAGCCTGAGCCACCGT</td><td>GTCGGAATTAAA</td><td>TAACTGGC</td></tr>\n",
       "\t<tr><th scope=row>22</th><td>ATGGTTGGTTGTCAGT</td><td>CTTTCTCCCGAT</td><td>GCAACGCC</td></tr>\n",
       "\t<tr><th scope=row>40</th><td>CTAACCCCACCCGTAG</td><td>CTCAGATTTTTG</td><td>AACTGGCT</td></tr>\n",
       "\t<tr><th scope=row>43</th><td>CTTGATTAGACATAGT</td><td>AATCAGGGCATA</td><td>GAACTCTG</td></tr>\n",
       "\t<tr><th scope=row>75</th><td>CGCAGGTAGACGACTG</td><td>CCCGAAAACCAA</td><td>ACAGTGCT</td></tr>\n",
       "</tbody>\n",
       "</table>\n"
      ],
      "text/latex": [
       "A data.frame: 6 × 3\n",
       "\\begin{tabular}{r|lll}\n",
       "  & Cell & UMI & Sample\\\\\n",
       "  & <chr> & <chr> & <chr>\\\\\n",
       "\\hline\n",
       "\t14 & TTCACGCTCTAATTCC & GGACATAATACG & TCCTTCCT\\\\\n",
       "\t19 & GAGCCTGAGCCACCGT & GTCGGAATTAAA & TAACTGGC\\\\\n",
       "\t22 & ATGGTTGGTTGTCAGT & CTTTCTCCCGAT & GCAACGCC\\\\\n",
       "\t40 & CTAACCCCACCCGTAG & CTCAGATTTTTG & AACTGGCT\\\\\n",
       "\t43 & CTTGATTAGACATAGT & AATCAGGGCATA & GAACTCTG\\\\\n",
       "\t75 & CGCAGGTAGACGACTG & CCCGAAAACCAA & ACAGTGCT\\\\\n",
       "\\end{tabular}\n"
      ],
      "text/markdown": [
       "\n",
       "A data.frame: 6 × 3\n",
       "\n",
       "| <!--/--> | Cell &lt;chr&gt; | UMI &lt;chr&gt; | Sample &lt;chr&gt; |\n",
       "|---|---|---|---|\n",
       "| 14 | TTCACGCTCTAATTCC | GGACATAATACG | TCCTTCCT |\n",
       "| 19 | GAGCCTGAGCCACCGT | GTCGGAATTAAA | TAACTGGC |\n",
       "| 22 | ATGGTTGGTTGTCAGT | CTTTCTCCCGAT | GCAACGCC |\n",
       "| 40 | CTAACCCCACCCGTAG | CTCAGATTTTTG | AACTGGCT |\n",
       "| 43 | CTTGATTAGACATAGT | AATCAGGGCATA | GAACTCTG |\n",
       "| 75 | CGCAGGTAGACGACTG | CCCGAAAACCAA | ACAGTGCT |\n",
       "\n"
      ],
      "text/plain": [
       "   Cell             UMI          Sample  \n",
       "14 TTCACGCTCTAATTCC GGACATAATACG TCCTTCCT\n",
       "19 GAGCCTGAGCCACCGT GTCGGAATTAAA TAACTGGC\n",
       "22 ATGGTTGGTTGTCAGT CTTTCTCCCGAT GCAACGCC\n",
       "40 CTAACCCCACCCGTAG CTCAGATTTTTG AACTGGCT\n",
       "43 CTTGATTAGACATAGT AATCAGGGCATA GAACTCTG\n",
       "75 CGCAGGTAGACGACTG CCCGAAAACCAA ACAGTGCT"
      ]
     },
     "metadata": {},
     "output_type": "display_data"
    },
    {
     "data": {
      "text/html": [
       "'data.frame'"
      ],
      "text/latex": [
       "'data.frame'"
      ],
      "text/markdown": [
       "'data.frame'"
      ],
      "text/plain": [
       "[1] \"data.frame\""
      ]
     },
     "metadata": {},
     "output_type": "display_data"
    },
    {
     "name": "stdout",
     "output_type": "stream",
     "text": [
      "'data.frame':\t4471297 obs. of  3 variables:\n",
      " $ Cell  : chr  \"TTCACGCTCTAATTCC\" \"GAGCCTGAGCCACCGT\" \"ATGGTTGGTTGTCAGT\" \"CTAACCCCACCCGTAG\" ...\n",
      " $ UMI   : chr  \"GGACATAATACG\" \"GTCGGAATTAAA\" \"CTTTCTCCCGAT\" \"CTCAGATTTTTG\" ...\n",
      " $ Sample: chr  \"TCCTTCCT\" \"TAACTGGC\" \"GCAACGCC\" \"AACTGGCT\" ...\n"
     ]
    }
   ],
   "source": [
    "# Read table from MULTIplex first step\n",
    "library(\"deMULTIplex\")\n",
    "readTable_2_filtered <- readRDS(file = \"files/readTable_2_filtered.rds\", refhook = NULL)\n",
    "\n",
    "\n",
    "head(readTable_2_filtered)\n",
    "class(readTable_2_filtered)\n",
    "str(readTable_2_filtered)\n",
    "# filter readTable with Cell Ranger cell barcodes that are kept.\n",
    "readTable_2_filtered <- readTable_2_filtered[readTable_2_filtered$Cell %in% cellbarcode2 ,]"
   ]
  },
  {
   "cell_type": "code",
   "execution_count": 54,
   "id": "89436c1d-7169-4aa9-bde7-8c8cf93f6588",
   "metadata": {},
   "outputs": [],
   "source": [
    "# save readTable_filtered\n",
    "saveRDS(readTable_2_filtered, file = \"files/readTable_2_filtered.rds\")\n",
    "saveRDS(cellbarcode2, file = \"files/cellbarcode_2.rds\")\n",
    "\n"
   ]
  },
  {
   "cell_type": "markdown",
   "id": "c099bbfd-f74a-4609-aebf-907969b11968",
   "metadata": {},
   "source": [
    "## 96h (readTable3)"
   ]
  },
  {
   "cell_type": "code",
   "execution_count": 55,
   "id": "afa54902-59eb-4d39-96fc-d14ebc216a52",
   "metadata": {},
   "outputs": [
    {
     "data": {
      "text/html": [
       "<style>\n",
       ".list-inline {list-style: none; margin:0; padding: 0}\n",
       ".list-inline>li {display: inline-block}\n",
       ".list-inline>li:not(:last-child)::after {content: \"\\00b7\"; padding: 0 .5ex}\n",
       "</style>\n",
       "<ol class=list-inline><li>'AAACCCAAGTGGAAAG'</li><li>'AAACCCACACTACTTT'</li><li>'AAACCCAGTAAGGCCA'</li><li>'AAACCCATCCACAGGC'</li><li>'AAACCCATCGGTCACG'</li><li>'AAACCCATCTGCATGA'</li></ol>\n"
      ],
      "text/latex": [
       "\\begin{enumerate*}\n",
       "\\item 'AAACCCAAGTGGAAAG'\n",
       "\\item 'AAACCCACACTACTTT'\n",
       "\\item 'AAACCCAGTAAGGCCA'\n",
       "\\item 'AAACCCATCCACAGGC'\n",
       "\\item 'AAACCCATCGGTCACG'\n",
       "\\item 'AAACCCATCTGCATGA'\n",
       "\\end{enumerate*}\n"
      ],
      "text/markdown": [
       "1. 'AAACCCAAGTGGAAAG'\n",
       "2. 'AAACCCACACTACTTT'\n",
       "3. 'AAACCCAGTAAGGCCA'\n",
       "4. 'AAACCCATCCACAGGC'\n",
       "5. 'AAACCCATCGGTCACG'\n",
       "6. 'AAACCCATCTGCATGA'\n",
       "\n",
       "\n"
      ],
      "text/plain": [
       "[1] \"AAACCCAAGTGGAAAG\" \"AAACCCACACTACTTT\" \"AAACCCAGTAAGGCCA\" \"AAACCCATCCACAGGC\"\n",
       "[5] \"AAACCCATCGGTCACG\" \"AAACCCATCTGCATGA\""
      ]
     },
     "metadata": {},
     "output_type": "display_data"
    }
   ],
   "source": [
    "matrix_dir = \"./raw_data/cellranger_results/cr-count_mm10_JV-RNA-3/outs/filtered_feature_bc_matrix/\"\n",
    "barcode.path <- paste0(matrix_dir, \"barcodes.tsv.gz\")\n",
    "features.path <- paste0(matrix_dir, \"features.tsv.gz\")\n",
    "matrix.path <- paste0(matrix_dir, \"matrix.mtx.gz\")\n",
    "mat <- readMM(file = matrix.path)\n",
    "feature.names = read.delim(features.path,\n",
    "                           header = FALSE,\n",
    "                           stringsAsFactors = FALSE)\n",
    "barcode.names = read.delim(barcode.path,\n",
    "                           header = FALSE,\n",
    "                           stringsAsFactors = FALSE)\n",
    "colnames(mat) = barcode.names$V1\n",
    "rownames(mat) = feature.names$V1\n",
    "\n",
    "\n",
    "cellbarcode3 <- colnames(mat)\n",
    "cellbarcode3 <- substr(cellbarcode3,1,nchar(cellbarcode3)-2)\n",
    "head(cellbarcode3)"
   ]
  },
  {
   "cell_type": "code",
   "execution_count": 56,
   "id": "c3e86d56-0d11-4dd2-9063-07e3a90b572b",
   "metadata": {},
   "outputs": [
    {
     "data": {
      "text/html": [
       "<table class=\"dataframe\">\n",
       "<caption>A data.frame: 6 × 3</caption>\n",
       "<thead>\n",
       "\t<tr><th></th><th scope=col>Cell</th><th scope=col>UMI</th><th scope=col>Sample</th></tr>\n",
       "\t<tr><th></th><th scope=col>&lt;chr&gt;</th><th scope=col>&lt;chr&gt;</th><th scope=col>&lt;chr&gt;</th></tr>\n",
       "</thead>\n",
       "<tbody>\n",
       "\t<tr><th scope=row>14</th><td>GTAGGAGAGTTTCGAC</td><td>GTGTTTCTTAGA</td><td>AGCTAGTC</td></tr>\n",
       "\t<tr><th scope=row>38</th><td>TTTCACACATAGAATG</td><td>CCACTTTAATAG</td><td>CAATCGGT</td></tr>\n",
       "\t<tr><th scope=row>48</th><td>ATGGGTTAGACGGTTG</td><td>AAGCTGAAGTAC</td><td>TGCGCGTG</td></tr>\n",
       "\t<tr><th scope=row>49</th><td>GAGCCTGTCTTCCTAA</td><td>TCACGAAGACCC</td><td>TACTGCGA</td></tr>\n",
       "\t<tr><th scope=row>50</th><td>AGATCCAAGCCGAATG</td><td>AAAATTTTAATG</td><td>CACGTATG</td></tr>\n",
       "\t<tr><th scope=row>56</th><td>ACTTATCGTGAGCAGT</td><td>TTTCCCTCAGTT</td><td>CAATCGGT</td></tr>\n",
       "</tbody>\n",
       "</table>\n"
      ],
      "text/latex": [
       "A data.frame: 6 × 3\n",
       "\\begin{tabular}{r|lll}\n",
       "  & Cell & UMI & Sample\\\\\n",
       "  & <chr> & <chr> & <chr>\\\\\n",
       "\\hline\n",
       "\t14 & GTAGGAGAGTTTCGAC & GTGTTTCTTAGA & AGCTAGTC\\\\\n",
       "\t38 & TTTCACACATAGAATG & CCACTTTAATAG & CAATCGGT\\\\\n",
       "\t48 & ATGGGTTAGACGGTTG & AAGCTGAAGTAC & TGCGCGTG\\\\\n",
       "\t49 & GAGCCTGTCTTCCTAA & TCACGAAGACCC & TACTGCGA\\\\\n",
       "\t50 & AGATCCAAGCCGAATG & AAAATTTTAATG & CACGTATG\\\\\n",
       "\t56 & ACTTATCGTGAGCAGT & TTTCCCTCAGTT & CAATCGGT\\\\\n",
       "\\end{tabular}\n"
      ],
      "text/markdown": [
       "\n",
       "A data.frame: 6 × 3\n",
       "\n",
       "| <!--/--> | Cell &lt;chr&gt; | UMI &lt;chr&gt; | Sample &lt;chr&gt; |\n",
       "|---|---|---|---|\n",
       "| 14 | GTAGGAGAGTTTCGAC | GTGTTTCTTAGA | AGCTAGTC |\n",
       "| 38 | TTTCACACATAGAATG | CCACTTTAATAG | CAATCGGT |\n",
       "| 48 | ATGGGTTAGACGGTTG | AAGCTGAAGTAC | TGCGCGTG |\n",
       "| 49 | GAGCCTGTCTTCCTAA | TCACGAAGACCC | TACTGCGA |\n",
       "| 50 | AGATCCAAGCCGAATG | AAAATTTTAATG | CACGTATG |\n",
       "| 56 | ACTTATCGTGAGCAGT | TTTCCCTCAGTT | CAATCGGT |\n",
       "\n"
      ],
      "text/plain": [
       "   Cell             UMI          Sample  \n",
       "14 GTAGGAGAGTTTCGAC GTGTTTCTTAGA AGCTAGTC\n",
       "38 TTTCACACATAGAATG CCACTTTAATAG CAATCGGT\n",
       "48 ATGGGTTAGACGGTTG AAGCTGAAGTAC TGCGCGTG\n",
       "49 GAGCCTGTCTTCCTAA TCACGAAGACCC TACTGCGA\n",
       "50 AGATCCAAGCCGAATG AAAATTTTAATG CACGTATG\n",
       "56 ACTTATCGTGAGCAGT TTTCCCTCAGTT CAATCGGT"
      ]
     },
     "metadata": {},
     "output_type": "display_data"
    },
    {
     "data": {
      "text/html": [
       "'data.frame'"
      ],
      "text/latex": [
       "'data.frame'"
      ],
      "text/markdown": [
       "'data.frame'"
      ],
      "text/plain": [
       "[1] \"data.frame\""
      ]
     },
     "metadata": {},
     "output_type": "display_data"
    },
    {
     "name": "stdout",
     "output_type": "stream",
     "text": [
      "'data.frame':\t5293586 obs. of  3 variables:\n",
      " $ Cell  : chr  \"GTAGGAGAGTTTCGAC\" \"TTTCACACATAGAATG\" \"ATGGGTTAGACGGTTG\" \"GAGCCTGTCTTCCTAA\" ...\n",
      " $ UMI   : chr  \"GTGTTTCTTAGA\" \"CCACTTTAATAG\" \"AAGCTGAAGTAC\" \"TCACGAAGACCC\" ...\n",
      " $ Sample: chr  \"AGCTAGTC\" \"CAATCGGT\" \"TGCGCGTG\" \"TACTGCGA\" ...\n"
     ]
    }
   ],
   "source": [
    "# Read table from MULTIplex first step\n",
    "library(\"deMULTIplex\")\n",
    "readTable_3_filtered <- readRDS(file = \"files/readTable_3_filtered.rds\", refhook = NULL)\n",
    "\n",
    "\n",
    "head(readTable_3_filtered)\n",
    "class(readTable_3_filtered)\n",
    "str(readTable_3_filtered)\n",
    "# filter readTable with Cell Ranger cell barcodes that are kept.\n",
    "readTable_3_filtered <- readTable_3_filtered[readTable_3_filtered$Cell %in% cellbarcode3 ,]"
   ]
  },
  {
   "cell_type": "code",
   "execution_count": 57,
   "id": "6f531260-28ef-4a50-9905-481cf8fe9bfd",
   "metadata": {},
   "outputs": [],
   "source": [
    "# save readTable_filtered\n",
    "saveRDS(readTable_3_filtered, file = \"files/readTable_3_filtered.rds\")\n",
    "saveRDS(cellbarcode3, file = \"files/cellbarcode_3.rds\")\n",
    "\n"
   ]
  },
  {
   "cell_type": "markdown",
   "id": "508092c9-3047-4e1c-8383-e57756153681",
   "metadata": {},
   "source": [
    "## 120h_1 (readTable4)"
   ]
  },
  {
   "cell_type": "code",
   "execution_count": 58,
   "id": "b4b02ec6-afeb-4db6-ac31-85fd5c7960d3",
   "metadata": {},
   "outputs": [
    {
     "data": {
      "text/html": [
       "<style>\n",
       ".list-inline {list-style: none; margin:0; padding: 0}\n",
       ".list-inline>li {display: inline-block}\n",
       ".list-inline>li:not(:last-child)::after {content: \"\\00b7\"; padding: 0 .5ex}\n",
       "</style>\n",
       "<ol class=list-inline><li>'AAACCCAAGATACATG'</li><li>'AAACCCAAGATTGTGA'</li><li>'AAACCCAAGCAGCCTC'</li><li>'AAACCCAAGCCTATTG'</li><li>'AAACCCAAGCTGAAGC'</li><li>'AAACCCAAGGTCCTGC'</li></ol>\n"
      ],
      "text/latex": [
       "\\begin{enumerate*}\n",
       "\\item 'AAACCCAAGATACATG'\n",
       "\\item 'AAACCCAAGATTGTGA'\n",
       "\\item 'AAACCCAAGCAGCCTC'\n",
       "\\item 'AAACCCAAGCCTATTG'\n",
       "\\item 'AAACCCAAGCTGAAGC'\n",
       "\\item 'AAACCCAAGGTCCTGC'\n",
       "\\end{enumerate*}\n"
      ],
      "text/markdown": [
       "1. 'AAACCCAAGATACATG'\n",
       "2. 'AAACCCAAGATTGTGA'\n",
       "3. 'AAACCCAAGCAGCCTC'\n",
       "4. 'AAACCCAAGCCTATTG'\n",
       "5. 'AAACCCAAGCTGAAGC'\n",
       "6. 'AAACCCAAGGTCCTGC'\n",
       "\n",
       "\n"
      ],
      "text/plain": [
       "[1] \"AAACCCAAGATACATG\" \"AAACCCAAGATTGTGA\" \"AAACCCAAGCAGCCTC\" \"AAACCCAAGCCTATTG\"\n",
       "[5] \"AAACCCAAGCTGAAGC\" \"AAACCCAAGGTCCTGC\""
      ]
     },
     "metadata": {},
     "output_type": "display_data"
    }
   ],
   "source": [
    "matrix_dir = \"./raw_data/cellranger_results/cr-count_mm10_JV-RNA-4/outs/filtered_feature_bc_matrix/\"\n",
    "barcode.path <- paste0(matrix_dir, \"barcodes.tsv.gz\")\n",
    "features.path <- paste0(matrix_dir, \"features.tsv.gz\")\n",
    "matrix.path <- paste0(matrix_dir, \"matrix.mtx.gz\")\n",
    "mat <- readMM(file = matrix.path)\n",
    "feature.names = read.delim(features.path,\n",
    "                           header = FALSE,\n",
    "                           stringsAsFactors = FALSE)\n",
    "barcode.names = read.delim(barcode.path,\n",
    "                           header = FALSE,\n",
    "                           stringsAsFactors = FALSE)\n",
    "colnames(mat) = barcode.names$V1\n",
    "rownames(mat) = feature.names$V1\n",
    "\n",
    "\n",
    "cellbarcode4 <- colnames(mat)\n",
    "cellbarcode4 <- substr(cellbarcode4,1,nchar(cellbarcode4)-2)\n",
    "head(cellbarcode4)"
   ]
  },
  {
   "cell_type": "code",
   "execution_count": 59,
   "id": "4d05cd51-ea54-47bb-bbe3-a7c85db633e3",
   "metadata": {},
   "outputs": [
    {
     "data": {
      "text/html": [
       "<table class=\"dataframe\">\n",
       "<caption>A data.frame: 6 × 3</caption>\n",
       "<thead>\n",
       "\t<tr><th></th><th scope=col>Cell</th><th scope=col>UMI</th><th scope=col>Sample</th></tr>\n",
       "\t<tr><th></th><th scope=col>&lt;chr&gt;</th><th scope=col>&lt;chr&gt;</th><th scope=col>&lt;chr&gt;</th></tr>\n",
       "</thead>\n",
       "<tbody>\n",
       "\t<tr><th scope=row>13</th><td>CATCCACGTGTACATC</td><td>CCCGCAAAGCTG</td><td>ACATGCGT</td></tr>\n",
       "\t<tr><th scope=row>14</th><td>ATTTCTGCAAATCCCA</td><td>TACACACTACAA</td><td>CACACGCG</td></tr>\n",
       "\t<tr><th scope=row>16</th><td>TGATCAGGTATGTGTC</td><td>ATAACTACAGTG</td><td>ATCTCGGA</td></tr>\n",
       "\t<tr><th scope=row>18</th><td>GTACAACTCACGATCA</td><td>CCGCCAAATGCA</td><td>CACACGCG</td></tr>\n",
       "\t<tr><th scope=row>20</th><td>CGGAGAATCCAGTTCC</td><td>GAACAAAAGCAC</td><td>TGAGACCT</td></tr>\n",
       "\t<tr><th scope=row>35</th><td>GAGAGGTCAGGCAATG</td><td>CATGTATATGCC</td><td>CGATTGAC</td></tr>\n",
       "</tbody>\n",
       "</table>\n"
      ],
      "text/latex": [
       "A data.frame: 6 × 3\n",
       "\\begin{tabular}{r|lll}\n",
       "  & Cell & UMI & Sample\\\\\n",
       "  & <chr> & <chr> & <chr>\\\\\n",
       "\\hline\n",
       "\t13 & CATCCACGTGTACATC & CCCGCAAAGCTG & ACATGCGT\\\\\n",
       "\t14 & ATTTCTGCAAATCCCA & TACACACTACAA & CACACGCG\\\\\n",
       "\t16 & TGATCAGGTATGTGTC & ATAACTACAGTG & ATCTCGGA\\\\\n",
       "\t18 & GTACAACTCACGATCA & CCGCCAAATGCA & CACACGCG\\\\\n",
       "\t20 & CGGAGAATCCAGTTCC & GAACAAAAGCAC & TGAGACCT\\\\\n",
       "\t35 & GAGAGGTCAGGCAATG & CATGTATATGCC & CGATTGAC\\\\\n",
       "\\end{tabular}\n"
      ],
      "text/markdown": [
       "\n",
       "A data.frame: 6 × 3\n",
       "\n",
       "| <!--/--> | Cell &lt;chr&gt; | UMI &lt;chr&gt; | Sample &lt;chr&gt; |\n",
       "|---|---|---|---|\n",
       "| 13 | CATCCACGTGTACATC | CCCGCAAAGCTG | ACATGCGT |\n",
       "| 14 | ATTTCTGCAAATCCCA | TACACACTACAA | CACACGCG |\n",
       "| 16 | TGATCAGGTATGTGTC | ATAACTACAGTG | ATCTCGGA |\n",
       "| 18 | GTACAACTCACGATCA | CCGCCAAATGCA | CACACGCG |\n",
       "| 20 | CGGAGAATCCAGTTCC | GAACAAAAGCAC | TGAGACCT |\n",
       "| 35 | GAGAGGTCAGGCAATG | CATGTATATGCC | CGATTGAC |\n",
       "\n"
      ],
      "text/plain": [
       "   Cell             UMI          Sample  \n",
       "13 CATCCACGTGTACATC CCCGCAAAGCTG ACATGCGT\n",
       "14 ATTTCTGCAAATCCCA TACACACTACAA CACACGCG\n",
       "16 TGATCAGGTATGTGTC ATAACTACAGTG ATCTCGGA\n",
       "18 GTACAACTCACGATCA CCGCCAAATGCA CACACGCG\n",
       "20 CGGAGAATCCAGTTCC GAACAAAAGCAC TGAGACCT\n",
       "35 GAGAGGTCAGGCAATG CATGTATATGCC CGATTGAC"
      ]
     },
     "metadata": {},
     "output_type": "display_data"
    },
    {
     "data": {
      "text/html": [
       "'data.frame'"
      ],
      "text/latex": [
       "'data.frame'"
      ],
      "text/markdown": [
       "'data.frame'"
      ],
      "text/plain": [
       "[1] \"data.frame\""
      ]
     },
     "metadata": {},
     "output_type": "display_data"
    },
    {
     "name": "stdout",
     "output_type": "stream",
     "text": [
      "'data.frame':\t13574339 obs. of  3 variables:\n",
      " $ Cell  : chr  \"CATCCACGTGTACATC\" \"ATTTCTGCAAATCCCA\" \"TGATCAGGTATGTGTC\" \"GTACAACTCACGATCA\" ...\n",
      " $ UMI   : chr  \"CCCGCAAAGCTG\" \"TACACACTACAA\" \"ATAACTACAGTG\" \"CCGCCAAATGCA\" ...\n",
      " $ Sample: chr  \"ACATGCGT\" \"CACACGCG\" \"ATCTCGGA\" \"CACACGCG\" ...\n"
     ]
    }
   ],
   "source": [
    "# Read table from MULTIplex first step\n",
    "library(\"deMULTIplex\")\n",
    "readTable_4_filtered <- readRDS(file = \"files/readTable_4_filtered.rds\", refhook = NULL)\n",
    "\n",
    "\n",
    "head(readTable_4_filtered)\n",
    "class(readTable_4_filtered)\n",
    "str(readTable_4_filtered)\n",
    "# filter readTable with Cell Ranger cell barcodes that are kept.\n",
    "readTable_4_filtered <- readTable_4_filtered[readTable_4_filtered$Cell %in% cellbarcode4 ,]"
   ]
  },
  {
   "cell_type": "code",
   "execution_count": 60,
   "id": "98593bc8-0fb8-49de-8bfc-ae8dd4730d93",
   "metadata": {},
   "outputs": [],
   "source": [
    "# save readTable_filtered\n",
    "saveRDS(readTable_4_filtered, file = \"files/readTable_4_filtered.rds\")\n",
    "saveRDS(cellbarcode4, file = \"files/cellbarcode_4.rds\")"
   ]
  },
  {
   "cell_type": "markdown",
   "id": "b6d37802-03f9-4630-abb3-7d94494ab649",
   "metadata": {},
   "source": [
    "## 120h_2 (readTable5)"
   ]
  },
  {
   "cell_type": "code",
   "execution_count": 61,
   "id": "45cf21ab-8137-45b5-aa59-92fea09505f3",
   "metadata": {},
   "outputs": [
    {
     "data": {
      "text/html": [
       "<style>\n",
       ".list-inline {list-style: none; margin:0; padding: 0}\n",
       ".list-inline>li {display: inline-block}\n",
       ".list-inline>li:not(:last-child)::after {content: \"\\00b7\"; padding: 0 .5ex}\n",
       "</style>\n",
       "<ol class=list-inline><li>'AAACCCAAGAAGTCCG'</li><li>'AAACCCAAGACAACTA'</li><li>'AAACCCAAGAGCAGCT'</li><li>'AAACCCACACTTGAGT'</li><li>'AAACCCACAGGACTAG'</li><li>'AAACCCAGTATCCCTC'</li></ol>\n"
      ],
      "text/latex": [
       "\\begin{enumerate*}\n",
       "\\item 'AAACCCAAGAAGTCCG'\n",
       "\\item 'AAACCCAAGACAACTA'\n",
       "\\item 'AAACCCAAGAGCAGCT'\n",
       "\\item 'AAACCCACACTTGAGT'\n",
       "\\item 'AAACCCACAGGACTAG'\n",
       "\\item 'AAACCCAGTATCCCTC'\n",
       "\\end{enumerate*}\n"
      ],
      "text/markdown": [
       "1. 'AAACCCAAGAAGTCCG'\n",
       "2. 'AAACCCAAGACAACTA'\n",
       "3. 'AAACCCAAGAGCAGCT'\n",
       "4. 'AAACCCACACTTGAGT'\n",
       "5. 'AAACCCACAGGACTAG'\n",
       "6. 'AAACCCAGTATCCCTC'\n",
       "\n",
       "\n"
      ],
      "text/plain": [
       "[1] \"AAACCCAAGAAGTCCG\" \"AAACCCAAGACAACTA\" \"AAACCCAAGAGCAGCT\" \"AAACCCACACTTGAGT\"\n",
       "[5] \"AAACCCACAGGACTAG\" \"AAACCCAGTATCCCTC\""
      ]
     },
     "metadata": {},
     "output_type": "display_data"
    }
   ],
   "source": [
    "matrix_dir = \"./raw_data/cellranger_results/cr-count_mm10_JV-RNA-5/outs/filtered_feature_bc_matrix/\"\n",
    "barcode.path <- paste0(matrix_dir, \"barcodes.tsv.gz\")\n",
    "features.path <- paste0(matrix_dir, \"features.tsv.gz\")\n",
    "matrix.path <- paste0(matrix_dir, \"matrix.mtx.gz\")\n",
    "mat <- readMM(file = matrix.path)\n",
    "feature.names = read.delim(features.path,\n",
    "                           header = FALSE,\n",
    "                           stringsAsFactors = FALSE)\n",
    "barcode.names = read.delim(barcode.path,\n",
    "                           header = FALSE,\n",
    "                           stringsAsFactors = FALSE)\n",
    "colnames(mat) = barcode.names$V1\n",
    "rownames(mat) = feature.names$V1\n",
    "\n",
    "\n",
    "cellbarcode5 <- colnames(mat)\n",
    "cellbarcode5 <- substr(cellbarcode5,1,nchar(cellbarcode5)-2)\n",
    "head(cellbarcode5)"
   ]
  },
  {
   "cell_type": "code",
   "execution_count": 62,
   "id": "e354700a-80bd-46e4-a8df-e89a380625cf",
   "metadata": {},
   "outputs": [
    {
     "data": {
      "text/html": [
       "<table class=\"dataframe\">\n",
       "<caption>A data.frame: 6 × 3</caption>\n",
       "<thead>\n",
       "\t<tr><th></th><th scope=col>Cell</th><th scope=col>UMI</th><th scope=col>Sample</th></tr>\n",
       "\t<tr><th></th><th scope=col>&lt;chr&gt;</th><th scope=col>&lt;chr&gt;</th><th scope=col>&lt;chr&gt;</th></tr>\n",
       "</thead>\n",
       "<tbody>\n",
       "\t<tr><th scope=row>12</th><td>ATGCGATAGAGCTGAC</td><td>CAGTGCTTGGCC</td><td>CACGTATG</td></tr>\n",
       "\t<tr><th scope=row>13</th><td>CCGGTAGAGGCGTTAG</td><td>AACACAGGTGTT</td><td>AGCATCAC</td></tr>\n",
       "\t<tr><th scope=row>16</th><td>TCTATCAAGTCGGCCT</td><td>GCCTTGATACCT</td><td>GCAACGCC</td></tr>\n",
       "\t<tr><th scope=row>17</th><td>ATACCTTAGGATATGT</td><td>CCGGATGCAGAT</td><td>GTCGGCTG</td></tr>\n",
       "\t<tr><th scope=row>24</th><td>TGAATGCTCTCTCAAT</td><td>GAACCCATGTCT</td><td>CACGTATG</td></tr>\n",
       "\t<tr><th scope=row>28</th><td>TGCTCCACACGGCGTT</td><td>CCCTCTTCAGTC</td><td>CACGTATG</td></tr>\n",
       "</tbody>\n",
       "</table>\n"
      ],
      "text/latex": [
       "A data.frame: 6 × 3\n",
       "\\begin{tabular}{r|lll}\n",
       "  & Cell & UMI & Sample\\\\\n",
       "  & <chr> & <chr> & <chr>\\\\\n",
       "\\hline\n",
       "\t12 & ATGCGATAGAGCTGAC & CAGTGCTTGGCC & CACGTATG\\\\\n",
       "\t13 & CCGGTAGAGGCGTTAG & AACACAGGTGTT & AGCATCAC\\\\\n",
       "\t16 & TCTATCAAGTCGGCCT & GCCTTGATACCT & GCAACGCC\\\\\n",
       "\t17 & ATACCTTAGGATATGT & CCGGATGCAGAT & GTCGGCTG\\\\\n",
       "\t24 & TGAATGCTCTCTCAAT & GAACCCATGTCT & CACGTATG\\\\\n",
       "\t28 & TGCTCCACACGGCGTT & CCCTCTTCAGTC & CACGTATG\\\\\n",
       "\\end{tabular}\n"
      ],
      "text/markdown": [
       "\n",
       "A data.frame: 6 × 3\n",
       "\n",
       "| <!--/--> | Cell &lt;chr&gt; | UMI &lt;chr&gt; | Sample &lt;chr&gt; |\n",
       "|---|---|---|---|\n",
       "| 12 | ATGCGATAGAGCTGAC | CAGTGCTTGGCC | CACGTATG |\n",
       "| 13 | CCGGTAGAGGCGTTAG | AACACAGGTGTT | AGCATCAC |\n",
       "| 16 | TCTATCAAGTCGGCCT | GCCTTGATACCT | GCAACGCC |\n",
       "| 17 | ATACCTTAGGATATGT | CCGGATGCAGAT | GTCGGCTG |\n",
       "| 24 | TGAATGCTCTCTCAAT | GAACCCATGTCT | CACGTATG |\n",
       "| 28 | TGCTCCACACGGCGTT | CCCTCTTCAGTC | CACGTATG |\n",
       "\n"
      ],
      "text/plain": [
       "   Cell             UMI          Sample  \n",
       "12 ATGCGATAGAGCTGAC CAGTGCTTGGCC CACGTATG\n",
       "13 CCGGTAGAGGCGTTAG AACACAGGTGTT AGCATCAC\n",
       "16 TCTATCAAGTCGGCCT GCCTTGATACCT GCAACGCC\n",
       "17 ATACCTTAGGATATGT CCGGATGCAGAT GTCGGCTG\n",
       "24 TGAATGCTCTCTCAAT GAACCCATGTCT CACGTATG\n",
       "28 TGCTCCACACGGCGTT CCCTCTTCAGTC CACGTATG"
      ]
     },
     "metadata": {},
     "output_type": "display_data"
    },
    {
     "data": {
      "text/html": [
       "'data.frame'"
      ],
      "text/latex": [
       "'data.frame'"
      ],
      "text/markdown": [
       "'data.frame'"
      ],
      "text/plain": [
       "[1] \"data.frame\""
      ]
     },
     "metadata": {},
     "output_type": "display_data"
    },
    {
     "name": "stdout",
     "output_type": "stream",
     "text": [
      "'data.frame':\t11313233 obs. of  3 variables:\n",
      " $ Cell  : chr  \"ATGCGATAGAGCTGAC\" \"CCGGTAGAGGCGTTAG\" \"TCTATCAAGTCGGCCT\" \"ATACCTTAGGATATGT\" ...\n",
      " $ UMI   : chr  \"CAGTGCTTGGCC\" \"AACACAGGTGTT\" \"GCCTTGATACCT\" \"CCGGATGCAGAT\" ...\n",
      " $ Sample: chr  \"CACGTATG\" \"AGCATCAC\" \"GCAACGCC\" \"GTCGGCTG\" ...\n"
     ]
    }
   ],
   "source": [
    "# Read table from MULTIplex first step\n",
    "library(\"deMULTIplex\")\n",
    "readTable_5_filtered <- readRDS(file = \"files/readTable_5_filtered.rds\", refhook = NULL)\n",
    "\n",
    "\n",
    "head(readTable_5_filtered)\n",
    "class(readTable_5_filtered)\n",
    "str(readTable_5_filtered)\n",
    "# filter readTable with Cell Ranger cell barcodes that are kept.\n",
    "readTable_5_filtered <- readTable_5_filtered[readTable_5_filtered$Cell %in% cellbarcode5 ,]"
   ]
  },
  {
   "cell_type": "code",
   "execution_count": 63,
   "id": "2de711ee-f728-44b3-b0b5-1aadaff2abaa",
   "metadata": {},
   "outputs": [],
   "source": [
    "# save readTable_filtered\n",
    "saveRDS(readTable_5_filtered, file = \"files/readTable_5_filtered.rds\")\n",
    "saveRDS(cellbarcode5, file = \"files/cellbarcode_5.rds\")"
   ]
  },
  {
   "cell_type": "markdown",
   "id": "070024e5-8f99-45ba-9538-eaffe3949b35",
   "metadata": {},
   "source": [
    "# MULTIseq alignments"
   ]
  },
  {
   "cell_type": "markdown",
   "id": "71161d7e-ac4e-4924-af10-c1e9f266e67f",
   "metadata": {},
   "source": [
    "This is the way it is done but better to paralelize the job"
   ]
  },
  {
   "cell_type": "code",
   "execution_count": 64,
   "id": "b122baad-cfb8-46d9-b333-79307fb8684c",
   "metadata": {},
   "outputs": [
    {
     "name": "stdout",
     "output_type": "stream",
     "text": [
      " chr [1:6794880] \"AAACCCAAGAAACACT\" \"AAACCCAAGAAACCAT\" \"AAACCCAAGAAACCCA\" ...\n"
     ]
    }
   ],
   "source": [
    "setwd(\"/project/ABKlab/Natalia/sc-RNA-seq/single_TLS_project\")\n",
    "\n",
    "library(\"deMULTIplex\")\n",
    "\n",
    "cell.id.vec <- read.table(\"../whitelist/3M-february-2018.txt\")\n",
    "cell.id.vec <- as.vector(cell.id.vec$V1)\n",
    "str(cell.id.vec)"
   ]
  },
  {
   "cell_type": "code",
   "execution_count": 65,
   "id": "f34e314b-119f-4632-b1f0-1920190604ef",
   "metadata": {},
   "outputs": [],
   "source": [
    "barcodes_48h <- readRDS(\"./files/barcodes_48h.rds\")\n",
    "barcodes_72h <- readRDS(\"./files/barcodes_72h.rds\")\n",
    "barcodes_96h <- readRDS(\"./files/barcodes_96h.rds\")\n",
    "barcodes_120h <- readRDS(\"./files/barcodes_120h.rds\")"
   ]
  },
  {
   "cell_type": "code",
   "execution_count": 66,
   "id": "14a4bd86-c0e2-4afd-9af1-4b70f82171bc",
   "metadata": {},
   "outputs": [],
   "source": [
    "readTable_1_filtered <- readRDS(\"./files/readTable_1_filtered.rds\")\n",
    "readTable_2_filtered <- readRDS(\"./files/readTable_2_filtered.rds\")\n",
    "readTable_3_filtered <- readRDS(\"./files/readTable_3_filtered.rds\")\n",
    "readTable_4_filtered <- readRDS(\"./files/readTable_4_filtered.rds\")\n",
    "readTable_5_filtered <- readRDS(\"./files/readTable_5_filtered.rds\")"
   ]
  },
  {
   "cell_type": "code",
   "execution_count": 69,
   "id": "cc6c3445-0f2e-4429-826f-b8bd3a6dc3fa",
   "metadata": {},
   "outputs": [
    {
     "data": {
      "text/html": [
       "<style>\n",
       ".list-inline {list-style: none; margin:0; padding: 0}\n",
       ".list-inline>li {display: inline-block}\n",
       ".list-inline>li:not(:last-child)::after {content: \"\\00b7\"; padding: 0 .5ex}\n",
       "</style>\n",
       "<ol class=list-inline><li>'AAACCCAAGAAGTCCG'</li><li>'AAACCCAAGACAACTA'</li><li>'AAACCCAAGAGCAGCT'</li><li>'AAACCCACACTTGAGT'</li><li>'AAACCCACAGGACTAG'</li><li>'AAACCCAGTATCCCTC'</li></ol>\n"
      ],
      "text/latex": [
       "\\begin{enumerate*}\n",
       "\\item 'AAACCCAAGAAGTCCG'\n",
       "\\item 'AAACCCAAGACAACTA'\n",
       "\\item 'AAACCCAAGAGCAGCT'\n",
       "\\item 'AAACCCACACTTGAGT'\n",
       "\\item 'AAACCCACAGGACTAG'\n",
       "\\item 'AAACCCAGTATCCCTC'\n",
       "\\end{enumerate*}\n"
      ],
      "text/markdown": [
       "1. 'AAACCCAAGAAGTCCG'\n",
       "2. 'AAACCCAAGACAACTA'\n",
       "3. 'AAACCCAAGAGCAGCT'\n",
       "4. 'AAACCCACACTTGAGT'\n",
       "5. 'AAACCCACAGGACTAG'\n",
       "6. 'AAACCCAGTATCCCTC'\n",
       "\n",
       "\n"
      ],
      "text/plain": [
       "[1] \"AAACCCAAGAAGTCCG\" \"AAACCCAAGACAACTA\" \"AAACCCAAGAGCAGCT\" \"AAACCCACACTTGAGT\"\n",
       "[5] \"AAACCCACAGGACTAG\" \"AAACCCAGTATCCCTC\""
      ]
     },
     "metadata": {},
     "output_type": "display_data"
    },
    {
     "data": {
      "text/html": [
       "12750"
      ],
      "text/latex": [
       "12750"
      ],
      "text/markdown": [
       "12750"
      ],
      "text/plain": [
       "[1] 12750"
      ]
     },
     "metadata": {},
     "output_type": "display_data"
    }
   ],
   "source": [
    "head(cellbarcode5)\n",
    "length(cellbarcode5)"
   ]
  },
  {
   "cell_type": "code",
   "execution_count": 75,
   "id": "0aa373d4-961c-4c06-82f3-845a8020a25a",
   "metadata": {},
   "outputs": [
    {
     "data": {
      "text/html": [
       "<table class=\"dataframe\">\n",
       "<caption>A data.frame: 6 × 3</caption>\n",
       "<thead>\n",
       "\t<tr><th></th><th scope=col>Cell</th><th scope=col>UMI</th><th scope=col>Sample</th></tr>\n",
       "\t<tr><th></th><th scope=col>&lt;chr&gt;</th><th scope=col>&lt;chr&gt;</th><th scope=col>&lt;chr&gt;</th></tr>\n",
       "</thead>\n",
       "<tbody>\n",
       "\t<tr><th scope=row>1</th><td>TGATTTCCACCGTCTT</td><td>CTTACTATCAGT</td><td>GCACACGC</td></tr>\n",
       "\t<tr><th scope=row>3</th><td>AGTCAACAGCTGAGCA</td><td>AGCCCCCGAATA</td><td>TGCTACAG</td></tr>\n",
       "\t<tr><th scope=row>14</th><td>ATACCGACAGAACATA</td><td>GAGTCATCAAAA</td><td>CGAGATTC</td></tr>\n",
       "\t<tr><th scope=row>18</th><td>GGAGGATGTCAGACTT</td><td>GCACCGAATCGA</td><td>TGACCGAT</td></tr>\n",
       "\t<tr><th scope=row>20</th><td>AGCGCTGGTAGCTAAA</td><td>GCAACCTGATGA</td><td>TAAGGCTC</td></tr>\n",
       "\t<tr><th scope=row>30</th><td>GACTATGTCGCTCCTA</td><td>TATGTTGATGCG</td><td>TGACCGAT</td></tr>\n",
       "</tbody>\n",
       "</table>\n"
      ],
      "text/latex": [
       "A data.frame: 6 × 3\n",
       "\\begin{tabular}{r|lll}\n",
       "  & Cell & UMI & Sample\\\\\n",
       "  & <chr> & <chr> & <chr>\\\\\n",
       "\\hline\n",
       "\t1 & TGATTTCCACCGTCTT & CTTACTATCAGT & GCACACGC\\\\\n",
       "\t3 & AGTCAACAGCTGAGCA & AGCCCCCGAATA & TGCTACAG\\\\\n",
       "\t14 & ATACCGACAGAACATA & GAGTCATCAAAA & CGAGATTC\\\\\n",
       "\t18 & GGAGGATGTCAGACTT & GCACCGAATCGA & TGACCGAT\\\\\n",
       "\t20 & AGCGCTGGTAGCTAAA & GCAACCTGATGA & TAAGGCTC\\\\\n",
       "\t30 & GACTATGTCGCTCCTA & TATGTTGATGCG & TGACCGAT\\\\\n",
       "\\end{tabular}\n"
      ],
      "text/markdown": [
       "\n",
       "A data.frame: 6 × 3\n",
       "\n",
       "| <!--/--> | Cell &lt;chr&gt; | UMI &lt;chr&gt; | Sample &lt;chr&gt; |\n",
       "|---|---|---|---|\n",
       "| 1 | TGATTTCCACCGTCTT | CTTACTATCAGT | GCACACGC |\n",
       "| 3 | AGTCAACAGCTGAGCA | AGCCCCCGAATA | TGCTACAG |\n",
       "| 14 | ATACCGACAGAACATA | GAGTCATCAAAA | CGAGATTC |\n",
       "| 18 | GGAGGATGTCAGACTT | GCACCGAATCGA | TGACCGAT |\n",
       "| 20 | AGCGCTGGTAGCTAAA | GCAACCTGATGA | TAAGGCTC |\n",
       "| 30 | GACTATGTCGCTCCTA | TATGTTGATGCG | TGACCGAT |\n",
       "\n"
      ],
      "text/plain": [
       "   Cell             UMI          Sample  \n",
       "1  TGATTTCCACCGTCTT CTTACTATCAGT GCACACGC\n",
       "3  AGTCAACAGCTGAGCA AGCCCCCGAATA TGCTACAG\n",
       "14 ATACCGACAGAACATA GAGTCATCAAAA CGAGATTC\n",
       "18 GGAGGATGTCAGACTT GCACCGAATCGA TGACCGAT\n",
       "20 AGCGCTGGTAGCTAAA GCAACCTGATGA TAAGGCTC\n",
       "30 GACTATGTCGCTCCTA TATGTTGATGCG TGACCGAT"
      ]
     },
     "metadata": {},
     "output_type": "display_data"
    },
    {
     "data": {
      "text/html": [
       "<style>\n",
       ".list-inline {list-style: none; margin:0; padding: 0}\n",
       ".list-inline>li {display: inline-block}\n",
       ".list-inline>li:not(:last-child)::after {content: \"\\00b7\"; padding: 0 .5ex}\n",
       "</style>\n",
       "<ol class=list-inline><li>12729460</li><li>3</li></ol>\n"
      ],
      "text/latex": [
       "\\begin{enumerate*}\n",
       "\\item 12729460\n",
       "\\item 3\n",
       "\\end{enumerate*}\n"
      ],
      "text/markdown": [
       "1. 12729460\n",
       "2. 3\n",
       "\n",
       "\n"
      ],
      "text/plain": [
       "[1] 12729460        3"
      ]
     },
     "metadata": {},
     "output_type": "display_data"
    },
    {
     "data": {
      "text/html": [
       "<style>\n",
       ".list-inline {list-style: none; margin:0; padding: 0}\n",
       ".list-inline>li {display: inline-block}\n",
       ".list-inline>li:not(:last-child)::after {content: \"\\00b7\"; padding: 0 .5ex}\n",
       "</style>\n",
       "<ol class=list-inline><li>'AAACCCAAGTTCTACG'</li><li>'AAACCCACACAAGGTG'</li><li>'AAACCCACAGCGGTCT'</li><li>'AAACCCACAGCTGGTC'</li><li>'AAACCCAGTACCGGCT'</li><li>'AAACCCAGTCGTTGCG'</li></ol>\n"
      ],
      "text/latex": [
       "\\begin{enumerate*}\n",
       "\\item 'AAACCCAAGTTCTACG'\n",
       "\\item 'AAACCCACACAAGGTG'\n",
       "\\item 'AAACCCACAGCGGTCT'\n",
       "\\item 'AAACCCACAGCTGGTC'\n",
       "\\item 'AAACCCAGTACCGGCT'\n",
       "\\item 'AAACCCAGTCGTTGCG'\n",
       "\\end{enumerate*}\n"
      ],
      "text/markdown": [
       "1. 'AAACCCAAGTTCTACG'\n",
       "2. 'AAACCCACACAAGGTG'\n",
       "3. 'AAACCCACAGCGGTCT'\n",
       "4. 'AAACCCACAGCTGGTC'\n",
       "5. 'AAACCCAGTACCGGCT'\n",
       "6. 'AAACCCAGTCGTTGCG'\n",
       "\n",
       "\n"
      ],
      "text/plain": [
       "[1] \"AAACCCAAGTTCTACG\" \"AAACCCACACAAGGTG\" \"AAACCCACAGCGGTCT\" \"AAACCCACAGCTGGTC\"\n",
       "[5] \"AAACCCAGTACCGGCT\" \"AAACCCAGTCGTTGCG\""
      ]
     },
     "metadata": {},
     "output_type": "display_data"
    },
    {
     "data": {
      "text/html": [
       "9293"
      ],
      "text/latex": [
       "9293"
      ],
      "text/markdown": [
       "9293"
      ],
      "text/plain": [
       "[1] 9293"
      ]
     },
     "metadata": {},
     "output_type": "display_data"
    },
    {
     "data": {
      "text/html": [
       "<style>\n",
       ".list-inline {list-style: none; margin:0; padding: 0}\n",
       ".list-inline>li {display: inline-block}\n",
       ".list-inline>li:not(:last-child)::after {content: \"\\00b7\"; padding: 0 .5ex}\n",
       "</style>\n",
       "<ol class=list-inline><li>'CCACAATG'</li><li>'TGAGACCT'</li><li>'GCACACGC'</li><li>'AGAGAGAG'</li><li>'TCACAGCA'</li><li>'GAAAAGGG'</li></ol>\n"
      ],
      "text/latex": [
       "\\begin{enumerate*}\n",
       "\\item 'CCACAATG'\n",
       "\\item 'TGAGACCT'\n",
       "\\item 'GCACACGC'\n",
       "\\item 'AGAGAGAG'\n",
       "\\item 'TCACAGCA'\n",
       "\\item 'GAAAAGGG'\n",
       "\\end{enumerate*}\n"
      ],
      "text/markdown": [
       "1. 'CCACAATG'\n",
       "2. 'TGAGACCT'\n",
       "3. 'GCACACGC'\n",
       "4. 'AGAGAGAG'\n",
       "5. 'TCACAGCA'\n",
       "6. 'GAAAAGGG'\n",
       "\n",
       "\n"
      ],
      "text/plain": [
       "[1] \"CCACAATG\" \"TGAGACCT\" \"GCACACGC\" \"AGAGAGAG\" \"TCACAGCA\" \"GAAAAGGG\""
      ]
     },
     "metadata": {},
     "output_type": "display_data"
    },
    {
     "data": {
      "text/html": [
       "72"
      ],
      "text/latex": [
       "72"
      ],
      "text/markdown": [
       "72"
      ],
      "text/plain": [
       "[1] 72"
      ]
     },
     "metadata": {},
     "output_type": "display_data"
    }
   ],
   "source": [
    "head(readTable_1_filtered)\n",
    "dim(readTable_1_filtered)\n",
    "\n",
    "head(cellbarcode1)\n",
    "length(cellbarcode1)\n",
    "\n",
    "head(barcodes_48h)\n",
    "length(barcodes_48h)"
   ]
  },
  {
   "cell_type": "code",
   "execution_count": 76,
   "id": "cfc94dda-96fb-4592-a1bd-8875c93099b1",
   "metadata": {},
   "outputs": [],
   "source": [
    "library(\"deMULTIplex\")"
   ]
  },
  {
   "cell_type": "code",
   "execution_count": 77,
   "id": "43d59663-e432-4d96-bf5d-b68e572197e2",
   "metadata": {},
   "outputs": [],
   "source": [
    "## Perform MULTI-seq sample barcode alignment\n",
    "bar.table_1 <- MULTIseq.align(readTable_1_filtered, cellbarcode1, barcodes_48h)\n",
    "saveRDS(bar.table_1, file = \"./files/bartable_1.rds\")"
   ]
  },
  {
   "cell_type": "code",
   "execution_count": 71,
   "id": "8c047506-dbf3-49ca-9355-2272a479e678",
   "metadata": {},
   "outputs": [
    {
     "ename": "ERROR",
     "evalue": "Error in h(simpleError(msg, call)): error in evaluating the argument 'x' in selecting a method for function 'head': object 'bar.table_5' not found\n",
     "output_type": "error",
     "traceback": [
      "Error in h(simpleError(msg, call)): error in evaluating the argument 'x' in selecting a method for function 'head': object 'bar.table_5' not found\nTraceback:\n",
      "1. head(bar.table_5)",
      "2. .handleSimpleError(function (cond) \n . .Internal(C_tryCatchHelper(addr, 1L, cond)), \"object 'bar.table_5' not found\", \n .     base::quote(head(bar.table_5)))",
      "3. h(simpleError(msg, call))"
     ]
    }
   ],
   "source": [
    "bar.table_2 <- MULTIseq.align(readTable_2_filtered, cellbarcode2, barcodes_72h)\n",
    "saveRDS(bar.table_2, file = \"./files/bartable_2.rds\")\n",
    "\n",
    "bar.table_3 <- MULTIseq.align(readTable_3_filtered, cellbarcode3, barcodes_96h)\n",
    "saveRDS(bar.table_3, file = \"./files/bartable_3.rds\")\n",
    "\n",
    "bar.table_4 <- MULTIseq.align(readTable_4_filtered, cellbarcode4, barcodes_120h)\n",
    "saveRDS(bar.table_4, file = \"./files/bartable_4.rds\")\n",
    "\n",
    "bar.table_5 <- MULTIseq.align(readTable_5_filtered, cellbarcode5, barcodes_120h)\n",
    "saveRDS(bar.table_5, file = \"./files/bartable_5.rds\")\n"
   ]
  },
  {
   "cell_type": "markdown",
   "id": "b1318133-a0ad-4d95-8107-3e9c5daec6a3",
   "metadata": {},
   "source": [
    "# Demultiplexing 48h"
   ]
  },
  {
   "cell_type": "code",
   "execution_count": null,
   "id": "fe2d80fa-c078-4df1-90b1-ef5dfd6aab70",
   "metadata": {},
   "outputs": [],
   "source": [
    "## Visualize barcode space\n",
    "bar.tsne_1 <- barTSNE(bar.table_1[,1:3]) \n",
    "## Note: Exclude columns 97:98 (assuming 96 barcodes were used) which provide total barcode UMI counts for each cell. \n",
    "\n",
    "pdf(\"./outputs/MULTIseq/bar.tsne_1.check.pdf\")\n",
    "for (i in 3:ncol(bar.tsne_1)) {\n",
    "  g <- ggplot(bar.tsne_1, aes(x = TSNE1, y = TSNE2, color = bar.tsne_1[,i])) +\n",
    "    geom_point() +\n",
    "    scale_color_gradient(low = \"black\", high = \"red\") +\n",
    "    ggtitle(colnames(bar.tsne_1)[i]) +\n",
    "    theme(legend.position = \"none\") \n",
    "  print(g)\n",
    "}\n",
    "dev.off()"
   ]
  },
  {
   "cell_type": "code",
   "execution_count": null,
   "id": "a8ec4316-cf94-4d83-a798-179cb09ae8f2",
   "metadata": {},
   "outputs": [],
   "source": [
    "print(g)"
   ]
  },
  {
   "cell_type": "code",
   "execution_count": null,
   "id": "adb81b7a-2c45-4be6-9e2d-29d1580b4d66",
   "metadata": {},
   "outputs": [],
   "source": [
    "head(bar.table_5)"
   ]
  }
 ],
 "metadata": {
  "kernelspec": {
   "display_name": "R",
   "language": "R",
   "name": "ir"
  },
  "language_info": {
   "codemirror_mode": "r",
   "file_extension": ".r",
   "mimetype": "text/x-r-source",
   "name": "R",
   "pygments_lexer": "r",
   "version": "4.1.1"
  }
 },
 "nbformat": 4,
 "nbformat_minor": 5
}
