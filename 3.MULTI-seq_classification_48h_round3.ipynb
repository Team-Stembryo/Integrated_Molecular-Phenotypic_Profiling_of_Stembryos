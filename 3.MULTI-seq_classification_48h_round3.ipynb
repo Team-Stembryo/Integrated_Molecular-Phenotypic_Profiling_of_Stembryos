{
 "cells": [
  {
   "cell_type": "code",
   "execution_count": 1,
   "id": "1696bbf1-98dd-4641-bb33-e9492152198a",
   "metadata": {},
   "outputs": [
    {
     "name": "stderr",
     "output_type": "stream",
     "text": [
      "Warning message:\n",
      "“replacing previous import ‘lifecycle::last_warnings’ by ‘rlang::last_warnings’ when loading ‘tibble’”\n"
     ]
    }
   ],
   "source": [
    "library(\"deMULTIplex\")\n",
    "library(\"ggplot2\")"
   ]
  },
  {
   "cell_type": "code",
   "execution_count": 2,
   "id": "c0126db1-d251-4089-b714-8615e5ccd9f7",
   "metadata": {},
   "outputs": [],
   "source": [
    "## deMULTIplexing ##\n",
    "setwd(\"/project/ABKlab/Natalia/sc-RNA-seq/single_TLS_project\")"
   ]
  },
  {
   "cell_type": "markdown",
   "id": "c8c8762b-dbd8-4c42-8101-28c8730ec759",
   "metadata": {},
   "source": [
    "# Table 48h"
   ]
  },
  {
   "cell_type": "code",
   "execution_count": 3,
   "id": "d60442d9-17a0-430f-a381-82c38573c31b",
   "metadata": {},
   "outputs": [],
   "source": [
    "bartable_48h <- readRDS(\"./files/bartable_48h.rds\")"
   ]
  },
  {
   "cell_type": "code",
   "execution_count": 4,
   "id": "1193beea-d123-4fef-a81b-9673b7ddb861",
   "metadata": {},
   "outputs": [
    {
     "data": {
      "text/html": [
       "<table class=\"dataframe\">\n",
       "<caption>A data.frame: 6 × 74</caption>\n",
       "<thead>\n",
       "\t<tr><th></th><th scope=col>Bar1</th><th scope=col>Bar2</th><th scope=col>Bar3</th><th scope=col>Bar4</th><th scope=col>Bar5</th><th scope=col>Bar6</th><th scope=col>Bar7</th><th scope=col>Bar8</th><th scope=col>Bar9</th><th scope=col>Bar10</th><th scope=col>⋯</th><th scope=col>Bar65</th><th scope=col>Bar66</th><th scope=col>Bar67</th><th scope=col>Bar68</th><th scope=col>Bar69</th><th scope=col>Bar70</th><th scope=col>Bar71</th><th scope=col>Bar72</th><th scope=col>nUMI</th><th scope=col>nUMI_total</th></tr>\n",
       "\t<tr><th></th><th scope=col>&lt;int&gt;</th><th scope=col>&lt;int&gt;</th><th scope=col>&lt;int&gt;</th><th scope=col>&lt;int&gt;</th><th scope=col>&lt;int&gt;</th><th scope=col>&lt;int&gt;</th><th scope=col>&lt;int&gt;</th><th scope=col>&lt;int&gt;</th><th scope=col>&lt;int&gt;</th><th scope=col>&lt;int&gt;</th><th scope=col>⋯</th><th scope=col>&lt;int&gt;</th><th scope=col>&lt;int&gt;</th><th scope=col>&lt;int&gt;</th><th scope=col>&lt;int&gt;</th><th scope=col>&lt;int&gt;</th><th scope=col>&lt;int&gt;</th><th scope=col>&lt;int&gt;</th><th scope=col>&lt;int&gt;</th><th scope=col>&lt;int&gt;</th><th scope=col>&lt;int&gt;</th></tr>\n",
       "</thead>\n",
       "<tbody>\n",
       "\t<tr><th scope=row>AAACCCAAGTTCTACG</th><td>7</td><td>1</td><td> 6</td><td>4</td><td>6</td><td> 9</td><td>2</td><td>6</td><td>16</td><td>6</td><td>⋯</td><td>6</td><td>2</td><td>5</td><td>  11</td><td>2</td><td>3</td><td>10</td><td>2</td><td>4221</td><td>5161</td></tr>\n",
       "\t<tr><th scope=row>AAACCCACACAAGGTG</th><td>9</td><td>0</td><td> 5</td><td>1</td><td>2</td><td> 9</td><td>0</td><td>6</td><td> 9</td><td>0</td><td>⋯</td><td>0</td><td>0</td><td>6</td><td>5371</td><td>1</td><td>1</td><td> 4</td><td>5</td><td>5563</td><td>7066</td></tr>\n",
       "\t<tr><th scope=row>AAACCCACAGCGGTCT</th><td>4</td><td>4</td><td>10</td><td>0</td><td>5</td><td> 6</td><td>0</td><td>4</td><td> 8</td><td>3</td><td>⋯</td><td>6</td><td>4</td><td>7</td><td>  15</td><td>3</td><td>2</td><td> 5</td><td>3</td><td> 254</td><td> 316</td></tr>\n",
       "\t<tr><th scope=row>AAACCCACAGCTGGTC</th><td>9</td><td>4</td><td> 7</td><td>0</td><td>2</td><td>14</td><td>2</td><td>6</td><td>13</td><td>3</td><td>⋯</td><td>5</td><td>5</td><td>9</td><td>  10</td><td>2</td><td>1</td><td> 4</td><td>2</td><td> 264</td><td> 341</td></tr>\n",
       "\t<tr><th scope=row>AAACCCAGTACCGGCT</th><td>3</td><td>4</td><td> 7</td><td>4</td><td>3</td><td>12</td><td>0</td><td>4</td><td> 4</td><td>2</td><td>⋯</td><td>4</td><td>2</td><td>5</td><td>   8</td><td>1</td><td>1</td><td> 2</td><td>4</td><td> 218</td><td> 282</td></tr>\n",
       "\t<tr><th scope=row>AAACCCAGTCGTTGCG</th><td>6</td><td>1</td><td> 6</td><td>2</td><td>1</td><td> 6</td><td>2</td><td>5</td><td> 5</td><td>1</td><td>⋯</td><td>5</td><td>2</td><td>2</td><td>   8</td><td>2</td><td>2</td><td> 2</td><td>1</td><td>1393</td><td>1649</td></tr>\n",
       "</tbody>\n",
       "</table>\n"
      ],
      "text/latex": [
       "A data.frame: 6 × 74\n",
       "\\begin{tabular}{r|lllllllllllllllllllll}\n",
       "  & Bar1 & Bar2 & Bar3 & Bar4 & Bar5 & Bar6 & Bar7 & Bar8 & Bar9 & Bar10 & ⋯ & Bar65 & Bar66 & Bar67 & Bar68 & Bar69 & Bar70 & Bar71 & Bar72 & nUMI & nUMI\\_total\\\\\n",
       "  & <int> & <int> & <int> & <int> & <int> & <int> & <int> & <int> & <int> & <int> & ⋯ & <int> & <int> & <int> & <int> & <int> & <int> & <int> & <int> & <int> & <int>\\\\\n",
       "\\hline\n",
       "\tAAACCCAAGTTCTACG & 7 & 1 &  6 & 4 & 6 &  9 & 2 & 6 & 16 & 6 & ⋯ & 6 & 2 & 5 &   11 & 2 & 3 & 10 & 2 & 4221 & 5161\\\\\n",
       "\tAAACCCACACAAGGTG & 9 & 0 &  5 & 1 & 2 &  9 & 0 & 6 &  9 & 0 & ⋯ & 0 & 0 & 6 & 5371 & 1 & 1 &  4 & 5 & 5563 & 7066\\\\\n",
       "\tAAACCCACAGCGGTCT & 4 & 4 & 10 & 0 & 5 &  6 & 0 & 4 &  8 & 3 & ⋯ & 6 & 4 & 7 &   15 & 3 & 2 &  5 & 3 &  254 &  316\\\\\n",
       "\tAAACCCACAGCTGGTC & 9 & 4 &  7 & 0 & 2 & 14 & 2 & 6 & 13 & 3 & ⋯ & 5 & 5 & 9 &   10 & 2 & 1 &  4 & 2 &  264 &  341\\\\\n",
       "\tAAACCCAGTACCGGCT & 3 & 4 &  7 & 4 & 3 & 12 & 0 & 4 &  4 & 2 & ⋯ & 4 & 2 & 5 &    8 & 1 & 1 &  2 & 4 &  218 &  282\\\\\n",
       "\tAAACCCAGTCGTTGCG & 6 & 1 &  6 & 2 & 1 &  6 & 2 & 5 &  5 & 1 & ⋯ & 5 & 2 & 2 &    8 & 2 & 2 &  2 & 1 & 1393 & 1649\\\\\n",
       "\\end{tabular}\n"
      ],
      "text/markdown": [
       "\n",
       "A data.frame: 6 × 74\n",
       "\n",
       "| <!--/--> | Bar1 &lt;int&gt; | Bar2 &lt;int&gt; | Bar3 &lt;int&gt; | Bar4 &lt;int&gt; | Bar5 &lt;int&gt; | Bar6 &lt;int&gt; | Bar7 &lt;int&gt; | Bar8 &lt;int&gt; | Bar9 &lt;int&gt; | Bar10 &lt;int&gt; | ⋯ ⋯ | Bar65 &lt;int&gt; | Bar66 &lt;int&gt; | Bar67 &lt;int&gt; | Bar68 &lt;int&gt; | Bar69 &lt;int&gt; | Bar70 &lt;int&gt; | Bar71 &lt;int&gt; | Bar72 &lt;int&gt; | nUMI &lt;int&gt; | nUMI_total &lt;int&gt; |\n",
       "|---|---|---|---|---|---|---|---|---|---|---|---|---|---|---|---|---|---|---|---|---|---|\n",
       "| AAACCCAAGTTCTACG | 7 | 1 |  6 | 4 | 6 |  9 | 2 | 6 | 16 | 6 | ⋯ | 6 | 2 | 5 |   11 | 2 | 3 | 10 | 2 | 4221 | 5161 |\n",
       "| AAACCCACACAAGGTG | 9 | 0 |  5 | 1 | 2 |  9 | 0 | 6 |  9 | 0 | ⋯ | 0 | 0 | 6 | 5371 | 1 | 1 |  4 | 5 | 5563 | 7066 |\n",
       "| AAACCCACAGCGGTCT | 4 | 4 | 10 | 0 | 5 |  6 | 0 | 4 |  8 | 3 | ⋯ | 6 | 4 | 7 |   15 | 3 | 2 |  5 | 3 |  254 |  316 |\n",
       "| AAACCCACAGCTGGTC | 9 | 4 |  7 | 0 | 2 | 14 | 2 | 6 | 13 | 3 | ⋯ | 5 | 5 | 9 |   10 | 2 | 1 |  4 | 2 |  264 |  341 |\n",
       "| AAACCCAGTACCGGCT | 3 | 4 |  7 | 4 | 3 | 12 | 0 | 4 |  4 | 2 | ⋯ | 4 | 2 | 5 |    8 | 1 | 1 |  2 | 4 |  218 |  282 |\n",
       "| AAACCCAGTCGTTGCG | 6 | 1 |  6 | 2 | 1 |  6 | 2 | 5 |  5 | 1 | ⋯ | 5 | 2 | 2 |    8 | 2 | 2 |  2 | 1 | 1393 | 1649 |\n",
       "\n"
      ],
      "text/plain": [
       "                 Bar1 Bar2 Bar3 Bar4 Bar5 Bar6 Bar7 Bar8 Bar9 Bar10 ⋯ Bar65\n",
       "AAACCCAAGTTCTACG 7    1     6   4    6     9   2    6    16   6     ⋯ 6    \n",
       "AAACCCACACAAGGTG 9    0     5   1    2     9   0    6     9   0     ⋯ 0    \n",
       "AAACCCACAGCGGTCT 4    4    10   0    5     6   0    4     8   3     ⋯ 6    \n",
       "AAACCCACAGCTGGTC 9    4     7   0    2    14   2    6    13   3     ⋯ 5    \n",
       "AAACCCAGTACCGGCT 3    4     7   4    3    12   0    4     4   2     ⋯ 4    \n",
       "AAACCCAGTCGTTGCG 6    1     6   2    1     6   2    5     5   1     ⋯ 5    \n",
       "                 Bar66 Bar67 Bar68 Bar69 Bar70 Bar71 Bar72 nUMI nUMI_total\n",
       "AAACCCAAGTTCTACG 2     5       11  2     3     10    2     4221 5161      \n",
       "AAACCCACACAAGGTG 0     6     5371  1     1      4    5     5563 7066      \n",
       "AAACCCACAGCGGTCT 4     7       15  3     2      5    3      254  316      \n",
       "AAACCCACAGCTGGTC 5     9       10  2     1      4    2      264  341      \n",
       "AAACCCAGTACCGGCT 2     5        8  1     1      2    4      218  282      \n",
       "AAACCCAGTCGTTGCG 2     2        8  2     2      2    1     1393 1649      "
      ]
     },
     "metadata": {},
     "output_type": "display_data"
    },
    {
     "data": {
      "text/html": [
       "<style>\n",
       ".list-inline {list-style: none; margin:0; padding: 0}\n",
       ".list-inline>li {display: inline-block}\n",
       ".list-inline>li:not(:last-child)::after {content: \"\\00b7\"; padding: 0 .5ex}\n",
       "</style>\n",
       "<ol class=list-inline><li>9293</li><li>74</li></ol>\n"
      ],
      "text/latex": [
       "\\begin{enumerate*}\n",
       "\\item 9293\n",
       "\\item 74\n",
       "\\end{enumerate*}\n"
      ],
      "text/markdown": [
       "1. 9293\n",
       "2. 74\n",
       "\n",
       "\n"
      ],
      "text/plain": [
       "[1] 9293   74"
      ]
     },
     "metadata": {},
     "output_type": "display_data"
    }
   ],
   "source": [
    "head(bartable_48h)\n",
    "dim(bartable_48h)"
   ]
  },
  {
   "cell_type": "code",
   "execution_count": 5,
   "id": "8c81f2df-d5ba-4df8-83b5-6b57ff8ab6db",
   "metadata": {},
   "outputs": [],
   "source": [
    "x <- bartable_48h\n",
    "initial_cell_number <- nrow(bartable_48h)"
   ]
  },
  {
   "cell_type": "markdown",
   "id": "37b34569-e824-4d2c-b2a2-22a1b699e179",
   "metadata": {},
   "source": [
    "## demultiplexing: classification"
   ]
  },
  {
   "cell_type": "code",
   "execution_count": 6,
   "id": "0f2b7765-b87c-4450-8474-852bda5772bd",
   "metadata": {},
   "outputs": [
    {
     "name": "stderr",
     "output_type": "stream",
     "text": [
      "Loading required package: Rtsne\n",
      "\n"
     ]
    },
    {
     "name": "stdout",
     "output_type": "stream",
     "text": [
      "Performing PCA\n",
      "Read the 9293 x 72 data matrix successfully!\n",
      "OpenMP is working. 1 threads.\n",
      "Using no_dims = 2, perplexity = 30.000000, and theta = 0.500000\n",
      "Computing input similarities...\n",
      "Building tree...\n",
      "Done in 9.53 seconds (sparsity = 0.015256)!\n",
      "Learning embedding...\n",
      "Iteration 50: error is 94.786843 (50 iterations in 1.76 seconds)\n",
      "Iteration 100: error is 93.675623 (50 iterations in 2.03 seconds)\n",
      "Iteration 150: error is 92.157115 (50 iterations in 1.92 seconds)\n",
      "Iteration 200: error is 92.114451 (50 iterations in 1.92 seconds)\n",
      "Iteration 250: error is 92.103890 (50 iterations in 1.91 seconds)\n",
      "Iteration 300: error is 3.340783 (50 iterations in 1.47 seconds)\n",
      "Iteration 350: error is 2.955597 (50 iterations in 1.50 seconds)\n",
      "Iteration 400: error is 2.771027 (50 iterations in 1.46 seconds)\n",
      "Iteration 450: error is 2.662492 (50 iterations in 1.43 seconds)\n",
      "Iteration 500: error is 2.588683 (50 iterations in 1.42 seconds)\n",
      "Iteration 550: error is 2.535698 (50 iterations in 1.42 seconds)\n",
      "Iteration 600: error is 2.495442 (50 iterations in 1.42 seconds)\n",
      "Iteration 650: error is 2.464727 (50 iterations in 1.42 seconds)\n",
      "Iteration 700: error is 2.441939 (50 iterations in 1.40 seconds)\n",
      "Iteration 750: error is 2.425573 (50 iterations in 1.41 seconds)\n",
      "Iteration 800: error is 2.413536 (50 iterations in 1.41 seconds)\n",
      "Iteration 850: error is 2.404353 (50 iterations in 1.42 seconds)\n",
      "Iteration 900: error is 2.396548 (50 iterations in 1.42 seconds)\n",
      "Iteration 950: error is 2.391417 (50 iterations in 1.42 seconds)\n",
      "Iteration 1000: error is 2.386946 (50 iterations in 1.43 seconds)\n",
      "Iteration 1050: error is 2.383745 (50 iterations in 1.44 seconds)\n",
      "Iteration 1100: error is 2.380480 (50 iterations in 1.44 seconds)\n",
      "Iteration 1150: error is 2.377133 (50 iterations in 1.43 seconds)\n",
      "Iteration 1200: error is 2.374659 (50 iterations in 1.42 seconds)\n",
      "Iteration 1250: error is 2.372553 (50 iterations in 1.42 seconds)\n",
      "Iteration 1300: error is 2.370724 (50 iterations in 1.42 seconds)\n",
      "Iteration 1350: error is 2.368856 (50 iterations in 1.41 seconds)\n",
      "Iteration 1400: error is 2.366938 (50 iterations in 1.42 seconds)\n",
      "Iteration 1450: error is 2.364820 (50 iterations in 1.43 seconds)\n",
      "Iteration 1500: error is 2.362622 (50 iterations in 1.43 seconds)\n",
      "Iteration 1550: error is 2.360406 (50 iterations in 1.43 seconds)\n",
      "Iteration 1600: error is 2.358195 (50 iterations in 1.44 seconds)\n",
      "Iteration 1650: error is 2.356120 (50 iterations in 1.45 seconds)\n",
      "Iteration 1700: error is 2.354136 (50 iterations in 1.45 seconds)\n",
      "Iteration 1750: error is 2.352045 (50 iterations in 1.45 seconds)\n",
      "Iteration 1800: error is 2.349711 (50 iterations in 1.45 seconds)\n",
      "Iteration 1850: error is 2.347918 (50 iterations in 1.46 seconds)\n",
      "Iteration 1900: error is 2.346333 (50 iterations in 1.46 seconds)\n",
      "Iteration 1950: error is 2.344707 (50 iterations in 1.47 seconds)\n",
      "Iteration 2000: error is 2.343419 (50 iterations in 1.47 seconds)\n",
      "Iteration 2050: error is 2.342312 (50 iterations in 1.47 seconds)\n",
      "Iteration 2100: error is 2.341142 (50 iterations in 1.47 seconds)\n",
      "Iteration 2150: error is 2.340144 (50 iterations in 1.46 seconds)\n",
      "Iteration 2200: error is 2.339104 (50 iterations in 1.47 seconds)\n",
      "Iteration 2250: error is 2.337963 (50 iterations in 1.47 seconds)\n",
      "Iteration 2300: error is 2.336501 (50 iterations in 1.47 seconds)\n",
      "Iteration 2350: error is 2.335241 (50 iterations in 1.47 seconds)\n",
      "Iteration 2400: error is 2.333838 (50 iterations in 1.48 seconds)\n",
      "Iteration 2450: error is 2.332369 (50 iterations in 1.47 seconds)\n",
      "Iteration 2500: error is 2.331090 (50 iterations in 1.47 seconds)\n",
      "Fitting performed in 74.49 seconds.\n"
     ]
    },
    {
     "data": {
      "text/html": [
       "<strong>png:</strong> 2"
      ],
      "text/latex": [
       "\\textbf{png:} 2"
      ],
      "text/markdown": [
       "**png:** 2"
      ],
      "text/plain": [
       "png \n",
       "  2 "
      ]
     },
     "metadata": {},
     "output_type": "display_data"
    }
   ],
   "source": [
    "## Visualize barcode space\n",
    "bar.tsne <- barTSNE(x[,1:72]) # number of barcodes and not columns !!\n",
    "## Note: Exclude columns 97:98 (assuming 96 barcodes were used) which provide total barcode UMI counts for each cell. \n",
    "\n",
    "pdf(\"./outputs/MULTIseq/48h_bc.check.pdf\")\n",
    "for (i in 3:ncol(bar.tsne)) {\n",
    "  g <- ggplot(bar.tsne, aes(x = TSNE1, y = TSNE2, color = bar.tsne[,i])) +\n",
    "    geom_point() +\n",
    "    scale_color_gradient(low = \"black\", high = \"red\") +\n",
    "    ggtitle(colnames(bar.tsne)[i]) +\n",
    "    theme(legend.position = \"none\") \n",
    "  print(g)\n",
    "}\n",
    "dev.off()\n"
   ]
  },
  {
   "cell_type": "code",
   "execution_count": 8,
   "id": "a4b0a1ba-85b0-41a9-ae71-ada27a30c6e1",
   "metadata": {},
   "outputs": [
    {
     "name": "stdout",
     "output_type": "stream",
     "text": [
      "[1] 0.01\n",
      "[1] \"No threshold found for Bar50...\"\n",
      "[1] 0.03\n",
      "[1] \"No threshold found for Bar50...\"\n",
      "[1] 0.05\n",
      "[1] \"No threshold found for Bar50...\"\n",
      "[1] 0.07\n",
      "[1] \"No threshold found for Bar50...\"\n",
      "[1] 0.09\n",
      "[1] \"No threshold found for Bar50...\"\n",
      "[1] 0.11\n",
      "[1] \"No threshold found for Bar50...\"\n",
      "[1] 0.13\n",
      "[1] \"No threshold found for Bar50...\"\n",
      "[1] 0.15\n",
      "[1] \"No threshold found for Bar50...\"\n",
      "[1] 0.17\n",
      "[1] \"No threshold found for Bar50...\"\n",
      "[1] 0.19\n",
      "[1] \"No threshold found for Bar50...\"\n",
      "[1] 0.21\n",
      "[1] \"No threshold found for Bar50...\"\n",
      "[1] 0.23\n",
      "[1] \"No threshold found for Bar50...\"\n",
      "[1] 0.25\n",
      "[1] \"No threshold found for Bar50...\"\n",
      "[1] 0.27\n",
      "[1] \"No threshold found for Bar50...\"\n",
      "[1] 0.29\n",
      "[1] \"No threshold found for Bar50...\"\n",
      "[1] 0.31\n",
      "[1] \"No threshold found for Bar50...\"\n",
      "[1] 0.33\n",
      "[1] \"No threshold found for Bar50...\"\n",
      "[1] 0.35\n",
      "[1] \"No threshold found for Bar50...\"\n",
      "[1] 0.37\n",
      "[1] \"No threshold found for Bar50...\"\n",
      "[1] 0.39\n",
      "[1] \"No threshold found for Bar50...\"\n",
      "[1] 0.41\n",
      "[1] \"No threshold found for Bar50...\"\n",
      "[1] 0.43\n",
      "[1] \"No threshold found for Bar50...\"\n",
      "[1] 0.45\n",
      "[1] \"No threshold found for Bar50...\"\n",
      "[1] 0.47\n",
      "[1] \"No threshold found for Bar50...\"\n",
      "[1] 0.49\n",
      "[1] \"No threshold found for Bar50...\"\n",
      "[1] 0.51\n",
      "[1] \"No threshold found for Bar50...\"\n",
      "[1] 0.53\n",
      "[1] \"No threshold found for Bar50...\"\n",
      "[1] 0.55\n",
      "[1] \"No threshold found for Bar50...\"\n",
      "[1] 0.57\n",
      "[1] \"No threshold found for Bar50...\"\n",
      "[1] 0.59\n",
      "[1] \"No threshold found for Bar50...\"\n",
      "[1] 0.61\n",
      "[1] \"No threshold found for Bar50...\"\n",
      "[1] 0.63\n",
      "[1] \"No threshold found for Bar50...\"\n",
      "[1] 0.65\n",
      "[1] \"No threshold found for Bar50...\"\n",
      "[1] 0.67\n",
      "[1] \"No threshold found for Bar50...\"\n",
      "[1] 0.69\n",
      "[1] \"No threshold found for Bar50...\"\n",
      "[1] 0.71\n",
      "[1] \"No threshold found for Bar50...\"\n",
      "[1] 0.73\n",
      "[1] \"No threshold found for Bar50...\"\n",
      "[1] 0.75\n",
      "[1] \"No threshold found for Bar50...\"\n",
      "[1] 0.77\n",
      "[1] \"No threshold found for Bar50...\"\n",
      "[1] 0.79\n",
      "[1] \"No threshold found for Bar50...\"\n",
      "[1] 0.81\n",
      "[1] \"No threshold found for Bar50...\"\n",
      "[1] 0.83\n",
      "[1] \"No threshold found for Bar50...\"\n",
      "[1] 0.85\n",
      "[1] \"No threshold found for Bar50...\"\n",
      "[1] 0.87\n",
      "[1] \"No threshold found for Bar50...\"\n",
      "[1] 0.89\n",
      "[1] \"No threshold found for Bar50...\"\n",
      "[1] 0.91\n",
      "[1] \"No threshold found for Bar50...\"\n",
      "[1] 0.93\n",
      "[1] \"No threshold found for Bar50...\"\n",
      "[1] 0.95\n",
      "[1] \"No threshold found for Bar50...\"\n",
      "[1] 0.97\n",
      "[1] \"No threshold found for Bar50...\"\n",
      "[1] 0.99\n",
      "[1] \"No threshold found for Bar50...\"\n",
      "[1] \"No threshold found for Bar50...\"\n"
     ]
    },
    {
     "data": {
      "image/png": "[encoded data removed]",
      "text/plain": [
       "plot without title"
      ]
     },
     "metadata": {
      "image/png": {
       "height": 420,
       "width": 420
      }
     },
     "output_type": "display_data"
    }
   ],
   "source": [
    "# Sample classification\n",
    "## Round 1 -----------------------------------------------------------------------------------------------------\n",
    "## Perform Quantile Sweep\n",
    "bar.table.full <- x[,1:72]\n",
    "good.bars <- paste(\"Bar\",1:72,sep=\"\")  # NOTE: In this hypothetical example, barcodes 91-96 were not detected\n",
    "bar.table <- bar.table.full[, good.bars]  # Remove missing bars and summary columns\n",
    "bar.table_sweep.list <- list()\n",
    "n <- 0\n",
    "for (q in seq(0.01, 0.99, by=0.02)) {\n",
    "  print(q)\n",
    "  n <- n + 1\n",
    "  bar.table_sweep.list[[n]] <- classifyCells(bar.table, q=q)\n",
    "  names(bar.table_sweep.list)[n] <- paste(\"q=\",q,sep=\"\")\n",
    "}\n",
    "\n",
    "## Identify ideal inter-maxima quantile to set barcode-specific thresholds\n",
    "threshold.results1 <- findThresh(call.list=bar.table_sweep.list)\n",
    "ggplot(data=threshold.results1$res, aes(x=q, y=Proportion, color=Subset)) + geom_line() + theme(legend.position = \"none\") +\n",
    "  geom_vline(xintercept=threshold.results1$extrema, lty=2) + scale_color_manual(values=c(\"red\",\"black\",\"blue\"))\n",
    "\n",
    "## Finalize round 1 classifications, remove negative cells\n",
    "round1.calls <- classifyCells(bar.table, q=findQ(threshold.results1$res, threshold.results1$extrema))\n",
    "neg.cells <- names(round1.calls)[which(round1.calls == \"Negative\")]\n",
    "bar.table <- bar.table[-which(rownames(bar.table) %in% neg.cells), ]\n"
   ]
  },
  {
   "cell_type": "code",
   "execution_count": 9,
   "id": "9d7a992a-c81c-4dd3-9077-a9091830a96d",
   "metadata": {},
   "outputs": [
    {
     "data": {
      "text/plain": [
       "round1.calls\n",
       "    Bar1    Bar10    Bar11    Bar12    Bar13    Bar14    Bar15    Bar16 \n",
       "      61       57      118       76       86      113      103      101 \n",
       "   Bar17    Bar18    Bar19     Bar2    Bar20    Bar21    Bar22    Bar23 \n",
       "      37      112       28      110      121       31      108      139 \n",
       "   Bar24    Bar25    Bar26    Bar27    Bar28    Bar29     Bar3    Bar30 \n",
       "     102       72       20       42       43       48      100       87 \n",
       "   Bar31    Bar32    Bar33    Bar34    Bar35    Bar36    Bar37    Bar38 \n",
       "      90      116      121      103       25       88       31       38 \n",
       "   Bar39     Bar4    Bar40    Bar41    Bar42    Bar43    Bar44    Bar45 \n",
       "      30      131       85      155      121      116       59       99 \n",
       "   Bar46    Bar47    Bar48    Bar49     Bar5    Bar51    Bar52    Bar53 \n",
       "      26       43       20       34       86      140      121       33 \n",
       "   Bar54    Bar55    Bar56    Bar57    Bar58    Bar59     Bar6    Bar60 \n",
       "      60       77       36       89      125       69      146      115 \n",
       "   Bar61    Bar62    Bar63    Bar64    Bar65    Bar66    Bar67    Bar68 \n",
       "      63       21      107      109      107       55       97      130 \n",
       "   Bar69     Bar7    Bar70    Bar71    Bar72     Bar8     Bar9  Doublet \n",
       "     108      118      138       90      110       82       34     1558 \n",
       "Negative \n",
       "    1823 "
      ]
     },
     "metadata": {},
     "output_type": "display_data"
    },
    {
     "data": {
      "text/html": [
       "9293"
      ],
      "text/latex": [
       "9293"
      ],
      "text/markdown": [
       "9293"
      ],
      "text/plain": [
       "[1] 9293"
      ]
     },
     "metadata": {},
     "output_type": "display_data"
    }
   ],
   "source": [
    "table(round1.calls)\n",
    "length(round1.calls)"
   ]
  },
  {
   "cell_type": "code",
   "execution_count": 10,
   "id": "bb3ebcc9-631d-4103-b556-67b59556f92d",
   "metadata": {},
   "outputs": [
    {
     "name": "stdout",
     "output_type": "stream",
     "text": [
      "[1] 0.01\n",
      "[1] \"No threshold found for Bar50...\"\n",
      "[1] 0.03\n",
      "[1] \"No threshold found for Bar50...\"\n",
      "[1] 0.05\n",
      "[1] \"No threshold found for Bar50...\"\n",
      "[1] 0.07\n",
      "[1] \"No threshold found for Bar50...\"\n",
      "[1] 0.09\n",
      "[1] \"No threshold found for Bar50...\"\n",
      "[1] 0.11\n",
      "[1] \"No threshold found for Bar50...\"\n",
      "[1] 0.13\n",
      "[1] \"No threshold found for Bar50...\"\n",
      "[1] 0.15\n",
      "[1] \"No threshold found for Bar50...\"\n",
      "[1] 0.17\n",
      "[1] \"No threshold found for Bar50...\"\n",
      "[1] 0.19\n",
      "[1] \"No threshold found for Bar50...\"\n",
      "[1] 0.21\n",
      "[1] \"No threshold found for Bar50...\"\n",
      "[1] 0.23\n",
      "[1] \"No threshold found for Bar50...\"\n",
      "[1] 0.25\n",
      "[1] \"No threshold found for Bar50...\"\n",
      "[1] 0.27\n",
      "[1] \"No threshold found for Bar50...\"\n",
      "[1] 0.29\n",
      "[1] \"No threshold found for Bar50...\"\n",
      "[1] 0.31\n",
      "[1] \"No threshold found for Bar50...\"\n",
      "[1] 0.33\n",
      "[1] \"No threshold found for Bar50...\"\n",
      "[1] 0.35\n",
      "[1] \"No threshold found for Bar50...\"\n",
      "[1] 0.37\n",
      "[1] \"No threshold found for Bar50...\"\n",
      "[1] 0.39\n",
      "[1] \"No threshold found for Bar50...\"\n",
      "[1] 0.41\n",
      "[1] \"No threshold found for Bar50...\"\n",
      "[1] 0.43\n",
      "[1] \"No threshold found for Bar50...\"\n",
      "[1] 0.45\n",
      "[1] \"No threshold found for Bar50...\"\n",
      "[1] 0.47\n",
      "[1] \"No threshold found for Bar50...\"\n",
      "[1] 0.49\n",
      "[1] \"No threshold found for Bar50...\"\n",
      "[1] 0.51\n",
      "[1] \"No threshold found for Bar50...\"\n",
      "[1] 0.53\n",
      "[1] \"No threshold found for Bar50...\"\n",
      "[1] 0.55\n",
      "[1] \"No threshold found for Bar50...\"\n",
      "[1] 0.57\n",
      "[1] \"No threshold found for Bar50...\"\n",
      "[1] 0.59\n",
      "[1] \"No threshold found for Bar50...\"\n",
      "[1] 0.61\n",
      "[1] \"No threshold found for Bar50...\"\n",
      "[1] 0.63\n",
      "[1] \"No threshold found for Bar50...\"\n",
      "[1] 0.65\n",
      "[1] \"No threshold found for Bar50...\"\n",
      "[1] 0.67\n",
      "[1] \"No threshold found for Bar50...\"\n",
      "[1] 0.69\n",
      "[1] \"No threshold found for Bar50...\"\n",
      "[1] 0.71\n",
      "[1] \"No threshold found for Bar50...\"\n",
      "[1] 0.73\n",
      "[1] \"No threshold found for Bar50...\"\n",
      "[1] 0.75\n",
      "[1] \"No threshold found for Bar50...\"\n",
      "[1] 0.77\n",
      "[1] \"No threshold found for Bar50...\"\n",
      "[1] 0.79\n",
      "[1] \"No threshold found for Bar50...\"\n",
      "[1] 0.81\n",
      "[1] \"No threshold found for Bar50...\"\n",
      "[1] 0.83\n",
      "[1] \"No threshold found for Bar50...\"\n",
      "[1] 0.85\n",
      "[1] \"No threshold found for Bar50...\"\n",
      "[1] 0.87\n",
      "[1] \"No threshold found for Bar50...\"\n",
      "[1] 0.89\n",
      "[1] \"No threshold found for Bar50...\"\n",
      "[1] 0.91\n",
      "[1] \"No threshold found for Bar50...\"\n",
      "[1] 0.93\n",
      "[1] \"No threshold found for Bar50...\"\n",
      "[1] 0.95\n",
      "[1] \"No threshold found for Bar50...\"\n",
      "[1] 0.97\n",
      "[1] \"No threshold found for Bar50...\"\n",
      "[1] 0.99\n",
      "[1] \"No threshold found for Bar50...\"\n",
      "[1] \"No threshold found for Bar50...\"\n"
     ]
    }
   ],
   "source": [
    "## Round 2 -----------------------------------------------------------------------------------------------------\n",
    "bar.table_sweep.list <- list()\n",
    "n <- 0\n",
    "for (q in seq(0.01, 0.99, by=0.02)) {\n",
    "  print(q)\n",
    "  n <- n + 1\n",
    "  bar.table_sweep.list[[n]] <- classifyCells(bar.table, q=q)\n",
    "  names(bar.table_sweep.list)[n] <- paste(\"q=\",q,sep=\"\")\n",
    "}\n",
    "\n",
    "threshold.results2 <- findThresh(call.list=bar.table_sweep.list)\n",
    "round2.calls <- classifyCells(bar.table, q=findQ(threshold.results2$res, threshold.results2$extrema))\n",
    "neg.cells <- c(neg.cells, names(round2.calls)[which(round2.calls == \"Negative\")])"
   ]
  },
  {
   "cell_type": "code",
   "execution_count": 11,
   "id": "c9891b87-ef8e-4f54-a126-9c28839e0d95",
   "metadata": {},
   "outputs": [
    {
     "data": {
      "text/html": [
       "2208"
      ],
      "text/latex": [
       "2208"
      ],
      "text/markdown": [
       "2208"
      ],
      "text/plain": [
       "[1] 2208"
      ]
     },
     "metadata": {},
     "output_type": "display_data"
    },
    {
     "data": {
      "text/plain": [
       "round2.calls\n",
       "    Bar1    Bar10    Bar11    Bar12    Bar13    Bar14    Bar15    Bar16 \n",
       "      53       61      121       75       78      104      102       93 \n",
       "   Bar17    Bar18    Bar19     Bar2    Bar20    Bar21    Bar22    Bar23 \n",
       "      40      115       28      113      124       35       87      132 \n",
       "   Bar24    Bar25    Bar26    Bar27    Bar28    Bar29     Bar3    Bar30 \n",
       "      96       64       26       42       49       50       98       84 \n",
       "   Bar31    Bar32    Bar33    Bar34    Bar35    Bar36    Bar37    Bar38 \n",
       "      83      113      123       90       31       92       33       46 \n",
       "   Bar39     Bar4    Bar40    Bar41    Bar42    Bar43    Bar44    Bar45 \n",
       "      30      130       38      161      119      112       65       98 \n",
       "   Bar46    Bar47    Bar48    Bar49     Bar5    Bar51    Bar52    Bar53 \n",
       "      34       45       23       25       75      135      114       36 \n",
       "   Bar54    Bar55    Bar56    Bar57    Bar58    Bar59     Bar6    Bar60 \n",
       "      66       72       39       89      122       55      134      119 \n",
       "   Bar61    Bar62    Bar63    Bar64    Bar65    Bar66    Bar67    Bar68 \n",
       "      57       28      109      100      102       60       85      128 \n",
       "   Bar69     Bar7    Bar70    Bar71    Bar72     Bar8     Bar9  Doublet \n",
       "     111      118      137       93      105       77       41     1317 \n",
       "Negative \n",
       "     385 "
      ]
     },
     "metadata": {},
     "output_type": "display_data"
    },
    {
     "data": {
      "text/html": [
       "7470"
      ],
      "text/latex": [
       "7470"
      ],
      "text/markdown": [
       "7470"
      ],
      "text/plain": [
       "[1] 7470"
      ]
     },
     "metadata": {},
     "output_type": "display_data"
    }
   ],
   "source": [
    "length(neg.cells)\n",
    "\n",
    "table(round2.calls)\n",
    "length(round2.calls)"
   ]
  },
  {
   "cell_type": "code",
   "execution_count": 12,
   "id": "e9826bce-50c0-44e5-846f-38ea0cd861dc",
   "metadata": {},
   "outputs": [
    {
     "name": "stdout",
     "output_type": "stream",
     "text": [
      "[1] 0.01\n",
      "[1] \"No threshold found for Bar50...\"\n",
      "[1] 0.03\n",
      "[1] \"No threshold found for Bar50...\"\n",
      "[1] 0.05\n",
      "[1] \"No threshold found for Bar50...\"\n",
      "[1] 0.07\n",
      "[1] \"No threshold found for Bar50...\"\n",
      "[1] 0.09\n",
      "[1] \"No threshold found for Bar50...\"\n",
      "[1] 0.11\n",
      "[1] \"No threshold found for Bar50...\"\n",
      "[1] 0.13\n",
      "[1] \"No threshold found for Bar50...\"\n",
      "[1] 0.15\n",
      "[1] \"No threshold found for Bar50...\"\n",
      "[1] 0.17\n",
      "[1] \"No threshold found for Bar50...\"\n",
      "[1] 0.19\n",
      "[1] \"No threshold found for Bar50...\"\n",
      "[1] 0.21\n",
      "[1] \"No threshold found for Bar50...\"\n",
      "[1] 0.23\n",
      "[1] \"No threshold found for Bar50...\"\n",
      "[1] 0.25\n",
      "[1] \"No threshold found for Bar50...\"\n",
      "[1] 0.27\n",
      "[1] \"No threshold found for Bar50...\"\n",
      "[1] 0.29\n",
      "[1] \"No threshold found for Bar50...\"\n",
      "[1] 0.31\n",
      "[1] \"No threshold found for Bar50...\"\n",
      "[1] 0.33\n",
      "[1] \"No threshold found for Bar50...\"\n",
      "[1] 0.35\n",
      "[1] \"No threshold found for Bar50...\"\n",
      "[1] 0.37\n",
      "[1] \"No threshold found for Bar50...\"\n",
      "[1] 0.39\n",
      "[1] \"No threshold found for Bar50...\"\n",
      "[1] 0.41\n",
      "[1] \"No threshold found for Bar50...\"\n",
      "[1] 0.43\n",
      "[1] \"No threshold found for Bar50...\"\n",
      "[1] 0.45\n",
      "[1] \"No threshold found for Bar50...\"\n",
      "[1] 0.47\n",
      "[1] \"No threshold found for Bar50...\"\n",
      "[1] 0.49\n",
      "[1] \"No threshold found for Bar50...\"\n",
      "[1] 0.51\n",
      "[1] \"No threshold found for Bar50...\"\n",
      "[1] 0.53\n",
      "[1] \"No threshold found for Bar50...\"\n",
      "[1] 0.55\n",
      "[1] \"No threshold found for Bar50...\"\n",
      "[1] 0.57\n",
      "[1] \"No threshold found for Bar50...\"\n",
      "[1] 0.59\n",
      "[1] \"No threshold found for Bar50...\"\n",
      "[1] 0.61\n",
      "[1] \"No threshold found for Bar50...\"\n",
      "[1] 0.63\n",
      "[1] \"No threshold found for Bar50...\"\n",
      "[1] 0.65\n",
      "[1] \"No threshold found for Bar50...\"\n",
      "[1] 0.67\n",
      "[1] \"No threshold found for Bar50...\"\n",
      "[1] 0.69\n",
      "[1] \"No threshold found for Bar50...\"\n",
      "[1] 0.71\n",
      "[1] \"No threshold found for Bar50...\"\n",
      "[1] 0.73\n",
      "[1] \"No threshold found for Bar50...\"\n",
      "[1] 0.75\n",
      "[1] \"No threshold found for Bar50...\"\n",
      "[1] 0.77\n",
      "[1] \"No threshold found for Bar50...\"\n",
      "[1] 0.79\n",
      "[1] \"No threshold found for Bar50...\"\n",
      "[1] 0.81\n",
      "[1] \"No threshold found for Bar50...\"\n",
      "[1] 0.83\n",
      "[1] \"No threshold found for Bar50...\"\n",
      "[1] 0.85\n",
      "[1] \"No threshold found for Bar50...\"\n",
      "[1] 0.87\n",
      "[1] \"No threshold found for Bar50...\"\n",
      "[1] 0.89\n",
      "[1] \"No threshold found for Bar50...\"\n",
      "[1] 0.91\n",
      "[1] \"No threshold found for Bar50...\"\n",
      "[1] 0.93\n",
      "[1] \"No threshold found for Bar50...\"\n",
      "[1] 0.95\n",
      "[1] \"No threshold found for Bar50...\"\n",
      "[1] 0.97\n",
      "[1] \"No threshold found for Bar50...\"\n",
      "[1] 0.99\n",
      "[1] \"No threshold found for Bar50...\"\n",
      "[1] \"No threshold found for Bar50...\"\n"
     ]
    }
   ],
   "source": [
    "## Round 3 -----------------------------------------------------------------------------------------------------\n",
    "bar.table_sweep.list <- list()\n",
    "n <- 0\n",
    "for (q in seq(0.01, 0.99, by=0.02)) {\n",
    "  print(q)\n",
    "  n <- n + 1\n",
    "  bar.table_sweep.list[[n]] <- classifyCells(bar.table, q=q)\n",
    "  names(bar.table_sweep.list)[n] <- paste(\"q=\",q,sep=\"\")\n",
    "}\n",
    "\n",
    "threshold.results3 <- findThresh(call.list=bar.table_sweep.list)\n",
    "round3.calls <- classifyCells(bar.table, q=findQ(threshold.results3$res, threshold.results3$extrema))\n",
    "neg.cells <- c(neg.cells, names(round3.calls)[which(round3.calls == \"Negative\")])"
   ]
  },
  {
   "cell_type": "code",
   "execution_count": 13,
   "id": "4758245b-0531-4862-9e91-7a7c31da64ec",
   "metadata": {},
   "outputs": [
    {
     "data": {
      "text/html": [
       "2593"
      ],
      "text/latex": [
       "2593"
      ],
      "text/markdown": [
       "2593"
      ],
      "text/plain": [
       "[1] 2593"
      ]
     },
     "metadata": {},
     "output_type": "display_data"
    },
    {
     "data": {
      "text/plain": [
       "round3.calls\n",
       "    Bar1    Bar10    Bar11    Bar12    Bar13    Bar14    Bar15    Bar16 \n",
       "      53       61      121       75       78      104      102       93 \n",
       "   Bar17    Bar18    Bar19     Bar2    Bar20    Bar21    Bar22    Bar23 \n",
       "      40      115       28      113      124       35       87      132 \n",
       "   Bar24    Bar25    Bar26    Bar27    Bar28    Bar29     Bar3    Bar30 \n",
       "      96       64       26       42       49       50       98       84 \n",
       "   Bar31    Bar32    Bar33    Bar34    Bar35    Bar36    Bar37    Bar38 \n",
       "      83      113      123       90       31       92       33       46 \n",
       "   Bar39     Bar4    Bar40    Bar41    Bar42    Bar43    Bar44    Bar45 \n",
       "      30      130       38      161      119      112       65       98 \n",
       "   Bar46    Bar47    Bar48    Bar49     Bar5    Bar51    Bar52    Bar53 \n",
       "      34       45       23       25       75      135      114       36 \n",
       "   Bar54    Bar55    Bar56    Bar57    Bar58    Bar59     Bar6    Bar60 \n",
       "      66       72       39       89      122       55      134      119 \n",
       "   Bar61    Bar62    Bar63    Bar64    Bar65    Bar66    Bar67    Bar68 \n",
       "      57       28      109      100      102       60       85      128 \n",
       "   Bar69     Bar7    Bar70    Bar71    Bar72     Bar8     Bar9  Doublet \n",
       "     111      118      137       93      105       77       41     1317 \n",
       "Negative \n",
       "     385 "
      ]
     },
     "metadata": {},
     "output_type": "display_data"
    },
    {
     "data": {
      "text/html": [
       "7470"
      ],
      "text/latex": [
       "7470"
      ],
      "text/markdown": [
       "7470"
      ],
      "text/plain": [
       "[1] 7470"
      ]
     },
     "metadata": {},
     "output_type": "display_data"
    }
   ],
   "source": [
    "length(neg.cells)\n",
    "\n",
    "table(round3.calls)\n",
    "length(round3.calls)"
   ]
  },
  {
   "cell_type": "code",
   "execution_count": 14,
   "id": "4a9b6ae1-5392-4258-acb2-253bee0b2dc1",
   "metadata": {},
   "outputs": [],
   "source": [
    "## Repeat until all no negative cells remain (usually 3 rounds)...\n",
    "final.calls <- c(round3.calls, rep(\"Negative\",length(neg.cells)))\n",
    "names(final.calls) <- c(names(round3.calls),neg.cells)"
   ]
  },
  {
   "cell_type": "code",
   "execution_count": 15,
   "id": "6940e704-1c8e-4fb8-b83e-7bc72b65ab1d",
   "metadata": {},
   "outputs": [
    {
     "data": {
      "text/html": [
       "<table class=\"dataframe\">\n",
       "<caption>A data.frame: 6 × 72</caption>\n",
       "<thead>\n",
       "\t<tr><th></th><th scope=col>Bar1</th><th scope=col>Bar2</th><th scope=col>Bar3</th><th scope=col>Bar4</th><th scope=col>Bar5</th><th scope=col>Bar6</th><th scope=col>Bar7</th><th scope=col>Bar8</th><th scope=col>Bar9</th><th scope=col>Bar10</th><th scope=col>⋯</th><th scope=col>Bar63</th><th scope=col>Bar64</th><th scope=col>Bar65</th><th scope=col>Bar66</th><th scope=col>Bar67</th><th scope=col>Bar68</th><th scope=col>Bar69</th><th scope=col>Bar70</th><th scope=col>Bar71</th><th scope=col>Bar72</th></tr>\n",
       "\t<tr><th></th><th scope=col>&lt;int&gt;</th><th scope=col>&lt;int&gt;</th><th scope=col>&lt;int&gt;</th><th scope=col>&lt;int&gt;</th><th scope=col>&lt;int&gt;</th><th scope=col>&lt;int&gt;</th><th scope=col>&lt;int&gt;</th><th scope=col>&lt;int&gt;</th><th scope=col>&lt;int&gt;</th><th scope=col>&lt;int&gt;</th><th scope=col>⋯</th><th scope=col>&lt;int&gt;</th><th scope=col>&lt;int&gt;</th><th scope=col>&lt;int&gt;</th><th scope=col>&lt;int&gt;</th><th scope=col>&lt;int&gt;</th><th scope=col>&lt;int&gt;</th><th scope=col>&lt;int&gt;</th><th scope=col>&lt;int&gt;</th><th scope=col>&lt;int&gt;</th><th scope=col>&lt;int&gt;</th></tr>\n",
       "</thead>\n",
       "<tbody>\n",
       "\t<tr><th scope=row>AAACCCAAGTTCTACG</th><td>7</td><td>1</td><td> 6</td><td>4</td><td>6</td><td> 9</td><td>2</td><td>6</td><td>16</td><td>6</td><td>⋯</td><td>7</td><td> 1</td><td>6</td><td>2</td><td>5</td><td>  11</td><td> 2</td><td>3</td><td>10</td><td>2</td></tr>\n",
       "\t<tr><th scope=row>AAACCCACACAAGGTG</th><td>9</td><td>0</td><td> 5</td><td>1</td><td>2</td><td> 9</td><td>0</td><td>6</td><td> 9</td><td>0</td><td>⋯</td><td>5</td><td> 1</td><td>0</td><td>0</td><td>6</td><td>5371</td><td> 1</td><td>1</td><td> 4</td><td>5</td></tr>\n",
       "\t<tr><th scope=row>AAACCCACAGCTGGTC</th><td>9</td><td>4</td><td> 7</td><td>0</td><td>2</td><td>14</td><td>2</td><td>6</td><td>13</td><td>3</td><td>⋯</td><td>2</td><td> 0</td><td>5</td><td>5</td><td>9</td><td>  10</td><td> 2</td><td>1</td><td> 4</td><td>2</td></tr>\n",
       "\t<tr><th scope=row>AAACCCAGTCGTTGCG</th><td>6</td><td>1</td><td> 6</td><td>2</td><td>1</td><td> 6</td><td>2</td><td>5</td><td> 5</td><td>1</td><td>⋯</td><td>1</td><td> 3</td><td>5</td><td>2</td><td>2</td><td>   8</td><td> 2</td><td>2</td><td> 2</td><td>1</td></tr>\n",
       "\t<tr><th scope=row>AAACCCATCCTACACC</th><td>5</td><td>2</td><td>12</td><td>1</td><td>4</td><td> 7</td><td>3</td><td>6</td><td>12</td><td>4</td><td>⋯</td><td>6</td><td>28</td><td>5</td><td>6</td><td>3</td><td>  19</td><td> 5</td><td>0</td><td> 2</td><td>1</td></tr>\n",
       "\t<tr><th scope=row>AAACGAAAGCCGAATG</th><td>8</td><td>4</td><td> 9</td><td>3</td><td>2</td><td>11</td><td>5</td><td>2</td><td> 9</td><td>2</td><td>⋯</td><td>5</td><td> 7</td><td>6</td><td>4</td><td>6</td><td>  14</td><td>16</td><td>0</td><td>10</td><td>5</td></tr>\n",
       "</tbody>\n",
       "</table>\n"
      ],
      "text/latex": [
       "A data.frame: 6 × 72\n",
       "\\begin{tabular}{r|lllllllllllllllllllll}\n",
       "  & Bar1 & Bar2 & Bar3 & Bar4 & Bar5 & Bar6 & Bar7 & Bar8 & Bar9 & Bar10 & ⋯ & Bar63 & Bar64 & Bar65 & Bar66 & Bar67 & Bar68 & Bar69 & Bar70 & Bar71 & Bar72\\\\\n",
       "  & <int> & <int> & <int> & <int> & <int> & <int> & <int> & <int> & <int> & <int> & ⋯ & <int> & <int> & <int> & <int> & <int> & <int> & <int> & <int> & <int> & <int>\\\\\n",
       "\\hline\n",
       "\tAAACCCAAGTTCTACG & 7 & 1 &  6 & 4 & 6 &  9 & 2 & 6 & 16 & 6 & ⋯ & 7 &  1 & 6 & 2 & 5 &   11 &  2 & 3 & 10 & 2\\\\\n",
       "\tAAACCCACACAAGGTG & 9 & 0 &  5 & 1 & 2 &  9 & 0 & 6 &  9 & 0 & ⋯ & 5 &  1 & 0 & 0 & 6 & 5371 &  1 & 1 &  4 & 5\\\\\n",
       "\tAAACCCACAGCTGGTC & 9 & 4 &  7 & 0 & 2 & 14 & 2 & 6 & 13 & 3 & ⋯ & 2 &  0 & 5 & 5 & 9 &   10 &  2 & 1 &  4 & 2\\\\\n",
       "\tAAACCCAGTCGTTGCG & 6 & 1 &  6 & 2 & 1 &  6 & 2 & 5 &  5 & 1 & ⋯ & 1 &  3 & 5 & 2 & 2 &    8 &  2 & 2 &  2 & 1\\\\\n",
       "\tAAACCCATCCTACACC & 5 & 2 & 12 & 1 & 4 &  7 & 3 & 6 & 12 & 4 & ⋯ & 6 & 28 & 5 & 6 & 3 &   19 &  5 & 0 &  2 & 1\\\\\n",
       "\tAAACGAAAGCCGAATG & 8 & 4 &  9 & 3 & 2 & 11 & 5 & 2 &  9 & 2 & ⋯ & 5 &  7 & 6 & 4 & 6 &   14 & 16 & 0 & 10 & 5\\\\\n",
       "\\end{tabular}\n"
      ],
      "text/markdown": [
       "\n",
       "A data.frame: 6 × 72\n",
       "\n",
       "| <!--/--> | Bar1 &lt;int&gt; | Bar2 &lt;int&gt; | Bar3 &lt;int&gt; | Bar4 &lt;int&gt; | Bar5 &lt;int&gt; | Bar6 &lt;int&gt; | Bar7 &lt;int&gt; | Bar8 &lt;int&gt; | Bar9 &lt;int&gt; | Bar10 &lt;int&gt; | ⋯ ⋯ | Bar63 &lt;int&gt; | Bar64 &lt;int&gt; | Bar65 &lt;int&gt; | Bar66 &lt;int&gt; | Bar67 &lt;int&gt; | Bar68 &lt;int&gt; | Bar69 &lt;int&gt; | Bar70 &lt;int&gt; | Bar71 &lt;int&gt; | Bar72 &lt;int&gt; |\n",
       "|---|---|---|---|---|---|---|---|---|---|---|---|---|---|---|---|---|---|---|---|---|---|\n",
       "| AAACCCAAGTTCTACG | 7 | 1 |  6 | 4 | 6 |  9 | 2 | 6 | 16 | 6 | ⋯ | 7 |  1 | 6 | 2 | 5 |   11 |  2 | 3 | 10 | 2 |\n",
       "| AAACCCACACAAGGTG | 9 | 0 |  5 | 1 | 2 |  9 | 0 | 6 |  9 | 0 | ⋯ | 5 |  1 | 0 | 0 | 6 | 5371 |  1 | 1 |  4 | 5 |\n",
       "| AAACCCACAGCTGGTC | 9 | 4 |  7 | 0 | 2 | 14 | 2 | 6 | 13 | 3 | ⋯ | 2 |  0 | 5 | 5 | 9 |   10 |  2 | 1 |  4 | 2 |\n",
       "| AAACCCAGTCGTTGCG | 6 | 1 |  6 | 2 | 1 |  6 | 2 | 5 |  5 | 1 | ⋯ | 1 |  3 | 5 | 2 | 2 |    8 |  2 | 2 |  2 | 1 |\n",
       "| AAACCCATCCTACACC | 5 | 2 | 12 | 1 | 4 |  7 | 3 | 6 | 12 | 4 | ⋯ | 6 | 28 | 5 | 6 | 3 |   19 |  5 | 0 |  2 | 1 |\n",
       "| AAACGAAAGCCGAATG | 8 | 4 |  9 | 3 | 2 | 11 | 5 | 2 |  9 | 2 | ⋯ | 5 |  7 | 6 | 4 | 6 |   14 | 16 | 0 | 10 | 5 |\n",
       "\n"
      ],
      "text/plain": [
       "                 Bar1 Bar2 Bar3 Bar4 Bar5 Bar6 Bar7 Bar8 Bar9 Bar10 ⋯ Bar63\n",
       "AAACCCAAGTTCTACG 7    1     6   4    6     9   2    6    16   6     ⋯ 7    \n",
       "AAACCCACACAAGGTG 9    0     5   1    2     9   0    6     9   0     ⋯ 5    \n",
       "AAACCCACAGCTGGTC 9    4     7   0    2    14   2    6    13   3     ⋯ 2    \n",
       "AAACCCAGTCGTTGCG 6    1     6   2    1     6   2    5     5   1     ⋯ 1    \n",
       "AAACCCATCCTACACC 5    2    12   1    4     7   3    6    12   4     ⋯ 6    \n",
       "AAACGAAAGCCGAATG 8    4     9   3    2    11   5    2     9   2     ⋯ 5    \n",
       "                 Bar64 Bar65 Bar66 Bar67 Bar68 Bar69 Bar70 Bar71 Bar72\n",
       "AAACCCAAGTTCTACG  1    6     2     5       11   2    3     10    2    \n",
       "AAACCCACACAAGGTG  1    0     0     6     5371   1    1      4    5    \n",
       "AAACCCACAGCTGGTC  0    5     5     9       10   2    1      4    2    \n",
       "AAACCCAGTCGTTGCG  3    5     2     2        8   2    2      2    1    \n",
       "AAACCCATCCTACACC 28    5     6     3       19   5    0      2    1    \n",
       "AAACGAAAGCCGAATG  7    6     4     6       14  16    0     10    5    "
      ]
     },
     "metadata": {},
     "output_type": "display_data"
    },
    {
     "data": {
      "text/html": [
       "<style>\n",
       ".list-inline {list-style: none; margin:0; padding: 0}\n",
       ".list-inline>li {display: inline-block}\n",
       ".list-inline>li:not(:last-child)::after {content: \"\\00b7\"; padding: 0 .5ex}\n",
       "</style>\n",
       "<ol class=list-inline><li>7470</li><li>72</li></ol>\n"
      ],
      "text/latex": [
       "\\begin{enumerate*}\n",
       "\\item 7470\n",
       "\\item 72\n",
       "\\end{enumerate*}\n"
      ],
      "text/markdown": [
       "1. 7470\n",
       "2. 72\n",
       "\n",
       "\n"
      ],
      "text/plain": [
       "[1] 7470   72"
      ]
     },
     "metadata": {},
     "output_type": "display_data"
    }
   ],
   "source": [
    "head(bar.table)\n",
    "dim(bar.table)"
   ]
  },
  {
   "cell_type": "code",
   "execution_count": 16,
   "id": "f719431b-fcfd-44ee-ad57-0efb19fdf192",
   "metadata": {},
   "outputs": [
    {
     "name": "stdout",
     "output_type": "stream",
     "text": [
      "Performing PCA\n",
      "Read the 7470 x 72 data matrix successfully!\n",
      "OpenMP is working. 1 threads.\n",
      "Using no_dims = 2, perplexity = 30.000000, and theta = 0.500000\n",
      "Computing input similarities...\n",
      "Building tree...\n",
      "Done in 6.20 seconds (sparsity = 0.017252)!\n",
      "Learning embedding...\n",
      "Iteration 50: error is 93.064145 (50 iterations in 1.43 seconds)\n",
      "Iteration 100: error is 89.355386 (50 iterations in 1.75 seconds)\n",
      "Iteration 150: error is 87.483301 (50 iterations in 1.43 seconds)\n",
      "Iteration 200: error is 87.345744 (50 iterations in 1.42 seconds)\n",
      "Iteration 250: error is 87.314591 (50 iterations in 1.43 seconds)\n",
      "Iteration 300: error is 2.656195 (50 iterations in 1.23 seconds)\n",
      "Iteration 350: error is 2.216981 (50 iterations in 1.20 seconds)\n",
      "Iteration 400: error is 2.017149 (50 iterations in 1.17 seconds)\n",
      "Iteration 450: error is 1.898425 (50 iterations in 1.16 seconds)\n",
      "Iteration 500: error is 1.820734 (50 iterations in 1.15 seconds)\n",
      "Iteration 550: error is 1.765114 (50 iterations in 1.15 seconds)\n",
      "Iteration 600: error is 1.725604 (50 iterations in 1.15 seconds)\n",
      "Iteration 650: error is 1.695887 (50 iterations in 1.14 seconds)\n",
      "Iteration 700: error is 1.674929 (50 iterations in 1.14 seconds)\n",
      "Iteration 750: error is 1.661634 (50 iterations in 1.15 seconds)\n",
      "Iteration 800: error is 1.653496 (50 iterations in 1.16 seconds)\n",
      "Iteration 850: error is 1.647842 (50 iterations in 1.17 seconds)\n",
      "Iteration 900: error is 1.643426 (50 iterations in 1.15 seconds)\n",
      "Iteration 950: error is 1.639892 (50 iterations in 1.15 seconds)\n",
      "Iteration 1000: error is 1.636277 (50 iterations in 1.14 seconds)\n",
      "Iteration 1050: error is 1.632398 (50 iterations in 1.14 seconds)\n",
      "Iteration 1100: error is 1.628843 (50 iterations in 1.14 seconds)\n",
      "Iteration 1150: error is 1.624909 (50 iterations in 1.14 seconds)\n",
      "Iteration 1200: error is 1.620993 (50 iterations in 1.14 seconds)\n",
      "Iteration 1250: error is 1.617811 (50 iterations in 1.14 seconds)\n",
      "Iteration 1300: error is 1.614704 (50 iterations in 1.14 seconds)\n",
      "Iteration 1350: error is 1.611891 (50 iterations in 1.15 seconds)\n",
      "Iteration 1400: error is 1.608604 (50 iterations in 1.15 seconds)\n",
      "Iteration 1450: error is 1.606375 (50 iterations in 1.14 seconds)\n",
      "Iteration 1500: error is 1.604803 (50 iterations in 1.14 seconds)\n",
      "Iteration 1550: error is 1.602546 (50 iterations in 1.15 seconds)\n",
      "Iteration 1600: error is 1.600633 (50 iterations in 1.14 seconds)\n",
      "Iteration 1650: error is 1.598957 (50 iterations in 1.14 seconds)\n",
      "Iteration 1700: error is 1.596631 (50 iterations in 1.14 seconds)\n",
      "Iteration 1750: error is 1.594030 (50 iterations in 1.14 seconds)\n",
      "Iteration 1800: error is 1.593640 (50 iterations in 1.14 seconds)\n",
      "Iteration 1850: error is 1.593023 (50 iterations in 1.15 seconds)\n",
      "Iteration 1900: error is 1.592177 (50 iterations in 1.15 seconds)\n",
      "Iteration 1950: error is 1.591461 (50 iterations in 1.17 seconds)\n",
      "Iteration 2000: error is 1.590240 (50 iterations in 1.17 seconds)\n",
      "Iteration 2050: error is 1.589483 (50 iterations in 1.19 seconds)\n",
      "Iteration 2100: error is 1.588741 (50 iterations in 1.19 seconds)\n",
      "Iteration 2150: error is 1.587855 (50 iterations in 1.20 seconds)\n",
      "Iteration 2200: error is 1.586772 (50 iterations in 1.20 seconds)\n",
      "Iteration 2250: error is 1.585779 (50 iterations in 1.20 seconds)\n",
      "Iteration 2300: error is 1.584665 (50 iterations in 1.19 seconds)\n",
      "Iteration 2350: error is 1.583532 (50 iterations in 1.20 seconds)\n",
      "Iteration 2400: error is 1.582264 (50 iterations in 1.20 seconds)\n",
      "Iteration 2450: error is 1.581153 (50 iterations in 1.20 seconds)\n",
      "Iteration 2500: error is 1.580015 (50 iterations in 1.20 seconds)\n",
      "Fitting performed in 59.77 seconds.\n"
     ]
    },
    {
     "data": {
      "text/html": [
       "<strong>png:</strong> 2"
      ],
      "text/latex": [
       "\\textbf{png:} 2"
      ],
      "text/markdown": [
       "**png:** 2"
      ],
      "text/plain": [
       "png \n",
       "  2 "
      ]
     },
     "metadata": {},
     "output_type": "display_data"
    }
   ],
   "source": [
    "## Visualize barcode space\n",
    "bar.tsne <- barTSNE(bar.table[,1:72]) \n",
    "## Note: Exclude columns 97:98 (assuming 96 barcodes were used) which provide total barcode UMI counts for each cell. \n",
    "\n",
    "pdf(\"./outputs/MULTIseq/48h_bc.check_round3.pdf\")\n",
    "for (i in 3:ncol(bar.tsne)) {\n",
    "  g <- ggplot(bar.tsne, aes(x = TSNE1, y = TSNE2, color = bar.tsne[,i])) +\n",
    "    geom_point() +\n",
    "    scale_color_gradient(low = \"black\", high = \"red\") +\n",
    "    ggtitle(colnames(bar.tsne)[i]) +\n",
    "    theme(legend.position = \"none\") \n",
    "  print(g)\n",
    "}\n",
    "dev.off()"
   ]
  },
  {
   "cell_type": "markdown",
   "id": "01e1b81c-75b5-46c9-8c21-46174a1dc898",
   "metadata": {},
   "source": [
    "## Generation of barcode table"
   ]
  },
  {
   "cell_type": "code",
   "execution_count": 17,
   "id": "efb97076-3561-4952-94ed-6fb27714df13",
   "metadata": {},
   "outputs": [
    {
     "data": {
      "text/html": [
       "<table class=\"dataframe\">\n",
       "<caption>A data.frame: 6 × 72</caption>\n",
       "<thead>\n",
       "\t<tr><th></th><th scope=col>Bar1</th><th scope=col>Bar2</th><th scope=col>Bar3</th><th scope=col>Bar4</th><th scope=col>Bar5</th><th scope=col>Bar6</th><th scope=col>Bar7</th><th scope=col>Bar8</th><th scope=col>Bar9</th><th scope=col>Bar10</th><th scope=col>⋯</th><th scope=col>Bar63</th><th scope=col>Bar64</th><th scope=col>Bar65</th><th scope=col>Bar66</th><th scope=col>Bar67</th><th scope=col>Bar68</th><th scope=col>Bar69</th><th scope=col>Bar70</th><th scope=col>Bar71</th><th scope=col>Bar72</th></tr>\n",
       "\t<tr><th></th><th scope=col>&lt;int&gt;</th><th scope=col>&lt;int&gt;</th><th scope=col>&lt;int&gt;</th><th scope=col>&lt;int&gt;</th><th scope=col>&lt;int&gt;</th><th scope=col>&lt;int&gt;</th><th scope=col>&lt;int&gt;</th><th scope=col>&lt;int&gt;</th><th scope=col>&lt;int&gt;</th><th scope=col>&lt;int&gt;</th><th scope=col>⋯</th><th scope=col>&lt;int&gt;</th><th scope=col>&lt;int&gt;</th><th scope=col>&lt;int&gt;</th><th scope=col>&lt;int&gt;</th><th scope=col>&lt;int&gt;</th><th scope=col>&lt;int&gt;</th><th scope=col>&lt;int&gt;</th><th scope=col>&lt;int&gt;</th><th scope=col>&lt;int&gt;</th><th scope=col>&lt;int&gt;</th></tr>\n",
       "</thead>\n",
       "<tbody>\n",
       "\t<tr><th scope=row>AAACCCAAGTTCTACG</th><td>7</td><td>1</td><td> 6</td><td>4</td><td>6</td><td> 9</td><td>2</td><td>6</td><td>16</td><td>6</td><td>⋯</td><td>7</td><td> 1</td><td>6</td><td>2</td><td>5</td><td>  11</td><td> 2</td><td>3</td><td>10</td><td>2</td></tr>\n",
       "\t<tr><th scope=row>AAACCCACACAAGGTG</th><td>9</td><td>0</td><td> 5</td><td>1</td><td>2</td><td> 9</td><td>0</td><td>6</td><td> 9</td><td>0</td><td>⋯</td><td>5</td><td> 1</td><td>0</td><td>0</td><td>6</td><td>5371</td><td> 1</td><td>1</td><td> 4</td><td>5</td></tr>\n",
       "\t<tr><th scope=row>AAACCCACAGCTGGTC</th><td>9</td><td>4</td><td> 7</td><td>0</td><td>2</td><td>14</td><td>2</td><td>6</td><td>13</td><td>3</td><td>⋯</td><td>2</td><td> 0</td><td>5</td><td>5</td><td>9</td><td>  10</td><td> 2</td><td>1</td><td> 4</td><td>2</td></tr>\n",
       "\t<tr><th scope=row>AAACCCAGTCGTTGCG</th><td>6</td><td>1</td><td> 6</td><td>2</td><td>1</td><td> 6</td><td>2</td><td>5</td><td> 5</td><td>1</td><td>⋯</td><td>1</td><td> 3</td><td>5</td><td>2</td><td>2</td><td>   8</td><td> 2</td><td>2</td><td> 2</td><td>1</td></tr>\n",
       "\t<tr><th scope=row>AAACCCATCCTACACC</th><td>5</td><td>2</td><td>12</td><td>1</td><td>4</td><td> 7</td><td>3</td><td>6</td><td>12</td><td>4</td><td>⋯</td><td>6</td><td>28</td><td>5</td><td>6</td><td>3</td><td>  19</td><td> 5</td><td>0</td><td> 2</td><td>1</td></tr>\n",
       "\t<tr><th scope=row>AAACGAAAGCCGAATG</th><td>8</td><td>4</td><td> 9</td><td>3</td><td>2</td><td>11</td><td>5</td><td>2</td><td> 9</td><td>2</td><td>⋯</td><td>5</td><td> 7</td><td>6</td><td>4</td><td>6</td><td>  14</td><td>16</td><td>0</td><td>10</td><td>5</td></tr>\n",
       "</tbody>\n",
       "</table>\n"
      ],
      "text/latex": [
       "A data.frame: 6 × 72\n",
       "\\begin{tabular}{r|lllllllllllllllllllll}\n",
       "  & Bar1 & Bar2 & Bar3 & Bar4 & Bar5 & Bar6 & Bar7 & Bar8 & Bar9 & Bar10 & ⋯ & Bar63 & Bar64 & Bar65 & Bar66 & Bar67 & Bar68 & Bar69 & Bar70 & Bar71 & Bar72\\\\\n",
       "  & <int> & <int> & <int> & <int> & <int> & <int> & <int> & <int> & <int> & <int> & ⋯ & <int> & <int> & <int> & <int> & <int> & <int> & <int> & <int> & <int> & <int>\\\\\n",
       "\\hline\n",
       "\tAAACCCAAGTTCTACG & 7 & 1 &  6 & 4 & 6 &  9 & 2 & 6 & 16 & 6 & ⋯ & 7 &  1 & 6 & 2 & 5 &   11 &  2 & 3 & 10 & 2\\\\\n",
       "\tAAACCCACACAAGGTG & 9 & 0 &  5 & 1 & 2 &  9 & 0 & 6 &  9 & 0 & ⋯ & 5 &  1 & 0 & 0 & 6 & 5371 &  1 & 1 &  4 & 5\\\\\n",
       "\tAAACCCACAGCTGGTC & 9 & 4 &  7 & 0 & 2 & 14 & 2 & 6 & 13 & 3 & ⋯ & 2 &  0 & 5 & 5 & 9 &   10 &  2 & 1 &  4 & 2\\\\\n",
       "\tAAACCCAGTCGTTGCG & 6 & 1 &  6 & 2 & 1 &  6 & 2 & 5 &  5 & 1 & ⋯ & 1 &  3 & 5 & 2 & 2 &    8 &  2 & 2 &  2 & 1\\\\\n",
       "\tAAACCCATCCTACACC & 5 & 2 & 12 & 1 & 4 &  7 & 3 & 6 & 12 & 4 & ⋯ & 6 & 28 & 5 & 6 & 3 &   19 &  5 & 0 &  2 & 1\\\\\n",
       "\tAAACGAAAGCCGAATG & 8 & 4 &  9 & 3 & 2 & 11 & 5 & 2 &  9 & 2 & ⋯ & 5 &  7 & 6 & 4 & 6 &   14 & 16 & 0 & 10 & 5\\\\\n",
       "\\end{tabular}\n"
      ],
      "text/markdown": [
       "\n",
       "A data.frame: 6 × 72\n",
       "\n",
       "| <!--/--> | Bar1 &lt;int&gt; | Bar2 &lt;int&gt; | Bar3 &lt;int&gt; | Bar4 &lt;int&gt; | Bar5 &lt;int&gt; | Bar6 &lt;int&gt; | Bar7 &lt;int&gt; | Bar8 &lt;int&gt; | Bar9 &lt;int&gt; | Bar10 &lt;int&gt; | ⋯ ⋯ | Bar63 &lt;int&gt; | Bar64 &lt;int&gt; | Bar65 &lt;int&gt; | Bar66 &lt;int&gt; | Bar67 &lt;int&gt; | Bar68 &lt;int&gt; | Bar69 &lt;int&gt; | Bar70 &lt;int&gt; | Bar71 &lt;int&gt; | Bar72 &lt;int&gt; |\n",
       "|---|---|---|---|---|---|---|---|---|---|---|---|---|---|---|---|---|---|---|---|---|---|\n",
       "| AAACCCAAGTTCTACG | 7 | 1 |  6 | 4 | 6 |  9 | 2 | 6 | 16 | 6 | ⋯ | 7 |  1 | 6 | 2 | 5 |   11 |  2 | 3 | 10 | 2 |\n",
       "| AAACCCACACAAGGTG | 9 | 0 |  5 | 1 | 2 |  9 | 0 | 6 |  9 | 0 | ⋯ | 5 |  1 | 0 | 0 | 6 | 5371 |  1 | 1 |  4 | 5 |\n",
       "| AAACCCACAGCTGGTC | 9 | 4 |  7 | 0 | 2 | 14 | 2 | 6 | 13 | 3 | ⋯ | 2 |  0 | 5 | 5 | 9 |   10 |  2 | 1 |  4 | 2 |\n",
       "| AAACCCAGTCGTTGCG | 6 | 1 |  6 | 2 | 1 |  6 | 2 | 5 |  5 | 1 | ⋯ | 1 |  3 | 5 | 2 | 2 |    8 |  2 | 2 |  2 | 1 |\n",
       "| AAACCCATCCTACACC | 5 | 2 | 12 | 1 | 4 |  7 | 3 | 6 | 12 | 4 | ⋯ | 6 | 28 | 5 | 6 | 3 |   19 |  5 | 0 |  2 | 1 |\n",
       "| AAACGAAAGCCGAATG | 8 | 4 |  9 | 3 | 2 | 11 | 5 | 2 |  9 | 2 | ⋯ | 5 |  7 | 6 | 4 | 6 |   14 | 16 | 0 | 10 | 5 |\n",
       "\n"
      ],
      "text/plain": [
       "                 Bar1 Bar2 Bar3 Bar4 Bar5 Bar6 Bar7 Bar8 Bar9 Bar10 ⋯ Bar63\n",
       "AAACCCAAGTTCTACG 7    1     6   4    6     9   2    6    16   6     ⋯ 7    \n",
       "AAACCCACACAAGGTG 9    0     5   1    2     9   0    6     9   0     ⋯ 5    \n",
       "AAACCCACAGCTGGTC 9    4     7   0    2    14   2    6    13   3     ⋯ 2    \n",
       "AAACCCAGTCGTTGCG 6    1     6   2    1     6   2    5     5   1     ⋯ 1    \n",
       "AAACCCATCCTACACC 5    2    12   1    4     7   3    6    12   4     ⋯ 6    \n",
       "AAACGAAAGCCGAATG 8    4     9   3    2    11   5    2     9   2     ⋯ 5    \n",
       "                 Bar64 Bar65 Bar66 Bar67 Bar68 Bar69 Bar70 Bar71 Bar72\n",
       "AAACCCAAGTTCTACG  1    6     2     5       11   2    3     10    2    \n",
       "AAACCCACACAAGGTG  1    0     0     6     5371   1    1      4    5    \n",
       "AAACCCACAGCTGGTC  0    5     5     9       10   2    1      4    2    \n",
       "AAACCCAGTCGTTGCG  3    5     2     2        8   2    2      2    1    \n",
       "AAACCCATCCTACACC 28    5     6     3       19   5    0      2    1    \n",
       "AAACGAAAGCCGAATG  7    6     4     6       14  16    0     10    5    "
      ]
     },
     "metadata": {},
     "output_type": "display_data"
    },
    {
     "data": {
      "text/html": [
       "<style>\n",
       ".list-inline {list-style: none; margin:0; padding: 0}\n",
       ".list-inline>li {display: inline-block}\n",
       ".list-inline>li:not(:last-child)::after {content: \"\\00b7\"; padding: 0 .5ex}\n",
       "</style>\n",
       "<ol class=list-inline><li>7470</li><li>72</li></ol>\n"
      ],
      "text/latex": [
       "\\begin{enumerate*}\n",
       "\\item 7470\n",
       "\\item 72\n",
       "\\end{enumerate*}\n"
      ],
      "text/markdown": [
       "1. 7470\n",
       "2. 72\n",
       "\n",
       "\n"
      ],
      "text/plain": [
       "[1] 7470   72"
      ]
     },
     "metadata": {},
     "output_type": "display_data"
    }
   ],
   "source": [
    "head(bar.table)\n",
    "dim(bar.table)\n",
    "bar.table$cell <- rownames(bar.table)"
   ]
  },
  {
   "cell_type": "code",
   "execution_count": 18,
   "id": "3e0de906-8233-4760-9fe0-cfd95a2d7d99",
   "metadata": {},
   "outputs": [
    {
     "data": {
      "text/plain": [
       "final.calls\n",
       "    Bar1    Bar10    Bar11    Bar12    Bar13    Bar14    Bar15    Bar16 \n",
       "      53       61      121       75       78      104      102       93 \n",
       "   Bar17    Bar18    Bar19     Bar2    Bar20    Bar21    Bar22    Bar23 \n",
       "      40      115       28      113      124       35       87      132 \n",
       "   Bar24    Bar25    Bar26    Bar27    Bar28    Bar29     Bar3    Bar30 \n",
       "      96       64       26       42       49       50       98       84 \n",
       "   Bar31    Bar32    Bar33    Bar34    Bar35    Bar36    Bar37    Bar38 \n",
       "      83      113      123       90       31       92       33       46 \n",
       "   Bar39     Bar4    Bar40    Bar41    Bar42    Bar43    Bar44    Bar45 \n",
       "      30      130       38      161      119      112       65       98 \n",
       "   Bar46    Bar47    Bar48    Bar49     Bar5    Bar51    Bar52    Bar53 \n",
       "      34       45       23       25       75      135      114       36 \n",
       "   Bar54    Bar55    Bar56    Bar57    Bar58    Bar59     Bar6    Bar60 \n",
       "      66       72       39       89      122       55      134      119 \n",
       "   Bar61    Bar62    Bar63    Bar64    Bar65    Bar66    Bar67    Bar68 \n",
       "      57       28      109      100      102       60       85      128 \n",
       "   Bar69     Bar7    Bar70    Bar71    Bar72     Bar8     Bar9  Doublet \n",
       "     111      118      137       93      105       77       41     1317 \n",
       "Negative \n",
       "    2978 "
      ]
     },
     "metadata": {},
     "output_type": "display_data"
    },
    {
     "data": {
      "text/html": [
       "10063"
      ],
      "text/latex": [
       "10063"
      ],
      "text/markdown": [
       "10063"
      ],
      "text/plain": [
       "[1] 10063"
      ]
     },
     "metadata": {},
     "output_type": "display_data"
    }
   ],
   "source": [
    "table(final.calls)\n",
    "length(final.calls)"
   ]
  },
  {
   "cell_type": "code",
   "execution_count": 19,
   "id": "0c1e503f-b02a-4b02-adca-5017ab16e4fe",
   "metadata": {},
   "outputs": [
    {
     "data": {
      "text/plain": [
       "\n",
       "    Bar1    Bar10    Bar11    Bar12    Bar13    Bar14    Bar15    Bar16 \n",
       "      53       61      121       75       78      104      102       93 \n",
       "   Bar17    Bar18    Bar19     Bar2    Bar20    Bar21    Bar22    Bar23 \n",
       "      40      115       28      113      124       35       87      132 \n",
       "   Bar24    Bar25    Bar26    Bar27    Bar28    Bar29     Bar3    Bar30 \n",
       "      96       64       26       42       49       50       98       84 \n",
       "   Bar31    Bar32    Bar33    Bar34    Bar35    Bar36    Bar37    Bar38 \n",
       "      83      113      123       90       31       92       33       46 \n",
       "   Bar39     Bar4    Bar40    Bar41    Bar42    Bar43    Bar44    Bar45 \n",
       "      30      130       38      161      119      112       65       98 \n",
       "   Bar46    Bar47    Bar48    Bar49     Bar5    Bar51    Bar52    Bar53 \n",
       "      34       45       23       25       75      135      114       36 \n",
       "   Bar54    Bar55    Bar56    Bar57    Bar58    Bar59     Bar6    Bar60 \n",
       "      66       72       39       89      122       55      134      119 \n",
       "   Bar61    Bar62    Bar63    Bar64    Bar65    Bar66    Bar67    Bar68 \n",
       "      57       28      109      100      102       60       85      128 \n",
       "   Bar69     Bar7    Bar70    Bar71    Bar72     Bar8     Bar9  Doublet \n",
       "     111      118      137       93      105       77       41     1317 \n",
       "Negative \n",
       "    2978 "
      ]
     },
     "metadata": {},
     "output_type": "display_data"
    },
    {
     "data": {
      "text/html": [
       "<table class=\"dataframe\">\n",
       "<caption>A data.frame: 6 × 74</caption>\n",
       "<thead>\n",
       "\t<tr><th></th><th scope=col>cell</th><th scope=col>Bar1</th><th scope=col>Bar2</th><th scope=col>Bar3</th><th scope=col>Bar4</th><th scope=col>Bar5</th><th scope=col>Bar6</th><th scope=col>Bar7</th><th scope=col>Bar8</th><th scope=col>Bar9</th><th scope=col>⋯</th><th scope=col>Bar64</th><th scope=col>Bar65</th><th scope=col>Bar66</th><th scope=col>Bar67</th><th scope=col>Bar68</th><th scope=col>Bar69</th><th scope=col>Bar70</th><th scope=col>Bar71</th><th scope=col>Bar72</th><th scope=col>V1</th></tr>\n",
       "\t<tr><th></th><th scope=col>&lt;chr&gt;</th><th scope=col>&lt;int&gt;</th><th scope=col>&lt;int&gt;</th><th scope=col>&lt;int&gt;</th><th scope=col>&lt;int&gt;</th><th scope=col>&lt;int&gt;</th><th scope=col>&lt;int&gt;</th><th scope=col>&lt;int&gt;</th><th scope=col>&lt;int&gt;</th><th scope=col>&lt;int&gt;</th><th scope=col>⋯</th><th scope=col>&lt;int&gt;</th><th scope=col>&lt;int&gt;</th><th scope=col>&lt;int&gt;</th><th scope=col>&lt;int&gt;</th><th scope=col>&lt;int&gt;</th><th scope=col>&lt;int&gt;</th><th scope=col>&lt;int&gt;</th><th scope=col>&lt;int&gt;</th><th scope=col>&lt;int&gt;</th><th scope=col>&lt;chr&gt;</th></tr>\n",
       "</thead>\n",
       "<tbody>\n",
       "\t<tr><th scope=row>1</th><td>AAACCCAAGTTCTACG</td><td>7</td><td>1</td><td> 6</td><td>4</td><td>6</td><td> 9</td><td>2</td><td>6</td><td>16</td><td>⋯</td><td> 1</td><td>6</td><td>2</td><td>5</td><td>  11</td><td> 2</td><td>3</td><td>10</td><td>2</td><td>Bar44  </td></tr>\n",
       "\t<tr><th scope=row>2</th><td>AAACCCACACAAGGTG</td><td>9</td><td>0</td><td> 5</td><td>1</td><td>2</td><td> 9</td><td>0</td><td>6</td><td> 9</td><td>⋯</td><td> 1</td><td>0</td><td>0</td><td>6</td><td>5371</td><td> 1</td><td>1</td><td> 4</td><td>5</td><td>Bar68  </td></tr>\n",
       "\t<tr><th scope=row>3</th><td>AAACCCACAGCTGGTC</td><td>9</td><td>4</td><td> 7</td><td>0</td><td>2</td><td>14</td><td>2</td><td>6</td><td>13</td><td>⋯</td><td> 0</td><td>5</td><td>5</td><td>9</td><td>  10</td><td> 2</td><td>1</td><td> 4</td><td>2</td><td>Bar58  </td></tr>\n",
       "\t<tr><th scope=row>4</th><td>AAACCCAGTCGTTGCG</td><td>6</td><td>1</td><td> 6</td><td>2</td><td>1</td><td> 6</td><td>2</td><td>5</td><td> 5</td><td>⋯</td><td> 3</td><td>5</td><td>2</td><td>2</td><td>   8</td><td> 2</td><td>2</td><td> 2</td><td>1</td><td>Doublet</td></tr>\n",
       "\t<tr><th scope=row>5</th><td>AAACCCATCCTACACC</td><td>5</td><td>2</td><td>12</td><td>1</td><td>4</td><td> 7</td><td>3</td><td>6</td><td>12</td><td>⋯</td><td>28</td><td>5</td><td>6</td><td>3</td><td>  19</td><td> 5</td><td>0</td><td> 2</td><td>1</td><td>Doublet</td></tr>\n",
       "\t<tr><th scope=row>6</th><td>AAACGAAAGCCGAATG</td><td>8</td><td>4</td><td> 9</td><td>3</td><td>2</td><td>11</td><td>5</td><td>2</td><td> 9</td><td>⋯</td><td> 7</td><td>6</td><td>4</td><td>6</td><td>  14</td><td>16</td><td>0</td><td>10</td><td>5</td><td>Doublet</td></tr>\n",
       "</tbody>\n",
       "</table>\n"
      ],
      "text/latex": [
       "A data.frame: 6 × 74\n",
       "\\begin{tabular}{r|lllllllllllllllllllll}\n",
       "  & cell & Bar1 & Bar2 & Bar3 & Bar4 & Bar5 & Bar6 & Bar7 & Bar8 & Bar9 & ⋯ & Bar64 & Bar65 & Bar66 & Bar67 & Bar68 & Bar69 & Bar70 & Bar71 & Bar72 & V1\\\\\n",
       "  & <chr> & <int> & <int> & <int> & <int> & <int> & <int> & <int> & <int> & <int> & ⋯ & <int> & <int> & <int> & <int> & <int> & <int> & <int> & <int> & <int> & <chr>\\\\\n",
       "\\hline\n",
       "\t1 & AAACCCAAGTTCTACG & 7 & 1 &  6 & 4 & 6 &  9 & 2 & 6 & 16 & ⋯ &  1 & 6 & 2 & 5 &   11 &  2 & 3 & 10 & 2 & Bar44  \\\\\n",
       "\t2 & AAACCCACACAAGGTG & 9 & 0 &  5 & 1 & 2 &  9 & 0 & 6 &  9 & ⋯ &  1 & 0 & 0 & 6 & 5371 &  1 & 1 &  4 & 5 & Bar68  \\\\\n",
       "\t3 & AAACCCACAGCTGGTC & 9 & 4 &  7 & 0 & 2 & 14 & 2 & 6 & 13 & ⋯ &  0 & 5 & 5 & 9 &   10 &  2 & 1 &  4 & 2 & Bar58  \\\\\n",
       "\t4 & AAACCCAGTCGTTGCG & 6 & 1 &  6 & 2 & 1 &  6 & 2 & 5 &  5 & ⋯ &  3 & 5 & 2 & 2 &    8 &  2 & 2 &  2 & 1 & Doublet\\\\\n",
       "\t5 & AAACCCATCCTACACC & 5 & 2 & 12 & 1 & 4 &  7 & 3 & 6 & 12 & ⋯ & 28 & 5 & 6 & 3 &   19 &  5 & 0 &  2 & 1 & Doublet\\\\\n",
       "\t6 & AAACGAAAGCCGAATG & 8 & 4 &  9 & 3 & 2 & 11 & 5 & 2 &  9 & ⋯ &  7 & 6 & 4 & 6 &   14 & 16 & 0 & 10 & 5 & Doublet\\\\\n",
       "\\end{tabular}\n"
      ],
      "text/markdown": [
       "\n",
       "A data.frame: 6 × 74\n",
       "\n",
       "| <!--/--> | cell &lt;chr&gt; | Bar1 &lt;int&gt; | Bar2 &lt;int&gt; | Bar3 &lt;int&gt; | Bar4 &lt;int&gt; | Bar5 &lt;int&gt; | Bar6 &lt;int&gt; | Bar7 &lt;int&gt; | Bar8 &lt;int&gt; | Bar9 &lt;int&gt; | ⋯ ⋯ | Bar64 &lt;int&gt; | Bar65 &lt;int&gt; | Bar66 &lt;int&gt; | Bar67 &lt;int&gt; | Bar68 &lt;int&gt; | Bar69 &lt;int&gt; | Bar70 &lt;int&gt; | Bar71 &lt;int&gt; | Bar72 &lt;int&gt; | V1 &lt;chr&gt; |\n",
       "|---|---|---|---|---|---|---|---|---|---|---|---|---|---|---|---|---|---|---|---|---|---|\n",
       "| 1 | AAACCCAAGTTCTACG | 7 | 1 |  6 | 4 | 6 |  9 | 2 | 6 | 16 | ⋯ |  1 | 6 | 2 | 5 |   11 |  2 | 3 | 10 | 2 | Bar44   |\n",
       "| 2 | AAACCCACACAAGGTG | 9 | 0 |  5 | 1 | 2 |  9 | 0 | 6 |  9 | ⋯ |  1 | 0 | 0 | 6 | 5371 |  1 | 1 |  4 | 5 | Bar68   |\n",
       "| 3 | AAACCCACAGCTGGTC | 9 | 4 |  7 | 0 | 2 | 14 | 2 | 6 | 13 | ⋯ |  0 | 5 | 5 | 9 |   10 |  2 | 1 |  4 | 2 | Bar58   |\n",
       "| 4 | AAACCCAGTCGTTGCG | 6 | 1 |  6 | 2 | 1 |  6 | 2 | 5 |  5 | ⋯ |  3 | 5 | 2 | 2 |    8 |  2 | 2 |  2 | 1 | Doublet |\n",
       "| 5 | AAACCCATCCTACACC | 5 | 2 | 12 | 1 | 4 |  7 | 3 | 6 | 12 | ⋯ | 28 | 5 | 6 | 3 |   19 |  5 | 0 |  2 | 1 | Doublet |\n",
       "| 6 | AAACGAAAGCCGAATG | 8 | 4 |  9 | 3 | 2 | 11 | 5 | 2 |  9 | ⋯ |  7 | 6 | 4 | 6 |   14 | 16 | 0 | 10 | 5 | Doublet |\n",
       "\n"
      ],
      "text/plain": [
       "  cell             Bar1 Bar2 Bar3 Bar4 Bar5 Bar6 Bar7 Bar8 Bar9 ⋯ Bar64 Bar65\n",
       "1 AAACCCAAGTTCTACG 7    1     6   4    6     9   2    6    16   ⋯  1    6    \n",
       "2 AAACCCACACAAGGTG 9    0     5   1    2     9   0    6     9   ⋯  1    0    \n",
       "3 AAACCCACAGCTGGTC 9    4     7   0    2    14   2    6    13   ⋯  0    5    \n",
       "4 AAACCCAGTCGTTGCG 6    1     6   2    1     6   2    5     5   ⋯  3    5    \n",
       "5 AAACCCATCCTACACC 5    2    12   1    4     7   3    6    12   ⋯ 28    5    \n",
       "6 AAACGAAAGCCGAATG 8    4     9   3    2    11   5    2     9   ⋯  7    6    \n",
       "  Bar66 Bar67 Bar68 Bar69 Bar70 Bar71 Bar72 V1     \n",
       "1 2     5       11   2    3     10    2     Bar44  \n",
       "2 0     6     5371   1    1      4    5     Bar68  \n",
       "3 5     9       10   2    1      4    2     Bar58  \n",
       "4 2     2        8   2    2      2    1     Doublet\n",
       "5 6     3       19   5    0      2    1     Doublet\n",
       "6 4     6       14  16    0     10    5     Doublet"
      ]
     },
     "metadata": {},
     "output_type": "display_data"
    },
    {
     "data": {
      "text/html": [
       "<style>\n",
       ".list-inline {list-style: none; margin:0; padding: 0}\n",
       ".list-inline>li {display: inline-block}\n",
       ".list-inline>li:not(:last-child)::after {content: \"\\00b7\"; padding: 0 .5ex}\n",
       "</style>\n",
       "<ol class=list-inline><li>7470</li><li>74</li></ol>\n"
      ],
      "text/latex": [
       "\\begin{enumerate*}\n",
       "\\item 7470\n",
       "\\item 74\n",
       "\\end{enumerate*}\n"
      ],
      "text/markdown": [
       "1. 7470\n",
       "2. 74\n",
       "\n",
       "\n"
      ],
      "text/plain": [
       "[1] 7470   74"
      ]
     },
     "metadata": {},
     "output_type": "display_data"
    },
    {
     "data": {
      "text/plain": [
       "\n",
       "    Bar1    Bar10    Bar11    Bar12    Bar13    Bar14    Bar15    Bar16 \n",
       "      53       61      121       75       78      104      102       93 \n",
       "   Bar17    Bar18    Bar19     Bar2    Bar20    Bar21    Bar22    Bar23 \n",
       "      40      115       28      113      124       35       87      132 \n",
       "   Bar24    Bar25    Bar26    Bar27    Bar28    Bar29     Bar3    Bar30 \n",
       "      96       64       26       42       49       50       98       84 \n",
       "   Bar31    Bar32    Bar33    Bar34    Bar35    Bar36    Bar37    Bar38 \n",
       "      83      113      123       90       31       92       33       46 \n",
       "   Bar39     Bar4    Bar40    Bar41    Bar42    Bar43    Bar44    Bar45 \n",
       "      30      130       38      161      119      112       65       98 \n",
       "   Bar46    Bar47    Bar48    Bar49     Bar5    Bar51    Bar52    Bar53 \n",
       "      34       45       23       25       75      135      114       36 \n",
       "   Bar54    Bar55    Bar56    Bar57    Bar58    Bar59     Bar6    Bar60 \n",
       "      66       72       39       89      122       55      134      119 \n",
       "   Bar61    Bar62    Bar63    Bar64    Bar65    Bar66    Bar67    Bar68 \n",
       "      57       28      109      100      102       60       85      128 \n",
       "   Bar69     Bar7    Bar70    Bar71    Bar72     Bar8     Bar9  Doublet \n",
       "     111      118      137       93      105       77       41     1317 \n",
       "Negative \n",
       "     385 "
      ]
     },
     "metadata": {},
     "output_type": "display_data"
    }
   ],
   "source": [
    "prueba <- as.matrix(final.calls)\n",
    "prueba <- as.data.frame(prueba)\n",
    "prueba$cell <- rownames(prueba)\n",
    "table(prueba$V1)\n",
    "\n",
    "prueba.merged <- merge (bar.table, prueba, by = \"cell\")\n",
    "prueba.merged$V1 <- as.character(prueba.merged$V1)\n",
    "\n",
    "barcode_assignment_48h <- prueba.merged\n",
    "head(barcode_assignment_48h)\n",
    "dim(barcode_assignment_48h)\n",
    "table(barcode_assignment_48h$V1)"
   ]
  },
  {
   "cell_type": "markdown",
   "id": "b8693584-30c1-45f6-8a71-5d3d8dcc0d2d",
   "metadata": {},
   "source": [
    "## Generation of table of assignment for stacked barplot visualization"
   ]
  },
  {
   "cell_type": "code",
   "execution_count": 20,
   "id": "6f1dafe2-9719-4236-aea2-e773439a1482",
   "metadata": {},
   "outputs": [
    {
     "data": {
      "text/html": [
       "<table class=\"dataframe\">\n",
       "<caption>A data.frame: 73 × 2</caption>\n",
       "<thead>\n",
       "\t<tr><th scope=col>Var1</th><th scope=col>Freq</th></tr>\n",
       "\t<tr><th scope=col>&lt;fct&gt;</th><th scope=col>&lt;int&gt;</th></tr>\n",
       "</thead>\n",
       "<tbody>\n",
       "\t<tr><td>Bar1 </td><td> 53</td></tr>\n",
       "\t<tr><td>Bar10</td><td> 61</td></tr>\n",
       "\t<tr><td>Bar11</td><td>121</td></tr>\n",
       "\t<tr><td>Bar12</td><td> 75</td></tr>\n",
       "\t<tr><td>Bar13</td><td> 78</td></tr>\n",
       "\t<tr><td>Bar14</td><td>104</td></tr>\n",
       "\t<tr><td>Bar15</td><td>102</td></tr>\n",
       "\t<tr><td>Bar16</td><td> 93</td></tr>\n",
       "\t<tr><td>Bar17</td><td> 40</td></tr>\n",
       "\t<tr><td>Bar18</td><td>115</td></tr>\n",
       "\t<tr><td>Bar19</td><td> 28</td></tr>\n",
       "\t<tr><td>Bar2 </td><td>113</td></tr>\n",
       "\t<tr><td>Bar20</td><td>124</td></tr>\n",
       "\t<tr><td>Bar21</td><td> 35</td></tr>\n",
       "\t<tr><td>Bar22</td><td> 87</td></tr>\n",
       "\t<tr><td>Bar23</td><td>132</td></tr>\n",
       "\t<tr><td>Bar24</td><td> 96</td></tr>\n",
       "\t<tr><td>Bar25</td><td> 64</td></tr>\n",
       "\t<tr><td>Bar26</td><td> 26</td></tr>\n",
       "\t<tr><td>Bar27</td><td> 42</td></tr>\n",
       "\t<tr><td>Bar28</td><td> 49</td></tr>\n",
       "\t<tr><td>Bar29</td><td> 50</td></tr>\n",
       "\t<tr><td>Bar3 </td><td> 98</td></tr>\n",
       "\t<tr><td>Bar30</td><td> 84</td></tr>\n",
       "\t<tr><td>Bar31</td><td> 83</td></tr>\n",
       "\t<tr><td>Bar32</td><td>113</td></tr>\n",
       "\t<tr><td>Bar33</td><td>123</td></tr>\n",
       "\t<tr><td>Bar34</td><td> 90</td></tr>\n",
       "\t<tr><td>Bar35</td><td> 31</td></tr>\n",
       "\t<tr><td>Bar36</td><td> 92</td></tr>\n",
       "\t<tr><td>⋮</td><td>⋮</td></tr>\n",
       "\t<tr><td>Bar49   </td><td>  25</td></tr>\n",
       "\t<tr><td>Bar5    </td><td>  75</td></tr>\n",
       "\t<tr><td>Bar51   </td><td> 135</td></tr>\n",
       "\t<tr><td>Bar52   </td><td> 114</td></tr>\n",
       "\t<tr><td>Bar53   </td><td>  36</td></tr>\n",
       "\t<tr><td>Bar54   </td><td>  66</td></tr>\n",
       "\t<tr><td>Bar55   </td><td>  72</td></tr>\n",
       "\t<tr><td>Bar56   </td><td>  39</td></tr>\n",
       "\t<tr><td>Bar57   </td><td>  89</td></tr>\n",
       "\t<tr><td>Bar58   </td><td> 122</td></tr>\n",
       "\t<tr><td>Bar59   </td><td>  55</td></tr>\n",
       "\t<tr><td>Bar6    </td><td> 134</td></tr>\n",
       "\t<tr><td>Bar60   </td><td> 119</td></tr>\n",
       "\t<tr><td>Bar61   </td><td>  57</td></tr>\n",
       "\t<tr><td>Bar62   </td><td>  28</td></tr>\n",
       "\t<tr><td>Bar63   </td><td> 109</td></tr>\n",
       "\t<tr><td>Bar64   </td><td> 100</td></tr>\n",
       "\t<tr><td>Bar65   </td><td> 102</td></tr>\n",
       "\t<tr><td>Bar66   </td><td>  60</td></tr>\n",
       "\t<tr><td>Bar67   </td><td>  85</td></tr>\n",
       "\t<tr><td>Bar68   </td><td> 128</td></tr>\n",
       "\t<tr><td>Bar69   </td><td> 111</td></tr>\n",
       "\t<tr><td>Bar7    </td><td> 118</td></tr>\n",
       "\t<tr><td>Bar70   </td><td> 137</td></tr>\n",
       "\t<tr><td>Bar71   </td><td>  93</td></tr>\n",
       "\t<tr><td>Bar72   </td><td> 105</td></tr>\n",
       "\t<tr><td>Bar8    </td><td>  77</td></tr>\n",
       "\t<tr><td>Bar9    </td><td>  41</td></tr>\n",
       "\t<tr><td>Doublet </td><td>1317</td></tr>\n",
       "\t<tr><td>Negative</td><td> 385</td></tr>\n",
       "</tbody>\n",
       "</table>\n"
      ],
      "text/latex": [
       "A data.frame: 73 × 2\n",
       "\\begin{tabular}{ll}\n",
       " Var1 & Freq\\\\\n",
       " <fct> & <int>\\\\\n",
       "\\hline\n",
       "\t Bar1  &  53\\\\\n",
       "\t Bar10 &  61\\\\\n",
       "\t Bar11 & 121\\\\\n",
       "\t Bar12 &  75\\\\\n",
       "\t Bar13 &  78\\\\\n",
       "\t Bar14 & 104\\\\\n",
       "\t Bar15 & 102\\\\\n",
       "\t Bar16 &  93\\\\\n",
       "\t Bar17 &  40\\\\\n",
       "\t Bar18 & 115\\\\\n",
       "\t Bar19 &  28\\\\\n",
       "\t Bar2  & 113\\\\\n",
       "\t Bar20 & 124\\\\\n",
       "\t Bar21 &  35\\\\\n",
       "\t Bar22 &  87\\\\\n",
       "\t Bar23 & 132\\\\\n",
       "\t Bar24 &  96\\\\\n",
       "\t Bar25 &  64\\\\\n",
       "\t Bar26 &  26\\\\\n",
       "\t Bar27 &  42\\\\\n",
       "\t Bar28 &  49\\\\\n",
       "\t Bar29 &  50\\\\\n",
       "\t Bar3  &  98\\\\\n",
       "\t Bar30 &  84\\\\\n",
       "\t Bar31 &  83\\\\\n",
       "\t Bar32 & 113\\\\\n",
       "\t Bar33 & 123\\\\\n",
       "\t Bar34 &  90\\\\\n",
       "\t Bar35 &  31\\\\\n",
       "\t Bar36 &  92\\\\\n",
       "\t ⋮ & ⋮\\\\\n",
       "\t Bar49    &   25\\\\\n",
       "\t Bar5     &   75\\\\\n",
       "\t Bar51    &  135\\\\\n",
       "\t Bar52    &  114\\\\\n",
       "\t Bar53    &   36\\\\\n",
       "\t Bar54    &   66\\\\\n",
       "\t Bar55    &   72\\\\\n",
       "\t Bar56    &   39\\\\\n",
       "\t Bar57    &   89\\\\\n",
       "\t Bar58    &  122\\\\\n",
       "\t Bar59    &   55\\\\\n",
       "\t Bar6     &  134\\\\\n",
       "\t Bar60    &  119\\\\\n",
       "\t Bar61    &   57\\\\\n",
       "\t Bar62    &   28\\\\\n",
       "\t Bar63    &  109\\\\\n",
       "\t Bar64    &  100\\\\\n",
       "\t Bar65    &  102\\\\\n",
       "\t Bar66    &   60\\\\\n",
       "\t Bar67    &   85\\\\\n",
       "\t Bar68    &  128\\\\\n",
       "\t Bar69    &  111\\\\\n",
       "\t Bar7     &  118\\\\\n",
       "\t Bar70    &  137\\\\\n",
       "\t Bar71    &   93\\\\\n",
       "\t Bar72    &  105\\\\\n",
       "\t Bar8     &   77\\\\\n",
       "\t Bar9     &   41\\\\\n",
       "\t Doublet  & 1317\\\\\n",
       "\t Negative &  385\\\\\n",
       "\\end{tabular}\n"
      ],
      "text/markdown": [
       "\n",
       "A data.frame: 73 × 2\n",
       "\n",
       "| Var1 &lt;fct&gt; | Freq &lt;int&gt; |\n",
       "|---|---|\n",
       "| Bar1  |  53 |\n",
       "| Bar10 |  61 |\n",
       "| Bar11 | 121 |\n",
       "| Bar12 |  75 |\n",
       "| Bar13 |  78 |\n",
       "| Bar14 | 104 |\n",
       "| Bar15 | 102 |\n",
       "| Bar16 |  93 |\n",
       "| Bar17 |  40 |\n",
       "| Bar18 | 115 |\n",
       "| Bar19 |  28 |\n",
       "| Bar2  | 113 |\n",
       "| Bar20 | 124 |\n",
       "| Bar21 |  35 |\n",
       "| Bar22 |  87 |\n",
       "| Bar23 | 132 |\n",
       "| Bar24 |  96 |\n",
       "| Bar25 |  64 |\n",
       "| Bar26 |  26 |\n",
       "| Bar27 |  42 |\n",
       "| Bar28 |  49 |\n",
       "| Bar29 |  50 |\n",
       "| Bar3  |  98 |\n",
       "| Bar30 |  84 |\n",
       "| Bar31 |  83 |\n",
       "| Bar32 | 113 |\n",
       "| Bar33 | 123 |\n",
       "| Bar34 |  90 |\n",
       "| Bar35 |  31 |\n",
       "| Bar36 |  92 |\n",
       "| ⋮ | ⋮ |\n",
       "| Bar49    |   25 |\n",
       "| Bar5     |   75 |\n",
       "| Bar51    |  135 |\n",
       "| Bar52    |  114 |\n",
       "| Bar53    |   36 |\n",
       "| Bar54    |   66 |\n",
       "| Bar55    |   72 |\n",
       "| Bar56    |   39 |\n",
       "| Bar57    |   89 |\n",
       "| Bar58    |  122 |\n",
       "| Bar59    |   55 |\n",
       "| Bar6     |  134 |\n",
       "| Bar60    |  119 |\n",
       "| Bar61    |   57 |\n",
       "| Bar62    |   28 |\n",
       "| Bar63    |  109 |\n",
       "| Bar64    |  100 |\n",
       "| Bar65    |  102 |\n",
       "| Bar66    |   60 |\n",
       "| Bar67    |   85 |\n",
       "| Bar68    |  128 |\n",
       "| Bar69    |  111 |\n",
       "| Bar7     |  118 |\n",
       "| Bar70    |  137 |\n",
       "| Bar71    |   93 |\n",
       "| Bar72    |  105 |\n",
       "| Bar8     |   77 |\n",
       "| Bar9     |   41 |\n",
       "| Doublet  | 1317 |\n",
       "| Negative |  385 |\n",
       "\n"
      ],
      "text/plain": [
       "   Var1     Freq\n",
       "1  Bar1      53 \n",
       "2  Bar10     61 \n",
       "3  Bar11    121 \n",
       "4  Bar12     75 \n",
       "5  Bar13     78 \n",
       "6  Bar14    104 \n",
       "7  Bar15    102 \n",
       "8  Bar16     93 \n",
       "9  Bar17     40 \n",
       "10 Bar18    115 \n",
       "11 Bar19     28 \n",
       "12 Bar2     113 \n",
       "13 Bar20    124 \n",
       "14 Bar21     35 \n",
       "15 Bar22     87 \n",
       "16 Bar23    132 \n",
       "17 Bar24     96 \n",
       "18 Bar25     64 \n",
       "19 Bar26     26 \n",
       "20 Bar27     42 \n",
       "21 Bar28     49 \n",
       "22 Bar29     50 \n",
       "23 Bar3      98 \n",
       "24 Bar30     84 \n",
       "25 Bar31     83 \n",
       "26 Bar32    113 \n",
       "27 Bar33    123 \n",
       "28 Bar34     90 \n",
       "29 Bar35     31 \n",
       "30 Bar36     92 \n",
       "⋮  ⋮        ⋮   \n",
       "44 Bar49      25\n",
       "45 Bar5       75\n",
       "46 Bar51     135\n",
       "47 Bar52     114\n",
       "48 Bar53      36\n",
       "49 Bar54      66\n",
       "50 Bar55      72\n",
       "51 Bar56      39\n",
       "52 Bar57      89\n",
       "53 Bar58     122\n",
       "54 Bar59      55\n",
       "55 Bar6      134\n",
       "56 Bar60     119\n",
       "57 Bar61      57\n",
       "58 Bar62      28\n",
       "59 Bar63     109\n",
       "60 Bar64     100\n",
       "61 Bar65     102\n",
       "62 Bar66      60\n",
       "63 Bar67      85\n",
       "64 Bar68     128\n",
       "65 Bar69     111\n",
       "66 Bar7      118\n",
       "67 Bar70     137\n",
       "68 Bar71      93\n",
       "69 Bar72     105\n",
       "70 Bar8       77\n",
       "71 Bar9       41\n",
       "72 Doublet  1317\n",
       "73 Negative  385"
      ]
     },
     "metadata": {},
     "output_type": "display_data"
    }
   ],
   "source": [
    "x <- data.frame(table(barcode_assignment_48h$V1))\n",
    "x"
   ]
  },
  {
   "cell_type": "code",
   "execution_count": 21,
   "id": "9ec89abb-af19-4d96-ae06-76c550c47262",
   "metadata": {},
   "outputs": [
    {
     "data": {
      "text/html": [
       "506"
      ],
      "text/latex": [
       "506"
      ],
      "text/markdown": [
       "506"
      ],
      "text/plain": [
       "[1] 506"
      ]
     },
     "metadata": {},
     "output_type": "display_data"
    }
   ],
   "source": [
    "bar <- sum(x$Freq[-(73:74)])\n",
    "doublet <- x[x[1]=='Doublet',2]\n",
    "negative <- x[x[1]=='Negative',2]\n",
    "unassigned <- initial_cell_number - sum(bar, doublet, negative)\n",
    "unassigned"
   ]
  },
  {
   "cell_type": "code",
   "execution_count": 22,
   "id": "37a15406-193e-4e97-9471-1b5012bc52f2",
   "metadata": {},
   "outputs": [
    {
     "data": {
      "text/html": [
       "<table class=\"dataframe\">\n",
       "<caption>A data.frame: 4 × 3</caption>\n",
       "<thead>\n",
       "\t<tr><th></th><th scope=col>Number_cells</th><th scope=col>Category</th><th scope=col>Sample</th></tr>\n",
       "\t<tr><th></th><th scope=col>&lt;int&gt;</th><th scope=col>&lt;fct&gt;</th><th scope=col>&lt;chr&gt;</th></tr>\n",
       "</thead>\n",
       "<tbody>\n",
       "\t<tr><th scope=row>Barcode_assigned</th><td>7085</td><td>Barcode_assigned</td><td>gast_48h</td></tr>\n",
       "\t<tr><th scope=row>Doublet</th><td>1317</td><td>Doublet         </td><td>gast_48h</td></tr>\n",
       "\t<tr><th scope=row>Negative</th><td> 385</td><td>Negative        </td><td>gast_48h</td></tr>\n",
       "\t<tr><th scope=row>Unassigned</th><td> 506</td><td>Unassigned      </td><td>gast_48h</td></tr>\n",
       "</tbody>\n",
       "</table>\n"
      ],
      "text/latex": [
       "A data.frame: 4 × 3\n",
       "\\begin{tabular}{r|lll}\n",
       "  & Number\\_cells & Category & Sample\\\\\n",
       "  & <int> & <fct> & <chr>\\\\\n",
       "\\hline\n",
       "\tBarcode\\_assigned & 7085 & Barcode\\_assigned & gast\\_48h\\\\\n",
       "\tDoublet & 1317 & Doublet          & gast\\_48h\\\\\n",
       "\tNegative &  385 & Negative         & gast\\_48h\\\\\n",
       "\tUnassigned &  506 & Unassigned       & gast\\_48h\\\\\n",
       "\\end{tabular}\n"
      ],
      "text/markdown": [
       "\n",
       "A data.frame: 4 × 3\n",
       "\n",
       "| <!--/--> | Number_cells &lt;int&gt; | Category &lt;fct&gt; | Sample &lt;chr&gt; |\n",
       "|---|---|---|---|\n",
       "| Barcode_assigned | 7085 | Barcode_assigned | gast_48h |\n",
       "| Doublet | 1317 | Doublet          | gast_48h |\n",
       "| Negative |  385 | Negative         | gast_48h |\n",
       "| Unassigned |  506 | Unassigned       | gast_48h |\n",
       "\n"
      ],
      "text/plain": [
       "                 Number_cells Category         Sample  \n",
       "Barcode_assigned 7085         Barcode_assigned gast_48h\n",
       "Doublet          1317         Doublet          gast_48h\n",
       "Negative          385         Negative         gast_48h\n",
       "Unassigned        506         Unassigned       gast_48h"
      ]
     },
     "metadata": {},
     "output_type": "display_data"
    }
   ],
   "source": [
    "x <- data.frame(Number_cells= c(bar, doublet, negative, unassigned))\n",
    "rownames(x) <- c(\"Barcode_assigned\",\"Doublet\",\"Negative\", \"Unassigned\")\n",
    "x$Category <- rownames(x)\n",
    "x$Category <- factor(x$Category, levels = c(\"Unassigned\",\"Negative\",\"Doublet\",\"Barcode_assigned\"))\n",
    "x$Sample <- \"gast_48h\"\n",
    "head(x)\n",
    "\n",
    "multiseq_assignment_48h <- x"
   ]
  },
  {
   "cell_type": "code",
   "execution_count": 23,
   "id": "fdc77a19-9e50-4077-8ec2-f4a9b98eaf58",
   "metadata": {},
   "outputs": [
    {
     "data": {
      "text/html": [
       "9293"
      ],
      "text/latex": [
       "9293"
      ],
      "text/markdown": [
       "9293"
      ],
      "text/plain": [
       "[1] 9293"
      ]
     },
     "metadata": {},
     "output_type": "display_data"
    },
    {
     "data": {
      "text/html": [
       "9293"
      ],
      "text/latex": [
       "9293"
      ],
      "text/markdown": [
       "9293"
      ],
      "text/plain": [
       "[1] 9293"
      ]
     },
     "metadata": {},
     "output_type": "display_data"
    },
    {
     "data": {
      "text/html": [
       "TRUE"
      ],
      "text/latex": [
       "TRUE"
      ],
      "text/markdown": [
       "TRUE"
      ],
      "text/plain": [
       "[1] TRUE"
      ]
     },
     "metadata": {},
     "output_type": "display_data"
    }
   ],
   "source": [
    "sum(multiseq_assignment_48h$Number_cells)\n",
    "initial_cell_number\n",
    "sum(multiseq_assignment_48h$Number_cells) == initial_cell_number"
   ]
  },
  {
   "cell_type": "code",
   "execution_count": 24,
   "id": "5799827a-f873-4a63-9e3f-d3a85700fde1",
   "metadata": {},
   "outputs": [
    {
     "data": {
      "image/png": "[encoded data removed]",
      "text/plain": [
       "plot without title"
      ]
     },
     "metadata": {
      "image/png": {
       "height": 420,
       "width": 420
      }
     },
     "output_type": "display_data"
    }
   ],
   "source": [
    "# Stacked\n",
    "ggplot(x, aes(fill=Category, y=Number_cells, x=Sample)) + \n",
    "  geom_bar(position=\"stack\", stat=\"identity\", colour=\"black\") +\n",
    "  scale_fill_manual(values=c(\"#f4a582\", \"#d95f02\", \"#7570b3\", \"#1b9e77\")) + \n",
    "  theme_minimal()"
   ]
  },
  {
   "cell_type": "markdown",
   "id": "acde3ee5-6204-4ca0-9edd-49aaf3f1a0c2",
   "metadata": {},
   "source": [
    "## Saving the files"
   ]
  },
  {
   "cell_type": "code",
   "execution_count": 25,
   "id": "2a398e41-e882-423a-8daa-e98db9e02190",
   "metadata": {},
   "outputs": [],
   "source": [
    "# Save files\n",
    "## \n",
    "saveRDS(barcode_assignment_48h, file = \"./files/demultiplexing/barcode_assignment_48h.rds\")\n",
    "saveRDS(multiseq_assignment_48h, file = \"./files/demultiplexing/multiseq_assignment_48h.rds\")"
   ]
  }
 ],
 "metadata": {
  "kernelspec": {
   "display_name": "R",
   "language": "R",
   "name": "ir"
  },
  "language_info": {
   "codemirror_mode": "r",
   "file_extension": ".r",
   "mimetype": "text/x-r-source",
   "name": "R",
   "pygments_lexer": "r",
   "version": "4.1.1"
  },
  "toc-autonumbering": true
 },
 "nbformat": 4,
 "nbformat_minor": 5
}
